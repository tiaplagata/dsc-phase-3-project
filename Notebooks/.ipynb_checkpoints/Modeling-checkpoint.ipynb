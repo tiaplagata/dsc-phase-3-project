{
 "cells": [
  {
   "cell_type": "markdown",
   "metadata": {},
   "source": [
    "# Final Project Submission\n",
    "Please fill out:\n",
    "\n",
    "* Student name: Tia Plagata\n",
    "* Student pace: full time\n",
    "* Scheduled project review date/time:\n",
    "* Instructor name: Rafael Carrasco\n",
    "* Blog post URL:"
   ]
  },
  {
   "cell_type": "markdown",
   "metadata": {},
   "source": [
    "# Modeling (Model and iNterpretation)\n",
    "### Modeling Outline\n",
    "\n",
    "* Metric to use\n",
    "* Experimenting with a First Model\n",
    "* Model Selection \n",
    "* Building a Custom Pipeline\n",
    "* Model Tuning & GridSearch\n",
    "* Feature Importance\n",
    "* Confusion Matrix Analysis"
   ]
  },
  {
   "cell_type": "code",
   "execution_count": 1,
   "metadata": {},
   "outputs": [],
   "source": [
    "# Import Statements\n",
    "import pandas as pd\n",
    "import numpy as np\n",
    "\n",
    "import warnings\n",
    "warnings.filterwarnings('ignore')\n",
    "\n",
    "from sklearn.preprocessing import OneHotEncoder, StandardScaler\n",
    "from sklearn.model_selection import train_test_split, GridSearchCV\n",
    "from sklearn.linear_model import LogisticRegression\n",
    "from sklearn.naive_bayes import GaussianNB, BaseEstimator\n",
    "from sklearn.neighbors import KNeighborsClassifier\n",
    "from sklearn.ensemble import GradientBoostingClassifier, RandomForestClassifier, BaseEnsemble\n",
    "from sklearn.svm import SVC\n",
    "from sklearn.metrics import confusion_matrix, make_scorer, recall_score\n",
    "\n",
    "from imblearn.over_sampling import SMOTE\n",
    "from imblearn.pipeline import make_pipeline, Pipeline\n",
    "\n",
    "import matplotlib.pyplot as plt\n",
    "import seaborn as sns"
   ]
  },
  {
   "cell_type": "markdown",
   "metadata": {},
   "source": [
    "## Metric to use: Recall\n",
    "\n",
    "Recall would be a better metric for this dataset because with churn rate, we can implement more customer retention strategies, and misidentifying someone as 'exited' and hitting them with a strategy to keep them engaged would be more beneficial than missing someone who exited and not hitting them with a strategy to keep them subscribed to the service. "
   ]
  },
  {
   "cell_type": "markdown",
   "metadata": {},
   "source": [
    "## Import Training Data\n",
    "\n",
    "(From saved CSV during EDA)"
   ]
  },
  {
   "cell_type": "code",
   "execution_count": 2,
   "metadata": {},
   "outputs": [
    {
     "data": {
      "text/html": [
       "<div>\n",
       "<style scoped>\n",
       "    .dataframe tbody tr th:only-of-type {\n",
       "        vertical-align: middle;\n",
       "    }\n",
       "\n",
       "    .dataframe tbody tr th {\n",
       "        vertical-align: top;\n",
       "    }\n",
       "\n",
       "    .dataframe thead th {\n",
       "        text-align: right;\n",
       "    }\n",
       "</style>\n",
       "<table border=\"1\" class=\"dataframe\">\n",
       "  <thead>\n",
       "    <tr style=\"text-align: right;\">\n",
       "      <th></th>\n",
       "      <th>state</th>\n",
       "      <th>account length</th>\n",
       "      <th>area code</th>\n",
       "      <th>phone number</th>\n",
       "      <th>international plan</th>\n",
       "      <th>voice mail plan</th>\n",
       "      <th>number vmail messages</th>\n",
       "      <th>total day minutes</th>\n",
       "      <th>total day calls</th>\n",
       "      <th>total day charge</th>\n",
       "      <th>...</th>\n",
       "      <th>total eve calls</th>\n",
       "      <th>total eve charge</th>\n",
       "      <th>total night minutes</th>\n",
       "      <th>total night calls</th>\n",
       "      <th>total night charge</th>\n",
       "      <th>total intl minutes</th>\n",
       "      <th>total intl calls</th>\n",
       "      <th>total intl charge</th>\n",
       "      <th>customer service calls</th>\n",
       "      <th>churn</th>\n",
       "    </tr>\n",
       "  </thead>\n",
       "  <tbody>\n",
       "    <tr>\n",
       "      <th>2682</th>\n",
       "      <td>DC</td>\n",
       "      <td>55</td>\n",
       "      <td>510</td>\n",
       "      <td>354-5058</td>\n",
       "      <td>yes</td>\n",
       "      <td>no</td>\n",
       "      <td>0</td>\n",
       "      <td>106.1</td>\n",
       "      <td>77</td>\n",
       "      <td>18.04</td>\n",
       "      <td>...</td>\n",
       "      <td>100</td>\n",
       "      <td>10.50</td>\n",
       "      <td>96.4</td>\n",
       "      <td>92</td>\n",
       "      <td>4.34</td>\n",
       "      <td>12.9</td>\n",
       "      <td>3</td>\n",
       "      <td>3.48</td>\n",
       "      <td>0</td>\n",
       "      <td>False</td>\n",
       "    </tr>\n",
       "    <tr>\n",
       "      <th>3304</th>\n",
       "      <td>IL</td>\n",
       "      <td>71</td>\n",
       "      <td>510</td>\n",
       "      <td>330-7137</td>\n",
       "      <td>yes</td>\n",
       "      <td>no</td>\n",
       "      <td>0</td>\n",
       "      <td>186.1</td>\n",
       "      <td>114</td>\n",
       "      <td>31.64</td>\n",
       "      <td>...</td>\n",
       "      <td>140</td>\n",
       "      <td>16.88</td>\n",
       "      <td>206.5</td>\n",
       "      <td>80</td>\n",
       "      <td>9.29</td>\n",
       "      <td>13.8</td>\n",
       "      <td>5</td>\n",
       "      <td>3.73</td>\n",
       "      <td>4</td>\n",
       "      <td>True</td>\n",
       "    </tr>\n",
       "    <tr>\n",
       "      <th>757</th>\n",
       "      <td>UT</td>\n",
       "      <td>112</td>\n",
       "      <td>415</td>\n",
       "      <td>358-5953</td>\n",
       "      <td>no</td>\n",
       "      <td>no</td>\n",
       "      <td>0</td>\n",
       "      <td>115.8</td>\n",
       "      <td>108</td>\n",
       "      <td>19.69</td>\n",
       "      <td>...</td>\n",
       "      <td>111</td>\n",
       "      <td>20.68</td>\n",
       "      <td>184.6</td>\n",
       "      <td>78</td>\n",
       "      <td>8.31</td>\n",
       "      <td>13.1</td>\n",
       "      <td>5</td>\n",
       "      <td>3.54</td>\n",
       "      <td>1</td>\n",
       "      <td>False</td>\n",
       "    </tr>\n",
       "    <tr>\n",
       "      <th>2402</th>\n",
       "      <td>NY</td>\n",
       "      <td>77</td>\n",
       "      <td>415</td>\n",
       "      <td>388-9285</td>\n",
       "      <td>no</td>\n",
       "      <td>yes</td>\n",
       "      <td>33</td>\n",
       "      <td>143.0</td>\n",
       "      <td>101</td>\n",
       "      <td>24.31</td>\n",
       "      <td>...</td>\n",
       "      <td>102</td>\n",
       "      <td>18.04</td>\n",
       "      <td>104.9</td>\n",
       "      <td>120</td>\n",
       "      <td>4.72</td>\n",
       "      <td>15.3</td>\n",
       "      <td>4</td>\n",
       "      <td>4.13</td>\n",
       "      <td>5</td>\n",
       "      <td>True</td>\n",
       "    </tr>\n",
       "    <tr>\n",
       "      <th>792</th>\n",
       "      <td>NV</td>\n",
       "      <td>69</td>\n",
       "      <td>510</td>\n",
       "      <td>397-6789</td>\n",
       "      <td>yes</td>\n",
       "      <td>yes</td>\n",
       "      <td>33</td>\n",
       "      <td>271.5</td>\n",
       "      <td>98</td>\n",
       "      <td>46.16</td>\n",
       "      <td>...</td>\n",
       "      <td>102</td>\n",
       "      <td>21.54</td>\n",
       "      <td>165.4</td>\n",
       "      <td>85</td>\n",
       "      <td>7.44</td>\n",
       "      <td>8.2</td>\n",
       "      <td>2</td>\n",
       "      <td>2.21</td>\n",
       "      <td>1</td>\n",
       "      <td>True</td>\n",
       "    </tr>\n",
       "  </tbody>\n",
       "</table>\n",
       "<p>5 rows × 21 columns</p>\n",
       "</div>"
      ],
      "text/plain": [
       "     state  account length  area code phone number international plan  \\\n",
       "2682    DC              55        510     354-5058                yes   \n",
       "3304    IL              71        510     330-7137                yes   \n",
       "757     UT             112        415     358-5953                 no   \n",
       "2402    NY              77        415     388-9285                 no   \n",
       "792     NV              69        510     397-6789                yes   \n",
       "\n",
       "     voice mail plan  number vmail messages  total day minutes  \\\n",
       "2682              no                      0              106.1   \n",
       "3304              no                      0              186.1   \n",
       "757               no                      0              115.8   \n",
       "2402             yes                     33              143.0   \n",
       "792              yes                     33              271.5   \n",
       "\n",
       "      total day calls  total day charge  ...  total eve calls  \\\n",
       "2682               77             18.04  ...              100   \n",
       "3304              114             31.64  ...              140   \n",
       "757               108             19.69  ...              111   \n",
       "2402              101             24.31  ...              102   \n",
       "792                98             46.16  ...              102   \n",
       "\n",
       "      total eve charge  total night minutes  total night calls  \\\n",
       "2682             10.50                 96.4                 92   \n",
       "3304             16.88                206.5                 80   \n",
       "757              20.68                184.6                 78   \n",
       "2402             18.04                104.9                120   \n",
       "792              21.54                165.4                 85   \n",
       "\n",
       "      total night charge  total intl minutes  total intl calls  \\\n",
       "2682                4.34                12.9                 3   \n",
       "3304                9.29                13.8                 5   \n",
       "757                 8.31                13.1                 5   \n",
       "2402                4.72                15.3                 4   \n",
       "792                 7.44                 8.2                 2   \n",
       "\n",
       "      total intl charge  customer service calls  churn  \n",
       "2682               3.48                       0  False  \n",
       "3304               3.73                       4   True  \n",
       "757                3.54                       1  False  \n",
       "2402               4.13                       5   True  \n",
       "792                2.21                       1   True  \n",
       "\n",
       "[5 rows x 21 columns]"
      ]
     },
     "execution_count": 2,
     "metadata": {},
     "output_type": "execute_result"
    }
   ],
   "source": [
    "df_train = pd.read_csv('/Users/jordanrjohnson/DataScienceCourseMaterial/phase_3/dsc-phase-3-project/Data/training_set.csv', index_col=0)\n",
    "\n",
    "df_train.head()"
   ]
  },
  {
   "cell_type": "code",
   "execution_count": 3,
   "metadata": {
    "scrolled": true
   },
   "outputs": [
    {
     "data": {
      "text/plain": [
       "(2999, 21)"
      ]
     },
     "execution_count": 3,
     "metadata": {},
     "output_type": "execute_result"
    }
   ],
   "source": [
    "df_train.shape"
   ]
  },
  {
   "cell_type": "code",
   "execution_count": 4,
   "metadata": {},
   "outputs": [
    {
     "data": {
      "text/plain": [
       "Index(['state', 'account length', 'area code', 'phone number',\n",
       "       'international plan', 'voice mail plan', 'number vmail messages',\n",
       "       'total day minutes', 'total day calls', 'total day charge',\n",
       "       'total eve minutes', 'total eve calls', 'total eve charge',\n",
       "       'total night minutes', 'total night calls', 'total night charge',\n",
       "       'total intl minutes', 'total intl calls', 'total intl charge',\n",
       "       'customer service calls', 'churn'],\n",
       "      dtype='object')"
      ]
     },
     "execution_count": 4,
     "metadata": {},
     "output_type": "execute_result"
    }
   ],
   "source": [
    "df_train.columns"
   ]
  },
  {
   "cell_type": "code",
   "execution_count": 5,
   "metadata": {
    "scrolled": false
   },
   "outputs": [
    {
     "name": "stdout",
     "output_type": "stream",
     "text": [
      "<class 'pandas.core.frame.DataFrame'>\n",
      "Int64Index: 2999 entries, 2682 to 1061\n",
      "Data columns (total 21 columns):\n",
      "state                     2999 non-null object\n",
      "account length            2999 non-null int64\n",
      "area code                 2999 non-null int64\n",
      "phone number              2999 non-null object\n",
      "international plan        2999 non-null object\n",
      "voice mail plan           2999 non-null object\n",
      "number vmail messages     2999 non-null int64\n",
      "total day minutes         2999 non-null float64\n",
      "total day calls           2999 non-null int64\n",
      "total day charge          2999 non-null float64\n",
      "total eve minutes         2999 non-null float64\n",
      "total eve calls           2999 non-null int64\n",
      "total eve charge          2999 non-null float64\n",
      "total night minutes       2999 non-null float64\n",
      "total night calls         2999 non-null int64\n",
      "total night charge        2999 non-null float64\n",
      "total intl minutes        2999 non-null float64\n",
      "total intl calls          2999 non-null int64\n",
      "total intl charge         2999 non-null float64\n",
      "customer service calls    2999 non-null int64\n",
      "churn                     2999 non-null bool\n",
      "dtypes: bool(1), float64(8), int64(8), object(4)\n",
      "memory usage: 495.0+ KB\n"
     ]
    }
   ],
   "source": [
    "df_train.info()"
   ]
  },
  {
   "cell_type": "code",
   "execution_count": 6,
   "metadata": {},
   "outputs": [
    {
     "data": {
      "text/plain": [
       "False    2569\n",
       "True      430\n",
       "Name: churn, dtype: int64"
      ]
     },
     "execution_count": 6,
     "metadata": {},
     "output_type": "execute_result"
    }
   ],
   "source": [
    "df_train['churn'].value_counts()"
   ]
  },
  {
   "cell_type": "markdown",
   "metadata": {},
   "source": [
    "## Build an Initial Model\n",
    "\n",
    "AKA sanity check. This model is only built to see if it's possible to build a model using this dataset."
   ]
  },
  {
   "cell_type": "code",
   "execution_count": 7,
   "metadata": {},
   "outputs": [],
   "source": [
    "# Functions\n",
    "def transform_df(df):\n",
    "    \n",
    "    \"\"\"\n",
    "    Transforms yes and no values in certain columns of the df to 1s and 0s, respectively. \n",
    "    Returns the dataframe.\n",
    "    \"\"\"\n",
    "    \n",
    "    df['international plan'] = df['international plan'].apply(lambda x: 1 if x.lower() == 'yes' else 0)\n",
    "    df['voice mail plan'] = df['voice mail plan'].apply(lambda x: 1 if x.lower() == 'yes' else 0)\n",
    "\n",
    "    return df\n",
    "\n",
    "\n",
    "def plot_conf_matrix(y_true, y_pred):\n",
    "    \n",
    "    \"\"\"\n",
    "    Plots a prettier confusion matrix than matplotlib.\n",
    "    \"\"\"\n",
    "    \n",
    "    cm = confusion_matrix(y_true, y_pred)\n",
    "    plt.figure(figsize=(10, 7))\n",
    "    sns.heatmap(cm, annot=True, cmap=sns.color_palette('Blues_d'), fmt='0.5g', annot_kws={\"size\": 16})\n",
    "    plt.xlabel('Predictions')\n",
    "    plt.ylabel('Actuals')\n",
    "    plt.ylim([0,2])\n",
    "    plt.show()"
   ]
  },
  {
   "cell_type": "code",
   "execution_count": 8,
   "metadata": {},
   "outputs": [],
   "source": [
    "features_to_use = ['account length', 'international plan', 'voice mail plan', 'number vmail messages',\n",
    "                   'total day charge', 'total eve charge', 'total night charge', 'total intl charge',\n",
    "                   'customer service calls']\n",
    "target = ['churn']"
   ]
  },
  {
   "cell_type": "code",
   "execution_count": 9,
   "metadata": {
    "scrolled": true
   },
   "outputs": [
    {
     "data": {
      "text/html": [
       "<div>\n",
       "<style scoped>\n",
       "    .dataframe tbody tr th:only-of-type {\n",
       "        vertical-align: middle;\n",
       "    }\n",
       "\n",
       "    .dataframe tbody tr th {\n",
       "        vertical-align: top;\n",
       "    }\n",
       "\n",
       "    .dataframe thead th {\n",
       "        text-align: right;\n",
       "    }\n",
       "</style>\n",
       "<table border=\"1\" class=\"dataframe\">\n",
       "  <thead>\n",
       "    <tr style=\"text-align: right;\">\n",
       "      <th></th>\n",
       "      <th>state</th>\n",
       "      <th>account length</th>\n",
       "      <th>area code</th>\n",
       "      <th>phone number</th>\n",
       "      <th>international plan</th>\n",
       "      <th>voice mail plan</th>\n",
       "      <th>number vmail messages</th>\n",
       "      <th>total day minutes</th>\n",
       "      <th>total day calls</th>\n",
       "      <th>total day charge</th>\n",
       "      <th>...</th>\n",
       "      <th>total eve calls</th>\n",
       "      <th>total eve charge</th>\n",
       "      <th>total night minutes</th>\n",
       "      <th>total night calls</th>\n",
       "      <th>total night charge</th>\n",
       "      <th>total intl minutes</th>\n",
       "      <th>total intl calls</th>\n",
       "      <th>total intl charge</th>\n",
       "      <th>customer service calls</th>\n",
       "      <th>churn</th>\n",
       "    </tr>\n",
       "  </thead>\n",
       "  <tbody>\n",
       "    <tr>\n",
       "      <th>2682</th>\n",
       "      <td>DC</td>\n",
       "      <td>55</td>\n",
       "      <td>510</td>\n",
       "      <td>354-5058</td>\n",
       "      <td>1</td>\n",
       "      <td>0</td>\n",
       "      <td>0</td>\n",
       "      <td>106.1</td>\n",
       "      <td>77</td>\n",
       "      <td>18.04</td>\n",
       "      <td>...</td>\n",
       "      <td>100</td>\n",
       "      <td>10.50</td>\n",
       "      <td>96.4</td>\n",
       "      <td>92</td>\n",
       "      <td>4.34</td>\n",
       "      <td>12.9</td>\n",
       "      <td>3</td>\n",
       "      <td>3.48</td>\n",
       "      <td>0</td>\n",
       "      <td>False</td>\n",
       "    </tr>\n",
       "    <tr>\n",
       "      <th>3304</th>\n",
       "      <td>IL</td>\n",
       "      <td>71</td>\n",
       "      <td>510</td>\n",
       "      <td>330-7137</td>\n",
       "      <td>1</td>\n",
       "      <td>0</td>\n",
       "      <td>0</td>\n",
       "      <td>186.1</td>\n",
       "      <td>114</td>\n",
       "      <td>31.64</td>\n",
       "      <td>...</td>\n",
       "      <td>140</td>\n",
       "      <td>16.88</td>\n",
       "      <td>206.5</td>\n",
       "      <td>80</td>\n",
       "      <td>9.29</td>\n",
       "      <td>13.8</td>\n",
       "      <td>5</td>\n",
       "      <td>3.73</td>\n",
       "      <td>4</td>\n",
       "      <td>True</td>\n",
       "    </tr>\n",
       "    <tr>\n",
       "      <th>757</th>\n",
       "      <td>UT</td>\n",
       "      <td>112</td>\n",
       "      <td>415</td>\n",
       "      <td>358-5953</td>\n",
       "      <td>0</td>\n",
       "      <td>0</td>\n",
       "      <td>0</td>\n",
       "      <td>115.8</td>\n",
       "      <td>108</td>\n",
       "      <td>19.69</td>\n",
       "      <td>...</td>\n",
       "      <td>111</td>\n",
       "      <td>20.68</td>\n",
       "      <td>184.6</td>\n",
       "      <td>78</td>\n",
       "      <td>8.31</td>\n",
       "      <td>13.1</td>\n",
       "      <td>5</td>\n",
       "      <td>3.54</td>\n",
       "      <td>1</td>\n",
       "      <td>False</td>\n",
       "    </tr>\n",
       "    <tr>\n",
       "      <th>2402</th>\n",
       "      <td>NY</td>\n",
       "      <td>77</td>\n",
       "      <td>415</td>\n",
       "      <td>388-9285</td>\n",
       "      <td>0</td>\n",
       "      <td>1</td>\n",
       "      <td>33</td>\n",
       "      <td>143.0</td>\n",
       "      <td>101</td>\n",
       "      <td>24.31</td>\n",
       "      <td>...</td>\n",
       "      <td>102</td>\n",
       "      <td>18.04</td>\n",
       "      <td>104.9</td>\n",
       "      <td>120</td>\n",
       "      <td>4.72</td>\n",
       "      <td>15.3</td>\n",
       "      <td>4</td>\n",
       "      <td>4.13</td>\n",
       "      <td>5</td>\n",
       "      <td>True</td>\n",
       "    </tr>\n",
       "    <tr>\n",
       "      <th>792</th>\n",
       "      <td>NV</td>\n",
       "      <td>69</td>\n",
       "      <td>510</td>\n",
       "      <td>397-6789</td>\n",
       "      <td>1</td>\n",
       "      <td>1</td>\n",
       "      <td>33</td>\n",
       "      <td>271.5</td>\n",
       "      <td>98</td>\n",
       "      <td>46.16</td>\n",
       "      <td>...</td>\n",
       "      <td>102</td>\n",
       "      <td>21.54</td>\n",
       "      <td>165.4</td>\n",
       "      <td>85</td>\n",
       "      <td>7.44</td>\n",
       "      <td>8.2</td>\n",
       "      <td>2</td>\n",
       "      <td>2.21</td>\n",
       "      <td>1</td>\n",
       "      <td>True</td>\n",
       "    </tr>\n",
       "  </tbody>\n",
       "</table>\n",
       "<p>5 rows × 21 columns</p>\n",
       "</div>"
      ],
      "text/plain": [
       "     state  account length  area code phone number  international plan  \\\n",
       "2682    DC              55        510     354-5058                   1   \n",
       "3304    IL              71        510     330-7137                   1   \n",
       "757     UT             112        415     358-5953                   0   \n",
       "2402    NY              77        415     388-9285                   0   \n",
       "792     NV              69        510     397-6789                   1   \n",
       "\n",
       "      voice mail plan  number vmail messages  total day minutes  \\\n",
       "2682                0                      0              106.1   \n",
       "3304                0                      0              186.1   \n",
       "757                 0                      0              115.8   \n",
       "2402                1                     33              143.0   \n",
       "792                 1                     33              271.5   \n",
       "\n",
       "      total day calls  total day charge  ...  total eve calls  \\\n",
       "2682               77             18.04  ...              100   \n",
       "3304              114             31.64  ...              140   \n",
       "757               108             19.69  ...              111   \n",
       "2402              101             24.31  ...              102   \n",
       "792                98             46.16  ...              102   \n",
       "\n",
       "      total eve charge  total night minutes  total night calls  \\\n",
       "2682             10.50                 96.4                 92   \n",
       "3304             16.88                206.5                 80   \n",
       "757              20.68                184.6                 78   \n",
       "2402             18.04                104.9                120   \n",
       "792              21.54                165.4                 85   \n",
       "\n",
       "      total night charge  total intl minutes  total intl calls  \\\n",
       "2682                4.34                12.9                 3   \n",
       "3304                9.29                13.8                 5   \n",
       "757                 8.31                13.1                 5   \n",
       "2402                4.72                15.3                 4   \n",
       "792                 7.44                 8.2                 2   \n",
       "\n",
       "      total intl charge  customer service calls  churn  \n",
       "2682               3.48                       0  False  \n",
       "3304               3.73                       4   True  \n",
       "757                3.54                       1  False  \n",
       "2402               4.13                       5   True  \n",
       "792                2.21                       1   True  \n",
       "\n",
       "[5 rows x 21 columns]"
      ]
     },
     "execution_count": 9,
     "metadata": {},
     "output_type": "execute_result"
    }
   ],
   "source": [
    "df_train_transformed = transform_df(df_train)\n",
    "df_train_transformed.head()"
   ]
  },
  {
   "cell_type": "code",
   "execution_count": 10,
   "metadata": {},
   "outputs": [
    {
     "data": {
      "text/plain": [
       "((2249, 9), (750, 9))"
      ]
     },
     "execution_count": 10,
     "metadata": {},
     "output_type": "execute_result"
    }
   ],
   "source": [
    "X = df_train_transformed[features_to_use]\n",
    "y = df_train_transformed[target]\n",
    "\n",
    "X_train, X_test, y_train, y_test = train_test_split(X, y, test_size=.25, random_state=1)\n",
    "X_train.shape, X_test.shape"
   ]
  },
  {
   "cell_type": "code",
   "execution_count": 11,
   "metadata": {},
   "outputs": [],
   "source": [
    "# Use Smote to resample and fix the class imbalance problem\n",
    "smote = SMOTE()\n",
    "X_train_resampled, y_train_resampled = smote.fit_sample(X_train, y_train)"
   ]
  },
  {
   "cell_type": "code",
   "execution_count": 12,
   "metadata": {},
   "outputs": [
    {
     "data": {
      "text/plain": [
       "RandomForestClassifier()"
      ]
     },
     "execution_count": 12,
     "metadata": {},
     "output_type": "execute_result"
    }
   ],
   "source": [
    "rf1 = RandomForestClassifier()\n",
    "rf1.fit(X_train_resampled, y_train_resampled)"
   ]
  },
  {
   "cell_type": "code",
   "execution_count": 13,
   "metadata": {},
   "outputs": [
    {
     "name": "stdout",
     "output_type": "stream",
     "text": [
      "Training Recall: 1.0\n",
      "Testing Recall: 0.7340425531914894\n"
     ]
    }
   ],
   "source": [
    "y_preds_test = rf1.predict(X_test)\n",
    "y_preds_train = rf1.predict(X_train_resampled)\n",
    "\n",
    "print('Training Recall:', recall_score(y_train_resampled, y_preds_train))\n",
    "print('Testing Recall:', recall_score(y_test, y_preds_test))"
   ]
  },
  {
   "cell_type": "code",
   "execution_count": 14,
   "metadata": {
    "scrolled": false
   },
   "outputs": [
    {
     "data": {
      "image/png": "[encoded data removed]",
      "text/plain": [
       "<Figure size 720x504 with 2 Axes>"
      ]
     },
     "metadata": {
      "needs_background": "light"
     },
     "output_type": "display_data"
    }
   ],
   "source": [
    "plot_conf_matrix(y_test, y_preds_test)\n",
    "# We want to reduce that 25 because those are our False Negatives (people who churned that we missed)"
   ]
  },
  {
   "cell_type": "markdown",
   "metadata": {},
   "source": [
    "## Model Selection:\n",
    "### Perform Test to Select Best Classifier"
   ]
  },
  {
   "cell_type": "code",
   "execution_count": 15,
   "metadata": {
    "scrolled": false
   },
   "outputs": [
    {
     "name": "stdout",
     "output_type": "stream",
     "text": [
      "Model: RandomForestClassifier()\n",
      "Training Recall: 1.0\n",
      "Testing Recall: 0.7340425531914894\n"
     ]
    },
    {
     "data": {
      "image/png": "[encoded data removed]",
      "text/plain": [
       "<Figure size 720x504 with 2 Axes>"
      ]
     },
     "metadata": {
      "needs_background": "light"
     },
     "output_type": "display_data"
    },
    {
     "name": "stdout",
     "output_type": "stream",
     "text": [
      "\n",
      " ---------------------------------- \n",
      "\n",
      "Model: KNeighborsClassifier()\n",
      "Training Recall: 0.9827496079456352\n",
      "Testing Recall: 0.6276595744680851\n"
     ]
    },
    {
     "data": {
      "image/png": "[encoded data removed]",
      "text/plain": [
       "<Figure size 720x504 with 2 Axes>"
      ]
     },
     "metadata": {
      "needs_background": "light"
     },
     "output_type": "display_data"
    },
    {
     "name": "stdout",
     "output_type": "stream",
     "text": [
      "\n",
      " ---------------------------------- \n",
      "\n",
      "Model: GradientBoostingClassifier()\n",
      "Training Recall: 0.774176685833769\n",
      "Testing Recall: 0.7446808510638298\n"
     ]
    },
    {
     "data": {
      "image/png": "[encoded data removed]",
      "text/plain": [
       "<Figure size 720x504 with 2 Axes>"
      ]
     },
     "metadata": {
      "needs_background": "light"
     },
     "output_type": "display_data"
    },
    {
     "name": "stdout",
     "output_type": "stream",
     "text": [
      "\n",
      " ---------------------------------- \n",
      "\n",
      "Model: GaussianNB()\n",
      "Training Recall: 0.7731312075274438\n",
      "Testing Recall: 0.7978723404255319\n"
     ]
    },
    {
     "data": {
      "image/png": "[encoded data removed]",
      "text/plain": [
       "<Figure size 720x504 with 2 Axes>"
      ]
     },
     "metadata": {
      "needs_background": "light"
     },
     "output_type": "display_data"
    },
    {
     "name": "stdout",
     "output_type": "stream",
     "text": [
      "\n",
      " ---------------------------------- \n",
      "\n",
      "Model: SVC()\n",
      "Training Recall: 0.5039205436487193\n",
      "Testing Recall: 0.5531914893617021\n"
     ]
    },
    {
     "data": {
      "image/png": "[encoded data removed]",
      "text/plain": [
       "<Figure size 720x504 with 2 Axes>"
      ]
     },
     "metadata": {
      "needs_background": "light"
     },
     "output_type": "display_data"
    },
    {
     "name": "stdout",
     "output_type": "stream",
     "text": [
      "\n",
      " ---------------------------------- \n",
      "\n"
     ]
    }
   ],
   "source": [
    "rf = RandomForestClassifier()\n",
    "knn = KNeighborsClassifier()\n",
    "gboost = GradientBoostingClassifier()\n",
    "gbayes = GaussianNB()\n",
    "svm = SVC()\n",
    "\n",
    "models = [rf, knn, gboost, gbayes, svm]\n",
    "\n",
    "for model in models:\n",
    "    model.fit(X_train_resampled, y_train_resampled)\n",
    "    y_preds_test = model.predict(X_test)\n",
    "    y_preds_train = model.predict(X_train_resampled)\n",
    "    print('Model:', model)\n",
    "    print('Training Recall:', recall_score(y_train_resampled, y_preds_train))\n",
    "    print('Testing Recall:', recall_score(y_test, y_preds_test))\n",
    "    plot_conf_matrix(y_test, y_preds_test)\n",
    "    print('\\n ---------------------------------- \\n')"
   ]
  },
  {
   "cell_type": "markdown",
   "metadata": {},
   "source": [
    "**Notes:**\n",
    "\n",
    "The best performing classifiers here were Gradient Boost, and Gaussian Naive Bayes. They both had the lowest False Negatives and the least overfitting. I would like to redo the KNN model with a scaler to see if that helps it perform better (distance is very much affected by the scales of the features). \n",
    "\n",
    "It is also important to note that I did not do any hypertuning yet, nor feature engineering. I am only checking initally which model might do the best with this dataset."
   ]
  },
  {
   "cell_type": "code",
   "execution_count": 16,
   "metadata": {},
   "outputs": [
    {
     "name": "stdout",
     "output_type": "stream",
     "text": [
      "New KNN Model:\n",
      "Training Recall: 0.0\n",
      "Testing Recall: 0.0\n"
     ]
    },
    {
     "data": {
      "image/png": "[encoded data removed]",
      "text/plain": [
       "<Figure size 720x504 with 2 Axes>"
      ]
     },
     "metadata": {
      "needs_background": "light"
     },
     "output_type": "display_data"
    }
   ],
   "source": [
    "# Redo the KNN model with feature scaling\n",
    "scaler = StandardScaler()\n",
    "X_train_scaled = scaler.fit_transform(X_train_resampled)\n",
    "X_test_scaled = scaler.transform(X_test)\n",
    "\n",
    "knn.fit(X_train_scaled, y_train_resampled)\n",
    "\n",
    "y_preds_test = model.predict(X_test_scaled)\n",
    "y_preds_train = model.predict(X_train_scaled)\n",
    "print('New KNN Model:')\n",
    "print('Training Recall:', recall_score(y_train_resampled, y_preds_train))\n",
    "print('Testing Recall:', recall_score(y_test, y_preds_test))\n",
    "plot_conf_matrix(y_test, y_preds_test)"
   ]
  },
  {
   "cell_type": "markdown",
   "metadata": {},
   "source": [
    "Not good. It just predicted everything as not churning. Therefore, I will proceed with Gradient Boosting."
   ]
  },
  {
   "cell_type": "markdown",
   "metadata": {},
   "source": [
    "## Set up the Pipeline \n",
    "\n",
    "**Steps**\n",
    "\n",
    "1) Choose Columns (need to build a class for this)\n",
    "\n",
    "2) Transform categorical columns and build features (need a custom class for this too)\n",
    "\n",
    "3) Deal with class imbalance using SMOTE (imblearn's pipeline will only apply this step to training set)\n",
    "\n",
    "4) Build model and predict (use existing sklearn methods)"
   ]
  },
  {
   "cell_type": "code",
   "execution_count": 17,
   "metadata": {},
   "outputs": [],
   "source": [
    "# Functions to build features\n",
    "\n",
    "def categorize_state(state):\n",
    "    if state in ['AK', 'AZ', 'DC', 'HI', 'IA', 'IL', 'LA', 'NE', 'NM', 'RI', 'VA', 'WI', 'WV']:\n",
    "        state = 1\n",
    "    elif state in ['AL', 'CO', 'FL', 'ID', 'IN', 'KY', 'MO', 'NC', 'ND', 'NH', 'OH', 'OR', 'SD', 'TN', 'VT', 'WY']:\n",
    "        state = 2\n",
    "    elif state in ['CT', 'DE', 'GA', 'KS', 'MA', 'MN', 'MS', 'MT', 'NV', 'NY', 'OK', 'UT']:\n",
    "        state = 3\n",
    "    else:\n",
    "        state = 4\n",
    "    return state\n",
    "\n",
    "\n",
    "def build_features(X):\n",
    "    X['total charge'] = X['total day charge'] + X['total eve charge'] + X['total night charge'] + X['total intl charge']\n",
    "    X['total minutes'] = X['total day minutes'] + X['total eve minutes'] + X['total night minutes'] + X['total intl minutes']\n",
    "    X['total calls'] = X['total day calls'] + X['total eve calls'] + X['total night calls'] + X['total intl calls']\n",
    "    X['avg minutes per domestic call'] = (X['total minutes'] - X['total intl minutes']) / (X['total calls'] - X['total intl calls'])\n",
    "    X['competition'] = X['state'].apply(categorize_state)\n",
    "    return X"
   ]
  },
  {
   "cell_type": "code",
   "execution_count": 162,
   "metadata": {},
   "outputs": [],
   "source": [
    "# Build custom classes to build into the pipeline\n",
    "\n",
    "class SelectColumnsTransformer(BaseEstimator):\n",
    "    \n",
    "    def __init__(self, columns=None):\n",
    "        self.columns = columns\n",
    "        \n",
    "    def transform(self, X, **transform_params):\n",
    "        cpy_df = X[self.columns].copy()\n",
    "        return cpy_df\n",
    "\n",
    "    def fit(self, X, y=None, **fit_params):\n",
    "        return self\n",
    "    \n",
    "    \n",
    "class Transform_Categorical(BaseEstimator):\n",
    "    \n",
    "    def transform(self, X, y=None, **transform_params):\n",
    "        try:\n",
    "            X['international plan'] = X['international plan'].apply(self.yes_no_func)\n",
    "            X['voice mail plan'] = X['voice mail plan'].apply(self.yes_no_func)\n",
    "        except:\n",
    "            pass\n",
    "        return X\n",
    "\n",
    "    def fit(self, X, y=None, **fit_params):\n",
    "        return self\n",
    "    \n",
    "    @staticmethod\n",
    "    def yes_no_func(x):\n",
    "        return 1 if x.lower() == 'yes' else 0"
   ]
  },
  {
   "cell_type": "code",
   "execution_count": 20,
   "metadata": {
    "collapsed": true
   },
   "outputs": [
    {
     "data": {
      "text/html": [
       "<div>\n",
       "<style scoped>\n",
       "    .dataframe tbody tr th:only-of-type {\n",
       "        vertical-align: middle;\n",
       "    }\n",
       "\n",
       "    .dataframe tbody tr th {\n",
       "        vertical-align: top;\n",
       "    }\n",
       "\n",
       "    .dataframe thead th {\n",
       "        text-align: right;\n",
       "    }\n",
       "</style>\n",
       "<table border=\"1\" class=\"dataframe\">\n",
       "  <thead>\n",
       "    <tr style=\"text-align: right;\">\n",
       "      <th></th>\n",
       "      <th>state</th>\n",
       "      <th>account length</th>\n",
       "      <th>area code</th>\n",
       "      <th>phone number</th>\n",
       "      <th>international plan</th>\n",
       "      <th>voice mail plan</th>\n",
       "      <th>number vmail messages</th>\n",
       "      <th>total day minutes</th>\n",
       "      <th>total day calls</th>\n",
       "      <th>total day charge</th>\n",
       "      <th>...</th>\n",
       "      <th>total intl minutes</th>\n",
       "      <th>total intl calls</th>\n",
       "      <th>total intl charge</th>\n",
       "      <th>customer service calls</th>\n",
       "      <th>churn</th>\n",
       "      <th>total charge</th>\n",
       "      <th>total minutes</th>\n",
       "      <th>total calls</th>\n",
       "      <th>avg minutes per domestic call</th>\n",
       "      <th>competition</th>\n",
       "    </tr>\n",
       "  </thead>\n",
       "  <tbody>\n",
       "    <tr>\n",
       "      <th>2682</th>\n",
       "      <td>DC</td>\n",
       "      <td>55</td>\n",
       "      <td>510</td>\n",
       "      <td>354-5058</td>\n",
       "      <td>1</td>\n",
       "      <td>0</td>\n",
       "      <td>0</td>\n",
       "      <td>106.1</td>\n",
       "      <td>77</td>\n",
       "      <td>18.04</td>\n",
       "      <td>...</td>\n",
       "      <td>12.9</td>\n",
       "      <td>3</td>\n",
       "      <td>3.48</td>\n",
       "      <td>0</td>\n",
       "      <td>False</td>\n",
       "      <td>36.36</td>\n",
       "      <td>338.9</td>\n",
       "      <td>272</td>\n",
       "      <td>1.211896</td>\n",
       "      <td>1</td>\n",
       "    </tr>\n",
       "    <tr>\n",
       "      <th>3304</th>\n",
       "      <td>IL</td>\n",
       "      <td>71</td>\n",
       "      <td>510</td>\n",
       "      <td>330-7137</td>\n",
       "      <td>1</td>\n",
       "      <td>0</td>\n",
       "      <td>0</td>\n",
       "      <td>186.1</td>\n",
       "      <td>114</td>\n",
       "      <td>31.64</td>\n",
       "      <td>...</td>\n",
       "      <td>13.8</td>\n",
       "      <td>5</td>\n",
       "      <td>3.73</td>\n",
       "      <td>4</td>\n",
       "      <td>True</td>\n",
       "      <td>61.54</td>\n",
       "      <td>605.0</td>\n",
       "      <td>339</td>\n",
       "      <td>1.770060</td>\n",
       "      <td>1</td>\n",
       "    </tr>\n",
       "    <tr>\n",
       "      <th>757</th>\n",
       "      <td>UT</td>\n",
       "      <td>112</td>\n",
       "      <td>415</td>\n",
       "      <td>358-5953</td>\n",
       "      <td>0</td>\n",
       "      <td>0</td>\n",
       "      <td>0</td>\n",
       "      <td>115.8</td>\n",
       "      <td>108</td>\n",
       "      <td>19.69</td>\n",
       "      <td>...</td>\n",
       "      <td>13.1</td>\n",
       "      <td>5</td>\n",
       "      <td>3.54</td>\n",
       "      <td>1</td>\n",
       "      <td>False</td>\n",
       "      <td>52.22</td>\n",
       "      <td>556.8</td>\n",
       "      <td>302</td>\n",
       "      <td>1.830640</td>\n",
       "      <td>3</td>\n",
       "    </tr>\n",
       "    <tr>\n",
       "      <th>2402</th>\n",
       "      <td>NY</td>\n",
       "      <td>77</td>\n",
       "      <td>415</td>\n",
       "      <td>388-9285</td>\n",
       "      <td>0</td>\n",
       "      <td>1</td>\n",
       "      <td>33</td>\n",
       "      <td>143.0</td>\n",
       "      <td>101</td>\n",
       "      <td>24.31</td>\n",
       "      <td>...</td>\n",
       "      <td>15.3</td>\n",
       "      <td>4</td>\n",
       "      <td>4.13</td>\n",
       "      <td>5</td>\n",
       "      <td>True</td>\n",
       "      <td>51.20</td>\n",
       "      <td>475.4</td>\n",
       "      <td>327</td>\n",
       "      <td>1.424458</td>\n",
       "      <td>3</td>\n",
       "    </tr>\n",
       "    <tr>\n",
       "      <th>792</th>\n",
       "      <td>NV</td>\n",
       "      <td>69</td>\n",
       "      <td>510</td>\n",
       "      <td>397-6789</td>\n",
       "      <td>1</td>\n",
       "      <td>1</td>\n",
       "      <td>33</td>\n",
       "      <td>271.5</td>\n",
       "      <td>98</td>\n",
       "      <td>46.16</td>\n",
       "      <td>...</td>\n",
       "      <td>8.2</td>\n",
       "      <td>2</td>\n",
       "      <td>2.21</td>\n",
       "      <td>1</td>\n",
       "      <td>True</td>\n",
       "      <td>77.35</td>\n",
       "      <td>698.5</td>\n",
       "      <td>287</td>\n",
       "      <td>2.422105</td>\n",
       "      <td>3</td>\n",
       "    </tr>\n",
       "  </tbody>\n",
       "</table>\n",
       "<p>5 rows × 26 columns</p>\n",
       "</div>"
      ],
      "text/plain": [
       "     state  account length  area code phone number  international plan  \\\n",
       "2682    DC              55        510     354-5058                   1   \n",
       "3304    IL              71        510     330-7137                   1   \n",
       "757     UT             112        415     358-5953                   0   \n",
       "2402    NY              77        415     388-9285                   0   \n",
       "792     NV              69        510     397-6789                   1   \n",
       "\n",
       "      voice mail plan  number vmail messages  total day minutes  \\\n",
       "2682                0                      0              106.1   \n",
       "3304                0                      0              186.1   \n",
       "757                 0                      0              115.8   \n",
       "2402                1                     33              143.0   \n",
       "792                 1                     33              271.5   \n",
       "\n",
       "      total day calls  total day charge  ...  total intl minutes  \\\n",
       "2682               77             18.04  ...                12.9   \n",
       "3304              114             31.64  ...                13.8   \n",
       "757               108             19.69  ...                13.1   \n",
       "2402              101             24.31  ...                15.3   \n",
       "792                98             46.16  ...                 8.2   \n",
       "\n",
       "      total intl calls  total intl charge  customer service calls  churn  \\\n",
       "2682                 3               3.48                       0  False   \n",
       "3304                 5               3.73                       4   True   \n",
       "757                  5               3.54                       1  False   \n",
       "2402                 4               4.13                       5   True   \n",
       "792                  2               2.21                       1   True   \n",
       "\n",
       "      total charge  total minutes  total calls  avg minutes per domestic call  \\\n",
       "2682         36.36          338.9          272                       1.211896   \n",
       "3304         61.54          605.0          339                       1.770060   \n",
       "757          52.22          556.8          302                       1.830640   \n",
       "2402         51.20          475.4          327                       1.424458   \n",
       "792          77.35          698.5          287                       2.422105   \n",
       "\n",
       "      competition  \n",
       "2682            1  \n",
       "3304            1  \n",
       "757             3  \n",
       "2402            3  \n",
       "792             3  \n",
       "\n",
       "[5 rows x 26 columns]"
      ]
     },
     "execution_count": 20,
     "metadata": {},
     "output_type": "execute_result"
    }
   ],
   "source": [
    "df_with_features = build_features(df_train)\n",
    "df_with_features.head()"
   ]
  },
  {
   "cell_type": "code",
   "execution_count": 21,
   "metadata": {},
   "outputs": [],
   "source": [
    "features_to_use = ['account length', 'international plan', 'voice mail plan', 'number vmail messages',\n",
    "                   'total charge', 'customer service calls', 'competition',\n",
    "                   'avg minutes per domestic call', 'total calls', 'total minutes']\n",
    "target = ['churn']"
   ]
  },
  {
   "cell_type": "code",
   "execution_count": 22,
   "metadata": {},
   "outputs": [],
   "source": [
    "pipeline = Pipeline(steps= [\n",
    "                    (\"ColumnTransformer\", SelectColumnsTransformer(columns=features_to_use)),\n",
    "                    (\"TransformCategorical\", Transform_Categorical()),\n",
    "                    (\"SMOTE\", SMOTE()),\n",
    "                    (\"GradientBooster\", GradientBoostingClassifier())\n",
    "                    ])"
   ]
  },
  {
   "cell_type": "code",
   "execution_count": 23,
   "metadata": {},
   "outputs": [],
   "source": [
    "X_train = df_with_features.drop(columns=['churn'])\n",
    "y_train = df_with_features[target]"
   ]
  },
  {
   "cell_type": "code",
   "execution_count": 25,
   "metadata": {
    "scrolled": true
   },
   "outputs": [
    {
     "data": {
      "text/plain": [
       "Pipeline(steps=[('ColumnTransformer',\n",
       "                 SelectColumnsTransformer(columns=['account length',\n",
       "                                                   'international plan',\n",
       "                                                   'voice mail plan',\n",
       "                                                   'number vmail messages',\n",
       "                                                   'total charge',\n",
       "                                                   'customer service calls',\n",
       "                                                   'competition',\n",
       "                                                   'avg minutes per domestic '\n",
       "                                                   'call',\n",
       "                                                   'total calls',\n",
       "                                                   'total minutes'])),\n",
       "                ('TransformCategorical', Transform_Categorical()),\n",
       "                ('SMOTE', SMOTE()),\n",
       "                ('GradientBooster', GradientBoostingClassifier())])"
      ]
     },
     "execution_count": 25,
     "metadata": {},
     "output_type": "execute_result"
    }
   ],
   "source": [
    "pipeline.fit(X_train, y_train)"
   ]
  },
  {
   "cell_type": "code",
   "execution_count": 26,
   "metadata": {
    "collapsed": true
   },
   "outputs": [
    {
     "data": {
      "text/html": [
       "<div>\n",
       "<style scoped>\n",
       "    .dataframe tbody tr th:only-of-type {\n",
       "        vertical-align: middle;\n",
       "    }\n",
       "\n",
       "    .dataframe tbody tr th {\n",
       "        vertical-align: top;\n",
       "    }\n",
       "\n",
       "    .dataframe thead th {\n",
       "        text-align: right;\n",
       "    }\n",
       "</style>\n",
       "<table border=\"1\" class=\"dataframe\">\n",
       "  <thead>\n",
       "    <tr style=\"text-align: right;\">\n",
       "      <th></th>\n",
       "      <th>state</th>\n",
       "      <th>account length</th>\n",
       "      <th>area code</th>\n",
       "      <th>phone number</th>\n",
       "      <th>international plan</th>\n",
       "      <th>voice mail plan</th>\n",
       "      <th>number vmail messages</th>\n",
       "      <th>total day minutes</th>\n",
       "      <th>total day calls</th>\n",
       "      <th>total day charge</th>\n",
       "      <th>...</th>\n",
       "      <th>total eve calls</th>\n",
       "      <th>total eve charge</th>\n",
       "      <th>total night minutes</th>\n",
       "      <th>total night calls</th>\n",
       "      <th>total night charge</th>\n",
       "      <th>total intl minutes</th>\n",
       "      <th>total intl calls</th>\n",
       "      <th>total intl charge</th>\n",
       "      <th>customer service calls</th>\n",
       "      <th>churn</th>\n",
       "    </tr>\n",
       "  </thead>\n",
       "  <tbody>\n",
       "    <tr>\n",
       "      <th>2360</th>\n",
       "      <td>IN</td>\n",
       "      <td>68</td>\n",
       "      <td>415</td>\n",
       "      <td>386-9724</td>\n",
       "      <td>no</td>\n",
       "      <td>no</td>\n",
       "      <td>0</td>\n",
       "      <td>222.1</td>\n",
       "      <td>107</td>\n",
       "      <td>37.76</td>\n",
       "      <td>...</td>\n",
       "      <td>102</td>\n",
       "      <td>16.95</td>\n",
       "      <td>162.4</td>\n",
       "      <td>107</td>\n",
       "      <td>7.31</td>\n",
       "      <td>9.4</td>\n",
       "      <td>3</td>\n",
       "      <td>2.54</td>\n",
       "      <td>2</td>\n",
       "      <td>False</td>\n",
       "    </tr>\n",
       "    <tr>\n",
       "      <th>600</th>\n",
       "      <td>MI</td>\n",
       "      <td>102</td>\n",
       "      <td>510</td>\n",
       "      <td>336-4656</td>\n",
       "      <td>no</td>\n",
       "      <td>no</td>\n",
       "      <td>0</td>\n",
       "      <td>102.6</td>\n",
       "      <td>89</td>\n",
       "      <td>17.44</td>\n",
       "      <td>...</td>\n",
       "      <td>77</td>\n",
       "      <td>20.91</td>\n",
       "      <td>170.5</td>\n",
       "      <td>140</td>\n",
       "      <td>7.67</td>\n",
       "      <td>9.1</td>\n",
       "      <td>4</td>\n",
       "      <td>2.46</td>\n",
       "      <td>2</td>\n",
       "      <td>False</td>\n",
       "    </tr>\n",
       "    <tr>\n",
       "      <th>1501</th>\n",
       "      <td>AZ</td>\n",
       "      <td>72</td>\n",
       "      <td>510</td>\n",
       "      <td>407-9830</td>\n",
       "      <td>no</td>\n",
       "      <td>no</td>\n",
       "      <td>0</td>\n",
       "      <td>272.4</td>\n",
       "      <td>88</td>\n",
       "      <td>46.31</td>\n",
       "      <td>...</td>\n",
       "      <td>125</td>\n",
       "      <td>9.17</td>\n",
       "      <td>185.5</td>\n",
       "      <td>81</td>\n",
       "      <td>8.35</td>\n",
       "      <td>12.7</td>\n",
       "      <td>2</td>\n",
       "      <td>3.43</td>\n",
       "      <td>0</td>\n",
       "      <td>False</td>\n",
       "    </tr>\n",
       "    <tr>\n",
       "      <th>1114</th>\n",
       "      <td>TN</td>\n",
       "      <td>108</td>\n",
       "      <td>408</td>\n",
       "      <td>352-1127</td>\n",
       "      <td>no</td>\n",
       "      <td>yes</td>\n",
       "      <td>15</td>\n",
       "      <td>165.1</td>\n",
       "      <td>85</td>\n",
       "      <td>28.07</td>\n",
       "      <td>...</td>\n",
       "      <td>93</td>\n",
       "      <td>22.70</td>\n",
       "      <td>250.7</td>\n",
       "      <td>114</td>\n",
       "      <td>11.28</td>\n",
       "      <td>10.9</td>\n",
       "      <td>4</td>\n",
       "      <td>2.94</td>\n",
       "      <td>1</td>\n",
       "      <td>False</td>\n",
       "    </tr>\n",
       "    <tr>\n",
       "      <th>517</th>\n",
       "      <td>OK</td>\n",
       "      <td>52</td>\n",
       "      <td>408</td>\n",
       "      <td>389-4780</td>\n",
       "      <td>no</td>\n",
       "      <td>no</td>\n",
       "      <td>0</td>\n",
       "      <td>214.7</td>\n",
       "      <td>68</td>\n",
       "      <td>36.50</td>\n",
       "      <td>...</td>\n",
       "      <td>138</td>\n",
       "      <td>13.48</td>\n",
       "      <td>123.4</td>\n",
       "      <td>114</td>\n",
       "      <td>5.55</td>\n",
       "      <td>9.4</td>\n",
       "      <td>4</td>\n",
       "      <td>2.54</td>\n",
       "      <td>2</td>\n",
       "      <td>False</td>\n",
       "    </tr>\n",
       "  </tbody>\n",
       "</table>\n",
       "<p>5 rows × 21 columns</p>\n",
       "</div>"
      ],
      "text/plain": [
       "     state  account length  area code phone number international plan  \\\n",
       "2360    IN              68        415     386-9724                 no   \n",
       "600     MI             102        510     336-4656                 no   \n",
       "1501    AZ              72        510     407-9830                 no   \n",
       "1114    TN             108        408     352-1127                 no   \n",
       "517     OK              52        408     389-4780                 no   \n",
       "\n",
       "     voice mail plan  number vmail messages  total day minutes  \\\n",
       "2360              no                      0              222.1   \n",
       "600               no                      0              102.6   \n",
       "1501              no                      0              272.4   \n",
       "1114             yes                     15              165.1   \n",
       "517               no                      0              214.7   \n",
       "\n",
       "      total day calls  total day charge  ...  total eve calls  \\\n",
       "2360              107             37.76  ...              102   \n",
       "600                89             17.44  ...               77   \n",
       "1501               88             46.31  ...              125   \n",
       "1114               85             28.07  ...               93   \n",
       "517                68             36.50  ...              138   \n",
       "\n",
       "      total eve charge  total night minutes  total night calls  \\\n",
       "2360             16.95                162.4                107   \n",
       "600              20.91                170.5                140   \n",
       "1501              9.17                185.5                 81   \n",
       "1114             22.70                250.7                114   \n",
       "517              13.48                123.4                114   \n",
       "\n",
       "      total night charge  total intl minutes  total intl calls  \\\n",
       "2360                7.31                 9.4                 3   \n",
       "600                 7.67                 9.1                 4   \n",
       "1501                8.35                12.7                 2   \n",
       "1114               11.28                10.9                 4   \n",
       "517                 5.55                 9.4                 4   \n",
       "\n",
       "      total intl charge  customer service calls  churn  \n",
       "2360               2.54                       2  False  \n",
       "600                2.46                       2  False  \n",
       "1501               3.43                       0  False  \n",
       "1114               2.94                       1  False  \n",
       "517                2.54                       2  False  \n",
       "\n",
       "[5 rows x 21 columns]"
      ]
     },
     "execution_count": 26,
     "metadata": {},
     "output_type": "execute_result"
    }
   ],
   "source": [
    "# Bring in validation set to test\n",
    "df_validation = pd.read_csv('/Users/jordanrjohnson/DataScienceCourseMaterial/phase_3/dsc-phase-3-project/Data/validation_set.csv', index_col=0)\n",
    "df_validation.head()"
   ]
  },
  {
   "cell_type": "code",
   "execution_count": 27,
   "metadata": {},
   "outputs": [],
   "source": [
    "df_valid_transformed = build_features(df_validation)\n",
    "X_valid = df_valid_transformed.drop(columns='churn')\n",
    "y_valid = df_valid_transformed['churn']"
   ]
  },
  {
   "cell_type": "code",
   "execution_count": 28,
   "metadata": {
    "scrolled": true
   },
   "outputs": [
    {
     "data": {
      "text/plain": [
       "0.9281437125748503"
      ]
     },
     "execution_count": 28,
     "metadata": {},
     "output_type": "execute_result"
    }
   ],
   "source": [
    "pipeline.score(X_valid, y_valid)"
   ]
  },
  {
   "cell_type": "code",
   "execution_count": 29,
   "metadata": {},
   "outputs": [],
   "source": [
    "y_preds = pipeline.predict(X_valid)"
   ]
  },
  {
   "cell_type": "code",
   "execution_count": 31,
   "metadata": {},
   "outputs": [
    {
     "name": "stdout",
     "output_type": "stream",
     "text": [
      "0.7547169811320755\n",
      "Confusion Matrix for Model Before Tuning\n"
     ]
    },
    {
     "data": {
      "image/png": "[encoded data removed]",
      "text/plain": [
       "<Figure size 720x504 with 2 Axes>"
      ]
     },
     "metadata": {
      "needs_background": "light"
     },
     "output_type": "display_data"
    }
   ],
   "source": [
    "print(recall_score(y_valid, y_preds))\n",
    "print('Confusion Matrix for Model Before Tuning')\n",
    "plot_conf_matrix(y_valid, y_preds)"
   ]
  },
  {
   "cell_type": "markdown",
   "metadata": {},
   "source": [
    "## Model Tuning & GridSearch"
   ]
  },
  {
   "cell_type": "code",
   "execution_count": 198,
   "metadata": {},
   "outputs": [],
   "source": [
    "param_grid = {\n",
    "            \"ColumnTransformer__columns\": [['account length', 'international plan', 'voice mail plan',\n",
    "                                           'number vmail messages', 'total day minutes', 'total day calls',\n",
    "                                           'total day charge', 'total eve minutes', 'total eve calls',\n",
    "                                           'total eve charge', 'total night minutes', 'total night calls',\n",
    "                                           'total night charge', 'total intl minutes', 'total intl calls',\n",
    "                                           'total intl charge', 'customer service calls'],\n",
    "                                          ['account length', 'international plan', 'voice mail plan',\n",
    "                                           'number vmail messages', 'total day minutes', 'total day calls',\n",
    "                                           'total day charge', 'total eve minutes', 'total eve calls',\n",
    "                                           'total eve charge', 'total night minutes', 'total night calls',\n",
    "                                           'total night charge', 'total intl minutes', 'total intl calls',\n",
    "                                           'total intl charge', 'customer service calls', 'total charge', \n",
    "                                           'total minutes', 'total calls', 'avg minutes per domestic call',\n",
    "                                           'competition']],\n",
    "        \"SMOTE__sampling_strategy\": [1],\n",
    "        \"GradientBooster__loss\": ['deviance', 'exponential'],\n",
    "        \"GradientBooster__n_estimators\": [100, 150],\n",
    "        \"GradientBooster__max_depth\": [3, 5],\n",
    "        \"GradientBooster__max_features\": ['auto', 8, None]\n",
    "}"
   ]
  },
  {
   "cell_type": "code",
   "execution_count": 199,
   "metadata": {
    "collapsed": true
   },
   "outputs": [
    {
     "name": "stdout",
     "output_type": "stream",
     "text": [
      "Fitting 5 folds for each of 48 candidates, totalling 240 fits\n",
      "[CV] ColumnTransformer__columns=['account length', 'international plan', 'voice mail plan', 'number vmail messages', 'total day minutes', 'total day calls', 'total day charge', 'total eve minutes', 'total eve calls', 'total eve charge', 'total night minutes', 'total night calls', 'total night charge', 'total intl minutes', 'total intl calls', 'total intl charge', 'customer service calls'], GradientBooster__loss=deviance, GradientBooster__max_depth=3, GradientBooster__max_features=auto, GradientBooster__n_estimators=100, SMOTE__sampling_strategy=1 \n"
     ]
    },
    {
     "name": "stderr",
     "output_type": "stream",
     "text": [
      "[Parallel(n_jobs=1)]: Using backend SequentialBackend with 1 concurrent workers.\n"
     ]
    },
    {
     "name": "stdout",
     "output_type": "stream",
     "text": [
      "[CV]  ColumnTransformer__columns=['account length', 'international plan', 'voice mail plan', 'number vmail messages', 'total day minutes', 'total day calls', 'total day charge', 'total eve minutes', 'total eve calls', 'total eve charge', 'total night minutes', 'total night calls', 'total night charge', 'total intl minutes', 'total intl calls', 'total intl charge', 'customer service calls'], GradientBooster__loss=deviance, GradientBooster__max_depth=3, GradientBooster__max_features=auto, GradientBooster__n_estimators=100, SMOTE__sampling_strategy=1, total=   1.6s\n",
      "[CV] ColumnTransformer__columns=['account length', 'international plan', 'voice mail plan', 'number vmail messages', 'total day minutes', 'total day calls', 'total day charge', 'total eve minutes', 'total eve calls', 'total eve charge', 'total night minutes', 'total night calls', 'total night charge', 'total intl minutes', 'total intl calls', 'total intl charge', 'customer service calls'], GradientBooster__loss=deviance, GradientBooster__max_depth=3, GradientBooster__max_features=auto, GradientBooster__n_estimators=100, SMOTE__sampling_strategy=1 \n"
     ]
    },
    {
     "name": "stderr",
     "output_type": "stream",
     "text": [
      "[Parallel(n_jobs=1)]: Done   1 out of   1 | elapsed:    1.6s remaining:    0.0s\n"
     ]
    },
    {
     "name": "stdout",
     "output_type": "stream",
     "text": [
      "[CV]  ColumnTransformer__columns=['account length', 'international plan', 'voice mail plan', 'number vmail messages', 'total day minutes', 'total day calls', 'total day charge', 'total eve minutes', 'total eve calls', 'total eve charge', 'total night minutes', 'total night calls', 'total night charge', 'total intl minutes', 'total intl calls', 'total intl charge', 'customer service calls'], GradientBooster__loss=deviance, GradientBooster__max_depth=3, GradientBooster__max_features=auto, GradientBooster__n_estimators=100, SMOTE__sampling_strategy=1, total=   1.7s\n",
      "[CV] ColumnTransformer__columns=['account length', 'international plan', 'voice mail plan', 'number vmail messages', 'total day minutes', 'total day calls', 'total day charge', 'total eve minutes', 'total eve calls', 'total eve charge', 'total night minutes', 'total night calls', 'total night charge', 'total intl minutes', 'total intl calls', 'total intl charge', 'customer service calls'], GradientBooster__loss=deviance, GradientBooster__max_depth=3, GradientBooster__max_features=auto, GradientBooster__n_estimators=100, SMOTE__sampling_strategy=1 \n",
      "[CV]  ColumnTransformer__columns=['account length', 'international plan', 'voice mail plan', 'number vmail messages', 'total day minutes', 'total day calls', 'total day charge', 'total eve minutes', 'total eve calls', 'total eve charge', 'total night minutes', 'total night calls', 'total night charge', 'total intl minutes', 'total intl calls', 'total intl charge', 'customer service calls'], GradientBooster__loss=deviance, GradientBooster__max_depth=3, GradientBooster__max_features=auto, GradientBooster__n_estimators=100, SMOTE__sampling_strategy=1, total=   1.6s\n",
      "[CV] ColumnTransformer__columns=['account length', 'international plan', 'voice mail plan', 'number vmail messages', 'total day minutes', 'total day calls', 'total day charge', 'total eve minutes', 'total eve calls', 'total eve charge', 'total night minutes', 'total night calls', 'total night charge', 'total intl minutes', 'total intl calls', 'total intl charge', 'customer service calls'], GradientBooster__loss=deviance, GradientBooster__max_depth=3, GradientBooster__max_features=auto, GradientBooster__n_estimators=100, SMOTE__sampling_strategy=1 \n",
      "[CV]  ColumnTransformer__columns=['account length', 'international plan', 'voice mail plan', 'number vmail messages', 'total day minutes', 'total day calls', 'total day charge', 'total eve minutes', 'total eve calls', 'total eve charge', 'total night minutes', 'total night calls', 'total night charge', 'total intl minutes', 'total intl calls', 'total intl charge', 'customer service calls'], GradientBooster__loss=deviance, GradientBooster__max_depth=3, GradientBooster__max_features=auto, GradientBooster__n_estimators=100, SMOTE__sampling_strategy=1, total=   2.0s\n",
      "[CV] ColumnTransformer__columns=['account length', 'international plan', 'voice mail plan', 'number vmail messages', 'total day minutes', 'total day calls', 'total day charge', 'total eve minutes', 'total eve calls', 'total eve charge', 'total night minutes', 'total night calls', 'total night charge', 'total intl minutes', 'total intl calls', 'total intl charge', 'customer service calls'], GradientBooster__loss=deviance, GradientBooster__max_depth=3, GradientBooster__max_features=auto, GradientBooster__n_estimators=100, SMOTE__sampling_strategy=1 \n",
      "[CV]  ColumnTransformer__columns=['account length', 'international plan', 'voice mail plan', 'number vmail messages', 'total day minutes', 'total day calls', 'total day charge', 'total eve minutes', 'total eve calls', 'total eve charge', 'total night minutes', 'total night calls', 'total night charge', 'total intl minutes', 'total intl calls', 'total intl charge', 'customer service calls'], GradientBooster__loss=deviance, GradientBooster__max_depth=3, GradientBooster__max_features=auto, GradientBooster__n_estimators=100, SMOTE__sampling_strategy=1, total=   1.8s\n",
      "[CV] ColumnTransformer__columns=['account length', 'international plan', 'voice mail plan', 'number vmail messages', 'total day minutes', 'total day calls', 'total day charge', 'total eve minutes', 'total eve calls', 'total eve charge', 'total night minutes', 'total night calls', 'total night charge', 'total intl minutes', 'total intl calls', 'total intl charge', 'customer service calls'], GradientBooster__loss=deviance, GradientBooster__max_depth=3, GradientBooster__max_features=auto, GradientBooster__n_estimators=150, SMOTE__sampling_strategy=1 \n",
      "[CV]  ColumnTransformer__columns=['account length', 'international plan', 'voice mail plan', 'number vmail messages', 'total day minutes', 'total day calls', 'total day charge', 'total eve minutes', 'total eve calls', 'total eve charge', 'total night minutes', 'total night calls', 'total night charge', 'total intl minutes', 'total intl calls', 'total intl charge', 'customer service calls'], GradientBooster__loss=deviance, GradientBooster__max_depth=3, GradientBooster__max_features=auto, GradientBooster__n_estimators=150, SMOTE__sampling_strategy=1, total=   2.5s\n",
      "[CV] ColumnTransformer__columns=['account length', 'international plan', 'voice mail plan', 'number vmail messages', 'total day minutes', 'total day calls', 'total day charge', 'total eve minutes', 'total eve calls', 'total eve charge', 'total night minutes', 'total night calls', 'total night charge', 'total intl minutes', 'total intl calls', 'total intl charge', 'customer service calls'], GradientBooster__loss=deviance, GradientBooster__max_depth=3, GradientBooster__max_features=auto, GradientBooster__n_estimators=150, SMOTE__sampling_strategy=1 \n",
      "[CV]  ColumnTransformer__columns=['account length', 'international plan', 'voice mail plan', 'number vmail messages', 'total day minutes', 'total day calls', 'total day charge', 'total eve minutes', 'total eve calls', 'total eve charge', 'total night minutes', 'total night calls', 'total night charge', 'total intl minutes', 'total intl calls', 'total intl charge', 'customer service calls'], GradientBooster__loss=deviance, GradientBooster__max_depth=3, GradientBooster__max_features=auto, GradientBooster__n_estimators=150, SMOTE__sampling_strategy=1, total=   3.0s\n",
      "[CV] ColumnTransformer__columns=['account length', 'international plan', 'voice mail plan', 'number vmail messages', 'total day minutes', 'total day calls', 'total day charge', 'total eve minutes', 'total eve calls', 'total eve charge', 'total night minutes', 'total night calls', 'total night charge', 'total intl minutes', 'total intl calls', 'total intl charge', 'customer service calls'], GradientBooster__loss=deviance, GradientBooster__max_depth=3, GradientBooster__max_features=auto, GradientBooster__n_estimators=150, SMOTE__sampling_strategy=1 \n",
      "[CV]  ColumnTransformer__columns=['account length', 'international plan', 'voice mail plan', 'number vmail messages', 'total day minutes', 'total day calls', 'total day charge', 'total eve minutes', 'total eve calls', 'total eve charge', 'total night minutes', 'total night calls', 'total night charge', 'total intl minutes', 'total intl calls', 'total intl charge', 'customer service calls'], GradientBooster__loss=deviance, GradientBooster__max_depth=3, GradientBooster__max_features=auto, GradientBooster__n_estimators=150, SMOTE__sampling_strategy=1, total=   2.9s\n",
      "[CV] ColumnTransformer__columns=['account length', 'international plan', 'voice mail plan', 'number vmail messages', 'total day minutes', 'total day calls', 'total day charge', 'total eve minutes', 'total eve calls', 'total eve charge', 'total night minutes', 'total night calls', 'total night charge', 'total intl minutes', 'total intl calls', 'total intl charge', 'customer service calls'], GradientBooster__loss=deviance, GradientBooster__max_depth=3, GradientBooster__max_features=auto, GradientBooster__n_estimators=150, SMOTE__sampling_strategy=1 \n",
      "[CV]  ColumnTransformer__columns=['account length', 'international plan', 'voice mail plan', 'number vmail messages', 'total day minutes', 'total day calls', 'total day charge', 'total eve minutes', 'total eve calls', 'total eve charge', 'total night minutes', 'total night calls', 'total night charge', 'total intl minutes', 'total intl calls', 'total intl charge', 'customer service calls'], GradientBooster__loss=deviance, GradientBooster__max_depth=3, GradientBooster__max_features=auto, GradientBooster__n_estimators=150, SMOTE__sampling_strategy=1, total=   2.9s\n",
      "[CV] ColumnTransformer__columns=['account length', 'international plan', 'voice mail plan', 'number vmail messages', 'total day minutes', 'total day calls', 'total day charge', 'total eve minutes', 'total eve calls', 'total eve charge', 'total night minutes', 'total night calls', 'total night charge', 'total intl minutes', 'total intl calls', 'total intl charge', 'customer service calls'], GradientBooster__loss=deviance, GradientBooster__max_depth=3, GradientBooster__max_features=auto, GradientBooster__n_estimators=150, SMOTE__sampling_strategy=1 \n"
     ]
    },
    {
     "name": "stdout",
     "output_type": "stream",
     "text": [
      "[CV]  ColumnTransformer__columns=['account length', 'international plan', 'voice mail plan', 'number vmail messages', 'total day minutes', 'total day calls', 'total day charge', 'total eve minutes', 'total eve calls', 'total eve charge', 'total night minutes', 'total night calls', 'total night charge', 'total intl minutes', 'total intl calls', 'total intl charge', 'customer service calls'], GradientBooster__loss=deviance, GradientBooster__max_depth=3, GradientBooster__max_features=auto, GradientBooster__n_estimators=150, SMOTE__sampling_strategy=1, total=   2.6s\n",
      "[CV] ColumnTransformer__columns=['account length', 'international plan', 'voice mail plan', 'number vmail messages', 'total day minutes', 'total day calls', 'total day charge', 'total eve minutes', 'total eve calls', 'total eve charge', 'total night minutes', 'total night calls', 'total night charge', 'total intl minutes', 'total intl calls', 'total intl charge', 'customer service calls'], GradientBooster__loss=deviance, GradientBooster__max_depth=3, GradientBooster__max_features=8, GradientBooster__n_estimators=100, SMOTE__sampling_strategy=1 \n",
      "[CV]  ColumnTransformer__columns=['account length', 'international plan', 'voice mail plan', 'number vmail messages', 'total day minutes', 'total day calls', 'total day charge', 'total eve minutes', 'total eve calls', 'total eve charge', 'total night minutes', 'total night calls', 'total night charge', 'total intl minutes', 'total intl calls', 'total intl charge', 'customer service calls'], GradientBooster__loss=deviance, GradientBooster__max_depth=3, GradientBooster__max_features=8, GradientBooster__n_estimators=100, SMOTE__sampling_strategy=1, total=   1.0s\n",
      "[CV] ColumnTransformer__columns=['account length', 'international plan', 'voice mail plan', 'number vmail messages', 'total day minutes', 'total day calls', 'total day charge', 'total eve minutes', 'total eve calls', 'total eve charge', 'total night minutes', 'total night calls', 'total night charge', 'total intl minutes', 'total intl calls', 'total intl charge', 'customer service calls'], GradientBooster__loss=deviance, GradientBooster__max_depth=3, GradientBooster__max_features=8, GradientBooster__n_estimators=100, SMOTE__sampling_strategy=1 \n",
      "[CV]  ColumnTransformer__columns=['account length', 'international plan', 'voice mail plan', 'number vmail messages', 'total day minutes', 'total day calls', 'total day charge', 'total eve minutes', 'total eve calls', 'total eve charge', 'total night minutes', 'total night calls', 'total night charge', 'total intl minutes', 'total intl calls', 'total intl charge', 'customer service calls'], GradientBooster__loss=deviance, GradientBooster__max_depth=3, GradientBooster__max_features=8, GradientBooster__n_estimators=100, SMOTE__sampling_strategy=1, total=   0.9s\n",
      "[CV] ColumnTransformer__columns=['account length', 'international plan', 'voice mail plan', 'number vmail messages', 'total day minutes', 'total day calls', 'total day charge', 'total eve minutes', 'total eve calls', 'total eve charge', 'total night minutes', 'total night calls', 'total night charge', 'total intl minutes', 'total intl calls', 'total intl charge', 'customer service calls'], GradientBooster__loss=deviance, GradientBooster__max_depth=3, GradientBooster__max_features=8, GradientBooster__n_estimators=100, SMOTE__sampling_strategy=1 \n",
      "[CV]  ColumnTransformer__columns=['account length', 'international plan', 'voice mail plan', 'number vmail messages', 'total day minutes', 'total day calls', 'total day charge', 'total eve minutes', 'total eve calls', 'total eve charge', 'total night minutes', 'total night calls', 'total night charge', 'total intl minutes', 'total intl calls', 'total intl charge', 'customer service calls'], GradientBooster__loss=deviance, GradientBooster__max_depth=3, GradientBooster__max_features=8, GradientBooster__n_estimators=100, SMOTE__sampling_strategy=1, total=   0.9s\n",
      "[CV] ColumnTransformer__columns=['account length', 'international plan', 'voice mail plan', 'number vmail messages', 'total day minutes', 'total day calls', 'total day charge', 'total eve minutes', 'total eve calls', 'total eve charge', 'total night minutes', 'total night calls', 'total night charge', 'total intl minutes', 'total intl calls', 'total intl charge', 'customer service calls'], GradientBooster__loss=deviance, GradientBooster__max_depth=3, GradientBooster__max_features=8, GradientBooster__n_estimators=100, SMOTE__sampling_strategy=1 \n",
      "[CV]  ColumnTransformer__columns=['account length', 'international plan', 'voice mail plan', 'number vmail messages', 'total day minutes', 'total day calls', 'total day charge', 'total eve minutes', 'total eve calls', 'total eve charge', 'total night minutes', 'total night calls', 'total night charge', 'total intl minutes', 'total intl calls', 'total intl charge', 'customer service calls'], GradientBooster__loss=deviance, GradientBooster__max_depth=3, GradientBooster__max_features=8, GradientBooster__n_estimators=100, SMOTE__sampling_strategy=1, total=   0.9s\n",
      "[CV] ColumnTransformer__columns=['account length', 'international plan', 'voice mail plan', 'number vmail messages', 'total day minutes', 'total day calls', 'total day charge', 'total eve minutes', 'total eve calls', 'total eve charge', 'total night minutes', 'total night calls', 'total night charge', 'total intl minutes', 'total intl calls', 'total intl charge', 'customer service calls'], GradientBooster__loss=deviance, GradientBooster__max_depth=3, GradientBooster__max_features=8, GradientBooster__n_estimators=100, SMOTE__sampling_strategy=1 \n",
      "[CV]  ColumnTransformer__columns=['account length', 'international plan', 'voice mail plan', 'number vmail messages', 'total day minutes', 'total day calls', 'total day charge', 'total eve minutes', 'total eve calls', 'total eve charge', 'total night minutes', 'total night calls', 'total night charge', 'total intl minutes', 'total intl calls', 'total intl charge', 'customer service calls'], GradientBooster__loss=deviance, GradientBooster__max_depth=3, GradientBooster__max_features=8, GradientBooster__n_estimators=100, SMOTE__sampling_strategy=1, total=   0.9s\n",
      "[CV] ColumnTransformer__columns=['account length', 'international plan', 'voice mail plan', 'number vmail messages', 'total day minutes', 'total day calls', 'total day charge', 'total eve minutes', 'total eve calls', 'total eve charge', 'total night minutes', 'total night calls', 'total night charge', 'total intl minutes', 'total intl calls', 'total intl charge', 'customer service calls'], GradientBooster__loss=deviance, GradientBooster__max_depth=3, GradientBooster__max_features=8, GradientBooster__n_estimators=150, SMOTE__sampling_strategy=1 \n",
      "[CV]  ColumnTransformer__columns=['account length', 'international plan', 'voice mail plan', 'number vmail messages', 'total day minutes', 'total day calls', 'total day charge', 'total eve minutes', 'total eve calls', 'total eve charge', 'total night minutes', 'total night calls', 'total night charge', 'total intl minutes', 'total intl calls', 'total intl charge', 'customer service calls'], GradientBooster__loss=deviance, GradientBooster__max_depth=3, GradientBooster__max_features=8, GradientBooster__n_estimators=150, SMOTE__sampling_strategy=1, total=   1.3s\n",
      "[CV] ColumnTransformer__columns=['account length', 'international plan', 'voice mail plan', 'number vmail messages', 'total day minutes', 'total day calls', 'total day charge', 'total eve minutes', 'total eve calls', 'total eve charge', 'total night minutes', 'total night calls', 'total night charge', 'total intl minutes', 'total intl calls', 'total intl charge', 'customer service calls'], GradientBooster__loss=deviance, GradientBooster__max_depth=3, GradientBooster__max_features=8, GradientBooster__n_estimators=150, SMOTE__sampling_strategy=1 \n",
      "[CV]  ColumnTransformer__columns=['account length', 'international plan', 'voice mail plan', 'number vmail messages', 'total day minutes', 'total day calls', 'total day charge', 'total eve minutes', 'total eve calls', 'total eve charge', 'total night minutes', 'total night calls', 'total night charge', 'total intl minutes', 'total intl calls', 'total intl charge', 'customer service calls'], GradientBooster__loss=deviance, GradientBooster__max_depth=3, GradientBooster__max_features=8, GradientBooster__n_estimators=150, SMOTE__sampling_strategy=1, total=   1.3s\n",
      "[CV] ColumnTransformer__columns=['account length', 'international plan', 'voice mail plan', 'number vmail messages', 'total day minutes', 'total day calls', 'total day charge', 'total eve minutes', 'total eve calls', 'total eve charge', 'total night minutes', 'total night calls', 'total night charge', 'total intl minutes', 'total intl calls', 'total intl charge', 'customer service calls'], GradientBooster__loss=deviance, GradientBooster__max_depth=3, GradientBooster__max_features=8, GradientBooster__n_estimators=150, SMOTE__sampling_strategy=1 \n"
     ]
    },
    {
     "name": "stdout",
     "output_type": "stream",
     "text": [
      "[CV]  ColumnTransformer__columns=['account length', 'international plan', 'voice mail plan', 'number vmail messages', 'total day minutes', 'total day calls', 'total day charge', 'total eve minutes', 'total eve calls', 'total eve charge', 'total night minutes', 'total night calls', 'total night charge', 'total intl minutes', 'total intl calls', 'total intl charge', 'customer service calls'], GradientBooster__loss=deviance, GradientBooster__max_depth=3, GradientBooster__max_features=8, GradientBooster__n_estimators=150, SMOTE__sampling_strategy=1, total=   1.4s\n",
      "[CV] ColumnTransformer__columns=['account length', 'international plan', 'voice mail plan', 'number vmail messages', 'total day minutes', 'total day calls', 'total day charge', 'total eve minutes', 'total eve calls', 'total eve charge', 'total night minutes', 'total night calls', 'total night charge', 'total intl minutes', 'total intl calls', 'total intl charge', 'customer service calls'], GradientBooster__loss=deviance, GradientBooster__max_depth=3, GradientBooster__max_features=8, GradientBooster__n_estimators=150, SMOTE__sampling_strategy=1 \n",
      "[CV]  ColumnTransformer__columns=['account length', 'international plan', 'voice mail plan', 'number vmail messages', 'total day minutes', 'total day calls', 'total day charge', 'total eve minutes', 'total eve calls', 'total eve charge', 'total night minutes', 'total night calls', 'total night charge', 'total intl minutes', 'total intl calls', 'total intl charge', 'customer service calls'], GradientBooster__loss=deviance, GradientBooster__max_depth=3, GradientBooster__max_features=8, GradientBooster__n_estimators=150, SMOTE__sampling_strategy=1, total=   1.4s\n",
      "[CV] ColumnTransformer__columns=['account length', 'international plan', 'voice mail plan', 'number vmail messages', 'total day minutes', 'total day calls', 'total day charge', 'total eve minutes', 'total eve calls', 'total eve charge', 'total night minutes', 'total night calls', 'total night charge', 'total intl minutes', 'total intl calls', 'total intl charge', 'customer service calls'], GradientBooster__loss=deviance, GradientBooster__max_depth=3, GradientBooster__max_features=8, GradientBooster__n_estimators=150, SMOTE__sampling_strategy=1 \n",
      "[CV]  ColumnTransformer__columns=['account length', 'international plan', 'voice mail plan', 'number vmail messages', 'total day minutes', 'total day calls', 'total day charge', 'total eve minutes', 'total eve calls', 'total eve charge', 'total night minutes', 'total night calls', 'total night charge', 'total intl minutes', 'total intl calls', 'total intl charge', 'customer service calls'], GradientBooster__loss=deviance, GradientBooster__max_depth=3, GradientBooster__max_features=8, GradientBooster__n_estimators=150, SMOTE__sampling_strategy=1, total=   1.2s\n",
      "[CV] ColumnTransformer__columns=['account length', 'international plan', 'voice mail plan', 'number vmail messages', 'total day minutes', 'total day calls', 'total day charge', 'total eve minutes', 'total eve calls', 'total eve charge', 'total night minutes', 'total night calls', 'total night charge', 'total intl minutes', 'total intl calls', 'total intl charge', 'customer service calls'], GradientBooster__loss=deviance, GradientBooster__max_depth=3, GradientBooster__max_features=None, GradientBooster__n_estimators=100, SMOTE__sampling_strategy=1 \n",
      "[CV]  ColumnTransformer__columns=['account length', 'international plan', 'voice mail plan', 'number vmail messages', 'total day minutes', 'total day calls', 'total day charge', 'total eve minutes', 'total eve calls', 'total eve charge', 'total night minutes', 'total night calls', 'total night charge', 'total intl minutes', 'total intl calls', 'total intl charge', 'customer service calls'], GradientBooster__loss=deviance, GradientBooster__max_depth=3, GradientBooster__max_features=None, GradientBooster__n_estimators=100, SMOTE__sampling_strategy=1, total=   1.6s\n",
      "[CV] ColumnTransformer__columns=['account length', 'international plan', 'voice mail plan', 'number vmail messages', 'total day minutes', 'total day calls', 'total day charge', 'total eve minutes', 'total eve calls', 'total eve charge', 'total night minutes', 'total night calls', 'total night charge', 'total intl minutes', 'total intl calls', 'total intl charge', 'customer service calls'], GradientBooster__loss=deviance, GradientBooster__max_depth=3, GradientBooster__max_features=None, GradientBooster__n_estimators=100, SMOTE__sampling_strategy=1 \n",
      "[CV]  ColumnTransformer__columns=['account length', 'international plan', 'voice mail plan', 'number vmail messages', 'total day minutes', 'total day calls', 'total day charge', 'total eve minutes', 'total eve calls', 'total eve charge', 'total night minutes', 'total night calls', 'total night charge', 'total intl minutes', 'total intl calls', 'total intl charge', 'customer service calls'], GradientBooster__loss=deviance, GradientBooster__max_depth=3, GradientBooster__max_features=None, GradientBooster__n_estimators=100, SMOTE__sampling_strategy=1, total=   1.6s\n",
      "[CV] ColumnTransformer__columns=['account length', 'international plan', 'voice mail plan', 'number vmail messages', 'total day minutes', 'total day calls', 'total day charge', 'total eve minutes', 'total eve calls', 'total eve charge', 'total night minutes', 'total night calls', 'total night charge', 'total intl minutes', 'total intl calls', 'total intl charge', 'customer service calls'], GradientBooster__loss=deviance, GradientBooster__max_depth=3, GradientBooster__max_features=None, GradientBooster__n_estimators=100, SMOTE__sampling_strategy=1 \n",
      "[CV]  ColumnTransformer__columns=['account length', 'international plan', 'voice mail plan', 'number vmail messages', 'total day minutes', 'total day calls', 'total day charge', 'total eve minutes', 'total eve calls', 'total eve charge', 'total night minutes', 'total night calls', 'total night charge', 'total intl minutes', 'total intl calls', 'total intl charge', 'customer service calls'], GradientBooster__loss=deviance, GradientBooster__max_depth=3, GradientBooster__max_features=None, GradientBooster__n_estimators=100, SMOTE__sampling_strategy=1, total=   1.6s\n",
      "[CV] ColumnTransformer__columns=['account length', 'international plan', 'voice mail plan', 'number vmail messages', 'total day minutes', 'total day calls', 'total day charge', 'total eve minutes', 'total eve calls', 'total eve charge', 'total night minutes', 'total night calls', 'total night charge', 'total intl minutes', 'total intl calls', 'total intl charge', 'customer service calls'], GradientBooster__loss=deviance, GradientBooster__max_depth=3, GradientBooster__max_features=None, GradientBooster__n_estimators=100, SMOTE__sampling_strategy=1 \n",
      "[CV]  ColumnTransformer__columns=['account length', 'international plan', 'voice mail plan', 'number vmail messages', 'total day minutes', 'total day calls', 'total day charge', 'total eve minutes', 'total eve calls', 'total eve charge', 'total night minutes', 'total night calls', 'total night charge', 'total intl minutes', 'total intl calls', 'total intl charge', 'customer service calls'], GradientBooster__loss=deviance, GradientBooster__max_depth=3, GradientBooster__max_features=None, GradientBooster__n_estimators=100, SMOTE__sampling_strategy=1, total=   1.7s\n",
      "[CV] ColumnTransformer__columns=['account length', 'international plan', 'voice mail plan', 'number vmail messages', 'total day minutes', 'total day calls', 'total day charge', 'total eve minutes', 'total eve calls', 'total eve charge', 'total night minutes', 'total night calls', 'total night charge', 'total intl minutes', 'total intl calls', 'total intl charge', 'customer service calls'], GradientBooster__loss=deviance, GradientBooster__max_depth=3, GradientBooster__max_features=None, GradientBooster__n_estimators=100, SMOTE__sampling_strategy=1 \n",
      "[CV]  ColumnTransformer__columns=['account length', 'international plan', 'voice mail plan', 'number vmail messages', 'total day minutes', 'total day calls', 'total day charge', 'total eve minutes', 'total eve calls', 'total eve charge', 'total night minutes', 'total night calls', 'total night charge', 'total intl minutes', 'total intl calls', 'total intl charge', 'customer service calls'], GradientBooster__loss=deviance, GradientBooster__max_depth=3, GradientBooster__max_features=None, GradientBooster__n_estimators=100, SMOTE__sampling_strategy=1, total=   1.6s\n",
      "[CV] ColumnTransformer__columns=['account length', 'international plan', 'voice mail plan', 'number vmail messages', 'total day minutes', 'total day calls', 'total day charge', 'total eve minutes', 'total eve calls', 'total eve charge', 'total night minutes', 'total night calls', 'total night charge', 'total intl minutes', 'total intl calls', 'total intl charge', 'customer service calls'], GradientBooster__loss=deviance, GradientBooster__max_depth=3, GradientBooster__max_features=None, GradientBooster__n_estimators=150, SMOTE__sampling_strategy=1 \n"
     ]
    },
    {
     "name": "stdout",
     "output_type": "stream",
     "text": [
      "[CV]  ColumnTransformer__columns=['account length', 'international plan', 'voice mail plan', 'number vmail messages', 'total day minutes', 'total day calls', 'total day charge', 'total eve minutes', 'total eve calls', 'total eve charge', 'total night minutes', 'total night calls', 'total night charge', 'total intl minutes', 'total intl calls', 'total intl charge', 'customer service calls'], GradientBooster__loss=deviance, GradientBooster__max_depth=3, GradientBooster__max_features=None, GradientBooster__n_estimators=150, SMOTE__sampling_strategy=1, total=   2.5s\n",
      "[CV] ColumnTransformer__columns=['account length', 'international plan', 'voice mail plan', 'number vmail messages', 'total day minutes', 'total day calls', 'total day charge', 'total eve minutes', 'total eve calls', 'total eve charge', 'total night minutes', 'total night calls', 'total night charge', 'total intl minutes', 'total intl calls', 'total intl charge', 'customer service calls'], GradientBooster__loss=deviance, GradientBooster__max_depth=3, GradientBooster__max_features=None, GradientBooster__n_estimators=150, SMOTE__sampling_strategy=1 \n",
      "[CV]  ColumnTransformer__columns=['account length', 'international plan', 'voice mail plan', 'number vmail messages', 'total day minutes', 'total day calls', 'total day charge', 'total eve minutes', 'total eve calls', 'total eve charge', 'total night minutes', 'total night calls', 'total night charge', 'total intl minutes', 'total intl calls', 'total intl charge', 'customer service calls'], GradientBooster__loss=deviance, GradientBooster__max_depth=3, GradientBooster__max_features=None, GradientBooster__n_estimators=150, SMOTE__sampling_strategy=1, total=   2.6s\n",
      "[CV] ColumnTransformer__columns=['account length', 'international plan', 'voice mail plan', 'number vmail messages', 'total day minutes', 'total day calls', 'total day charge', 'total eve minutes', 'total eve calls', 'total eve charge', 'total night minutes', 'total night calls', 'total night charge', 'total intl minutes', 'total intl calls', 'total intl charge', 'customer service calls'], GradientBooster__loss=deviance, GradientBooster__max_depth=3, GradientBooster__max_features=None, GradientBooster__n_estimators=150, SMOTE__sampling_strategy=1 \n",
      "[CV]  ColumnTransformer__columns=['account length', 'international plan', 'voice mail plan', 'number vmail messages', 'total day minutes', 'total day calls', 'total day charge', 'total eve minutes', 'total eve calls', 'total eve charge', 'total night minutes', 'total night calls', 'total night charge', 'total intl minutes', 'total intl calls', 'total intl charge', 'customer service calls'], GradientBooster__loss=deviance, GradientBooster__max_depth=3, GradientBooster__max_features=None, GradientBooster__n_estimators=150, SMOTE__sampling_strategy=1, total=   2.5s\n",
      "[CV] ColumnTransformer__columns=['account length', 'international plan', 'voice mail plan', 'number vmail messages', 'total day minutes', 'total day calls', 'total day charge', 'total eve minutes', 'total eve calls', 'total eve charge', 'total night minutes', 'total night calls', 'total night charge', 'total intl minutes', 'total intl calls', 'total intl charge', 'customer service calls'], GradientBooster__loss=deviance, GradientBooster__max_depth=3, GradientBooster__max_features=None, GradientBooster__n_estimators=150, SMOTE__sampling_strategy=1 \n",
      "[CV]  ColumnTransformer__columns=['account length', 'international plan', 'voice mail plan', 'number vmail messages', 'total day minutes', 'total day calls', 'total day charge', 'total eve minutes', 'total eve calls', 'total eve charge', 'total night minutes', 'total night calls', 'total night charge', 'total intl minutes', 'total intl calls', 'total intl charge', 'customer service calls'], GradientBooster__loss=deviance, GradientBooster__max_depth=3, GradientBooster__max_features=None, GradientBooster__n_estimators=150, SMOTE__sampling_strategy=1, total=   2.4s\n",
      "[CV] ColumnTransformer__columns=['account length', 'international plan', 'voice mail plan', 'number vmail messages', 'total day minutes', 'total day calls', 'total day charge', 'total eve minutes', 'total eve calls', 'total eve charge', 'total night minutes', 'total night calls', 'total night charge', 'total intl minutes', 'total intl calls', 'total intl charge', 'customer service calls'], GradientBooster__loss=deviance, GradientBooster__max_depth=3, GradientBooster__max_features=None, GradientBooster__n_estimators=150, SMOTE__sampling_strategy=1 \n",
      "[CV]  ColumnTransformer__columns=['account length', 'international plan', 'voice mail plan', 'number vmail messages', 'total day minutes', 'total day calls', 'total day charge', 'total eve minutes', 'total eve calls', 'total eve charge', 'total night minutes', 'total night calls', 'total night charge', 'total intl minutes', 'total intl calls', 'total intl charge', 'customer service calls'], GradientBooster__loss=deviance, GradientBooster__max_depth=3, GradientBooster__max_features=None, GradientBooster__n_estimators=150, SMOTE__sampling_strategy=1, total=   2.3s\n",
      "[CV] ColumnTransformer__columns=['account length', 'international plan', 'voice mail plan', 'number vmail messages', 'total day minutes', 'total day calls', 'total day charge', 'total eve minutes', 'total eve calls', 'total eve charge', 'total night minutes', 'total night calls', 'total night charge', 'total intl minutes', 'total intl calls', 'total intl charge', 'customer service calls'], GradientBooster__loss=deviance, GradientBooster__max_depth=5, GradientBooster__max_features=auto, GradientBooster__n_estimators=100, SMOTE__sampling_strategy=1 \n",
      "[CV]  ColumnTransformer__columns=['account length', 'international plan', 'voice mail plan', 'number vmail messages', 'total day minutes', 'total day calls', 'total day charge', 'total eve minutes', 'total eve calls', 'total eve charge', 'total night minutes', 'total night calls', 'total night charge', 'total intl minutes', 'total intl calls', 'total intl charge', 'customer service calls'], GradientBooster__loss=deviance, GradientBooster__max_depth=5, GradientBooster__max_features=auto, GradientBooster__n_estimators=100, SMOTE__sampling_strategy=1, total=   2.8s\n",
      "[CV] ColumnTransformer__columns=['account length', 'international plan', 'voice mail plan', 'number vmail messages', 'total day minutes', 'total day calls', 'total day charge', 'total eve minutes', 'total eve calls', 'total eve charge', 'total night minutes', 'total night calls', 'total night charge', 'total intl minutes', 'total intl calls', 'total intl charge', 'customer service calls'], GradientBooster__loss=deviance, GradientBooster__max_depth=5, GradientBooster__max_features=auto, GradientBooster__n_estimators=100, SMOTE__sampling_strategy=1 \n",
      "[CV]  ColumnTransformer__columns=['account length', 'international plan', 'voice mail plan', 'number vmail messages', 'total day minutes', 'total day calls', 'total day charge', 'total eve minutes', 'total eve calls', 'total eve charge', 'total night minutes', 'total night calls', 'total night charge', 'total intl minutes', 'total intl calls', 'total intl charge', 'customer service calls'], GradientBooster__loss=deviance, GradientBooster__max_depth=5, GradientBooster__max_features=auto, GradientBooster__n_estimators=100, SMOTE__sampling_strategy=1, total=   3.2s\n",
      "[CV] ColumnTransformer__columns=['account length', 'international plan', 'voice mail plan', 'number vmail messages', 'total day minutes', 'total day calls', 'total day charge', 'total eve minutes', 'total eve calls', 'total eve charge', 'total night minutes', 'total night calls', 'total night charge', 'total intl minutes', 'total intl calls', 'total intl charge', 'customer service calls'], GradientBooster__loss=deviance, GradientBooster__max_depth=5, GradientBooster__max_features=auto, GradientBooster__n_estimators=100, SMOTE__sampling_strategy=1 \n",
      "[CV]  ColumnTransformer__columns=['account length', 'international plan', 'voice mail plan', 'number vmail messages', 'total day minutes', 'total day calls', 'total day charge', 'total eve minutes', 'total eve calls', 'total eve charge', 'total night minutes', 'total night calls', 'total night charge', 'total intl minutes', 'total intl calls', 'total intl charge', 'customer service calls'], GradientBooster__loss=deviance, GradientBooster__max_depth=5, GradientBooster__max_features=auto, GradientBooster__n_estimators=100, SMOTE__sampling_strategy=1, total=   2.8s\n",
      "[CV] ColumnTransformer__columns=['account length', 'international plan', 'voice mail plan', 'number vmail messages', 'total day minutes', 'total day calls', 'total day charge', 'total eve minutes', 'total eve calls', 'total eve charge', 'total night minutes', 'total night calls', 'total night charge', 'total intl minutes', 'total intl calls', 'total intl charge', 'customer service calls'], GradientBooster__loss=deviance, GradientBooster__max_depth=5, GradientBooster__max_features=auto, GradientBooster__n_estimators=100, SMOTE__sampling_strategy=1 \n"
     ]
    },
    {
     "name": "stdout",
     "output_type": "stream",
     "text": [
      "[CV]  ColumnTransformer__columns=['account length', 'international plan', 'voice mail plan', 'number vmail messages', 'total day minutes', 'total day calls', 'total day charge', 'total eve minutes', 'total eve calls', 'total eve charge', 'total night minutes', 'total night calls', 'total night charge', 'total intl minutes', 'total intl calls', 'total intl charge', 'customer service calls'], GradientBooster__loss=deviance, GradientBooster__max_depth=5, GradientBooster__max_features=auto, GradientBooster__n_estimators=100, SMOTE__sampling_strategy=1, total=   2.8s\n",
      "[CV] ColumnTransformer__columns=['account length', 'international plan', 'voice mail plan', 'number vmail messages', 'total day minutes', 'total day calls', 'total day charge', 'total eve minutes', 'total eve calls', 'total eve charge', 'total night minutes', 'total night calls', 'total night charge', 'total intl minutes', 'total intl calls', 'total intl charge', 'customer service calls'], GradientBooster__loss=deviance, GradientBooster__max_depth=5, GradientBooster__max_features=auto, GradientBooster__n_estimators=100, SMOTE__sampling_strategy=1 \n",
      "[CV]  ColumnTransformer__columns=['account length', 'international plan', 'voice mail plan', 'number vmail messages', 'total day minutes', 'total day calls', 'total day charge', 'total eve minutes', 'total eve calls', 'total eve charge', 'total night minutes', 'total night calls', 'total night charge', 'total intl minutes', 'total intl calls', 'total intl charge', 'customer service calls'], GradientBooster__loss=deviance, GradientBooster__max_depth=5, GradientBooster__max_features=auto, GradientBooster__n_estimators=100, SMOTE__sampling_strategy=1, total=   2.9s\n",
      "[CV] ColumnTransformer__columns=['account length', 'international plan', 'voice mail plan', 'number vmail messages', 'total day minutes', 'total day calls', 'total day charge', 'total eve minutes', 'total eve calls', 'total eve charge', 'total night minutes', 'total night calls', 'total night charge', 'total intl minutes', 'total intl calls', 'total intl charge', 'customer service calls'], GradientBooster__loss=deviance, GradientBooster__max_depth=5, GradientBooster__max_features=auto, GradientBooster__n_estimators=150, SMOTE__sampling_strategy=1 \n",
      "[CV]  ColumnTransformer__columns=['account length', 'international plan', 'voice mail plan', 'number vmail messages', 'total day minutes', 'total day calls', 'total day charge', 'total eve minutes', 'total eve calls', 'total eve charge', 'total night minutes', 'total night calls', 'total night charge', 'total intl minutes', 'total intl calls', 'total intl charge', 'customer service calls'], GradientBooster__loss=deviance, GradientBooster__max_depth=5, GradientBooster__max_features=auto, GradientBooster__n_estimators=150, SMOTE__sampling_strategy=1, total=   4.5s\n",
      "[CV] ColumnTransformer__columns=['account length', 'international plan', 'voice mail plan', 'number vmail messages', 'total day minutes', 'total day calls', 'total day charge', 'total eve minutes', 'total eve calls', 'total eve charge', 'total night minutes', 'total night calls', 'total night charge', 'total intl minutes', 'total intl calls', 'total intl charge', 'customer service calls'], GradientBooster__loss=deviance, GradientBooster__max_depth=5, GradientBooster__max_features=auto, GradientBooster__n_estimators=150, SMOTE__sampling_strategy=1 \n",
      "[CV]  ColumnTransformer__columns=['account length', 'international plan', 'voice mail plan', 'number vmail messages', 'total day minutes', 'total day calls', 'total day charge', 'total eve minutes', 'total eve calls', 'total eve charge', 'total night minutes', 'total night calls', 'total night charge', 'total intl minutes', 'total intl calls', 'total intl charge', 'customer service calls'], GradientBooster__loss=deviance, GradientBooster__max_depth=5, GradientBooster__max_features=auto, GradientBooster__n_estimators=150, SMOTE__sampling_strategy=1, total=   4.3s\n",
      "[CV] ColumnTransformer__columns=['account length', 'international plan', 'voice mail plan', 'number vmail messages', 'total day minutes', 'total day calls', 'total day charge', 'total eve minutes', 'total eve calls', 'total eve charge', 'total night minutes', 'total night calls', 'total night charge', 'total intl minutes', 'total intl calls', 'total intl charge', 'customer service calls'], GradientBooster__loss=deviance, GradientBooster__max_depth=5, GradientBooster__max_features=auto, GradientBooster__n_estimators=150, SMOTE__sampling_strategy=1 \n",
      "[CV]  ColumnTransformer__columns=['account length', 'international plan', 'voice mail plan', 'number vmail messages', 'total day minutes', 'total day calls', 'total day charge', 'total eve minutes', 'total eve calls', 'total eve charge', 'total night minutes', 'total night calls', 'total night charge', 'total intl minutes', 'total intl calls', 'total intl charge', 'customer service calls'], GradientBooster__loss=deviance, GradientBooster__max_depth=5, GradientBooster__max_features=auto, GradientBooster__n_estimators=150, SMOTE__sampling_strategy=1, total=   4.8s\n",
      "[CV] ColumnTransformer__columns=['account length', 'international plan', 'voice mail plan', 'number vmail messages', 'total day minutes', 'total day calls', 'total day charge', 'total eve minutes', 'total eve calls', 'total eve charge', 'total night minutes', 'total night calls', 'total night charge', 'total intl minutes', 'total intl calls', 'total intl charge', 'customer service calls'], GradientBooster__loss=deviance, GradientBooster__max_depth=5, GradientBooster__max_features=auto, GradientBooster__n_estimators=150, SMOTE__sampling_strategy=1 \n",
      "[CV]  ColumnTransformer__columns=['account length', 'international plan', 'voice mail plan', 'number vmail messages', 'total day minutes', 'total day calls', 'total day charge', 'total eve minutes', 'total eve calls', 'total eve charge', 'total night minutes', 'total night calls', 'total night charge', 'total intl minutes', 'total intl calls', 'total intl charge', 'customer service calls'], GradientBooster__loss=deviance, GradientBooster__max_depth=5, GradientBooster__max_features=auto, GradientBooster__n_estimators=150, SMOTE__sampling_strategy=1, total=   4.8s\n",
      "[CV] ColumnTransformer__columns=['account length', 'international plan', 'voice mail plan', 'number vmail messages', 'total day minutes', 'total day calls', 'total day charge', 'total eve minutes', 'total eve calls', 'total eve charge', 'total night minutes', 'total night calls', 'total night charge', 'total intl minutes', 'total intl calls', 'total intl charge', 'customer service calls'], GradientBooster__loss=deviance, GradientBooster__max_depth=5, GradientBooster__max_features=auto, GradientBooster__n_estimators=150, SMOTE__sampling_strategy=1 \n",
      "[CV]  ColumnTransformer__columns=['account length', 'international plan', 'voice mail plan', 'number vmail messages', 'total day minutes', 'total day calls', 'total day charge', 'total eve minutes', 'total eve calls', 'total eve charge', 'total night minutes', 'total night calls', 'total night charge', 'total intl minutes', 'total intl calls', 'total intl charge', 'customer service calls'], GradientBooster__loss=deviance, GradientBooster__max_depth=5, GradientBooster__max_features=auto, GradientBooster__n_estimators=150, SMOTE__sampling_strategy=1, total=   4.2s\n",
      "[CV] ColumnTransformer__columns=['account length', 'international plan', 'voice mail plan', 'number vmail messages', 'total day minutes', 'total day calls', 'total day charge', 'total eve minutes', 'total eve calls', 'total eve charge', 'total night minutes', 'total night calls', 'total night charge', 'total intl minutes', 'total intl calls', 'total intl charge', 'customer service calls'], GradientBooster__loss=deviance, GradientBooster__max_depth=5, GradientBooster__max_features=8, GradientBooster__n_estimators=100, SMOTE__sampling_strategy=1 \n",
      "[CV]  ColumnTransformer__columns=['account length', 'international plan', 'voice mail plan', 'number vmail messages', 'total day minutes', 'total day calls', 'total day charge', 'total eve minutes', 'total eve calls', 'total eve charge', 'total night minutes', 'total night calls', 'total night charge', 'total intl minutes', 'total intl calls', 'total intl charge', 'customer service calls'], GradientBooster__loss=deviance, GradientBooster__max_depth=5, GradientBooster__max_features=8, GradientBooster__n_estimators=100, SMOTE__sampling_strategy=1, total=   1.4s\n",
      "[CV] ColumnTransformer__columns=['account length', 'international plan', 'voice mail plan', 'number vmail messages', 'total day minutes', 'total day calls', 'total day charge', 'total eve minutes', 'total eve calls', 'total eve charge', 'total night minutes', 'total night calls', 'total night charge', 'total intl minutes', 'total intl calls', 'total intl charge', 'customer service calls'], GradientBooster__loss=deviance, GradientBooster__max_depth=5, GradientBooster__max_features=8, GradientBooster__n_estimators=100, SMOTE__sampling_strategy=1 \n"
     ]
    },
    {
     "name": "stdout",
     "output_type": "stream",
     "text": [
      "[CV]  ColumnTransformer__columns=['account length', 'international plan', 'voice mail plan', 'number vmail messages', 'total day minutes', 'total day calls', 'total day charge', 'total eve minutes', 'total eve calls', 'total eve charge', 'total night minutes', 'total night calls', 'total night charge', 'total intl minutes', 'total intl calls', 'total intl charge', 'customer service calls'], GradientBooster__loss=deviance, GradientBooster__max_depth=5, GradientBooster__max_features=8, GradientBooster__n_estimators=100, SMOTE__sampling_strategy=1, total=   1.6s\n",
      "[CV] ColumnTransformer__columns=['account length', 'international plan', 'voice mail plan', 'number vmail messages', 'total day minutes', 'total day calls', 'total day charge', 'total eve minutes', 'total eve calls', 'total eve charge', 'total night minutes', 'total night calls', 'total night charge', 'total intl minutes', 'total intl calls', 'total intl charge', 'customer service calls'], GradientBooster__loss=deviance, GradientBooster__max_depth=5, GradientBooster__max_features=8, GradientBooster__n_estimators=100, SMOTE__sampling_strategy=1 \n",
      "[CV]  ColumnTransformer__columns=['account length', 'international plan', 'voice mail plan', 'number vmail messages', 'total day minutes', 'total day calls', 'total day charge', 'total eve minutes', 'total eve calls', 'total eve charge', 'total night minutes', 'total night calls', 'total night charge', 'total intl minutes', 'total intl calls', 'total intl charge', 'customer service calls'], GradientBooster__loss=deviance, GradientBooster__max_depth=5, GradientBooster__max_features=8, GradientBooster__n_estimators=100, SMOTE__sampling_strategy=1, total=   1.5s\n",
      "[CV] ColumnTransformer__columns=['account length', 'international plan', 'voice mail plan', 'number vmail messages', 'total day minutes', 'total day calls', 'total day charge', 'total eve minutes', 'total eve calls', 'total eve charge', 'total night minutes', 'total night calls', 'total night charge', 'total intl minutes', 'total intl calls', 'total intl charge', 'customer service calls'], GradientBooster__loss=deviance, GradientBooster__max_depth=5, GradientBooster__max_features=8, GradientBooster__n_estimators=100, SMOTE__sampling_strategy=1 \n",
      "[CV]  ColumnTransformer__columns=['account length', 'international plan', 'voice mail plan', 'number vmail messages', 'total day minutes', 'total day calls', 'total day charge', 'total eve minutes', 'total eve calls', 'total eve charge', 'total night minutes', 'total night calls', 'total night charge', 'total intl minutes', 'total intl calls', 'total intl charge', 'customer service calls'], GradientBooster__loss=deviance, GradientBooster__max_depth=5, GradientBooster__max_features=8, GradientBooster__n_estimators=100, SMOTE__sampling_strategy=1, total=   1.5s\n",
      "[CV] ColumnTransformer__columns=['account length', 'international plan', 'voice mail plan', 'number vmail messages', 'total day minutes', 'total day calls', 'total day charge', 'total eve minutes', 'total eve calls', 'total eve charge', 'total night minutes', 'total night calls', 'total night charge', 'total intl minutes', 'total intl calls', 'total intl charge', 'customer service calls'], GradientBooster__loss=deviance, GradientBooster__max_depth=5, GradientBooster__max_features=8, GradientBooster__n_estimators=100, SMOTE__sampling_strategy=1 \n",
      "[CV]  ColumnTransformer__columns=['account length', 'international plan', 'voice mail plan', 'number vmail messages', 'total day minutes', 'total day calls', 'total day charge', 'total eve minutes', 'total eve calls', 'total eve charge', 'total night minutes', 'total night calls', 'total night charge', 'total intl minutes', 'total intl calls', 'total intl charge', 'customer service calls'], GradientBooster__loss=deviance, GradientBooster__max_depth=5, GradientBooster__max_features=8, GradientBooster__n_estimators=100, SMOTE__sampling_strategy=1, total=   1.6s\n",
      "[CV] ColumnTransformer__columns=['account length', 'international plan', 'voice mail plan', 'number vmail messages', 'total day minutes', 'total day calls', 'total day charge', 'total eve minutes', 'total eve calls', 'total eve charge', 'total night minutes', 'total night calls', 'total night charge', 'total intl minutes', 'total intl calls', 'total intl charge', 'customer service calls'], GradientBooster__loss=deviance, GradientBooster__max_depth=5, GradientBooster__max_features=8, GradientBooster__n_estimators=150, SMOTE__sampling_strategy=1 \n",
      "[CV]  ColumnTransformer__columns=['account length', 'international plan', 'voice mail plan', 'number vmail messages', 'total day minutes', 'total day calls', 'total day charge', 'total eve minutes', 'total eve calls', 'total eve charge', 'total night minutes', 'total night calls', 'total night charge', 'total intl minutes', 'total intl calls', 'total intl charge', 'customer service calls'], GradientBooster__loss=deviance, GradientBooster__max_depth=5, GradientBooster__max_features=8, GradientBooster__n_estimators=150, SMOTE__sampling_strategy=1, total=   2.3s\n",
      "[CV] ColumnTransformer__columns=['account length', 'international plan', 'voice mail plan', 'number vmail messages', 'total day minutes', 'total day calls', 'total day charge', 'total eve minutes', 'total eve calls', 'total eve charge', 'total night minutes', 'total night calls', 'total night charge', 'total intl minutes', 'total intl calls', 'total intl charge', 'customer service calls'], GradientBooster__loss=deviance, GradientBooster__max_depth=5, GradientBooster__max_features=8, GradientBooster__n_estimators=150, SMOTE__sampling_strategy=1 \n",
      "[CV]  ColumnTransformer__columns=['account length', 'international plan', 'voice mail plan', 'number vmail messages', 'total day minutes', 'total day calls', 'total day charge', 'total eve minutes', 'total eve calls', 'total eve charge', 'total night minutes', 'total night calls', 'total night charge', 'total intl minutes', 'total intl calls', 'total intl charge', 'customer service calls'], GradientBooster__loss=deviance, GradientBooster__max_depth=5, GradientBooster__max_features=8, GradientBooster__n_estimators=150, SMOTE__sampling_strategy=1, total=   2.4s\n",
      "[CV] ColumnTransformer__columns=['account length', 'international plan', 'voice mail plan', 'number vmail messages', 'total day minutes', 'total day calls', 'total day charge', 'total eve minutes', 'total eve calls', 'total eve charge', 'total night minutes', 'total night calls', 'total night charge', 'total intl minutes', 'total intl calls', 'total intl charge', 'customer service calls'], GradientBooster__loss=deviance, GradientBooster__max_depth=5, GradientBooster__max_features=8, GradientBooster__n_estimators=150, SMOTE__sampling_strategy=1 \n",
      "[CV]  ColumnTransformer__columns=['account length', 'international plan', 'voice mail plan', 'number vmail messages', 'total day minutes', 'total day calls', 'total day charge', 'total eve minutes', 'total eve calls', 'total eve charge', 'total night minutes', 'total night calls', 'total night charge', 'total intl minutes', 'total intl calls', 'total intl charge', 'customer service calls'], GradientBooster__loss=deviance, GradientBooster__max_depth=5, GradientBooster__max_features=8, GradientBooster__n_estimators=150, SMOTE__sampling_strategy=1, total=   2.5s\n",
      "[CV] ColumnTransformer__columns=['account length', 'international plan', 'voice mail plan', 'number vmail messages', 'total day minutes', 'total day calls', 'total day charge', 'total eve minutes', 'total eve calls', 'total eve charge', 'total night minutes', 'total night calls', 'total night charge', 'total intl minutes', 'total intl calls', 'total intl charge', 'customer service calls'], GradientBooster__loss=deviance, GradientBooster__max_depth=5, GradientBooster__max_features=8, GradientBooster__n_estimators=150, SMOTE__sampling_strategy=1 \n",
      "[CV]  ColumnTransformer__columns=['account length', 'international plan', 'voice mail plan', 'number vmail messages', 'total day minutes', 'total day calls', 'total day charge', 'total eve minutes', 'total eve calls', 'total eve charge', 'total night minutes', 'total night calls', 'total night charge', 'total intl minutes', 'total intl calls', 'total intl charge', 'customer service calls'], GradientBooster__loss=deviance, GradientBooster__max_depth=5, GradientBooster__max_features=8, GradientBooster__n_estimators=150, SMOTE__sampling_strategy=1, total=   2.6s\n",
      "[CV] ColumnTransformer__columns=['account length', 'international plan', 'voice mail plan', 'number vmail messages', 'total day minutes', 'total day calls', 'total day charge', 'total eve minutes', 'total eve calls', 'total eve charge', 'total night minutes', 'total night calls', 'total night charge', 'total intl minutes', 'total intl calls', 'total intl charge', 'customer service calls'], GradientBooster__loss=deviance, GradientBooster__max_depth=5, GradientBooster__max_features=8, GradientBooster__n_estimators=150, SMOTE__sampling_strategy=1 \n"
     ]
    },
    {
     "name": "stdout",
     "output_type": "stream",
     "text": [
      "[CV]  ColumnTransformer__columns=['account length', 'international plan', 'voice mail plan', 'number vmail messages', 'total day minutes', 'total day calls', 'total day charge', 'total eve minutes', 'total eve calls', 'total eve charge', 'total night minutes', 'total night calls', 'total night charge', 'total intl minutes', 'total intl calls', 'total intl charge', 'customer service calls'], GradientBooster__loss=deviance, GradientBooster__max_depth=5, GradientBooster__max_features=8, GradientBooster__n_estimators=150, SMOTE__sampling_strategy=1, total=   2.4s\n",
      "[CV] ColumnTransformer__columns=['account length', 'international plan', 'voice mail plan', 'number vmail messages', 'total day minutes', 'total day calls', 'total day charge', 'total eve minutes', 'total eve calls', 'total eve charge', 'total night minutes', 'total night calls', 'total night charge', 'total intl minutes', 'total intl calls', 'total intl charge', 'customer service calls'], GradientBooster__loss=deviance, GradientBooster__max_depth=5, GradientBooster__max_features=None, GradientBooster__n_estimators=100, SMOTE__sampling_strategy=1 \n",
      "[CV]  ColumnTransformer__columns=['account length', 'international plan', 'voice mail plan', 'number vmail messages', 'total day minutes', 'total day calls', 'total day charge', 'total eve minutes', 'total eve calls', 'total eve charge', 'total night minutes', 'total night calls', 'total night charge', 'total intl minutes', 'total intl calls', 'total intl charge', 'customer service calls'], GradientBooster__loss=deviance, GradientBooster__max_depth=5, GradientBooster__max_features=None, GradientBooster__n_estimators=100, SMOTE__sampling_strategy=1, total=   2.8s\n",
      "[CV] ColumnTransformer__columns=['account length', 'international plan', 'voice mail plan', 'number vmail messages', 'total day minutes', 'total day calls', 'total day charge', 'total eve minutes', 'total eve calls', 'total eve charge', 'total night minutes', 'total night calls', 'total night charge', 'total intl minutes', 'total intl calls', 'total intl charge', 'customer service calls'], GradientBooster__loss=deviance, GradientBooster__max_depth=5, GradientBooster__max_features=None, GradientBooster__n_estimators=100, SMOTE__sampling_strategy=1 \n",
      "[CV]  ColumnTransformer__columns=['account length', 'international plan', 'voice mail plan', 'number vmail messages', 'total day minutes', 'total day calls', 'total day charge', 'total eve minutes', 'total eve calls', 'total eve charge', 'total night minutes', 'total night calls', 'total night charge', 'total intl minutes', 'total intl calls', 'total intl charge', 'customer service calls'], GradientBooster__loss=deviance, GradientBooster__max_depth=5, GradientBooster__max_features=None, GradientBooster__n_estimators=100, SMOTE__sampling_strategy=1, total=   3.0s\n",
      "[CV] ColumnTransformer__columns=['account length', 'international plan', 'voice mail plan', 'number vmail messages', 'total day minutes', 'total day calls', 'total day charge', 'total eve minutes', 'total eve calls', 'total eve charge', 'total night minutes', 'total night calls', 'total night charge', 'total intl minutes', 'total intl calls', 'total intl charge', 'customer service calls'], GradientBooster__loss=deviance, GradientBooster__max_depth=5, GradientBooster__max_features=None, GradientBooster__n_estimators=100, SMOTE__sampling_strategy=1 \n",
      "[CV]  ColumnTransformer__columns=['account length', 'international plan', 'voice mail plan', 'number vmail messages', 'total day minutes', 'total day calls', 'total day charge', 'total eve minutes', 'total eve calls', 'total eve charge', 'total night minutes', 'total night calls', 'total night charge', 'total intl minutes', 'total intl calls', 'total intl charge', 'customer service calls'], GradientBooster__loss=deviance, GradientBooster__max_depth=5, GradientBooster__max_features=None, GradientBooster__n_estimators=100, SMOTE__sampling_strategy=1, total=   2.7s\n",
      "[CV] ColumnTransformer__columns=['account length', 'international plan', 'voice mail plan', 'number vmail messages', 'total day minutes', 'total day calls', 'total day charge', 'total eve minutes', 'total eve calls', 'total eve charge', 'total night minutes', 'total night calls', 'total night charge', 'total intl minutes', 'total intl calls', 'total intl charge', 'customer service calls'], GradientBooster__loss=deviance, GradientBooster__max_depth=5, GradientBooster__max_features=None, GradientBooster__n_estimators=100, SMOTE__sampling_strategy=1 \n",
      "[CV]  ColumnTransformer__columns=['account length', 'international plan', 'voice mail plan', 'number vmail messages', 'total day minutes', 'total day calls', 'total day charge', 'total eve minutes', 'total eve calls', 'total eve charge', 'total night minutes', 'total night calls', 'total night charge', 'total intl minutes', 'total intl calls', 'total intl charge', 'customer service calls'], GradientBooster__loss=deviance, GradientBooster__max_depth=5, GradientBooster__max_features=None, GradientBooster__n_estimators=100, SMOTE__sampling_strategy=1, total=   3.2s\n",
      "[CV] ColumnTransformer__columns=['account length', 'international plan', 'voice mail plan', 'number vmail messages', 'total day minutes', 'total day calls', 'total day charge', 'total eve minutes', 'total eve calls', 'total eve charge', 'total night minutes', 'total night calls', 'total night charge', 'total intl minutes', 'total intl calls', 'total intl charge', 'customer service calls'], GradientBooster__loss=deviance, GradientBooster__max_depth=5, GradientBooster__max_features=None, GradientBooster__n_estimators=100, SMOTE__sampling_strategy=1 \n",
      "[CV]  ColumnTransformer__columns=['account length', 'international plan', 'voice mail plan', 'number vmail messages', 'total day minutes', 'total day calls', 'total day charge', 'total eve minutes', 'total eve calls', 'total eve charge', 'total night minutes', 'total night calls', 'total night charge', 'total intl minutes', 'total intl calls', 'total intl charge', 'customer service calls'], GradientBooster__loss=deviance, GradientBooster__max_depth=5, GradientBooster__max_features=None, GradientBooster__n_estimators=100, SMOTE__sampling_strategy=1, total=   3.5s\n",
      "[CV] ColumnTransformer__columns=['account length', 'international plan', 'voice mail plan', 'number vmail messages', 'total day minutes', 'total day calls', 'total day charge', 'total eve minutes', 'total eve calls', 'total eve charge', 'total night minutes', 'total night calls', 'total night charge', 'total intl minutes', 'total intl calls', 'total intl charge', 'customer service calls'], GradientBooster__loss=deviance, GradientBooster__max_depth=5, GradientBooster__max_features=None, GradientBooster__n_estimators=150, SMOTE__sampling_strategy=1 \n",
      "[CV]  ColumnTransformer__columns=['account length', 'international plan', 'voice mail plan', 'number vmail messages', 'total day minutes', 'total day calls', 'total day charge', 'total eve minutes', 'total eve calls', 'total eve charge', 'total night minutes', 'total night calls', 'total night charge', 'total intl minutes', 'total intl calls', 'total intl charge', 'customer service calls'], GradientBooster__loss=deviance, GradientBooster__max_depth=5, GradientBooster__max_features=None, GradientBooster__n_estimators=150, SMOTE__sampling_strategy=1, total=   4.2s\n",
      "[CV] ColumnTransformer__columns=['account length', 'international plan', 'voice mail plan', 'number vmail messages', 'total day minutes', 'total day calls', 'total day charge', 'total eve minutes', 'total eve calls', 'total eve charge', 'total night minutes', 'total night calls', 'total night charge', 'total intl minutes', 'total intl calls', 'total intl charge', 'customer service calls'], GradientBooster__loss=deviance, GradientBooster__max_depth=5, GradientBooster__max_features=None, GradientBooster__n_estimators=150, SMOTE__sampling_strategy=1 \n",
      "[CV]  ColumnTransformer__columns=['account length', 'international plan', 'voice mail plan', 'number vmail messages', 'total day minutes', 'total day calls', 'total day charge', 'total eve minutes', 'total eve calls', 'total eve charge', 'total night minutes', 'total night calls', 'total night charge', 'total intl minutes', 'total intl calls', 'total intl charge', 'customer service calls'], GradientBooster__loss=deviance, GradientBooster__max_depth=5, GradientBooster__max_features=None, GradientBooster__n_estimators=150, SMOTE__sampling_strategy=1, total=   4.0s\n",
      "[CV] ColumnTransformer__columns=['account length', 'international plan', 'voice mail plan', 'number vmail messages', 'total day minutes', 'total day calls', 'total day charge', 'total eve minutes', 'total eve calls', 'total eve charge', 'total night minutes', 'total night calls', 'total night charge', 'total intl minutes', 'total intl calls', 'total intl charge', 'customer service calls'], GradientBooster__loss=deviance, GradientBooster__max_depth=5, GradientBooster__max_features=None, GradientBooster__n_estimators=150, SMOTE__sampling_strategy=1 \n"
     ]
    },
    {
     "name": "stdout",
     "output_type": "stream",
     "text": [
      "[CV]  ColumnTransformer__columns=['account length', 'international plan', 'voice mail plan', 'number vmail messages', 'total day minutes', 'total day calls', 'total day charge', 'total eve minutes', 'total eve calls', 'total eve charge', 'total night minutes', 'total night calls', 'total night charge', 'total intl minutes', 'total intl calls', 'total intl charge', 'customer service calls'], GradientBooster__loss=deviance, GradientBooster__max_depth=5, GradientBooster__max_features=None, GradientBooster__n_estimators=150, SMOTE__sampling_strategy=1, total=   4.6s\n",
      "[CV] ColumnTransformer__columns=['account length', 'international plan', 'voice mail plan', 'number vmail messages', 'total day minutes', 'total day calls', 'total day charge', 'total eve minutes', 'total eve calls', 'total eve charge', 'total night minutes', 'total night calls', 'total night charge', 'total intl minutes', 'total intl calls', 'total intl charge', 'customer service calls'], GradientBooster__loss=deviance, GradientBooster__max_depth=5, GradientBooster__max_features=None, GradientBooster__n_estimators=150, SMOTE__sampling_strategy=1 \n",
      "[CV]  ColumnTransformer__columns=['account length', 'international plan', 'voice mail plan', 'number vmail messages', 'total day minutes', 'total day calls', 'total day charge', 'total eve minutes', 'total eve calls', 'total eve charge', 'total night minutes', 'total night calls', 'total night charge', 'total intl minutes', 'total intl calls', 'total intl charge', 'customer service calls'], GradientBooster__loss=deviance, GradientBooster__max_depth=5, GradientBooster__max_features=None, GradientBooster__n_estimators=150, SMOTE__sampling_strategy=1, total=   4.4s\n",
      "[CV] ColumnTransformer__columns=['account length', 'international plan', 'voice mail plan', 'number vmail messages', 'total day minutes', 'total day calls', 'total day charge', 'total eve minutes', 'total eve calls', 'total eve charge', 'total night minutes', 'total night calls', 'total night charge', 'total intl minutes', 'total intl calls', 'total intl charge', 'customer service calls'], GradientBooster__loss=deviance, GradientBooster__max_depth=5, GradientBooster__max_features=None, GradientBooster__n_estimators=150, SMOTE__sampling_strategy=1 \n",
      "[CV]  ColumnTransformer__columns=['account length', 'international plan', 'voice mail plan', 'number vmail messages', 'total day minutes', 'total day calls', 'total day charge', 'total eve minutes', 'total eve calls', 'total eve charge', 'total night minutes', 'total night calls', 'total night charge', 'total intl minutes', 'total intl calls', 'total intl charge', 'customer service calls'], GradientBooster__loss=deviance, GradientBooster__max_depth=5, GradientBooster__max_features=None, GradientBooster__n_estimators=150, SMOTE__sampling_strategy=1, total=   4.3s\n",
      "[CV] ColumnTransformer__columns=['account length', 'international plan', 'voice mail plan', 'number vmail messages', 'total day minutes', 'total day calls', 'total day charge', 'total eve minutes', 'total eve calls', 'total eve charge', 'total night minutes', 'total night calls', 'total night charge', 'total intl minutes', 'total intl calls', 'total intl charge', 'customer service calls'], GradientBooster__loss=exponential, GradientBooster__max_depth=3, GradientBooster__max_features=auto, GradientBooster__n_estimators=100, SMOTE__sampling_strategy=1 \n",
      "[CV]  ColumnTransformer__columns=['account length', 'international plan', 'voice mail plan', 'number vmail messages', 'total day minutes', 'total day calls', 'total day charge', 'total eve minutes', 'total eve calls', 'total eve charge', 'total night minutes', 'total night calls', 'total night charge', 'total intl minutes', 'total intl calls', 'total intl charge', 'customer service calls'], GradientBooster__loss=exponential, GradientBooster__max_depth=3, GradientBooster__max_features=auto, GradientBooster__n_estimators=100, SMOTE__sampling_strategy=1, total=   1.6s\n",
      "[CV] ColumnTransformer__columns=['account length', 'international plan', 'voice mail plan', 'number vmail messages', 'total day minutes', 'total day calls', 'total day charge', 'total eve minutes', 'total eve calls', 'total eve charge', 'total night minutes', 'total night calls', 'total night charge', 'total intl minutes', 'total intl calls', 'total intl charge', 'customer service calls'], GradientBooster__loss=exponential, GradientBooster__max_depth=3, GradientBooster__max_features=auto, GradientBooster__n_estimators=100, SMOTE__sampling_strategy=1 \n",
      "[CV]  ColumnTransformer__columns=['account length', 'international plan', 'voice mail plan', 'number vmail messages', 'total day minutes', 'total day calls', 'total day charge', 'total eve minutes', 'total eve calls', 'total eve charge', 'total night minutes', 'total night calls', 'total night charge', 'total intl minutes', 'total intl calls', 'total intl charge', 'customer service calls'], GradientBooster__loss=exponential, GradientBooster__max_depth=3, GradientBooster__max_features=auto, GradientBooster__n_estimators=100, SMOTE__sampling_strategy=1, total=   1.8s\n",
      "[CV] ColumnTransformer__columns=['account length', 'international plan', 'voice mail plan', 'number vmail messages', 'total day minutes', 'total day calls', 'total day charge', 'total eve minutes', 'total eve calls', 'total eve charge', 'total night minutes', 'total night calls', 'total night charge', 'total intl minutes', 'total intl calls', 'total intl charge', 'customer service calls'], GradientBooster__loss=exponential, GradientBooster__max_depth=3, GradientBooster__max_features=auto, GradientBooster__n_estimators=100, SMOTE__sampling_strategy=1 \n",
      "[CV]  ColumnTransformer__columns=['account length', 'international plan', 'voice mail plan', 'number vmail messages', 'total day minutes', 'total day calls', 'total day charge', 'total eve minutes', 'total eve calls', 'total eve charge', 'total night minutes', 'total night calls', 'total night charge', 'total intl minutes', 'total intl calls', 'total intl charge', 'customer service calls'], GradientBooster__loss=exponential, GradientBooster__max_depth=3, GradientBooster__max_features=auto, GradientBooster__n_estimators=100, SMOTE__sampling_strategy=1, total=   1.8s\n",
      "[CV] ColumnTransformer__columns=['account length', 'international plan', 'voice mail plan', 'number vmail messages', 'total day minutes', 'total day calls', 'total day charge', 'total eve minutes', 'total eve calls', 'total eve charge', 'total night minutes', 'total night calls', 'total night charge', 'total intl minutes', 'total intl calls', 'total intl charge', 'customer service calls'], GradientBooster__loss=exponential, GradientBooster__max_depth=3, GradientBooster__max_features=auto, GradientBooster__n_estimators=100, SMOTE__sampling_strategy=1 \n",
      "[CV]  ColumnTransformer__columns=['account length', 'international plan', 'voice mail plan', 'number vmail messages', 'total day minutes', 'total day calls', 'total day charge', 'total eve minutes', 'total eve calls', 'total eve charge', 'total night minutes', 'total night calls', 'total night charge', 'total intl minutes', 'total intl calls', 'total intl charge', 'customer service calls'], GradientBooster__loss=exponential, GradientBooster__max_depth=3, GradientBooster__max_features=auto, GradientBooster__n_estimators=100, SMOTE__sampling_strategy=1, total=   1.6s\n",
      "[CV] ColumnTransformer__columns=['account length', 'international plan', 'voice mail plan', 'number vmail messages', 'total day minutes', 'total day calls', 'total day charge', 'total eve minutes', 'total eve calls', 'total eve charge', 'total night minutes', 'total night calls', 'total night charge', 'total intl minutes', 'total intl calls', 'total intl charge', 'customer service calls'], GradientBooster__loss=exponential, GradientBooster__max_depth=3, GradientBooster__max_features=auto, GradientBooster__n_estimators=100, SMOTE__sampling_strategy=1 \n",
      "[CV]  ColumnTransformer__columns=['account length', 'international plan', 'voice mail plan', 'number vmail messages', 'total day minutes', 'total day calls', 'total day charge', 'total eve minutes', 'total eve calls', 'total eve charge', 'total night minutes', 'total night calls', 'total night charge', 'total intl minutes', 'total intl calls', 'total intl charge', 'customer service calls'], GradientBooster__loss=exponential, GradientBooster__max_depth=3, GradientBooster__max_features=auto, GradientBooster__n_estimators=100, SMOTE__sampling_strategy=1, total=   1.7s\n",
      "[CV] ColumnTransformer__columns=['account length', 'international plan', 'voice mail plan', 'number vmail messages', 'total day minutes', 'total day calls', 'total day charge', 'total eve minutes', 'total eve calls', 'total eve charge', 'total night minutes', 'total night calls', 'total night charge', 'total intl minutes', 'total intl calls', 'total intl charge', 'customer service calls'], GradientBooster__loss=exponential, GradientBooster__max_depth=3, GradientBooster__max_features=auto, GradientBooster__n_estimators=150, SMOTE__sampling_strategy=1 \n"
     ]
    },
    {
     "name": "stdout",
     "output_type": "stream",
     "text": [
      "[CV]  ColumnTransformer__columns=['account length', 'international plan', 'voice mail plan', 'number vmail messages', 'total day minutes', 'total day calls', 'total day charge', 'total eve minutes', 'total eve calls', 'total eve charge', 'total night minutes', 'total night calls', 'total night charge', 'total intl minutes', 'total intl calls', 'total intl charge', 'customer service calls'], GradientBooster__loss=exponential, GradientBooster__max_depth=3, GradientBooster__max_features=auto, GradientBooster__n_estimators=150, SMOTE__sampling_strategy=1, total=   2.5s\n",
      "[CV] ColumnTransformer__columns=['account length', 'international plan', 'voice mail plan', 'number vmail messages', 'total day minutes', 'total day calls', 'total day charge', 'total eve minutes', 'total eve calls', 'total eve charge', 'total night minutes', 'total night calls', 'total night charge', 'total intl minutes', 'total intl calls', 'total intl charge', 'customer service calls'], GradientBooster__loss=exponential, GradientBooster__max_depth=3, GradientBooster__max_features=auto, GradientBooster__n_estimators=150, SMOTE__sampling_strategy=1 \n",
      "[CV]  ColumnTransformer__columns=['account length', 'international plan', 'voice mail plan', 'number vmail messages', 'total day minutes', 'total day calls', 'total day charge', 'total eve minutes', 'total eve calls', 'total eve charge', 'total night minutes', 'total night calls', 'total night charge', 'total intl minutes', 'total intl calls', 'total intl charge', 'customer service calls'], GradientBooster__loss=exponential, GradientBooster__max_depth=3, GradientBooster__max_features=auto, GradientBooster__n_estimators=150, SMOTE__sampling_strategy=1, total=   2.8s\n",
      "[CV] ColumnTransformer__columns=['account length', 'international plan', 'voice mail plan', 'number vmail messages', 'total day minutes', 'total day calls', 'total day charge', 'total eve minutes', 'total eve calls', 'total eve charge', 'total night minutes', 'total night calls', 'total night charge', 'total intl minutes', 'total intl calls', 'total intl charge', 'customer service calls'], GradientBooster__loss=exponential, GradientBooster__max_depth=3, GradientBooster__max_features=auto, GradientBooster__n_estimators=150, SMOTE__sampling_strategy=1 \n",
      "[CV]  ColumnTransformer__columns=['account length', 'international plan', 'voice mail plan', 'number vmail messages', 'total day minutes', 'total day calls', 'total day charge', 'total eve minutes', 'total eve calls', 'total eve charge', 'total night minutes', 'total night calls', 'total night charge', 'total intl minutes', 'total intl calls', 'total intl charge', 'customer service calls'], GradientBooster__loss=exponential, GradientBooster__max_depth=3, GradientBooster__max_features=auto, GradientBooster__n_estimators=150, SMOTE__sampling_strategy=1, total=   2.4s\n",
      "[CV] ColumnTransformer__columns=['account length', 'international plan', 'voice mail plan', 'number vmail messages', 'total day minutes', 'total day calls', 'total day charge', 'total eve minutes', 'total eve calls', 'total eve charge', 'total night minutes', 'total night calls', 'total night charge', 'total intl minutes', 'total intl calls', 'total intl charge', 'customer service calls'], GradientBooster__loss=exponential, GradientBooster__max_depth=3, GradientBooster__max_features=auto, GradientBooster__n_estimators=150, SMOTE__sampling_strategy=1 \n",
      "[CV]  ColumnTransformer__columns=['account length', 'international plan', 'voice mail plan', 'number vmail messages', 'total day minutes', 'total day calls', 'total day charge', 'total eve minutes', 'total eve calls', 'total eve charge', 'total night minutes', 'total night calls', 'total night charge', 'total intl minutes', 'total intl calls', 'total intl charge', 'customer service calls'], GradientBooster__loss=exponential, GradientBooster__max_depth=3, GradientBooster__max_features=auto, GradientBooster__n_estimators=150, SMOTE__sampling_strategy=1, total=   2.5s\n",
      "[CV] ColumnTransformer__columns=['account length', 'international plan', 'voice mail plan', 'number vmail messages', 'total day minutes', 'total day calls', 'total day charge', 'total eve minutes', 'total eve calls', 'total eve charge', 'total night minutes', 'total night calls', 'total night charge', 'total intl minutes', 'total intl calls', 'total intl charge', 'customer service calls'], GradientBooster__loss=exponential, GradientBooster__max_depth=3, GradientBooster__max_features=auto, GradientBooster__n_estimators=150, SMOTE__sampling_strategy=1 \n",
      "[CV]  ColumnTransformer__columns=['account length', 'international plan', 'voice mail plan', 'number vmail messages', 'total day minutes', 'total day calls', 'total day charge', 'total eve minutes', 'total eve calls', 'total eve charge', 'total night minutes', 'total night calls', 'total night charge', 'total intl minutes', 'total intl calls', 'total intl charge', 'customer service calls'], GradientBooster__loss=exponential, GradientBooster__max_depth=3, GradientBooster__max_features=auto, GradientBooster__n_estimators=150, SMOTE__sampling_strategy=1, total=   2.5s\n",
      "[CV] ColumnTransformer__columns=['account length', 'international plan', 'voice mail plan', 'number vmail messages', 'total day minutes', 'total day calls', 'total day charge', 'total eve minutes', 'total eve calls', 'total eve charge', 'total night minutes', 'total night calls', 'total night charge', 'total intl minutes', 'total intl calls', 'total intl charge', 'customer service calls'], GradientBooster__loss=exponential, GradientBooster__max_depth=3, GradientBooster__max_features=8, GradientBooster__n_estimators=100, SMOTE__sampling_strategy=1 \n",
      "[CV]  ColumnTransformer__columns=['account length', 'international plan', 'voice mail plan', 'number vmail messages', 'total day minutes', 'total day calls', 'total day charge', 'total eve minutes', 'total eve calls', 'total eve charge', 'total night minutes', 'total night calls', 'total night charge', 'total intl minutes', 'total intl calls', 'total intl charge', 'customer service calls'], GradientBooster__loss=exponential, GradientBooster__max_depth=3, GradientBooster__max_features=8, GradientBooster__n_estimators=100, SMOTE__sampling_strategy=1, total=   0.9s\n",
      "[CV] ColumnTransformer__columns=['account length', 'international plan', 'voice mail plan', 'number vmail messages', 'total day minutes', 'total day calls', 'total day charge', 'total eve minutes', 'total eve calls', 'total eve charge', 'total night minutes', 'total night calls', 'total night charge', 'total intl minutes', 'total intl calls', 'total intl charge', 'customer service calls'], GradientBooster__loss=exponential, GradientBooster__max_depth=3, GradientBooster__max_features=8, GradientBooster__n_estimators=100, SMOTE__sampling_strategy=1 \n",
      "[CV]  ColumnTransformer__columns=['account length', 'international plan', 'voice mail plan', 'number vmail messages', 'total day minutes', 'total day calls', 'total day charge', 'total eve minutes', 'total eve calls', 'total eve charge', 'total night minutes', 'total night calls', 'total night charge', 'total intl minutes', 'total intl calls', 'total intl charge', 'customer service calls'], GradientBooster__loss=exponential, GradientBooster__max_depth=3, GradientBooster__max_features=8, GradientBooster__n_estimators=100, SMOTE__sampling_strategy=1, total=   0.9s\n",
      "[CV] ColumnTransformer__columns=['account length', 'international plan', 'voice mail plan', 'number vmail messages', 'total day minutes', 'total day calls', 'total day charge', 'total eve minutes', 'total eve calls', 'total eve charge', 'total night minutes', 'total night calls', 'total night charge', 'total intl minutes', 'total intl calls', 'total intl charge', 'customer service calls'], GradientBooster__loss=exponential, GradientBooster__max_depth=3, GradientBooster__max_features=8, GradientBooster__n_estimators=100, SMOTE__sampling_strategy=1 \n",
      "[CV]  ColumnTransformer__columns=['account length', 'international plan', 'voice mail plan', 'number vmail messages', 'total day minutes', 'total day calls', 'total day charge', 'total eve minutes', 'total eve calls', 'total eve charge', 'total night minutes', 'total night calls', 'total night charge', 'total intl minutes', 'total intl calls', 'total intl charge', 'customer service calls'], GradientBooster__loss=exponential, GradientBooster__max_depth=3, GradientBooster__max_features=8, GradientBooster__n_estimators=100, SMOTE__sampling_strategy=1, total=   0.9s\n",
      "[CV] ColumnTransformer__columns=['account length', 'international plan', 'voice mail plan', 'number vmail messages', 'total day minutes', 'total day calls', 'total day charge', 'total eve minutes', 'total eve calls', 'total eve charge', 'total night minutes', 'total night calls', 'total night charge', 'total intl minutes', 'total intl calls', 'total intl charge', 'customer service calls'], GradientBooster__loss=exponential, GradientBooster__max_depth=3, GradientBooster__max_features=8, GradientBooster__n_estimators=100, SMOTE__sampling_strategy=1 \n"
     ]
    },
    {
     "name": "stdout",
     "output_type": "stream",
     "text": [
      "[CV]  ColumnTransformer__columns=['account length', 'international plan', 'voice mail plan', 'number vmail messages', 'total day minutes', 'total day calls', 'total day charge', 'total eve minutes', 'total eve calls', 'total eve charge', 'total night minutes', 'total night calls', 'total night charge', 'total intl minutes', 'total intl calls', 'total intl charge', 'customer service calls'], GradientBooster__loss=exponential, GradientBooster__max_depth=3, GradientBooster__max_features=8, GradientBooster__n_estimators=100, SMOTE__sampling_strategy=1, total=   0.9s\n",
      "[CV] ColumnTransformer__columns=['account length', 'international plan', 'voice mail plan', 'number vmail messages', 'total day minutes', 'total day calls', 'total day charge', 'total eve minutes', 'total eve calls', 'total eve charge', 'total night minutes', 'total night calls', 'total night charge', 'total intl minutes', 'total intl calls', 'total intl charge', 'customer service calls'], GradientBooster__loss=exponential, GradientBooster__max_depth=3, GradientBooster__max_features=8, GradientBooster__n_estimators=100, SMOTE__sampling_strategy=1 \n",
      "[CV]  ColumnTransformer__columns=['account length', 'international plan', 'voice mail plan', 'number vmail messages', 'total day minutes', 'total day calls', 'total day charge', 'total eve minutes', 'total eve calls', 'total eve charge', 'total night minutes', 'total night calls', 'total night charge', 'total intl minutes', 'total intl calls', 'total intl charge', 'customer service calls'], GradientBooster__loss=exponential, GradientBooster__max_depth=3, GradientBooster__max_features=8, GradientBooster__n_estimators=100, SMOTE__sampling_strategy=1, total=   1.0s\n",
      "[CV] ColumnTransformer__columns=['account length', 'international plan', 'voice mail plan', 'number vmail messages', 'total day minutes', 'total day calls', 'total day charge', 'total eve minutes', 'total eve calls', 'total eve charge', 'total night minutes', 'total night calls', 'total night charge', 'total intl minutes', 'total intl calls', 'total intl charge', 'customer service calls'], GradientBooster__loss=exponential, GradientBooster__max_depth=3, GradientBooster__max_features=8, GradientBooster__n_estimators=150, SMOTE__sampling_strategy=1 \n",
      "[CV]  ColumnTransformer__columns=['account length', 'international plan', 'voice mail plan', 'number vmail messages', 'total day minutes', 'total day calls', 'total day charge', 'total eve minutes', 'total eve calls', 'total eve charge', 'total night minutes', 'total night calls', 'total night charge', 'total intl minutes', 'total intl calls', 'total intl charge', 'customer service calls'], GradientBooster__loss=exponential, GradientBooster__max_depth=3, GradientBooster__max_features=8, GradientBooster__n_estimators=150, SMOTE__sampling_strategy=1, total=   1.4s\n",
      "[CV] ColumnTransformer__columns=['account length', 'international plan', 'voice mail plan', 'number vmail messages', 'total day minutes', 'total day calls', 'total day charge', 'total eve minutes', 'total eve calls', 'total eve charge', 'total night minutes', 'total night calls', 'total night charge', 'total intl minutes', 'total intl calls', 'total intl charge', 'customer service calls'], GradientBooster__loss=exponential, GradientBooster__max_depth=3, GradientBooster__max_features=8, GradientBooster__n_estimators=150, SMOTE__sampling_strategy=1 \n",
      "[CV]  ColumnTransformer__columns=['account length', 'international plan', 'voice mail plan', 'number vmail messages', 'total day minutes', 'total day calls', 'total day charge', 'total eve minutes', 'total eve calls', 'total eve charge', 'total night minutes', 'total night calls', 'total night charge', 'total intl minutes', 'total intl calls', 'total intl charge', 'customer service calls'], GradientBooster__loss=exponential, GradientBooster__max_depth=3, GradientBooster__max_features=8, GradientBooster__n_estimators=150, SMOTE__sampling_strategy=1, total=   1.3s\n",
      "[CV] ColumnTransformer__columns=['account length', 'international plan', 'voice mail plan', 'number vmail messages', 'total day minutes', 'total day calls', 'total day charge', 'total eve minutes', 'total eve calls', 'total eve charge', 'total night minutes', 'total night calls', 'total night charge', 'total intl minutes', 'total intl calls', 'total intl charge', 'customer service calls'], GradientBooster__loss=exponential, GradientBooster__max_depth=3, GradientBooster__max_features=8, GradientBooster__n_estimators=150, SMOTE__sampling_strategy=1 \n",
      "[CV]  ColumnTransformer__columns=['account length', 'international plan', 'voice mail plan', 'number vmail messages', 'total day minutes', 'total day calls', 'total day charge', 'total eve minutes', 'total eve calls', 'total eve charge', 'total night minutes', 'total night calls', 'total night charge', 'total intl minutes', 'total intl calls', 'total intl charge', 'customer service calls'], GradientBooster__loss=exponential, GradientBooster__max_depth=3, GradientBooster__max_features=8, GradientBooster__n_estimators=150, SMOTE__sampling_strategy=1, total=   1.4s\n",
      "[CV] ColumnTransformer__columns=['account length', 'international plan', 'voice mail plan', 'number vmail messages', 'total day minutes', 'total day calls', 'total day charge', 'total eve minutes', 'total eve calls', 'total eve charge', 'total night minutes', 'total night calls', 'total night charge', 'total intl minutes', 'total intl calls', 'total intl charge', 'customer service calls'], GradientBooster__loss=exponential, GradientBooster__max_depth=3, GradientBooster__max_features=8, GradientBooster__n_estimators=150, SMOTE__sampling_strategy=1 \n",
      "[CV]  ColumnTransformer__columns=['account length', 'international plan', 'voice mail plan', 'number vmail messages', 'total day minutes', 'total day calls', 'total day charge', 'total eve minutes', 'total eve calls', 'total eve charge', 'total night minutes', 'total night calls', 'total night charge', 'total intl minutes', 'total intl calls', 'total intl charge', 'customer service calls'], GradientBooster__loss=exponential, GradientBooster__max_depth=3, GradientBooster__max_features=8, GradientBooster__n_estimators=150, SMOTE__sampling_strategy=1, total=   1.4s\n",
      "[CV] ColumnTransformer__columns=['account length', 'international plan', 'voice mail plan', 'number vmail messages', 'total day minutes', 'total day calls', 'total day charge', 'total eve minutes', 'total eve calls', 'total eve charge', 'total night minutes', 'total night calls', 'total night charge', 'total intl minutes', 'total intl calls', 'total intl charge', 'customer service calls'], GradientBooster__loss=exponential, GradientBooster__max_depth=3, GradientBooster__max_features=8, GradientBooster__n_estimators=150, SMOTE__sampling_strategy=1 \n",
      "[CV]  ColumnTransformer__columns=['account length', 'international plan', 'voice mail plan', 'number vmail messages', 'total day minutes', 'total day calls', 'total day charge', 'total eve minutes', 'total eve calls', 'total eve charge', 'total night minutes', 'total night calls', 'total night charge', 'total intl minutes', 'total intl calls', 'total intl charge', 'customer service calls'], GradientBooster__loss=exponential, GradientBooster__max_depth=3, GradientBooster__max_features=8, GradientBooster__n_estimators=150, SMOTE__sampling_strategy=1, total=   1.4s\n",
      "[CV] ColumnTransformer__columns=['account length', 'international plan', 'voice mail plan', 'number vmail messages', 'total day minutes', 'total day calls', 'total day charge', 'total eve minutes', 'total eve calls', 'total eve charge', 'total night minutes', 'total night calls', 'total night charge', 'total intl minutes', 'total intl calls', 'total intl charge', 'customer service calls'], GradientBooster__loss=exponential, GradientBooster__max_depth=3, GradientBooster__max_features=None, GradientBooster__n_estimators=100, SMOTE__sampling_strategy=1 \n",
      "[CV]  ColumnTransformer__columns=['account length', 'international plan', 'voice mail plan', 'number vmail messages', 'total day minutes', 'total day calls', 'total day charge', 'total eve minutes', 'total eve calls', 'total eve charge', 'total night minutes', 'total night calls', 'total night charge', 'total intl minutes', 'total intl calls', 'total intl charge', 'customer service calls'], GradientBooster__loss=exponential, GradientBooster__max_depth=3, GradientBooster__max_features=None, GradientBooster__n_estimators=100, SMOTE__sampling_strategy=1, total=   1.6s\n",
      "[CV] ColumnTransformer__columns=['account length', 'international plan', 'voice mail plan', 'number vmail messages', 'total day minutes', 'total day calls', 'total day charge', 'total eve minutes', 'total eve calls', 'total eve charge', 'total night minutes', 'total night calls', 'total night charge', 'total intl minutes', 'total intl calls', 'total intl charge', 'customer service calls'], GradientBooster__loss=exponential, GradientBooster__max_depth=3, GradientBooster__max_features=None, GradientBooster__n_estimators=100, SMOTE__sampling_strategy=1 \n"
     ]
    },
    {
     "name": "stdout",
     "output_type": "stream",
     "text": [
      "[CV]  ColumnTransformer__columns=['account length', 'international plan', 'voice mail plan', 'number vmail messages', 'total day minutes', 'total day calls', 'total day charge', 'total eve minutes', 'total eve calls', 'total eve charge', 'total night minutes', 'total night calls', 'total night charge', 'total intl minutes', 'total intl calls', 'total intl charge', 'customer service calls'], GradientBooster__loss=exponential, GradientBooster__max_depth=3, GradientBooster__max_features=None, GradientBooster__n_estimators=100, SMOTE__sampling_strategy=1, total=   1.7s\n",
      "[CV] ColumnTransformer__columns=['account length', 'international plan', 'voice mail plan', 'number vmail messages', 'total day minutes', 'total day calls', 'total day charge', 'total eve minutes', 'total eve calls', 'total eve charge', 'total night minutes', 'total night calls', 'total night charge', 'total intl minutes', 'total intl calls', 'total intl charge', 'customer service calls'], GradientBooster__loss=exponential, GradientBooster__max_depth=3, GradientBooster__max_features=None, GradientBooster__n_estimators=100, SMOTE__sampling_strategy=1 \n",
      "[CV]  ColumnTransformer__columns=['account length', 'international plan', 'voice mail plan', 'number vmail messages', 'total day minutes', 'total day calls', 'total day charge', 'total eve minutes', 'total eve calls', 'total eve charge', 'total night minutes', 'total night calls', 'total night charge', 'total intl minutes', 'total intl calls', 'total intl charge', 'customer service calls'], GradientBooster__loss=exponential, GradientBooster__max_depth=3, GradientBooster__max_features=None, GradientBooster__n_estimators=100, SMOTE__sampling_strategy=1, total=   1.7s\n",
      "[CV] ColumnTransformer__columns=['account length', 'international plan', 'voice mail plan', 'number vmail messages', 'total day minutes', 'total day calls', 'total day charge', 'total eve minutes', 'total eve calls', 'total eve charge', 'total night minutes', 'total night calls', 'total night charge', 'total intl minutes', 'total intl calls', 'total intl charge', 'customer service calls'], GradientBooster__loss=exponential, GradientBooster__max_depth=3, GradientBooster__max_features=None, GradientBooster__n_estimators=100, SMOTE__sampling_strategy=1 \n",
      "[CV]  ColumnTransformer__columns=['account length', 'international plan', 'voice mail plan', 'number vmail messages', 'total day minutes', 'total day calls', 'total day charge', 'total eve minutes', 'total eve calls', 'total eve charge', 'total night minutes', 'total night calls', 'total night charge', 'total intl minutes', 'total intl calls', 'total intl charge', 'customer service calls'], GradientBooster__loss=exponential, GradientBooster__max_depth=3, GradientBooster__max_features=None, GradientBooster__n_estimators=100, SMOTE__sampling_strategy=1, total=   1.7s\n",
      "[CV] ColumnTransformer__columns=['account length', 'international plan', 'voice mail plan', 'number vmail messages', 'total day minutes', 'total day calls', 'total day charge', 'total eve minutes', 'total eve calls', 'total eve charge', 'total night minutes', 'total night calls', 'total night charge', 'total intl minutes', 'total intl calls', 'total intl charge', 'customer service calls'], GradientBooster__loss=exponential, GradientBooster__max_depth=3, GradientBooster__max_features=None, GradientBooster__n_estimators=100, SMOTE__sampling_strategy=1 \n",
      "[CV]  ColumnTransformer__columns=['account length', 'international plan', 'voice mail plan', 'number vmail messages', 'total day minutes', 'total day calls', 'total day charge', 'total eve minutes', 'total eve calls', 'total eve charge', 'total night minutes', 'total night calls', 'total night charge', 'total intl minutes', 'total intl calls', 'total intl charge', 'customer service calls'], GradientBooster__loss=exponential, GradientBooster__max_depth=3, GradientBooster__max_features=None, GradientBooster__n_estimators=100, SMOTE__sampling_strategy=1, total=   1.6s\n",
      "[CV] ColumnTransformer__columns=['account length', 'international plan', 'voice mail plan', 'number vmail messages', 'total day minutes', 'total day calls', 'total day charge', 'total eve minutes', 'total eve calls', 'total eve charge', 'total night minutes', 'total night calls', 'total night charge', 'total intl minutes', 'total intl calls', 'total intl charge', 'customer service calls'], GradientBooster__loss=exponential, GradientBooster__max_depth=3, GradientBooster__max_features=None, GradientBooster__n_estimators=150, SMOTE__sampling_strategy=1 \n",
      "[CV]  ColumnTransformer__columns=['account length', 'international plan', 'voice mail plan', 'number vmail messages', 'total day minutes', 'total day calls', 'total day charge', 'total eve minutes', 'total eve calls', 'total eve charge', 'total night minutes', 'total night calls', 'total night charge', 'total intl minutes', 'total intl calls', 'total intl charge', 'customer service calls'], GradientBooster__loss=exponential, GradientBooster__max_depth=3, GradientBooster__max_features=None, GradientBooster__n_estimators=150, SMOTE__sampling_strategy=1, total=   2.4s\n",
      "[CV] ColumnTransformer__columns=['account length', 'international plan', 'voice mail plan', 'number vmail messages', 'total day minutes', 'total day calls', 'total day charge', 'total eve minutes', 'total eve calls', 'total eve charge', 'total night minutes', 'total night calls', 'total night charge', 'total intl minutes', 'total intl calls', 'total intl charge', 'customer service calls'], GradientBooster__loss=exponential, GradientBooster__max_depth=3, GradientBooster__max_features=None, GradientBooster__n_estimators=150, SMOTE__sampling_strategy=1 \n",
      "[CV]  ColumnTransformer__columns=['account length', 'international plan', 'voice mail plan', 'number vmail messages', 'total day minutes', 'total day calls', 'total day charge', 'total eve minutes', 'total eve calls', 'total eve charge', 'total night minutes', 'total night calls', 'total night charge', 'total intl minutes', 'total intl calls', 'total intl charge', 'customer service calls'], GradientBooster__loss=exponential, GradientBooster__max_depth=3, GradientBooster__max_features=None, GradientBooster__n_estimators=150, SMOTE__sampling_strategy=1, total=   2.3s\n",
      "[CV] ColumnTransformer__columns=['account length', 'international plan', 'voice mail plan', 'number vmail messages', 'total day minutes', 'total day calls', 'total day charge', 'total eve minutes', 'total eve calls', 'total eve charge', 'total night minutes', 'total night calls', 'total night charge', 'total intl minutes', 'total intl calls', 'total intl charge', 'customer service calls'], GradientBooster__loss=exponential, GradientBooster__max_depth=3, GradientBooster__max_features=None, GradientBooster__n_estimators=150, SMOTE__sampling_strategy=1 \n",
      "[CV]  ColumnTransformer__columns=['account length', 'international plan', 'voice mail plan', 'number vmail messages', 'total day minutes', 'total day calls', 'total day charge', 'total eve minutes', 'total eve calls', 'total eve charge', 'total night minutes', 'total night calls', 'total night charge', 'total intl minutes', 'total intl calls', 'total intl charge', 'customer service calls'], GradientBooster__loss=exponential, GradientBooster__max_depth=3, GradientBooster__max_features=None, GradientBooster__n_estimators=150, SMOTE__sampling_strategy=1, total=   2.5s\n",
      "[CV] ColumnTransformer__columns=['account length', 'international plan', 'voice mail plan', 'number vmail messages', 'total day minutes', 'total day calls', 'total day charge', 'total eve minutes', 'total eve calls', 'total eve charge', 'total night minutes', 'total night calls', 'total night charge', 'total intl minutes', 'total intl calls', 'total intl charge', 'customer service calls'], GradientBooster__loss=exponential, GradientBooster__max_depth=3, GradientBooster__max_features=None, GradientBooster__n_estimators=150, SMOTE__sampling_strategy=1 \n",
      "[CV]  ColumnTransformer__columns=['account length', 'international plan', 'voice mail plan', 'number vmail messages', 'total day minutes', 'total day calls', 'total day charge', 'total eve minutes', 'total eve calls', 'total eve charge', 'total night minutes', 'total night calls', 'total night charge', 'total intl minutes', 'total intl calls', 'total intl charge', 'customer service calls'], GradientBooster__loss=exponential, GradientBooster__max_depth=3, GradientBooster__max_features=None, GradientBooster__n_estimators=150, SMOTE__sampling_strategy=1, total=   2.4s\n",
      "[CV] ColumnTransformer__columns=['account length', 'international plan', 'voice mail plan', 'number vmail messages', 'total day minutes', 'total day calls', 'total day charge', 'total eve minutes', 'total eve calls', 'total eve charge', 'total night minutes', 'total night calls', 'total night charge', 'total intl minutes', 'total intl calls', 'total intl charge', 'customer service calls'], GradientBooster__loss=exponential, GradientBooster__max_depth=3, GradientBooster__max_features=None, GradientBooster__n_estimators=150, SMOTE__sampling_strategy=1 \n"
     ]
    },
    {
     "name": "stdout",
     "output_type": "stream",
     "text": [
      "[CV]  ColumnTransformer__columns=['account length', 'international plan', 'voice mail plan', 'number vmail messages', 'total day minutes', 'total day calls', 'total day charge', 'total eve minutes', 'total eve calls', 'total eve charge', 'total night minutes', 'total night calls', 'total night charge', 'total intl minutes', 'total intl calls', 'total intl charge', 'customer service calls'], GradientBooster__loss=exponential, GradientBooster__max_depth=3, GradientBooster__max_features=None, GradientBooster__n_estimators=150, SMOTE__sampling_strategy=1, total=   2.5s\n",
      "[CV] ColumnTransformer__columns=['account length', 'international plan', 'voice mail plan', 'number vmail messages', 'total day minutes', 'total day calls', 'total day charge', 'total eve minutes', 'total eve calls', 'total eve charge', 'total night minutes', 'total night calls', 'total night charge', 'total intl minutes', 'total intl calls', 'total intl charge', 'customer service calls'], GradientBooster__loss=exponential, GradientBooster__max_depth=5, GradientBooster__max_features=auto, GradientBooster__n_estimators=100, SMOTE__sampling_strategy=1 \n",
      "[CV]  ColumnTransformer__columns=['account length', 'international plan', 'voice mail plan', 'number vmail messages', 'total day minutes', 'total day calls', 'total day charge', 'total eve minutes', 'total eve calls', 'total eve charge', 'total night minutes', 'total night calls', 'total night charge', 'total intl minutes', 'total intl calls', 'total intl charge', 'customer service calls'], GradientBooster__loss=exponential, GradientBooster__max_depth=5, GradientBooster__max_features=auto, GradientBooster__n_estimators=100, SMOTE__sampling_strategy=1, total=   2.6s\n",
      "[CV] ColumnTransformer__columns=['account length', 'international plan', 'voice mail plan', 'number vmail messages', 'total day minutes', 'total day calls', 'total day charge', 'total eve minutes', 'total eve calls', 'total eve charge', 'total night minutes', 'total night calls', 'total night charge', 'total intl minutes', 'total intl calls', 'total intl charge', 'customer service calls'], GradientBooster__loss=exponential, GradientBooster__max_depth=5, GradientBooster__max_features=auto, GradientBooster__n_estimators=100, SMOTE__sampling_strategy=1 \n",
      "[CV]  ColumnTransformer__columns=['account length', 'international plan', 'voice mail plan', 'number vmail messages', 'total day minutes', 'total day calls', 'total day charge', 'total eve minutes', 'total eve calls', 'total eve charge', 'total night minutes', 'total night calls', 'total night charge', 'total intl minutes', 'total intl calls', 'total intl charge', 'customer service calls'], GradientBooster__loss=exponential, GradientBooster__max_depth=5, GradientBooster__max_features=auto, GradientBooster__n_estimators=100, SMOTE__sampling_strategy=1, total=   3.0s\n",
      "[CV] ColumnTransformer__columns=['account length', 'international plan', 'voice mail plan', 'number vmail messages', 'total day minutes', 'total day calls', 'total day charge', 'total eve minutes', 'total eve calls', 'total eve charge', 'total night minutes', 'total night calls', 'total night charge', 'total intl minutes', 'total intl calls', 'total intl charge', 'customer service calls'], GradientBooster__loss=exponential, GradientBooster__max_depth=5, GradientBooster__max_features=auto, GradientBooster__n_estimators=100, SMOTE__sampling_strategy=1 \n",
      "[CV]  ColumnTransformer__columns=['account length', 'international plan', 'voice mail plan', 'number vmail messages', 'total day minutes', 'total day calls', 'total day charge', 'total eve minutes', 'total eve calls', 'total eve charge', 'total night minutes', 'total night calls', 'total night charge', 'total intl minutes', 'total intl calls', 'total intl charge', 'customer service calls'], GradientBooster__loss=exponential, GradientBooster__max_depth=5, GradientBooster__max_features=auto, GradientBooster__n_estimators=100, SMOTE__sampling_strategy=1, total=   3.3s\n",
      "[CV] ColumnTransformer__columns=['account length', 'international plan', 'voice mail plan', 'number vmail messages', 'total day minutes', 'total day calls', 'total day charge', 'total eve minutes', 'total eve calls', 'total eve charge', 'total night minutes', 'total night calls', 'total night charge', 'total intl minutes', 'total intl calls', 'total intl charge', 'customer service calls'], GradientBooster__loss=exponential, GradientBooster__max_depth=5, GradientBooster__max_features=auto, GradientBooster__n_estimators=100, SMOTE__sampling_strategy=1 \n",
      "[CV]  ColumnTransformer__columns=['account length', 'international plan', 'voice mail plan', 'number vmail messages', 'total day minutes', 'total day calls', 'total day charge', 'total eve minutes', 'total eve calls', 'total eve charge', 'total night minutes', 'total night calls', 'total night charge', 'total intl minutes', 'total intl calls', 'total intl charge', 'customer service calls'], GradientBooster__loss=exponential, GradientBooster__max_depth=5, GradientBooster__max_features=auto, GradientBooster__n_estimators=100, SMOTE__sampling_strategy=1, total=   3.2s\n",
      "[CV] ColumnTransformer__columns=['account length', 'international plan', 'voice mail plan', 'number vmail messages', 'total day minutes', 'total day calls', 'total day charge', 'total eve minutes', 'total eve calls', 'total eve charge', 'total night minutes', 'total night calls', 'total night charge', 'total intl minutes', 'total intl calls', 'total intl charge', 'customer service calls'], GradientBooster__loss=exponential, GradientBooster__max_depth=5, GradientBooster__max_features=auto, GradientBooster__n_estimators=100, SMOTE__sampling_strategy=1 \n",
      "[CV]  ColumnTransformer__columns=['account length', 'international plan', 'voice mail plan', 'number vmail messages', 'total day minutes', 'total day calls', 'total day charge', 'total eve minutes', 'total eve calls', 'total eve charge', 'total night minutes', 'total night calls', 'total night charge', 'total intl minutes', 'total intl calls', 'total intl charge', 'customer service calls'], GradientBooster__loss=exponential, GradientBooster__max_depth=5, GradientBooster__max_features=auto, GradientBooster__n_estimators=100, SMOTE__sampling_strategy=1, total=   2.8s\n",
      "[CV] ColumnTransformer__columns=['account length', 'international plan', 'voice mail plan', 'number vmail messages', 'total day minutes', 'total day calls', 'total day charge', 'total eve minutes', 'total eve calls', 'total eve charge', 'total night minutes', 'total night calls', 'total night charge', 'total intl minutes', 'total intl calls', 'total intl charge', 'customer service calls'], GradientBooster__loss=exponential, GradientBooster__max_depth=5, GradientBooster__max_features=auto, GradientBooster__n_estimators=150, SMOTE__sampling_strategy=1 \n",
      "[CV]  ColumnTransformer__columns=['account length', 'international plan', 'voice mail plan', 'number vmail messages', 'total day minutes', 'total day calls', 'total day charge', 'total eve minutes', 'total eve calls', 'total eve charge', 'total night minutes', 'total night calls', 'total night charge', 'total intl minutes', 'total intl calls', 'total intl charge', 'customer service calls'], GradientBooster__loss=exponential, GradientBooster__max_depth=5, GradientBooster__max_features=auto, GradientBooster__n_estimators=150, SMOTE__sampling_strategy=1, total=   4.6s\n",
      "[CV] ColumnTransformer__columns=['account length', 'international plan', 'voice mail plan', 'number vmail messages', 'total day minutes', 'total day calls', 'total day charge', 'total eve minutes', 'total eve calls', 'total eve charge', 'total night minutes', 'total night calls', 'total night charge', 'total intl minutes', 'total intl calls', 'total intl charge', 'customer service calls'], GradientBooster__loss=exponential, GradientBooster__max_depth=5, GradientBooster__max_features=auto, GradientBooster__n_estimators=150, SMOTE__sampling_strategy=1 \n",
      "[CV]  ColumnTransformer__columns=['account length', 'international plan', 'voice mail plan', 'number vmail messages', 'total day minutes', 'total day calls', 'total day charge', 'total eve minutes', 'total eve calls', 'total eve charge', 'total night minutes', 'total night calls', 'total night charge', 'total intl minutes', 'total intl calls', 'total intl charge', 'customer service calls'], GradientBooster__loss=exponential, GradientBooster__max_depth=5, GradientBooster__max_features=auto, GradientBooster__n_estimators=150, SMOTE__sampling_strategy=1, total=   5.2s\n",
      "[CV] ColumnTransformer__columns=['account length', 'international plan', 'voice mail plan', 'number vmail messages', 'total day minutes', 'total day calls', 'total day charge', 'total eve minutes', 'total eve calls', 'total eve charge', 'total night minutes', 'total night calls', 'total night charge', 'total intl minutes', 'total intl calls', 'total intl charge', 'customer service calls'], GradientBooster__loss=exponential, GradientBooster__max_depth=5, GradientBooster__max_features=auto, GradientBooster__n_estimators=150, SMOTE__sampling_strategy=1 \n"
     ]
    },
    {
     "name": "stdout",
     "output_type": "stream",
     "text": [
      "[CV]  ColumnTransformer__columns=['account length', 'international plan', 'voice mail plan', 'number vmail messages', 'total day minutes', 'total day calls', 'total day charge', 'total eve minutes', 'total eve calls', 'total eve charge', 'total night minutes', 'total night calls', 'total night charge', 'total intl minutes', 'total intl calls', 'total intl charge', 'customer service calls'], GradientBooster__loss=exponential, GradientBooster__max_depth=5, GradientBooster__max_features=auto, GradientBooster__n_estimators=150, SMOTE__sampling_strategy=1, total=   5.0s\n",
      "[CV] ColumnTransformer__columns=['account length', 'international plan', 'voice mail plan', 'number vmail messages', 'total day minutes', 'total day calls', 'total day charge', 'total eve minutes', 'total eve calls', 'total eve charge', 'total night minutes', 'total night calls', 'total night charge', 'total intl minutes', 'total intl calls', 'total intl charge', 'customer service calls'], GradientBooster__loss=exponential, GradientBooster__max_depth=5, GradientBooster__max_features=auto, GradientBooster__n_estimators=150, SMOTE__sampling_strategy=1 \n",
      "[CV]  ColumnTransformer__columns=['account length', 'international plan', 'voice mail plan', 'number vmail messages', 'total day minutes', 'total day calls', 'total day charge', 'total eve minutes', 'total eve calls', 'total eve charge', 'total night minutes', 'total night calls', 'total night charge', 'total intl minutes', 'total intl calls', 'total intl charge', 'customer service calls'], GradientBooster__loss=exponential, GradientBooster__max_depth=5, GradientBooster__max_features=auto, GradientBooster__n_estimators=150, SMOTE__sampling_strategy=1, total=   4.4s\n",
      "[CV] ColumnTransformer__columns=['account length', 'international plan', 'voice mail plan', 'number vmail messages', 'total day minutes', 'total day calls', 'total day charge', 'total eve minutes', 'total eve calls', 'total eve charge', 'total night minutes', 'total night calls', 'total night charge', 'total intl minutes', 'total intl calls', 'total intl charge', 'customer service calls'], GradientBooster__loss=exponential, GradientBooster__max_depth=5, GradientBooster__max_features=auto, GradientBooster__n_estimators=150, SMOTE__sampling_strategy=1 \n",
      "[CV]  ColumnTransformer__columns=['account length', 'international plan', 'voice mail plan', 'number vmail messages', 'total day minutes', 'total day calls', 'total day charge', 'total eve minutes', 'total eve calls', 'total eve charge', 'total night minutes', 'total night calls', 'total night charge', 'total intl minutes', 'total intl calls', 'total intl charge', 'customer service calls'], GradientBooster__loss=exponential, GradientBooster__max_depth=5, GradientBooster__max_features=auto, GradientBooster__n_estimators=150, SMOTE__sampling_strategy=1, total=   4.1s\n",
      "[CV] ColumnTransformer__columns=['account length', 'international plan', 'voice mail plan', 'number vmail messages', 'total day minutes', 'total day calls', 'total day charge', 'total eve minutes', 'total eve calls', 'total eve charge', 'total night minutes', 'total night calls', 'total night charge', 'total intl minutes', 'total intl calls', 'total intl charge', 'customer service calls'], GradientBooster__loss=exponential, GradientBooster__max_depth=5, GradientBooster__max_features=8, GradientBooster__n_estimators=100, SMOTE__sampling_strategy=1 \n",
      "[CV]  ColumnTransformer__columns=['account length', 'international plan', 'voice mail plan', 'number vmail messages', 'total day minutes', 'total day calls', 'total day charge', 'total eve minutes', 'total eve calls', 'total eve charge', 'total night minutes', 'total night calls', 'total night charge', 'total intl minutes', 'total intl calls', 'total intl charge', 'customer service calls'], GradientBooster__loss=exponential, GradientBooster__max_depth=5, GradientBooster__max_features=8, GradientBooster__n_estimators=100, SMOTE__sampling_strategy=1, total=   1.6s\n",
      "[CV] ColumnTransformer__columns=['account length', 'international plan', 'voice mail plan', 'number vmail messages', 'total day minutes', 'total day calls', 'total day charge', 'total eve minutes', 'total eve calls', 'total eve charge', 'total night minutes', 'total night calls', 'total night charge', 'total intl minutes', 'total intl calls', 'total intl charge', 'customer service calls'], GradientBooster__loss=exponential, GradientBooster__max_depth=5, GradientBooster__max_features=8, GradientBooster__n_estimators=100, SMOTE__sampling_strategy=1 \n",
      "[CV]  ColumnTransformer__columns=['account length', 'international plan', 'voice mail plan', 'number vmail messages', 'total day minutes', 'total day calls', 'total day charge', 'total eve minutes', 'total eve calls', 'total eve charge', 'total night minutes', 'total night calls', 'total night charge', 'total intl minutes', 'total intl calls', 'total intl charge', 'customer service calls'], GradientBooster__loss=exponential, GradientBooster__max_depth=5, GradientBooster__max_features=8, GradientBooster__n_estimators=100, SMOTE__sampling_strategy=1, total=   1.6s\n",
      "[CV] ColumnTransformer__columns=['account length', 'international plan', 'voice mail plan', 'number vmail messages', 'total day minutes', 'total day calls', 'total day charge', 'total eve minutes', 'total eve calls', 'total eve charge', 'total night minutes', 'total night calls', 'total night charge', 'total intl minutes', 'total intl calls', 'total intl charge', 'customer service calls'], GradientBooster__loss=exponential, GradientBooster__max_depth=5, GradientBooster__max_features=8, GradientBooster__n_estimators=100, SMOTE__sampling_strategy=1 \n",
      "[CV]  ColumnTransformer__columns=['account length', 'international plan', 'voice mail plan', 'number vmail messages', 'total day minutes', 'total day calls', 'total day charge', 'total eve minutes', 'total eve calls', 'total eve charge', 'total night minutes', 'total night calls', 'total night charge', 'total intl minutes', 'total intl calls', 'total intl charge', 'customer service calls'], GradientBooster__loss=exponential, GradientBooster__max_depth=5, GradientBooster__max_features=8, GradientBooster__n_estimators=100, SMOTE__sampling_strategy=1, total=   1.5s\n",
      "[CV] ColumnTransformer__columns=['account length', 'international plan', 'voice mail plan', 'number vmail messages', 'total day minutes', 'total day calls', 'total day charge', 'total eve minutes', 'total eve calls', 'total eve charge', 'total night minutes', 'total night calls', 'total night charge', 'total intl minutes', 'total intl calls', 'total intl charge', 'customer service calls'], GradientBooster__loss=exponential, GradientBooster__max_depth=5, GradientBooster__max_features=8, GradientBooster__n_estimators=100, SMOTE__sampling_strategy=1 \n",
      "[CV]  ColumnTransformer__columns=['account length', 'international plan', 'voice mail plan', 'number vmail messages', 'total day minutes', 'total day calls', 'total day charge', 'total eve minutes', 'total eve calls', 'total eve charge', 'total night minutes', 'total night calls', 'total night charge', 'total intl minutes', 'total intl calls', 'total intl charge', 'customer service calls'], GradientBooster__loss=exponential, GradientBooster__max_depth=5, GradientBooster__max_features=8, GradientBooster__n_estimators=100, SMOTE__sampling_strategy=1, total=   1.5s\n",
      "[CV] ColumnTransformer__columns=['account length', 'international plan', 'voice mail plan', 'number vmail messages', 'total day minutes', 'total day calls', 'total day charge', 'total eve minutes', 'total eve calls', 'total eve charge', 'total night minutes', 'total night calls', 'total night charge', 'total intl minutes', 'total intl calls', 'total intl charge', 'customer service calls'], GradientBooster__loss=exponential, GradientBooster__max_depth=5, GradientBooster__max_features=8, GradientBooster__n_estimators=100, SMOTE__sampling_strategy=1 \n",
      "[CV]  ColumnTransformer__columns=['account length', 'international plan', 'voice mail plan', 'number vmail messages', 'total day minutes', 'total day calls', 'total day charge', 'total eve minutes', 'total eve calls', 'total eve charge', 'total night minutes', 'total night calls', 'total night charge', 'total intl minutes', 'total intl calls', 'total intl charge', 'customer service calls'], GradientBooster__loss=exponential, GradientBooster__max_depth=5, GradientBooster__max_features=8, GradientBooster__n_estimators=100, SMOTE__sampling_strategy=1, total=   1.5s\n",
      "[CV] ColumnTransformer__columns=['account length', 'international plan', 'voice mail plan', 'number vmail messages', 'total day minutes', 'total day calls', 'total day charge', 'total eve minutes', 'total eve calls', 'total eve charge', 'total night minutes', 'total night calls', 'total night charge', 'total intl minutes', 'total intl calls', 'total intl charge', 'customer service calls'], GradientBooster__loss=exponential, GradientBooster__max_depth=5, GradientBooster__max_features=8, GradientBooster__n_estimators=150, SMOTE__sampling_strategy=1 \n"
     ]
    },
    {
     "name": "stdout",
     "output_type": "stream",
     "text": [
      "[CV]  ColumnTransformer__columns=['account length', 'international plan', 'voice mail plan', 'number vmail messages', 'total day minutes', 'total day calls', 'total day charge', 'total eve minutes', 'total eve calls', 'total eve charge', 'total night minutes', 'total night calls', 'total night charge', 'total intl minutes', 'total intl calls', 'total intl charge', 'customer service calls'], GradientBooster__loss=exponential, GradientBooster__max_depth=5, GradientBooster__max_features=8, GradientBooster__n_estimators=150, SMOTE__sampling_strategy=1, total=   2.3s\n",
      "[CV] ColumnTransformer__columns=['account length', 'international plan', 'voice mail plan', 'number vmail messages', 'total day minutes', 'total day calls', 'total day charge', 'total eve minutes', 'total eve calls', 'total eve charge', 'total night minutes', 'total night calls', 'total night charge', 'total intl minutes', 'total intl calls', 'total intl charge', 'customer service calls'], GradientBooster__loss=exponential, GradientBooster__max_depth=5, GradientBooster__max_features=8, GradientBooster__n_estimators=150, SMOTE__sampling_strategy=1 \n",
      "[CV]  ColumnTransformer__columns=['account length', 'international plan', 'voice mail plan', 'number vmail messages', 'total day minutes', 'total day calls', 'total day charge', 'total eve minutes', 'total eve calls', 'total eve charge', 'total night minutes', 'total night calls', 'total night charge', 'total intl minutes', 'total intl calls', 'total intl charge', 'customer service calls'], GradientBooster__loss=exponential, GradientBooster__max_depth=5, GradientBooster__max_features=8, GradientBooster__n_estimators=150, SMOTE__sampling_strategy=1, total=   2.4s\n",
      "[CV] ColumnTransformer__columns=['account length', 'international plan', 'voice mail plan', 'number vmail messages', 'total day minutes', 'total day calls', 'total day charge', 'total eve minutes', 'total eve calls', 'total eve charge', 'total night minutes', 'total night calls', 'total night charge', 'total intl minutes', 'total intl calls', 'total intl charge', 'customer service calls'], GradientBooster__loss=exponential, GradientBooster__max_depth=5, GradientBooster__max_features=8, GradientBooster__n_estimators=150, SMOTE__sampling_strategy=1 \n",
      "[CV]  ColumnTransformer__columns=['account length', 'international plan', 'voice mail plan', 'number vmail messages', 'total day minutes', 'total day calls', 'total day charge', 'total eve minutes', 'total eve calls', 'total eve charge', 'total night minutes', 'total night calls', 'total night charge', 'total intl minutes', 'total intl calls', 'total intl charge', 'customer service calls'], GradientBooster__loss=exponential, GradientBooster__max_depth=5, GradientBooster__max_features=8, GradientBooster__n_estimators=150, SMOTE__sampling_strategy=1, total=   2.2s\n",
      "[CV] ColumnTransformer__columns=['account length', 'international plan', 'voice mail plan', 'number vmail messages', 'total day minutes', 'total day calls', 'total day charge', 'total eve minutes', 'total eve calls', 'total eve charge', 'total night minutes', 'total night calls', 'total night charge', 'total intl minutes', 'total intl calls', 'total intl charge', 'customer service calls'], GradientBooster__loss=exponential, GradientBooster__max_depth=5, GradientBooster__max_features=8, GradientBooster__n_estimators=150, SMOTE__sampling_strategy=1 \n",
      "[CV]  ColumnTransformer__columns=['account length', 'international plan', 'voice mail plan', 'number vmail messages', 'total day minutes', 'total day calls', 'total day charge', 'total eve minutes', 'total eve calls', 'total eve charge', 'total night minutes', 'total night calls', 'total night charge', 'total intl minutes', 'total intl calls', 'total intl charge', 'customer service calls'], GradientBooster__loss=exponential, GradientBooster__max_depth=5, GradientBooster__max_features=8, GradientBooster__n_estimators=150, SMOTE__sampling_strategy=1, total=   2.3s\n",
      "[CV] ColumnTransformer__columns=['account length', 'international plan', 'voice mail plan', 'number vmail messages', 'total day minutes', 'total day calls', 'total day charge', 'total eve minutes', 'total eve calls', 'total eve charge', 'total night minutes', 'total night calls', 'total night charge', 'total intl minutes', 'total intl calls', 'total intl charge', 'customer service calls'], GradientBooster__loss=exponential, GradientBooster__max_depth=5, GradientBooster__max_features=8, GradientBooster__n_estimators=150, SMOTE__sampling_strategy=1 \n",
      "[CV]  ColumnTransformer__columns=['account length', 'international plan', 'voice mail plan', 'number vmail messages', 'total day minutes', 'total day calls', 'total day charge', 'total eve minutes', 'total eve calls', 'total eve charge', 'total night minutes', 'total night calls', 'total night charge', 'total intl minutes', 'total intl calls', 'total intl charge', 'customer service calls'], GradientBooster__loss=exponential, GradientBooster__max_depth=5, GradientBooster__max_features=8, GradientBooster__n_estimators=150, SMOTE__sampling_strategy=1, total=   2.3s\n",
      "[CV] ColumnTransformer__columns=['account length', 'international plan', 'voice mail plan', 'number vmail messages', 'total day minutes', 'total day calls', 'total day charge', 'total eve minutes', 'total eve calls', 'total eve charge', 'total night minutes', 'total night calls', 'total night charge', 'total intl minutes', 'total intl calls', 'total intl charge', 'customer service calls'], GradientBooster__loss=exponential, GradientBooster__max_depth=5, GradientBooster__max_features=None, GradientBooster__n_estimators=100, SMOTE__sampling_strategy=1 \n",
      "[CV]  ColumnTransformer__columns=['account length', 'international plan', 'voice mail plan', 'number vmail messages', 'total day minutes', 'total day calls', 'total day charge', 'total eve minutes', 'total eve calls', 'total eve charge', 'total night minutes', 'total night calls', 'total night charge', 'total intl minutes', 'total intl calls', 'total intl charge', 'customer service calls'], GradientBooster__loss=exponential, GradientBooster__max_depth=5, GradientBooster__max_features=None, GradientBooster__n_estimators=100, SMOTE__sampling_strategy=1, total=   2.8s\n",
      "[CV] ColumnTransformer__columns=['account length', 'international plan', 'voice mail plan', 'number vmail messages', 'total day minutes', 'total day calls', 'total day charge', 'total eve minutes', 'total eve calls', 'total eve charge', 'total night minutes', 'total night calls', 'total night charge', 'total intl minutes', 'total intl calls', 'total intl charge', 'customer service calls'], GradientBooster__loss=exponential, GradientBooster__max_depth=5, GradientBooster__max_features=None, GradientBooster__n_estimators=100, SMOTE__sampling_strategy=1 \n",
      "[CV]  ColumnTransformer__columns=['account length', 'international plan', 'voice mail plan', 'number vmail messages', 'total day minutes', 'total day calls', 'total day charge', 'total eve minutes', 'total eve calls', 'total eve charge', 'total night minutes', 'total night calls', 'total night charge', 'total intl minutes', 'total intl calls', 'total intl charge', 'customer service calls'], GradientBooster__loss=exponential, GradientBooster__max_depth=5, GradientBooster__max_features=None, GradientBooster__n_estimators=100, SMOTE__sampling_strategy=1, total=   2.8s\n",
      "[CV] ColumnTransformer__columns=['account length', 'international plan', 'voice mail plan', 'number vmail messages', 'total day minutes', 'total day calls', 'total day charge', 'total eve minutes', 'total eve calls', 'total eve charge', 'total night minutes', 'total night calls', 'total night charge', 'total intl minutes', 'total intl calls', 'total intl charge', 'customer service calls'], GradientBooster__loss=exponential, GradientBooster__max_depth=5, GradientBooster__max_features=None, GradientBooster__n_estimators=100, SMOTE__sampling_strategy=1 \n",
      "[CV]  ColumnTransformer__columns=['account length', 'international plan', 'voice mail plan', 'number vmail messages', 'total day minutes', 'total day calls', 'total day charge', 'total eve minutes', 'total eve calls', 'total eve charge', 'total night minutes', 'total night calls', 'total night charge', 'total intl minutes', 'total intl calls', 'total intl charge', 'customer service calls'], GradientBooster__loss=exponential, GradientBooster__max_depth=5, GradientBooster__max_features=None, GradientBooster__n_estimators=100, SMOTE__sampling_strategy=1, total=   2.9s\n",
      "[CV] ColumnTransformer__columns=['account length', 'international plan', 'voice mail plan', 'number vmail messages', 'total day minutes', 'total day calls', 'total day charge', 'total eve minutes', 'total eve calls', 'total eve charge', 'total night minutes', 'total night calls', 'total night charge', 'total intl minutes', 'total intl calls', 'total intl charge', 'customer service calls'], GradientBooster__loss=exponential, GradientBooster__max_depth=5, GradientBooster__max_features=None, GradientBooster__n_estimators=100, SMOTE__sampling_strategy=1 \n"
     ]
    },
    {
     "name": "stdout",
     "output_type": "stream",
     "text": [
      "[CV]  ColumnTransformer__columns=['account length', 'international plan', 'voice mail plan', 'number vmail messages', 'total day minutes', 'total day calls', 'total day charge', 'total eve minutes', 'total eve calls', 'total eve charge', 'total night minutes', 'total night calls', 'total night charge', 'total intl minutes', 'total intl calls', 'total intl charge', 'customer service calls'], GradientBooster__loss=exponential, GradientBooster__max_depth=5, GradientBooster__max_features=None, GradientBooster__n_estimators=100, SMOTE__sampling_strategy=1, total=   2.9s\n",
      "[CV] ColumnTransformer__columns=['account length', 'international plan', 'voice mail plan', 'number vmail messages', 'total day minutes', 'total day calls', 'total day charge', 'total eve minutes', 'total eve calls', 'total eve charge', 'total night minutes', 'total night calls', 'total night charge', 'total intl minutes', 'total intl calls', 'total intl charge', 'customer service calls'], GradientBooster__loss=exponential, GradientBooster__max_depth=5, GradientBooster__max_features=None, GradientBooster__n_estimators=100, SMOTE__sampling_strategy=1 \n",
      "[CV]  ColumnTransformer__columns=['account length', 'international plan', 'voice mail plan', 'number vmail messages', 'total day minutes', 'total day calls', 'total day charge', 'total eve minutes', 'total eve calls', 'total eve charge', 'total night minutes', 'total night calls', 'total night charge', 'total intl minutes', 'total intl calls', 'total intl charge', 'customer service calls'], GradientBooster__loss=exponential, GradientBooster__max_depth=5, GradientBooster__max_features=None, GradientBooster__n_estimators=100, SMOTE__sampling_strategy=1, total=   2.8s\n",
      "[CV] ColumnTransformer__columns=['account length', 'international plan', 'voice mail plan', 'number vmail messages', 'total day minutes', 'total day calls', 'total day charge', 'total eve minutes', 'total eve calls', 'total eve charge', 'total night minutes', 'total night calls', 'total night charge', 'total intl minutes', 'total intl calls', 'total intl charge', 'customer service calls'], GradientBooster__loss=exponential, GradientBooster__max_depth=5, GradientBooster__max_features=None, GradientBooster__n_estimators=150, SMOTE__sampling_strategy=1 \n",
      "[CV]  ColumnTransformer__columns=['account length', 'international plan', 'voice mail plan', 'number vmail messages', 'total day minutes', 'total day calls', 'total day charge', 'total eve minutes', 'total eve calls', 'total eve charge', 'total night minutes', 'total night calls', 'total night charge', 'total intl minutes', 'total intl calls', 'total intl charge', 'customer service calls'], GradientBooster__loss=exponential, GradientBooster__max_depth=5, GradientBooster__max_features=None, GradientBooster__n_estimators=150, SMOTE__sampling_strategy=1, total=   4.2s\n",
      "[CV] ColumnTransformer__columns=['account length', 'international plan', 'voice mail plan', 'number vmail messages', 'total day minutes', 'total day calls', 'total day charge', 'total eve minutes', 'total eve calls', 'total eve charge', 'total night minutes', 'total night calls', 'total night charge', 'total intl minutes', 'total intl calls', 'total intl charge', 'customer service calls'], GradientBooster__loss=exponential, GradientBooster__max_depth=5, GradientBooster__max_features=None, GradientBooster__n_estimators=150, SMOTE__sampling_strategy=1 \n",
      "[CV]  ColumnTransformer__columns=['account length', 'international plan', 'voice mail plan', 'number vmail messages', 'total day minutes', 'total day calls', 'total day charge', 'total eve minutes', 'total eve calls', 'total eve charge', 'total night minutes', 'total night calls', 'total night charge', 'total intl minutes', 'total intl calls', 'total intl charge', 'customer service calls'], GradientBooster__loss=exponential, GradientBooster__max_depth=5, GradientBooster__max_features=None, GradientBooster__n_estimators=150, SMOTE__sampling_strategy=1, total=   4.2s\n",
      "[CV] ColumnTransformer__columns=['account length', 'international plan', 'voice mail plan', 'number vmail messages', 'total day minutes', 'total day calls', 'total day charge', 'total eve minutes', 'total eve calls', 'total eve charge', 'total night minutes', 'total night calls', 'total night charge', 'total intl minutes', 'total intl calls', 'total intl charge', 'customer service calls'], GradientBooster__loss=exponential, GradientBooster__max_depth=5, GradientBooster__max_features=None, GradientBooster__n_estimators=150, SMOTE__sampling_strategy=1 \n",
      "[CV]  ColumnTransformer__columns=['account length', 'international plan', 'voice mail plan', 'number vmail messages', 'total day minutes', 'total day calls', 'total day charge', 'total eve minutes', 'total eve calls', 'total eve charge', 'total night minutes', 'total night calls', 'total night charge', 'total intl minutes', 'total intl calls', 'total intl charge', 'customer service calls'], GradientBooster__loss=exponential, GradientBooster__max_depth=5, GradientBooster__max_features=None, GradientBooster__n_estimators=150, SMOTE__sampling_strategy=1, total=   4.4s\n",
      "[CV] ColumnTransformer__columns=['account length', 'international plan', 'voice mail plan', 'number vmail messages', 'total day minutes', 'total day calls', 'total day charge', 'total eve minutes', 'total eve calls', 'total eve charge', 'total night minutes', 'total night calls', 'total night charge', 'total intl minutes', 'total intl calls', 'total intl charge', 'customer service calls'], GradientBooster__loss=exponential, GradientBooster__max_depth=5, GradientBooster__max_features=None, GradientBooster__n_estimators=150, SMOTE__sampling_strategy=1 \n",
      "[CV]  ColumnTransformer__columns=['account length', 'international plan', 'voice mail plan', 'number vmail messages', 'total day minutes', 'total day calls', 'total day charge', 'total eve minutes', 'total eve calls', 'total eve charge', 'total night minutes', 'total night calls', 'total night charge', 'total intl minutes', 'total intl calls', 'total intl charge', 'customer service calls'], GradientBooster__loss=exponential, GradientBooster__max_depth=5, GradientBooster__max_features=None, GradientBooster__n_estimators=150, SMOTE__sampling_strategy=1, total=   5.3s\n",
      "[CV] ColumnTransformer__columns=['account length', 'international plan', 'voice mail plan', 'number vmail messages', 'total day minutes', 'total day calls', 'total day charge', 'total eve minutes', 'total eve calls', 'total eve charge', 'total night minutes', 'total night calls', 'total night charge', 'total intl minutes', 'total intl calls', 'total intl charge', 'customer service calls'], GradientBooster__loss=exponential, GradientBooster__max_depth=5, GradientBooster__max_features=None, GradientBooster__n_estimators=150, SMOTE__sampling_strategy=1 \n",
      "[CV]  ColumnTransformer__columns=['account length', 'international plan', 'voice mail plan', 'number vmail messages', 'total day minutes', 'total day calls', 'total day charge', 'total eve minutes', 'total eve calls', 'total eve charge', 'total night minutes', 'total night calls', 'total night charge', 'total intl minutes', 'total intl calls', 'total intl charge', 'customer service calls'], GradientBooster__loss=exponential, GradientBooster__max_depth=5, GradientBooster__max_features=None, GradientBooster__n_estimators=150, SMOTE__sampling_strategy=1, total=   4.6s\n",
      "[CV] ColumnTransformer__columns=['account length', 'international plan', 'voice mail plan', 'number vmail messages', 'total day minutes', 'total day calls', 'total day charge', 'total eve minutes', 'total eve calls', 'total eve charge', 'total night minutes', 'total night calls', 'total night charge', 'total intl minutes', 'total intl calls', 'total intl charge', 'customer service calls', 'total charge', 'total minutes', 'total calls', 'avg minutes per domestic call', 'competition'], GradientBooster__loss=deviance, GradientBooster__max_depth=3, GradientBooster__max_features=auto, GradientBooster__n_estimators=100, SMOTE__sampling_strategy=1 \n",
      "[CV]  ColumnTransformer__columns=['account length', 'international plan', 'voice mail plan', 'number vmail messages', 'total day minutes', 'total day calls', 'total day charge', 'total eve minutes', 'total eve calls', 'total eve charge', 'total night minutes', 'total night calls', 'total night charge', 'total intl minutes', 'total intl calls', 'total intl charge', 'customer service calls', 'total charge', 'total minutes', 'total calls', 'avg minutes per domestic call', 'competition'], GradientBooster__loss=deviance, GradientBooster__max_depth=3, GradientBooster__max_features=auto, GradientBooster__n_estimators=100, SMOTE__sampling_strategy=1, total=   2.3s\n",
      "[CV] ColumnTransformer__columns=['account length', 'international plan', 'voice mail plan', 'number vmail messages', 'total day minutes', 'total day calls', 'total day charge', 'total eve minutes', 'total eve calls', 'total eve charge', 'total night minutes', 'total night calls', 'total night charge', 'total intl minutes', 'total intl calls', 'total intl charge', 'customer service calls', 'total charge', 'total minutes', 'total calls', 'avg minutes per domestic call', 'competition'], GradientBooster__loss=deviance, GradientBooster__max_depth=3, GradientBooster__max_features=auto, GradientBooster__n_estimators=100, SMOTE__sampling_strategy=1 \n"
     ]
    },
    {
     "name": "stdout",
     "output_type": "stream",
     "text": [
      "[CV]  ColumnTransformer__columns=['account length', 'international plan', 'voice mail plan', 'number vmail messages', 'total day minutes', 'total day calls', 'total day charge', 'total eve minutes', 'total eve calls', 'total eve charge', 'total night minutes', 'total night calls', 'total night charge', 'total intl minutes', 'total intl calls', 'total intl charge', 'customer service calls', 'total charge', 'total minutes', 'total calls', 'avg minutes per domestic call', 'competition'], GradientBooster__loss=deviance, GradientBooster__max_depth=3, GradientBooster__max_features=auto, GradientBooster__n_estimators=100, SMOTE__sampling_strategy=1, total=   2.5s\n",
      "[CV] ColumnTransformer__columns=['account length', 'international plan', 'voice mail plan', 'number vmail messages', 'total day minutes', 'total day calls', 'total day charge', 'total eve minutes', 'total eve calls', 'total eve charge', 'total night minutes', 'total night calls', 'total night charge', 'total intl minutes', 'total intl calls', 'total intl charge', 'customer service calls', 'total charge', 'total minutes', 'total calls', 'avg minutes per domestic call', 'competition'], GradientBooster__loss=deviance, GradientBooster__max_depth=3, GradientBooster__max_features=auto, GradientBooster__n_estimators=100, SMOTE__sampling_strategy=1 \n",
      "[CV]  ColumnTransformer__columns=['account length', 'international plan', 'voice mail plan', 'number vmail messages', 'total day minutes', 'total day calls', 'total day charge', 'total eve minutes', 'total eve calls', 'total eve charge', 'total night minutes', 'total night calls', 'total night charge', 'total intl minutes', 'total intl calls', 'total intl charge', 'customer service calls', 'total charge', 'total minutes', 'total calls', 'avg minutes per domestic call', 'competition'], GradientBooster__loss=deviance, GradientBooster__max_depth=3, GradientBooster__max_features=auto, GradientBooster__n_estimators=100, SMOTE__sampling_strategy=1, total=   2.2s\n",
      "[CV] ColumnTransformer__columns=['account length', 'international plan', 'voice mail plan', 'number vmail messages', 'total day minutes', 'total day calls', 'total day charge', 'total eve minutes', 'total eve calls', 'total eve charge', 'total night minutes', 'total night calls', 'total night charge', 'total intl minutes', 'total intl calls', 'total intl charge', 'customer service calls', 'total charge', 'total minutes', 'total calls', 'avg minutes per domestic call', 'competition'], GradientBooster__loss=deviance, GradientBooster__max_depth=3, GradientBooster__max_features=auto, GradientBooster__n_estimators=100, SMOTE__sampling_strategy=1 \n",
      "[CV]  ColumnTransformer__columns=['account length', 'international plan', 'voice mail plan', 'number vmail messages', 'total day minutes', 'total day calls', 'total day charge', 'total eve minutes', 'total eve calls', 'total eve charge', 'total night minutes', 'total night calls', 'total night charge', 'total intl minutes', 'total intl calls', 'total intl charge', 'customer service calls', 'total charge', 'total minutes', 'total calls', 'avg minutes per domestic call', 'competition'], GradientBooster__loss=deviance, GradientBooster__max_depth=3, GradientBooster__max_features=auto, GradientBooster__n_estimators=100, SMOTE__sampling_strategy=1, total=   2.2s\n",
      "[CV] ColumnTransformer__columns=['account length', 'international plan', 'voice mail plan', 'number vmail messages', 'total day minutes', 'total day calls', 'total day charge', 'total eve minutes', 'total eve calls', 'total eve charge', 'total night minutes', 'total night calls', 'total night charge', 'total intl minutes', 'total intl calls', 'total intl charge', 'customer service calls', 'total charge', 'total minutes', 'total calls', 'avg minutes per domestic call', 'competition'], GradientBooster__loss=deviance, GradientBooster__max_depth=3, GradientBooster__max_features=auto, GradientBooster__n_estimators=100, SMOTE__sampling_strategy=1 \n",
      "[CV]  ColumnTransformer__columns=['account length', 'international plan', 'voice mail plan', 'number vmail messages', 'total day minutes', 'total day calls', 'total day charge', 'total eve minutes', 'total eve calls', 'total eve charge', 'total night minutes', 'total night calls', 'total night charge', 'total intl minutes', 'total intl calls', 'total intl charge', 'customer service calls', 'total charge', 'total minutes', 'total calls', 'avg minutes per domestic call', 'competition'], GradientBooster__loss=deviance, GradientBooster__max_depth=3, GradientBooster__max_features=auto, GradientBooster__n_estimators=100, SMOTE__sampling_strategy=1, total=   2.2s\n",
      "[CV] ColumnTransformer__columns=['account length', 'international plan', 'voice mail plan', 'number vmail messages', 'total day minutes', 'total day calls', 'total day charge', 'total eve minutes', 'total eve calls', 'total eve charge', 'total night minutes', 'total night calls', 'total night charge', 'total intl minutes', 'total intl calls', 'total intl charge', 'customer service calls', 'total charge', 'total minutes', 'total calls', 'avg minutes per domestic call', 'competition'], GradientBooster__loss=deviance, GradientBooster__max_depth=3, GradientBooster__max_features=auto, GradientBooster__n_estimators=150, SMOTE__sampling_strategy=1 \n",
      "[CV]  ColumnTransformer__columns=['account length', 'international plan', 'voice mail plan', 'number vmail messages', 'total day minutes', 'total day calls', 'total day charge', 'total eve minutes', 'total eve calls', 'total eve charge', 'total night minutes', 'total night calls', 'total night charge', 'total intl minutes', 'total intl calls', 'total intl charge', 'customer service calls', 'total charge', 'total minutes', 'total calls', 'avg minutes per domestic call', 'competition'], GradientBooster__loss=deviance, GradientBooster__max_depth=3, GradientBooster__max_features=auto, GradientBooster__n_estimators=150, SMOTE__sampling_strategy=1, total=   3.3s\n",
      "[CV] ColumnTransformer__columns=['account length', 'international plan', 'voice mail plan', 'number vmail messages', 'total day minutes', 'total day calls', 'total day charge', 'total eve minutes', 'total eve calls', 'total eve charge', 'total night minutes', 'total night calls', 'total night charge', 'total intl minutes', 'total intl calls', 'total intl charge', 'customer service calls', 'total charge', 'total minutes', 'total calls', 'avg minutes per domestic call', 'competition'], GradientBooster__loss=deviance, GradientBooster__max_depth=3, GradientBooster__max_features=auto, GradientBooster__n_estimators=150, SMOTE__sampling_strategy=1 \n",
      "[CV]  ColumnTransformer__columns=['account length', 'international plan', 'voice mail plan', 'number vmail messages', 'total day minutes', 'total day calls', 'total day charge', 'total eve minutes', 'total eve calls', 'total eve charge', 'total night minutes', 'total night calls', 'total night charge', 'total intl minutes', 'total intl calls', 'total intl charge', 'customer service calls', 'total charge', 'total minutes', 'total calls', 'avg minutes per domestic call', 'competition'], GradientBooster__loss=deviance, GradientBooster__max_depth=3, GradientBooster__max_features=auto, GradientBooster__n_estimators=150, SMOTE__sampling_strategy=1, total=   3.5s\n",
      "[CV] ColumnTransformer__columns=['account length', 'international plan', 'voice mail plan', 'number vmail messages', 'total day minutes', 'total day calls', 'total day charge', 'total eve minutes', 'total eve calls', 'total eve charge', 'total night minutes', 'total night calls', 'total night charge', 'total intl minutes', 'total intl calls', 'total intl charge', 'customer service calls', 'total charge', 'total minutes', 'total calls', 'avg minutes per domestic call', 'competition'], GradientBooster__loss=deviance, GradientBooster__max_depth=3, GradientBooster__max_features=auto, GradientBooster__n_estimators=150, SMOTE__sampling_strategy=1 \n",
      "[CV]  ColumnTransformer__columns=['account length', 'international plan', 'voice mail plan', 'number vmail messages', 'total day minutes', 'total day calls', 'total day charge', 'total eve minutes', 'total eve calls', 'total eve charge', 'total night minutes', 'total night calls', 'total night charge', 'total intl minutes', 'total intl calls', 'total intl charge', 'customer service calls', 'total charge', 'total minutes', 'total calls', 'avg minutes per domestic call', 'competition'], GradientBooster__loss=deviance, GradientBooster__max_depth=3, GradientBooster__max_features=auto, GradientBooster__n_estimators=150, SMOTE__sampling_strategy=1, total=   3.4s\n",
      "[CV] ColumnTransformer__columns=['account length', 'international plan', 'voice mail plan', 'number vmail messages', 'total day minutes', 'total day calls', 'total day charge', 'total eve minutes', 'total eve calls', 'total eve charge', 'total night minutes', 'total night calls', 'total night charge', 'total intl minutes', 'total intl calls', 'total intl charge', 'customer service calls', 'total charge', 'total minutes', 'total calls', 'avg minutes per domestic call', 'competition'], GradientBooster__loss=deviance, GradientBooster__max_depth=3, GradientBooster__max_features=auto, GradientBooster__n_estimators=150, SMOTE__sampling_strategy=1 \n"
     ]
    },
    {
     "name": "stdout",
     "output_type": "stream",
     "text": [
      "[CV]  ColumnTransformer__columns=['account length', 'international plan', 'voice mail plan', 'number vmail messages', 'total day minutes', 'total day calls', 'total day charge', 'total eve minutes', 'total eve calls', 'total eve charge', 'total night minutes', 'total night calls', 'total night charge', 'total intl minutes', 'total intl calls', 'total intl charge', 'customer service calls', 'total charge', 'total minutes', 'total calls', 'avg minutes per domestic call', 'competition'], GradientBooster__loss=deviance, GradientBooster__max_depth=3, GradientBooster__max_features=auto, GradientBooster__n_estimators=150, SMOTE__sampling_strategy=1, total=   3.7s\n",
      "[CV] ColumnTransformer__columns=['account length', 'international plan', 'voice mail plan', 'number vmail messages', 'total day minutes', 'total day calls', 'total day charge', 'total eve minutes', 'total eve calls', 'total eve charge', 'total night minutes', 'total night calls', 'total night charge', 'total intl minutes', 'total intl calls', 'total intl charge', 'customer service calls', 'total charge', 'total minutes', 'total calls', 'avg minutes per domestic call', 'competition'], GradientBooster__loss=deviance, GradientBooster__max_depth=3, GradientBooster__max_features=auto, GradientBooster__n_estimators=150, SMOTE__sampling_strategy=1 \n",
      "[CV]  ColumnTransformer__columns=['account length', 'international plan', 'voice mail plan', 'number vmail messages', 'total day minutes', 'total day calls', 'total day charge', 'total eve minutes', 'total eve calls', 'total eve charge', 'total night minutes', 'total night calls', 'total night charge', 'total intl minutes', 'total intl calls', 'total intl charge', 'customer service calls', 'total charge', 'total minutes', 'total calls', 'avg minutes per domestic call', 'competition'], GradientBooster__loss=deviance, GradientBooster__max_depth=3, GradientBooster__max_features=auto, GradientBooster__n_estimators=150, SMOTE__sampling_strategy=1, total=   3.6s\n",
      "[CV] ColumnTransformer__columns=['account length', 'international plan', 'voice mail plan', 'number vmail messages', 'total day minutes', 'total day calls', 'total day charge', 'total eve minutes', 'total eve calls', 'total eve charge', 'total night minutes', 'total night calls', 'total night charge', 'total intl minutes', 'total intl calls', 'total intl charge', 'customer service calls', 'total charge', 'total minutes', 'total calls', 'avg minutes per domestic call', 'competition'], GradientBooster__loss=deviance, GradientBooster__max_depth=3, GradientBooster__max_features=8, GradientBooster__n_estimators=100, SMOTE__sampling_strategy=1 \n",
      "[CV]  ColumnTransformer__columns=['account length', 'international plan', 'voice mail plan', 'number vmail messages', 'total day minutes', 'total day calls', 'total day charge', 'total eve minutes', 'total eve calls', 'total eve charge', 'total night minutes', 'total night calls', 'total night charge', 'total intl minutes', 'total intl calls', 'total intl charge', 'customer service calls', 'total charge', 'total minutes', 'total calls', 'avg minutes per domestic call', 'competition'], GradientBooster__loss=deviance, GradientBooster__max_depth=3, GradientBooster__max_features=8, GradientBooster__n_estimators=100, SMOTE__sampling_strategy=1, total=   1.1s\n",
      "[CV] ColumnTransformer__columns=['account length', 'international plan', 'voice mail plan', 'number vmail messages', 'total day minutes', 'total day calls', 'total day charge', 'total eve minutes', 'total eve calls', 'total eve charge', 'total night minutes', 'total night calls', 'total night charge', 'total intl minutes', 'total intl calls', 'total intl charge', 'customer service calls', 'total charge', 'total minutes', 'total calls', 'avg minutes per domestic call', 'competition'], GradientBooster__loss=deviance, GradientBooster__max_depth=3, GradientBooster__max_features=8, GradientBooster__n_estimators=100, SMOTE__sampling_strategy=1 \n",
      "[CV]  ColumnTransformer__columns=['account length', 'international plan', 'voice mail plan', 'number vmail messages', 'total day minutes', 'total day calls', 'total day charge', 'total eve minutes', 'total eve calls', 'total eve charge', 'total night minutes', 'total night calls', 'total night charge', 'total intl minutes', 'total intl calls', 'total intl charge', 'customer service calls', 'total charge', 'total minutes', 'total calls', 'avg minutes per domestic call', 'competition'], GradientBooster__loss=deviance, GradientBooster__max_depth=3, GradientBooster__max_features=8, GradientBooster__n_estimators=100, SMOTE__sampling_strategy=1, total=   1.1s\n",
      "[CV] ColumnTransformer__columns=['account length', 'international plan', 'voice mail plan', 'number vmail messages', 'total day minutes', 'total day calls', 'total day charge', 'total eve minutes', 'total eve calls', 'total eve charge', 'total night minutes', 'total night calls', 'total night charge', 'total intl minutes', 'total intl calls', 'total intl charge', 'customer service calls', 'total charge', 'total minutes', 'total calls', 'avg minutes per domestic call', 'competition'], GradientBooster__loss=deviance, GradientBooster__max_depth=3, GradientBooster__max_features=8, GradientBooster__n_estimators=100, SMOTE__sampling_strategy=1 \n",
      "[CV]  ColumnTransformer__columns=['account length', 'international plan', 'voice mail plan', 'number vmail messages', 'total day minutes', 'total day calls', 'total day charge', 'total eve minutes', 'total eve calls', 'total eve charge', 'total night minutes', 'total night calls', 'total night charge', 'total intl minutes', 'total intl calls', 'total intl charge', 'customer service calls', 'total charge', 'total minutes', 'total calls', 'avg minutes per domestic call', 'competition'], GradientBooster__loss=deviance, GradientBooster__max_depth=3, GradientBooster__max_features=8, GradientBooster__n_estimators=100, SMOTE__sampling_strategy=1, total=   1.0s\n",
      "[CV] ColumnTransformer__columns=['account length', 'international plan', 'voice mail plan', 'number vmail messages', 'total day minutes', 'total day calls', 'total day charge', 'total eve minutes', 'total eve calls', 'total eve charge', 'total night minutes', 'total night calls', 'total night charge', 'total intl minutes', 'total intl calls', 'total intl charge', 'customer service calls', 'total charge', 'total minutes', 'total calls', 'avg minutes per domestic call', 'competition'], GradientBooster__loss=deviance, GradientBooster__max_depth=3, GradientBooster__max_features=8, GradientBooster__n_estimators=100, SMOTE__sampling_strategy=1 \n",
      "[CV]  ColumnTransformer__columns=['account length', 'international plan', 'voice mail plan', 'number vmail messages', 'total day minutes', 'total day calls', 'total day charge', 'total eve minutes', 'total eve calls', 'total eve charge', 'total night minutes', 'total night calls', 'total night charge', 'total intl minutes', 'total intl calls', 'total intl charge', 'customer service calls', 'total charge', 'total minutes', 'total calls', 'avg minutes per domestic call', 'competition'], GradientBooster__loss=deviance, GradientBooster__max_depth=3, GradientBooster__max_features=8, GradientBooster__n_estimators=100, SMOTE__sampling_strategy=1, total=   1.0s\n",
      "[CV] ColumnTransformer__columns=['account length', 'international plan', 'voice mail plan', 'number vmail messages', 'total day minutes', 'total day calls', 'total day charge', 'total eve minutes', 'total eve calls', 'total eve charge', 'total night minutes', 'total night calls', 'total night charge', 'total intl minutes', 'total intl calls', 'total intl charge', 'customer service calls', 'total charge', 'total minutes', 'total calls', 'avg minutes per domestic call', 'competition'], GradientBooster__loss=deviance, GradientBooster__max_depth=3, GradientBooster__max_features=8, GradientBooster__n_estimators=100, SMOTE__sampling_strategy=1 \n",
      "[CV]  ColumnTransformer__columns=['account length', 'international plan', 'voice mail plan', 'number vmail messages', 'total day minutes', 'total day calls', 'total day charge', 'total eve minutes', 'total eve calls', 'total eve charge', 'total night minutes', 'total night calls', 'total night charge', 'total intl minutes', 'total intl calls', 'total intl charge', 'customer service calls', 'total charge', 'total minutes', 'total calls', 'avg minutes per domestic call', 'competition'], GradientBooster__loss=deviance, GradientBooster__max_depth=3, GradientBooster__max_features=8, GradientBooster__n_estimators=100, SMOTE__sampling_strategy=1, total=   1.0s\n",
      "[CV] ColumnTransformer__columns=['account length', 'international plan', 'voice mail plan', 'number vmail messages', 'total day minutes', 'total day calls', 'total day charge', 'total eve minutes', 'total eve calls', 'total eve charge', 'total night minutes', 'total night calls', 'total night charge', 'total intl minutes', 'total intl calls', 'total intl charge', 'customer service calls', 'total charge', 'total minutes', 'total calls', 'avg minutes per domestic call', 'competition'], GradientBooster__loss=deviance, GradientBooster__max_depth=3, GradientBooster__max_features=8, GradientBooster__n_estimators=150, SMOTE__sampling_strategy=1 \n"
     ]
    },
    {
     "name": "stdout",
     "output_type": "stream",
     "text": [
      "[CV]  ColumnTransformer__columns=['account length', 'international plan', 'voice mail plan', 'number vmail messages', 'total day minutes', 'total day calls', 'total day charge', 'total eve minutes', 'total eve calls', 'total eve charge', 'total night minutes', 'total night calls', 'total night charge', 'total intl minutes', 'total intl calls', 'total intl charge', 'customer service calls', 'total charge', 'total minutes', 'total calls', 'avg minutes per domestic call', 'competition'], GradientBooster__loss=deviance, GradientBooster__max_depth=3, GradientBooster__max_features=8, GradientBooster__n_estimators=150, SMOTE__sampling_strategy=1, total=   1.4s\n",
      "[CV] ColumnTransformer__columns=['account length', 'international plan', 'voice mail plan', 'number vmail messages', 'total day minutes', 'total day calls', 'total day charge', 'total eve minutes', 'total eve calls', 'total eve charge', 'total night minutes', 'total night calls', 'total night charge', 'total intl minutes', 'total intl calls', 'total intl charge', 'customer service calls', 'total charge', 'total minutes', 'total calls', 'avg minutes per domestic call', 'competition'], GradientBooster__loss=deviance, GradientBooster__max_depth=3, GradientBooster__max_features=8, GradientBooster__n_estimators=150, SMOTE__sampling_strategy=1 \n",
      "[CV]  ColumnTransformer__columns=['account length', 'international plan', 'voice mail plan', 'number vmail messages', 'total day minutes', 'total day calls', 'total day charge', 'total eve minutes', 'total eve calls', 'total eve charge', 'total night minutes', 'total night calls', 'total night charge', 'total intl minutes', 'total intl calls', 'total intl charge', 'customer service calls', 'total charge', 'total minutes', 'total calls', 'avg minutes per domestic call', 'competition'], GradientBooster__loss=deviance, GradientBooster__max_depth=3, GradientBooster__max_features=8, GradientBooster__n_estimators=150, SMOTE__sampling_strategy=1, total=   1.4s\n",
      "[CV] ColumnTransformer__columns=['account length', 'international plan', 'voice mail plan', 'number vmail messages', 'total day minutes', 'total day calls', 'total day charge', 'total eve minutes', 'total eve calls', 'total eve charge', 'total night minutes', 'total night calls', 'total night charge', 'total intl minutes', 'total intl calls', 'total intl charge', 'customer service calls', 'total charge', 'total minutes', 'total calls', 'avg minutes per domestic call', 'competition'], GradientBooster__loss=deviance, GradientBooster__max_depth=3, GradientBooster__max_features=8, GradientBooster__n_estimators=150, SMOTE__sampling_strategy=1 \n",
      "[CV]  ColumnTransformer__columns=['account length', 'international plan', 'voice mail plan', 'number vmail messages', 'total day minutes', 'total day calls', 'total day charge', 'total eve minutes', 'total eve calls', 'total eve charge', 'total night minutes', 'total night calls', 'total night charge', 'total intl minutes', 'total intl calls', 'total intl charge', 'customer service calls', 'total charge', 'total minutes', 'total calls', 'avg minutes per domestic call', 'competition'], GradientBooster__loss=deviance, GradientBooster__max_depth=3, GradientBooster__max_features=8, GradientBooster__n_estimators=150, SMOTE__sampling_strategy=1, total=   1.5s\n",
      "[CV] ColumnTransformer__columns=['account length', 'international plan', 'voice mail plan', 'number vmail messages', 'total day minutes', 'total day calls', 'total day charge', 'total eve minutes', 'total eve calls', 'total eve charge', 'total night minutes', 'total night calls', 'total night charge', 'total intl minutes', 'total intl calls', 'total intl charge', 'customer service calls', 'total charge', 'total minutes', 'total calls', 'avg minutes per domestic call', 'competition'], GradientBooster__loss=deviance, GradientBooster__max_depth=3, GradientBooster__max_features=8, GradientBooster__n_estimators=150, SMOTE__sampling_strategy=1 \n",
      "[CV]  ColumnTransformer__columns=['account length', 'international plan', 'voice mail plan', 'number vmail messages', 'total day minutes', 'total day calls', 'total day charge', 'total eve minutes', 'total eve calls', 'total eve charge', 'total night minutes', 'total night calls', 'total night charge', 'total intl minutes', 'total intl calls', 'total intl charge', 'customer service calls', 'total charge', 'total minutes', 'total calls', 'avg minutes per domestic call', 'competition'], GradientBooster__loss=deviance, GradientBooster__max_depth=3, GradientBooster__max_features=8, GradientBooster__n_estimators=150, SMOTE__sampling_strategy=1, total=   1.7s\n",
      "[CV] ColumnTransformer__columns=['account length', 'international plan', 'voice mail plan', 'number vmail messages', 'total day minutes', 'total day calls', 'total day charge', 'total eve minutes', 'total eve calls', 'total eve charge', 'total night minutes', 'total night calls', 'total night charge', 'total intl minutes', 'total intl calls', 'total intl charge', 'customer service calls', 'total charge', 'total minutes', 'total calls', 'avg minutes per domestic call', 'competition'], GradientBooster__loss=deviance, GradientBooster__max_depth=3, GradientBooster__max_features=8, GradientBooster__n_estimators=150, SMOTE__sampling_strategy=1 \n",
      "[CV]  ColumnTransformer__columns=['account length', 'international plan', 'voice mail plan', 'number vmail messages', 'total day minutes', 'total day calls', 'total day charge', 'total eve minutes', 'total eve calls', 'total eve charge', 'total night minutes', 'total night calls', 'total night charge', 'total intl minutes', 'total intl calls', 'total intl charge', 'customer service calls', 'total charge', 'total minutes', 'total calls', 'avg minutes per domestic call', 'competition'], GradientBooster__loss=deviance, GradientBooster__max_depth=3, GradientBooster__max_features=8, GradientBooster__n_estimators=150, SMOTE__sampling_strategy=1, total=   1.8s\n",
      "[CV] ColumnTransformer__columns=['account length', 'international plan', 'voice mail plan', 'number vmail messages', 'total day minutes', 'total day calls', 'total day charge', 'total eve minutes', 'total eve calls', 'total eve charge', 'total night minutes', 'total night calls', 'total night charge', 'total intl minutes', 'total intl calls', 'total intl charge', 'customer service calls', 'total charge', 'total minutes', 'total calls', 'avg minutes per domestic call', 'competition'], GradientBooster__loss=deviance, GradientBooster__max_depth=3, GradientBooster__max_features=None, GradientBooster__n_estimators=100, SMOTE__sampling_strategy=1 \n",
      "[CV]  ColumnTransformer__columns=['account length', 'international plan', 'voice mail plan', 'number vmail messages', 'total day minutes', 'total day calls', 'total day charge', 'total eve minutes', 'total eve calls', 'total eve charge', 'total night minutes', 'total night calls', 'total night charge', 'total intl minutes', 'total intl calls', 'total intl charge', 'customer service calls', 'total charge', 'total minutes', 'total calls', 'avg minutes per domestic call', 'competition'], GradientBooster__loss=deviance, GradientBooster__max_depth=3, GradientBooster__max_features=None, GradientBooster__n_estimators=100, SMOTE__sampling_strategy=1, total=   2.2s\n",
      "[CV] ColumnTransformer__columns=['account length', 'international plan', 'voice mail plan', 'number vmail messages', 'total day minutes', 'total day calls', 'total day charge', 'total eve minutes', 'total eve calls', 'total eve charge', 'total night minutes', 'total night calls', 'total night charge', 'total intl minutes', 'total intl calls', 'total intl charge', 'customer service calls', 'total charge', 'total minutes', 'total calls', 'avg minutes per domestic call', 'competition'], GradientBooster__loss=deviance, GradientBooster__max_depth=3, GradientBooster__max_features=None, GradientBooster__n_estimators=100, SMOTE__sampling_strategy=1 \n",
      "[CV]  ColumnTransformer__columns=['account length', 'international plan', 'voice mail plan', 'number vmail messages', 'total day minutes', 'total day calls', 'total day charge', 'total eve minutes', 'total eve calls', 'total eve charge', 'total night minutes', 'total night calls', 'total night charge', 'total intl minutes', 'total intl calls', 'total intl charge', 'customer service calls', 'total charge', 'total minutes', 'total calls', 'avg minutes per domestic call', 'competition'], GradientBooster__loss=deviance, GradientBooster__max_depth=3, GradientBooster__max_features=None, GradientBooster__n_estimators=100, SMOTE__sampling_strategy=1, total=   2.5s\n",
      "[CV] ColumnTransformer__columns=['account length', 'international plan', 'voice mail plan', 'number vmail messages', 'total day minutes', 'total day calls', 'total day charge', 'total eve minutes', 'total eve calls', 'total eve charge', 'total night minutes', 'total night calls', 'total night charge', 'total intl minutes', 'total intl calls', 'total intl charge', 'customer service calls', 'total charge', 'total minutes', 'total calls', 'avg minutes per domestic call', 'competition'], GradientBooster__loss=deviance, GradientBooster__max_depth=3, GradientBooster__max_features=None, GradientBooster__n_estimators=100, SMOTE__sampling_strategy=1 \n"
     ]
    },
    {
     "name": "stdout",
     "output_type": "stream",
     "text": [
      "[CV]  ColumnTransformer__columns=['account length', 'international plan', 'voice mail plan', 'number vmail messages', 'total day minutes', 'total day calls', 'total day charge', 'total eve minutes', 'total eve calls', 'total eve charge', 'total night minutes', 'total night calls', 'total night charge', 'total intl minutes', 'total intl calls', 'total intl charge', 'customer service calls', 'total charge', 'total minutes', 'total calls', 'avg minutes per domestic call', 'competition'], GradientBooster__loss=deviance, GradientBooster__max_depth=3, GradientBooster__max_features=None, GradientBooster__n_estimators=100, SMOTE__sampling_strategy=1, total=   2.6s\n",
      "[CV] ColumnTransformer__columns=['account length', 'international plan', 'voice mail plan', 'number vmail messages', 'total day minutes', 'total day calls', 'total day charge', 'total eve minutes', 'total eve calls', 'total eve charge', 'total night minutes', 'total night calls', 'total night charge', 'total intl minutes', 'total intl calls', 'total intl charge', 'customer service calls', 'total charge', 'total minutes', 'total calls', 'avg minutes per domestic call', 'competition'], GradientBooster__loss=deviance, GradientBooster__max_depth=3, GradientBooster__max_features=None, GradientBooster__n_estimators=100, SMOTE__sampling_strategy=1 \n",
      "[CV]  ColumnTransformer__columns=['account length', 'international plan', 'voice mail plan', 'number vmail messages', 'total day minutes', 'total day calls', 'total day charge', 'total eve minutes', 'total eve calls', 'total eve charge', 'total night minutes', 'total night calls', 'total night charge', 'total intl minutes', 'total intl calls', 'total intl charge', 'customer service calls', 'total charge', 'total minutes', 'total calls', 'avg minutes per domestic call', 'competition'], GradientBooster__loss=deviance, GradientBooster__max_depth=3, GradientBooster__max_features=None, GradientBooster__n_estimators=100, SMOTE__sampling_strategy=1, total=   2.3s\n",
      "[CV] ColumnTransformer__columns=['account length', 'international plan', 'voice mail plan', 'number vmail messages', 'total day minutes', 'total day calls', 'total day charge', 'total eve minutes', 'total eve calls', 'total eve charge', 'total night minutes', 'total night calls', 'total night charge', 'total intl minutes', 'total intl calls', 'total intl charge', 'customer service calls', 'total charge', 'total minutes', 'total calls', 'avg minutes per domestic call', 'competition'], GradientBooster__loss=deviance, GradientBooster__max_depth=3, GradientBooster__max_features=None, GradientBooster__n_estimators=100, SMOTE__sampling_strategy=1 \n",
      "[CV]  ColumnTransformer__columns=['account length', 'international plan', 'voice mail plan', 'number vmail messages', 'total day minutes', 'total day calls', 'total day charge', 'total eve minutes', 'total eve calls', 'total eve charge', 'total night minutes', 'total night calls', 'total night charge', 'total intl minutes', 'total intl calls', 'total intl charge', 'customer service calls', 'total charge', 'total minutes', 'total calls', 'avg minutes per domestic call', 'competition'], GradientBooster__loss=deviance, GradientBooster__max_depth=3, GradientBooster__max_features=None, GradientBooster__n_estimators=100, SMOTE__sampling_strategy=1, total=   2.3s\n",
      "[CV] ColumnTransformer__columns=['account length', 'international plan', 'voice mail plan', 'number vmail messages', 'total day minutes', 'total day calls', 'total day charge', 'total eve minutes', 'total eve calls', 'total eve charge', 'total night minutes', 'total night calls', 'total night charge', 'total intl minutes', 'total intl calls', 'total intl charge', 'customer service calls', 'total charge', 'total minutes', 'total calls', 'avg minutes per domestic call', 'competition'], GradientBooster__loss=deviance, GradientBooster__max_depth=3, GradientBooster__max_features=None, GradientBooster__n_estimators=150, SMOTE__sampling_strategy=1 \n",
      "[CV]  ColumnTransformer__columns=['account length', 'international plan', 'voice mail plan', 'number vmail messages', 'total day minutes', 'total day calls', 'total day charge', 'total eve minutes', 'total eve calls', 'total eve charge', 'total night minutes', 'total night calls', 'total night charge', 'total intl minutes', 'total intl calls', 'total intl charge', 'customer service calls', 'total charge', 'total minutes', 'total calls', 'avg minutes per domestic call', 'competition'], GradientBooster__loss=deviance, GradientBooster__max_depth=3, GradientBooster__max_features=None, GradientBooster__n_estimators=150, SMOTE__sampling_strategy=1, total=   3.2s\n",
      "[CV] ColumnTransformer__columns=['account length', 'international plan', 'voice mail plan', 'number vmail messages', 'total day minutes', 'total day calls', 'total day charge', 'total eve minutes', 'total eve calls', 'total eve charge', 'total night minutes', 'total night calls', 'total night charge', 'total intl minutes', 'total intl calls', 'total intl charge', 'customer service calls', 'total charge', 'total minutes', 'total calls', 'avg minutes per domestic call', 'competition'], GradientBooster__loss=deviance, GradientBooster__max_depth=3, GradientBooster__max_features=None, GradientBooster__n_estimators=150, SMOTE__sampling_strategy=1 \n",
      "[CV]  ColumnTransformer__columns=['account length', 'international plan', 'voice mail plan', 'number vmail messages', 'total day minutes', 'total day calls', 'total day charge', 'total eve minutes', 'total eve calls', 'total eve charge', 'total night minutes', 'total night calls', 'total night charge', 'total intl minutes', 'total intl calls', 'total intl charge', 'customer service calls', 'total charge', 'total minutes', 'total calls', 'avg minutes per domestic call', 'competition'], GradientBooster__loss=deviance, GradientBooster__max_depth=3, GradientBooster__max_features=None, GradientBooster__n_estimators=150, SMOTE__sampling_strategy=1, total=   3.2s\n",
      "[CV] ColumnTransformer__columns=['account length', 'international plan', 'voice mail plan', 'number vmail messages', 'total day minutes', 'total day calls', 'total day charge', 'total eve minutes', 'total eve calls', 'total eve charge', 'total night minutes', 'total night calls', 'total night charge', 'total intl minutes', 'total intl calls', 'total intl charge', 'customer service calls', 'total charge', 'total minutes', 'total calls', 'avg minutes per domestic call', 'competition'], GradientBooster__loss=deviance, GradientBooster__max_depth=3, GradientBooster__max_features=None, GradientBooster__n_estimators=150, SMOTE__sampling_strategy=1 \n",
      "[CV]  ColumnTransformer__columns=['account length', 'international plan', 'voice mail plan', 'number vmail messages', 'total day minutes', 'total day calls', 'total day charge', 'total eve minutes', 'total eve calls', 'total eve charge', 'total night minutes', 'total night calls', 'total night charge', 'total intl minutes', 'total intl calls', 'total intl charge', 'customer service calls', 'total charge', 'total minutes', 'total calls', 'avg minutes per domestic call', 'competition'], GradientBooster__loss=deviance, GradientBooster__max_depth=3, GradientBooster__max_features=None, GradientBooster__n_estimators=150, SMOTE__sampling_strategy=1, total=   3.3s\n",
      "[CV] ColumnTransformer__columns=['account length', 'international plan', 'voice mail plan', 'number vmail messages', 'total day minutes', 'total day calls', 'total day charge', 'total eve minutes', 'total eve calls', 'total eve charge', 'total night minutes', 'total night calls', 'total night charge', 'total intl minutes', 'total intl calls', 'total intl charge', 'customer service calls', 'total charge', 'total minutes', 'total calls', 'avg minutes per domestic call', 'competition'], GradientBooster__loss=deviance, GradientBooster__max_depth=3, GradientBooster__max_features=None, GradientBooster__n_estimators=150, SMOTE__sampling_strategy=1 \n",
      "[CV]  ColumnTransformer__columns=['account length', 'international plan', 'voice mail plan', 'number vmail messages', 'total day minutes', 'total day calls', 'total day charge', 'total eve minutes', 'total eve calls', 'total eve charge', 'total night minutes', 'total night calls', 'total night charge', 'total intl minutes', 'total intl calls', 'total intl charge', 'customer service calls', 'total charge', 'total minutes', 'total calls', 'avg minutes per domestic call', 'competition'], GradientBooster__loss=deviance, GradientBooster__max_depth=3, GradientBooster__max_features=None, GradientBooster__n_estimators=150, SMOTE__sampling_strategy=1, total=   3.3s\n",
      "[CV] ColumnTransformer__columns=['account length', 'international plan', 'voice mail plan', 'number vmail messages', 'total day minutes', 'total day calls', 'total day charge', 'total eve minutes', 'total eve calls', 'total eve charge', 'total night minutes', 'total night calls', 'total night charge', 'total intl minutes', 'total intl calls', 'total intl charge', 'customer service calls', 'total charge', 'total minutes', 'total calls', 'avg minutes per domestic call', 'competition'], GradientBooster__loss=deviance, GradientBooster__max_depth=3, GradientBooster__max_features=None, GradientBooster__n_estimators=150, SMOTE__sampling_strategy=1 \n"
     ]
    },
    {
     "name": "stdout",
     "output_type": "stream",
     "text": [
      "[CV]  ColumnTransformer__columns=['account length', 'international plan', 'voice mail plan', 'number vmail messages', 'total day minutes', 'total day calls', 'total day charge', 'total eve minutes', 'total eve calls', 'total eve charge', 'total night minutes', 'total night calls', 'total night charge', 'total intl minutes', 'total intl calls', 'total intl charge', 'customer service calls', 'total charge', 'total minutes', 'total calls', 'avg minutes per domestic call', 'competition'], GradientBooster__loss=deviance, GradientBooster__max_depth=3, GradientBooster__max_features=None, GradientBooster__n_estimators=150, SMOTE__sampling_strategy=1, total=   3.3s\n",
      "[CV] ColumnTransformer__columns=['account length', 'international plan', 'voice mail plan', 'number vmail messages', 'total day minutes', 'total day calls', 'total day charge', 'total eve minutes', 'total eve calls', 'total eve charge', 'total night minutes', 'total night calls', 'total night charge', 'total intl minutes', 'total intl calls', 'total intl charge', 'customer service calls', 'total charge', 'total minutes', 'total calls', 'avg minutes per domestic call', 'competition'], GradientBooster__loss=deviance, GradientBooster__max_depth=5, GradientBooster__max_features=auto, GradientBooster__n_estimators=100, SMOTE__sampling_strategy=1 \n",
      "[CV]  ColumnTransformer__columns=['account length', 'international plan', 'voice mail plan', 'number vmail messages', 'total day minutes', 'total day calls', 'total day charge', 'total eve minutes', 'total eve calls', 'total eve charge', 'total night minutes', 'total night calls', 'total night charge', 'total intl minutes', 'total intl calls', 'total intl charge', 'customer service calls', 'total charge', 'total minutes', 'total calls', 'avg minutes per domestic call', 'competition'], GradientBooster__loss=deviance, GradientBooster__max_depth=5, GradientBooster__max_features=auto, GradientBooster__n_estimators=100, SMOTE__sampling_strategy=1, total=   3.9s\n",
      "[CV] ColumnTransformer__columns=['account length', 'international plan', 'voice mail plan', 'number vmail messages', 'total day minutes', 'total day calls', 'total day charge', 'total eve minutes', 'total eve calls', 'total eve charge', 'total night minutes', 'total night calls', 'total night charge', 'total intl minutes', 'total intl calls', 'total intl charge', 'customer service calls', 'total charge', 'total minutes', 'total calls', 'avg minutes per domestic call', 'competition'], GradientBooster__loss=deviance, GradientBooster__max_depth=5, GradientBooster__max_features=auto, GradientBooster__n_estimators=100, SMOTE__sampling_strategy=1 \n",
      "[CV]  ColumnTransformer__columns=['account length', 'international plan', 'voice mail plan', 'number vmail messages', 'total day minutes', 'total day calls', 'total day charge', 'total eve minutes', 'total eve calls', 'total eve charge', 'total night minutes', 'total night calls', 'total night charge', 'total intl minutes', 'total intl calls', 'total intl charge', 'customer service calls', 'total charge', 'total minutes', 'total calls', 'avg minutes per domestic call', 'competition'], GradientBooster__loss=deviance, GradientBooster__max_depth=5, GradientBooster__max_features=auto, GradientBooster__n_estimators=100, SMOTE__sampling_strategy=1, total=   3.9s\n",
      "[CV] ColumnTransformer__columns=['account length', 'international plan', 'voice mail plan', 'number vmail messages', 'total day minutes', 'total day calls', 'total day charge', 'total eve minutes', 'total eve calls', 'total eve charge', 'total night minutes', 'total night calls', 'total night charge', 'total intl minutes', 'total intl calls', 'total intl charge', 'customer service calls', 'total charge', 'total minutes', 'total calls', 'avg minutes per domestic call', 'competition'], GradientBooster__loss=deviance, GradientBooster__max_depth=5, GradientBooster__max_features=auto, GradientBooster__n_estimators=100, SMOTE__sampling_strategy=1 \n",
      "[CV]  ColumnTransformer__columns=['account length', 'international plan', 'voice mail plan', 'number vmail messages', 'total day minutes', 'total day calls', 'total day charge', 'total eve minutes', 'total eve calls', 'total eve charge', 'total night minutes', 'total night calls', 'total night charge', 'total intl minutes', 'total intl calls', 'total intl charge', 'customer service calls', 'total charge', 'total minutes', 'total calls', 'avg minutes per domestic call', 'competition'], GradientBooster__loss=deviance, GradientBooster__max_depth=5, GradientBooster__max_features=auto, GradientBooster__n_estimators=100, SMOTE__sampling_strategy=1, total=   3.4s\n",
      "[CV] ColumnTransformer__columns=['account length', 'international plan', 'voice mail plan', 'number vmail messages', 'total day minutes', 'total day calls', 'total day charge', 'total eve minutes', 'total eve calls', 'total eve charge', 'total night minutes', 'total night calls', 'total night charge', 'total intl minutes', 'total intl calls', 'total intl charge', 'customer service calls', 'total charge', 'total minutes', 'total calls', 'avg minutes per domestic call', 'competition'], GradientBooster__loss=deviance, GradientBooster__max_depth=5, GradientBooster__max_features=auto, GradientBooster__n_estimators=100, SMOTE__sampling_strategy=1 \n",
      "[CV]  ColumnTransformer__columns=['account length', 'international plan', 'voice mail plan', 'number vmail messages', 'total day minutes', 'total day calls', 'total day charge', 'total eve minutes', 'total eve calls', 'total eve charge', 'total night minutes', 'total night calls', 'total night charge', 'total intl minutes', 'total intl calls', 'total intl charge', 'customer service calls', 'total charge', 'total minutes', 'total calls', 'avg minutes per domestic call', 'competition'], GradientBooster__loss=deviance, GradientBooster__max_depth=5, GradientBooster__max_features=auto, GradientBooster__n_estimators=100, SMOTE__sampling_strategy=1, total=   3.9s\n",
      "[CV] ColumnTransformer__columns=['account length', 'international plan', 'voice mail plan', 'number vmail messages', 'total day minutes', 'total day calls', 'total day charge', 'total eve minutes', 'total eve calls', 'total eve charge', 'total night minutes', 'total night calls', 'total night charge', 'total intl minutes', 'total intl calls', 'total intl charge', 'customer service calls', 'total charge', 'total minutes', 'total calls', 'avg minutes per domestic call', 'competition'], GradientBooster__loss=deviance, GradientBooster__max_depth=5, GradientBooster__max_features=auto, GradientBooster__n_estimators=100, SMOTE__sampling_strategy=1 \n",
      "[CV]  ColumnTransformer__columns=['account length', 'international plan', 'voice mail plan', 'number vmail messages', 'total day minutes', 'total day calls', 'total day charge', 'total eve minutes', 'total eve calls', 'total eve charge', 'total night minutes', 'total night calls', 'total night charge', 'total intl minutes', 'total intl calls', 'total intl charge', 'customer service calls', 'total charge', 'total minutes', 'total calls', 'avg minutes per domestic call', 'competition'], GradientBooster__loss=deviance, GradientBooster__max_depth=5, GradientBooster__max_features=auto, GradientBooster__n_estimators=100, SMOTE__sampling_strategy=1, total=   3.9s\n",
      "[CV] ColumnTransformer__columns=['account length', 'international plan', 'voice mail plan', 'number vmail messages', 'total day minutes', 'total day calls', 'total day charge', 'total eve minutes', 'total eve calls', 'total eve charge', 'total night minutes', 'total night calls', 'total night charge', 'total intl minutes', 'total intl calls', 'total intl charge', 'customer service calls', 'total charge', 'total minutes', 'total calls', 'avg minutes per domestic call', 'competition'], GradientBooster__loss=deviance, GradientBooster__max_depth=5, GradientBooster__max_features=auto, GradientBooster__n_estimators=150, SMOTE__sampling_strategy=1 \n",
      "[CV]  ColumnTransformer__columns=['account length', 'international plan', 'voice mail plan', 'number vmail messages', 'total day minutes', 'total day calls', 'total day charge', 'total eve minutes', 'total eve calls', 'total eve charge', 'total night minutes', 'total night calls', 'total night charge', 'total intl minutes', 'total intl calls', 'total intl charge', 'customer service calls', 'total charge', 'total minutes', 'total calls', 'avg minutes per domestic call', 'competition'], GradientBooster__loss=deviance, GradientBooster__max_depth=5, GradientBooster__max_features=auto, GradientBooster__n_estimators=150, SMOTE__sampling_strategy=1, total=   6.5s\n",
      "[CV] ColumnTransformer__columns=['account length', 'international plan', 'voice mail plan', 'number vmail messages', 'total day minutes', 'total day calls', 'total day charge', 'total eve minutes', 'total eve calls', 'total eve charge', 'total night minutes', 'total night calls', 'total night charge', 'total intl minutes', 'total intl calls', 'total intl charge', 'customer service calls', 'total charge', 'total minutes', 'total calls', 'avg minutes per domestic call', 'competition'], GradientBooster__loss=deviance, GradientBooster__max_depth=5, GradientBooster__max_features=auto, GradientBooster__n_estimators=150, SMOTE__sampling_strategy=1 \n"
     ]
    },
    {
     "name": "stdout",
     "output_type": "stream",
     "text": [
      "[CV]  ColumnTransformer__columns=['account length', 'international plan', 'voice mail plan', 'number vmail messages', 'total day minutes', 'total day calls', 'total day charge', 'total eve minutes', 'total eve calls', 'total eve charge', 'total night minutes', 'total night calls', 'total night charge', 'total intl minutes', 'total intl calls', 'total intl charge', 'customer service calls', 'total charge', 'total minutes', 'total calls', 'avg minutes per domestic call', 'competition'], GradientBooster__loss=deviance, GradientBooster__max_depth=5, GradientBooster__max_features=auto, GradientBooster__n_estimators=150, SMOTE__sampling_strategy=1, total=   5.5s\n",
      "[CV] ColumnTransformer__columns=['account length', 'international plan', 'voice mail plan', 'number vmail messages', 'total day minutes', 'total day calls', 'total day charge', 'total eve minutes', 'total eve calls', 'total eve charge', 'total night minutes', 'total night calls', 'total night charge', 'total intl minutes', 'total intl calls', 'total intl charge', 'customer service calls', 'total charge', 'total minutes', 'total calls', 'avg minutes per domestic call', 'competition'], GradientBooster__loss=deviance, GradientBooster__max_depth=5, GradientBooster__max_features=auto, GradientBooster__n_estimators=150, SMOTE__sampling_strategy=1 \n",
      "[CV]  ColumnTransformer__columns=['account length', 'international plan', 'voice mail plan', 'number vmail messages', 'total day minutes', 'total day calls', 'total day charge', 'total eve minutes', 'total eve calls', 'total eve charge', 'total night minutes', 'total night calls', 'total night charge', 'total intl minutes', 'total intl calls', 'total intl charge', 'customer service calls', 'total charge', 'total minutes', 'total calls', 'avg minutes per domestic call', 'competition'], GradientBooster__loss=deviance, GradientBooster__max_depth=5, GradientBooster__max_features=auto, GradientBooster__n_estimators=150, SMOTE__sampling_strategy=1, total=   5.6s\n",
      "[CV] ColumnTransformer__columns=['account length', 'international plan', 'voice mail plan', 'number vmail messages', 'total day minutes', 'total day calls', 'total day charge', 'total eve minutes', 'total eve calls', 'total eve charge', 'total night minutes', 'total night calls', 'total night charge', 'total intl minutes', 'total intl calls', 'total intl charge', 'customer service calls', 'total charge', 'total minutes', 'total calls', 'avg minutes per domestic call', 'competition'], GradientBooster__loss=deviance, GradientBooster__max_depth=5, GradientBooster__max_features=auto, GradientBooster__n_estimators=150, SMOTE__sampling_strategy=1 \n",
      "[CV]  ColumnTransformer__columns=['account length', 'international plan', 'voice mail plan', 'number vmail messages', 'total day minutes', 'total day calls', 'total day charge', 'total eve minutes', 'total eve calls', 'total eve charge', 'total night minutes', 'total night calls', 'total night charge', 'total intl minutes', 'total intl calls', 'total intl charge', 'customer service calls', 'total charge', 'total minutes', 'total calls', 'avg minutes per domestic call', 'competition'], GradientBooster__loss=deviance, GradientBooster__max_depth=5, GradientBooster__max_features=auto, GradientBooster__n_estimators=150, SMOTE__sampling_strategy=1, total=   5.5s\n",
      "[CV] ColumnTransformer__columns=['account length', 'international plan', 'voice mail plan', 'number vmail messages', 'total day minutes', 'total day calls', 'total day charge', 'total eve minutes', 'total eve calls', 'total eve charge', 'total night minutes', 'total night calls', 'total night charge', 'total intl minutes', 'total intl calls', 'total intl charge', 'customer service calls', 'total charge', 'total minutes', 'total calls', 'avg minutes per domestic call', 'competition'], GradientBooster__loss=deviance, GradientBooster__max_depth=5, GradientBooster__max_features=auto, GradientBooster__n_estimators=150, SMOTE__sampling_strategy=1 \n",
      "[CV]  ColumnTransformer__columns=['account length', 'international plan', 'voice mail plan', 'number vmail messages', 'total day minutes', 'total day calls', 'total day charge', 'total eve minutes', 'total eve calls', 'total eve charge', 'total night minutes', 'total night calls', 'total night charge', 'total intl minutes', 'total intl calls', 'total intl charge', 'customer service calls', 'total charge', 'total minutes', 'total calls', 'avg minutes per domestic call', 'competition'], GradientBooster__loss=deviance, GradientBooster__max_depth=5, GradientBooster__max_features=auto, GradientBooster__n_estimators=150, SMOTE__sampling_strategy=1, total=   5.4s\n",
      "[CV] ColumnTransformer__columns=['account length', 'international plan', 'voice mail plan', 'number vmail messages', 'total day minutes', 'total day calls', 'total day charge', 'total eve minutes', 'total eve calls', 'total eve charge', 'total night minutes', 'total night calls', 'total night charge', 'total intl minutes', 'total intl calls', 'total intl charge', 'customer service calls', 'total charge', 'total minutes', 'total calls', 'avg minutes per domestic call', 'competition'], GradientBooster__loss=deviance, GradientBooster__max_depth=5, GradientBooster__max_features=8, GradientBooster__n_estimators=100, SMOTE__sampling_strategy=1 \n",
      "[CV]  ColumnTransformer__columns=['account length', 'international plan', 'voice mail plan', 'number vmail messages', 'total day minutes', 'total day calls', 'total day charge', 'total eve minutes', 'total eve calls', 'total eve charge', 'total night minutes', 'total night calls', 'total night charge', 'total intl minutes', 'total intl calls', 'total intl charge', 'customer service calls', 'total charge', 'total minutes', 'total calls', 'avg minutes per domestic call', 'competition'], GradientBooster__loss=deviance, GradientBooster__max_depth=5, GradientBooster__max_features=8, GradientBooster__n_estimators=100, SMOTE__sampling_strategy=1, total=   1.6s\n",
      "[CV] ColumnTransformer__columns=['account length', 'international plan', 'voice mail plan', 'number vmail messages', 'total day minutes', 'total day calls', 'total day charge', 'total eve minutes', 'total eve calls', 'total eve charge', 'total night minutes', 'total night calls', 'total night charge', 'total intl minutes', 'total intl calls', 'total intl charge', 'customer service calls', 'total charge', 'total minutes', 'total calls', 'avg minutes per domestic call', 'competition'], GradientBooster__loss=deviance, GradientBooster__max_depth=5, GradientBooster__max_features=8, GradientBooster__n_estimators=100, SMOTE__sampling_strategy=1 \n",
      "[CV]  ColumnTransformer__columns=['account length', 'international plan', 'voice mail plan', 'number vmail messages', 'total day minutes', 'total day calls', 'total day charge', 'total eve minutes', 'total eve calls', 'total eve charge', 'total night minutes', 'total night calls', 'total night charge', 'total intl minutes', 'total intl calls', 'total intl charge', 'customer service calls', 'total charge', 'total minutes', 'total calls', 'avg minutes per domestic call', 'competition'], GradientBooster__loss=deviance, GradientBooster__max_depth=5, GradientBooster__max_features=8, GradientBooster__n_estimators=100, SMOTE__sampling_strategy=1, total=   1.6s\n",
      "[CV] ColumnTransformer__columns=['account length', 'international plan', 'voice mail plan', 'number vmail messages', 'total day minutes', 'total day calls', 'total day charge', 'total eve minutes', 'total eve calls', 'total eve charge', 'total night minutes', 'total night calls', 'total night charge', 'total intl minutes', 'total intl calls', 'total intl charge', 'customer service calls', 'total charge', 'total minutes', 'total calls', 'avg minutes per domestic call', 'competition'], GradientBooster__loss=deviance, GradientBooster__max_depth=5, GradientBooster__max_features=8, GradientBooster__n_estimators=100, SMOTE__sampling_strategy=1 \n",
      "[CV]  ColumnTransformer__columns=['account length', 'international plan', 'voice mail plan', 'number vmail messages', 'total day minutes', 'total day calls', 'total day charge', 'total eve minutes', 'total eve calls', 'total eve charge', 'total night minutes', 'total night calls', 'total night charge', 'total intl minutes', 'total intl calls', 'total intl charge', 'customer service calls', 'total charge', 'total minutes', 'total calls', 'avg minutes per domestic call', 'competition'], GradientBooster__loss=deviance, GradientBooster__max_depth=5, GradientBooster__max_features=8, GradientBooster__n_estimators=100, SMOTE__sampling_strategy=1, total=   1.7s\n",
      "[CV] ColumnTransformer__columns=['account length', 'international plan', 'voice mail plan', 'number vmail messages', 'total day minutes', 'total day calls', 'total day charge', 'total eve minutes', 'total eve calls', 'total eve charge', 'total night minutes', 'total night calls', 'total night charge', 'total intl minutes', 'total intl calls', 'total intl charge', 'customer service calls', 'total charge', 'total minutes', 'total calls', 'avg minutes per domestic call', 'competition'], GradientBooster__loss=deviance, GradientBooster__max_depth=5, GradientBooster__max_features=8, GradientBooster__n_estimators=100, SMOTE__sampling_strategy=1 \n"
     ]
    },
    {
     "name": "stdout",
     "output_type": "stream",
     "text": [
      "[CV]  ColumnTransformer__columns=['account length', 'international plan', 'voice mail plan', 'number vmail messages', 'total day minutes', 'total day calls', 'total day charge', 'total eve minutes', 'total eve calls', 'total eve charge', 'total night minutes', 'total night calls', 'total night charge', 'total intl minutes', 'total intl calls', 'total intl charge', 'customer service calls', 'total charge', 'total minutes', 'total calls', 'avg minutes per domestic call', 'competition'], GradientBooster__loss=deviance, GradientBooster__max_depth=5, GradientBooster__max_features=8, GradientBooster__n_estimators=100, SMOTE__sampling_strategy=1, total=   1.6s\n",
      "[CV] ColumnTransformer__columns=['account length', 'international plan', 'voice mail plan', 'number vmail messages', 'total day minutes', 'total day calls', 'total day charge', 'total eve minutes', 'total eve calls', 'total eve charge', 'total night minutes', 'total night calls', 'total night charge', 'total intl minutes', 'total intl calls', 'total intl charge', 'customer service calls', 'total charge', 'total minutes', 'total calls', 'avg minutes per domestic call', 'competition'], GradientBooster__loss=deviance, GradientBooster__max_depth=5, GradientBooster__max_features=8, GradientBooster__n_estimators=100, SMOTE__sampling_strategy=1 \n",
      "[CV]  ColumnTransformer__columns=['account length', 'international plan', 'voice mail plan', 'number vmail messages', 'total day minutes', 'total day calls', 'total day charge', 'total eve minutes', 'total eve calls', 'total eve charge', 'total night minutes', 'total night calls', 'total night charge', 'total intl minutes', 'total intl calls', 'total intl charge', 'customer service calls', 'total charge', 'total minutes', 'total calls', 'avg minutes per domestic call', 'competition'], GradientBooster__loss=deviance, GradientBooster__max_depth=5, GradientBooster__max_features=8, GradientBooster__n_estimators=100, SMOTE__sampling_strategy=1, total=   1.7s\n",
      "[CV] ColumnTransformer__columns=['account length', 'international plan', 'voice mail plan', 'number vmail messages', 'total day minutes', 'total day calls', 'total day charge', 'total eve minutes', 'total eve calls', 'total eve charge', 'total night minutes', 'total night calls', 'total night charge', 'total intl minutes', 'total intl calls', 'total intl charge', 'customer service calls', 'total charge', 'total minutes', 'total calls', 'avg minutes per domestic call', 'competition'], GradientBooster__loss=deviance, GradientBooster__max_depth=5, GradientBooster__max_features=8, GradientBooster__n_estimators=150, SMOTE__sampling_strategy=1 \n",
      "[CV]  ColumnTransformer__columns=['account length', 'international plan', 'voice mail plan', 'number vmail messages', 'total day minutes', 'total day calls', 'total day charge', 'total eve minutes', 'total eve calls', 'total eve charge', 'total night minutes', 'total night calls', 'total night charge', 'total intl minutes', 'total intl calls', 'total intl charge', 'customer service calls', 'total charge', 'total minutes', 'total calls', 'avg minutes per domestic call', 'competition'], GradientBooster__loss=deviance, GradientBooster__max_depth=5, GradientBooster__max_features=8, GradientBooster__n_estimators=150, SMOTE__sampling_strategy=1, total=   2.9s\n",
      "[CV] ColumnTransformer__columns=['account length', 'international plan', 'voice mail plan', 'number vmail messages', 'total day minutes', 'total day calls', 'total day charge', 'total eve minutes', 'total eve calls', 'total eve charge', 'total night minutes', 'total night calls', 'total night charge', 'total intl minutes', 'total intl calls', 'total intl charge', 'customer service calls', 'total charge', 'total minutes', 'total calls', 'avg minutes per domestic call', 'competition'], GradientBooster__loss=deviance, GradientBooster__max_depth=5, GradientBooster__max_features=8, GradientBooster__n_estimators=150, SMOTE__sampling_strategy=1 \n",
      "[CV]  ColumnTransformer__columns=['account length', 'international plan', 'voice mail plan', 'number vmail messages', 'total day minutes', 'total day calls', 'total day charge', 'total eve minutes', 'total eve calls', 'total eve charge', 'total night minutes', 'total night calls', 'total night charge', 'total intl minutes', 'total intl calls', 'total intl charge', 'customer service calls', 'total charge', 'total minutes', 'total calls', 'avg minutes per domestic call', 'competition'], GradientBooster__loss=deviance, GradientBooster__max_depth=5, GradientBooster__max_features=8, GradientBooster__n_estimators=150, SMOTE__sampling_strategy=1, total=   2.7s\n",
      "[CV] ColumnTransformer__columns=['account length', 'international plan', 'voice mail plan', 'number vmail messages', 'total day minutes', 'total day calls', 'total day charge', 'total eve minutes', 'total eve calls', 'total eve charge', 'total night minutes', 'total night calls', 'total night charge', 'total intl minutes', 'total intl calls', 'total intl charge', 'customer service calls', 'total charge', 'total minutes', 'total calls', 'avg minutes per domestic call', 'competition'], GradientBooster__loss=deviance, GradientBooster__max_depth=5, GradientBooster__max_features=8, GradientBooster__n_estimators=150, SMOTE__sampling_strategy=1 \n",
      "[CV]  ColumnTransformer__columns=['account length', 'international plan', 'voice mail plan', 'number vmail messages', 'total day minutes', 'total day calls', 'total day charge', 'total eve minutes', 'total eve calls', 'total eve charge', 'total night minutes', 'total night calls', 'total night charge', 'total intl minutes', 'total intl calls', 'total intl charge', 'customer service calls', 'total charge', 'total minutes', 'total calls', 'avg minutes per domestic call', 'competition'], GradientBooster__loss=deviance, GradientBooster__max_depth=5, GradientBooster__max_features=8, GradientBooster__n_estimators=150, SMOTE__sampling_strategy=1, total=   2.4s\n",
      "[CV] ColumnTransformer__columns=['account length', 'international plan', 'voice mail plan', 'number vmail messages', 'total day minutes', 'total day calls', 'total day charge', 'total eve minutes', 'total eve calls', 'total eve charge', 'total night minutes', 'total night calls', 'total night charge', 'total intl minutes', 'total intl calls', 'total intl charge', 'customer service calls', 'total charge', 'total minutes', 'total calls', 'avg minutes per domestic call', 'competition'], GradientBooster__loss=deviance, GradientBooster__max_depth=5, GradientBooster__max_features=8, GradientBooster__n_estimators=150, SMOTE__sampling_strategy=1 \n",
      "[CV]  ColumnTransformer__columns=['account length', 'international plan', 'voice mail plan', 'number vmail messages', 'total day minutes', 'total day calls', 'total day charge', 'total eve minutes', 'total eve calls', 'total eve charge', 'total night minutes', 'total night calls', 'total night charge', 'total intl minutes', 'total intl calls', 'total intl charge', 'customer service calls', 'total charge', 'total minutes', 'total calls', 'avg minutes per domestic call', 'competition'], GradientBooster__loss=deviance, GradientBooster__max_depth=5, GradientBooster__max_features=8, GradientBooster__n_estimators=150, SMOTE__sampling_strategy=1, total=   3.2s\n",
      "[CV] ColumnTransformer__columns=['account length', 'international plan', 'voice mail plan', 'number vmail messages', 'total day minutes', 'total day calls', 'total day charge', 'total eve minutes', 'total eve calls', 'total eve charge', 'total night minutes', 'total night calls', 'total night charge', 'total intl minutes', 'total intl calls', 'total intl charge', 'customer service calls', 'total charge', 'total minutes', 'total calls', 'avg minutes per domestic call', 'competition'], GradientBooster__loss=deviance, GradientBooster__max_depth=5, GradientBooster__max_features=8, GradientBooster__n_estimators=150, SMOTE__sampling_strategy=1 \n",
      "[CV]  ColumnTransformer__columns=['account length', 'international plan', 'voice mail plan', 'number vmail messages', 'total day minutes', 'total day calls', 'total day charge', 'total eve minutes', 'total eve calls', 'total eve charge', 'total night minutes', 'total night calls', 'total night charge', 'total intl minutes', 'total intl calls', 'total intl charge', 'customer service calls', 'total charge', 'total minutes', 'total calls', 'avg minutes per domestic call', 'competition'], GradientBooster__loss=deviance, GradientBooster__max_depth=5, GradientBooster__max_features=8, GradientBooster__n_estimators=150, SMOTE__sampling_strategy=1, total=   2.4s\n",
      "[CV] ColumnTransformer__columns=['account length', 'international plan', 'voice mail plan', 'number vmail messages', 'total day minutes', 'total day calls', 'total day charge', 'total eve minutes', 'total eve calls', 'total eve charge', 'total night minutes', 'total night calls', 'total night charge', 'total intl minutes', 'total intl calls', 'total intl charge', 'customer service calls', 'total charge', 'total minutes', 'total calls', 'avg minutes per domestic call', 'competition'], GradientBooster__loss=deviance, GradientBooster__max_depth=5, GradientBooster__max_features=None, GradientBooster__n_estimators=100, SMOTE__sampling_strategy=1 \n"
     ]
    },
    {
     "name": "stdout",
     "output_type": "stream",
     "text": [
      "[CV]  ColumnTransformer__columns=['account length', 'international plan', 'voice mail plan', 'number vmail messages', 'total day minutes', 'total day calls', 'total day charge', 'total eve minutes', 'total eve calls', 'total eve charge', 'total night minutes', 'total night calls', 'total night charge', 'total intl minutes', 'total intl calls', 'total intl charge', 'customer service calls', 'total charge', 'total minutes', 'total calls', 'avg minutes per domestic call', 'competition'], GradientBooster__loss=deviance, GradientBooster__max_depth=5, GradientBooster__max_features=None, GradientBooster__n_estimators=100, SMOTE__sampling_strategy=1, total=   3.8s\n",
      "[CV] ColumnTransformer__columns=['account length', 'international plan', 'voice mail plan', 'number vmail messages', 'total day minutes', 'total day calls', 'total day charge', 'total eve minutes', 'total eve calls', 'total eve charge', 'total night minutes', 'total night calls', 'total night charge', 'total intl minutes', 'total intl calls', 'total intl charge', 'customer service calls', 'total charge', 'total minutes', 'total calls', 'avg minutes per domestic call', 'competition'], GradientBooster__loss=deviance, GradientBooster__max_depth=5, GradientBooster__max_features=None, GradientBooster__n_estimators=100, SMOTE__sampling_strategy=1 \n",
      "[CV]  ColumnTransformer__columns=['account length', 'international plan', 'voice mail plan', 'number vmail messages', 'total day minutes', 'total day calls', 'total day charge', 'total eve minutes', 'total eve calls', 'total eve charge', 'total night minutes', 'total night calls', 'total night charge', 'total intl minutes', 'total intl calls', 'total intl charge', 'customer service calls', 'total charge', 'total minutes', 'total calls', 'avg minutes per domestic call', 'competition'], GradientBooster__loss=deviance, GradientBooster__max_depth=5, GradientBooster__max_features=None, GradientBooster__n_estimators=100, SMOTE__sampling_strategy=1, total=   3.6s\n",
      "[CV] ColumnTransformer__columns=['account length', 'international plan', 'voice mail plan', 'number vmail messages', 'total day minutes', 'total day calls', 'total day charge', 'total eve minutes', 'total eve calls', 'total eve charge', 'total night minutes', 'total night calls', 'total night charge', 'total intl minutes', 'total intl calls', 'total intl charge', 'customer service calls', 'total charge', 'total minutes', 'total calls', 'avg minutes per domestic call', 'competition'], GradientBooster__loss=deviance, GradientBooster__max_depth=5, GradientBooster__max_features=None, GradientBooster__n_estimators=100, SMOTE__sampling_strategy=1 \n",
      "[CV]  ColumnTransformer__columns=['account length', 'international plan', 'voice mail plan', 'number vmail messages', 'total day minutes', 'total day calls', 'total day charge', 'total eve minutes', 'total eve calls', 'total eve charge', 'total night minutes', 'total night calls', 'total night charge', 'total intl minutes', 'total intl calls', 'total intl charge', 'customer service calls', 'total charge', 'total minutes', 'total calls', 'avg minutes per domestic call', 'competition'], GradientBooster__loss=deviance, GradientBooster__max_depth=5, GradientBooster__max_features=None, GradientBooster__n_estimators=100, SMOTE__sampling_strategy=1, total=   4.3s\n",
      "[CV] ColumnTransformer__columns=['account length', 'international plan', 'voice mail plan', 'number vmail messages', 'total day minutes', 'total day calls', 'total day charge', 'total eve minutes', 'total eve calls', 'total eve charge', 'total night minutes', 'total night calls', 'total night charge', 'total intl minutes', 'total intl calls', 'total intl charge', 'customer service calls', 'total charge', 'total minutes', 'total calls', 'avg minutes per domestic call', 'competition'], GradientBooster__loss=deviance, GradientBooster__max_depth=5, GradientBooster__max_features=None, GradientBooster__n_estimators=100, SMOTE__sampling_strategy=1 \n",
      "[CV]  ColumnTransformer__columns=['account length', 'international plan', 'voice mail plan', 'number vmail messages', 'total day minutes', 'total day calls', 'total day charge', 'total eve minutes', 'total eve calls', 'total eve charge', 'total night minutes', 'total night calls', 'total night charge', 'total intl minutes', 'total intl calls', 'total intl charge', 'customer service calls', 'total charge', 'total minutes', 'total calls', 'avg minutes per domestic call', 'competition'], GradientBooster__loss=deviance, GradientBooster__max_depth=5, GradientBooster__max_features=None, GradientBooster__n_estimators=100, SMOTE__sampling_strategy=1, total=   4.0s\n",
      "[CV] ColumnTransformer__columns=['account length', 'international plan', 'voice mail plan', 'number vmail messages', 'total day minutes', 'total day calls', 'total day charge', 'total eve minutes', 'total eve calls', 'total eve charge', 'total night minutes', 'total night calls', 'total night charge', 'total intl minutes', 'total intl calls', 'total intl charge', 'customer service calls', 'total charge', 'total minutes', 'total calls', 'avg minutes per domestic call', 'competition'], GradientBooster__loss=deviance, GradientBooster__max_depth=5, GradientBooster__max_features=None, GradientBooster__n_estimators=100, SMOTE__sampling_strategy=1 \n",
      "[CV]  ColumnTransformer__columns=['account length', 'international plan', 'voice mail plan', 'number vmail messages', 'total day minutes', 'total day calls', 'total day charge', 'total eve minutes', 'total eve calls', 'total eve charge', 'total night minutes', 'total night calls', 'total night charge', 'total intl minutes', 'total intl calls', 'total intl charge', 'customer service calls', 'total charge', 'total minutes', 'total calls', 'avg minutes per domestic call', 'competition'], GradientBooster__loss=deviance, GradientBooster__max_depth=5, GradientBooster__max_features=None, GradientBooster__n_estimators=100, SMOTE__sampling_strategy=1, total=   4.3s\n",
      "[CV] ColumnTransformer__columns=['account length', 'international plan', 'voice mail plan', 'number vmail messages', 'total day minutes', 'total day calls', 'total day charge', 'total eve minutes', 'total eve calls', 'total eve charge', 'total night minutes', 'total night calls', 'total night charge', 'total intl minutes', 'total intl calls', 'total intl charge', 'customer service calls', 'total charge', 'total minutes', 'total calls', 'avg minutes per domestic call', 'competition'], GradientBooster__loss=deviance, GradientBooster__max_depth=5, GradientBooster__max_features=None, GradientBooster__n_estimators=150, SMOTE__sampling_strategy=1 \n",
      "[CV]  ColumnTransformer__columns=['account length', 'international plan', 'voice mail plan', 'number vmail messages', 'total day minutes', 'total day calls', 'total day charge', 'total eve minutes', 'total eve calls', 'total eve charge', 'total night minutes', 'total night calls', 'total night charge', 'total intl minutes', 'total intl calls', 'total intl charge', 'customer service calls', 'total charge', 'total minutes', 'total calls', 'avg minutes per domestic call', 'competition'], GradientBooster__loss=deviance, GradientBooster__max_depth=5, GradientBooster__max_features=None, GradientBooster__n_estimators=150, SMOTE__sampling_strategy=1, total=   6.0s\n",
      "[CV] ColumnTransformer__columns=['account length', 'international plan', 'voice mail plan', 'number vmail messages', 'total day minutes', 'total day calls', 'total day charge', 'total eve minutes', 'total eve calls', 'total eve charge', 'total night minutes', 'total night calls', 'total night charge', 'total intl minutes', 'total intl calls', 'total intl charge', 'customer service calls', 'total charge', 'total minutes', 'total calls', 'avg minutes per domestic call', 'competition'], GradientBooster__loss=deviance, GradientBooster__max_depth=5, GradientBooster__max_features=None, GradientBooster__n_estimators=150, SMOTE__sampling_strategy=1 \n",
      "[CV]  ColumnTransformer__columns=['account length', 'international plan', 'voice mail plan', 'number vmail messages', 'total day minutes', 'total day calls', 'total day charge', 'total eve minutes', 'total eve calls', 'total eve charge', 'total night minutes', 'total night calls', 'total night charge', 'total intl minutes', 'total intl calls', 'total intl charge', 'customer service calls', 'total charge', 'total minutes', 'total calls', 'avg minutes per domestic call', 'competition'], GradientBooster__loss=deviance, GradientBooster__max_depth=5, GradientBooster__max_features=None, GradientBooster__n_estimators=150, SMOTE__sampling_strategy=1, total=   6.0s\n",
      "[CV] ColumnTransformer__columns=['account length', 'international plan', 'voice mail plan', 'number vmail messages', 'total day minutes', 'total day calls', 'total day charge', 'total eve minutes', 'total eve calls', 'total eve charge', 'total night minutes', 'total night calls', 'total night charge', 'total intl minutes', 'total intl calls', 'total intl charge', 'customer service calls', 'total charge', 'total minutes', 'total calls', 'avg minutes per domestic call', 'competition'], GradientBooster__loss=deviance, GradientBooster__max_depth=5, GradientBooster__max_features=None, GradientBooster__n_estimators=150, SMOTE__sampling_strategy=1 \n"
     ]
    },
    {
     "name": "stdout",
     "output_type": "stream",
     "text": [
      "[CV]  ColumnTransformer__columns=['account length', 'international plan', 'voice mail plan', 'number vmail messages', 'total day minutes', 'total day calls', 'total day charge', 'total eve minutes', 'total eve calls', 'total eve charge', 'total night minutes', 'total night calls', 'total night charge', 'total intl minutes', 'total intl calls', 'total intl charge', 'customer service calls', 'total charge', 'total minutes', 'total calls', 'avg minutes per domestic call', 'competition'], GradientBooster__loss=deviance, GradientBooster__max_depth=5, GradientBooster__max_features=None, GradientBooster__n_estimators=150, SMOTE__sampling_strategy=1, total=   6.2s\n",
      "[CV] ColumnTransformer__columns=['account length', 'international plan', 'voice mail plan', 'number vmail messages', 'total day minutes', 'total day calls', 'total day charge', 'total eve minutes', 'total eve calls', 'total eve charge', 'total night minutes', 'total night calls', 'total night charge', 'total intl minutes', 'total intl calls', 'total intl charge', 'customer service calls', 'total charge', 'total minutes', 'total calls', 'avg minutes per domestic call', 'competition'], GradientBooster__loss=deviance, GradientBooster__max_depth=5, GradientBooster__max_features=None, GradientBooster__n_estimators=150, SMOTE__sampling_strategy=1 \n",
      "[CV]  ColumnTransformer__columns=['account length', 'international plan', 'voice mail plan', 'number vmail messages', 'total day minutes', 'total day calls', 'total day charge', 'total eve minutes', 'total eve calls', 'total eve charge', 'total night minutes', 'total night calls', 'total night charge', 'total intl minutes', 'total intl calls', 'total intl charge', 'customer service calls', 'total charge', 'total minutes', 'total calls', 'avg minutes per domestic call', 'competition'], GradientBooster__loss=deviance, GradientBooster__max_depth=5, GradientBooster__max_features=None, GradientBooster__n_estimators=150, SMOTE__sampling_strategy=1, total=   5.4s\n",
      "[CV] ColumnTransformer__columns=['account length', 'international plan', 'voice mail plan', 'number vmail messages', 'total day minutes', 'total day calls', 'total day charge', 'total eve minutes', 'total eve calls', 'total eve charge', 'total night minutes', 'total night calls', 'total night charge', 'total intl minutes', 'total intl calls', 'total intl charge', 'customer service calls', 'total charge', 'total minutes', 'total calls', 'avg minutes per domestic call', 'competition'], GradientBooster__loss=deviance, GradientBooster__max_depth=5, GradientBooster__max_features=None, GradientBooster__n_estimators=150, SMOTE__sampling_strategy=1 \n",
      "[CV]  ColumnTransformer__columns=['account length', 'international plan', 'voice mail plan', 'number vmail messages', 'total day minutes', 'total day calls', 'total day charge', 'total eve minutes', 'total eve calls', 'total eve charge', 'total night minutes', 'total night calls', 'total night charge', 'total intl minutes', 'total intl calls', 'total intl charge', 'customer service calls', 'total charge', 'total minutes', 'total calls', 'avg minutes per domestic call', 'competition'], GradientBooster__loss=deviance, GradientBooster__max_depth=5, GradientBooster__max_features=None, GradientBooster__n_estimators=150, SMOTE__sampling_strategy=1, total=   5.8s\n",
      "[CV] ColumnTransformer__columns=['account length', 'international plan', 'voice mail plan', 'number vmail messages', 'total day minutes', 'total day calls', 'total day charge', 'total eve minutes', 'total eve calls', 'total eve charge', 'total night minutes', 'total night calls', 'total night charge', 'total intl minutes', 'total intl calls', 'total intl charge', 'customer service calls', 'total charge', 'total minutes', 'total calls', 'avg minutes per domestic call', 'competition'], GradientBooster__loss=exponential, GradientBooster__max_depth=3, GradientBooster__max_features=auto, GradientBooster__n_estimators=100, SMOTE__sampling_strategy=1 \n",
      "[CV]  ColumnTransformer__columns=['account length', 'international plan', 'voice mail plan', 'number vmail messages', 'total day minutes', 'total day calls', 'total day charge', 'total eve minutes', 'total eve calls', 'total eve charge', 'total night minutes', 'total night calls', 'total night charge', 'total intl minutes', 'total intl calls', 'total intl charge', 'customer service calls', 'total charge', 'total minutes', 'total calls', 'avg minutes per domestic call', 'competition'], GradientBooster__loss=exponential, GradientBooster__max_depth=3, GradientBooster__max_features=auto, GradientBooster__n_estimators=100, SMOTE__sampling_strategy=1, total=   2.6s\n",
      "[CV] ColumnTransformer__columns=['account length', 'international plan', 'voice mail plan', 'number vmail messages', 'total day minutes', 'total day calls', 'total day charge', 'total eve minutes', 'total eve calls', 'total eve charge', 'total night minutes', 'total night calls', 'total night charge', 'total intl minutes', 'total intl calls', 'total intl charge', 'customer service calls', 'total charge', 'total minutes', 'total calls', 'avg minutes per domestic call', 'competition'], GradientBooster__loss=exponential, GradientBooster__max_depth=3, GradientBooster__max_features=auto, GradientBooster__n_estimators=100, SMOTE__sampling_strategy=1 \n",
      "[CV]  ColumnTransformer__columns=['account length', 'international plan', 'voice mail plan', 'number vmail messages', 'total day minutes', 'total day calls', 'total day charge', 'total eve minutes', 'total eve calls', 'total eve charge', 'total night minutes', 'total night calls', 'total night charge', 'total intl minutes', 'total intl calls', 'total intl charge', 'customer service calls', 'total charge', 'total minutes', 'total calls', 'avg minutes per domestic call', 'competition'], GradientBooster__loss=exponential, GradientBooster__max_depth=3, GradientBooster__max_features=auto, GradientBooster__n_estimators=100, SMOTE__sampling_strategy=1, total=   2.2s\n",
      "[CV] ColumnTransformer__columns=['account length', 'international plan', 'voice mail plan', 'number vmail messages', 'total day minutes', 'total day calls', 'total day charge', 'total eve minutes', 'total eve calls', 'total eve charge', 'total night minutes', 'total night calls', 'total night charge', 'total intl minutes', 'total intl calls', 'total intl charge', 'customer service calls', 'total charge', 'total minutes', 'total calls', 'avg minutes per domestic call', 'competition'], GradientBooster__loss=exponential, GradientBooster__max_depth=3, GradientBooster__max_features=auto, GradientBooster__n_estimators=100, SMOTE__sampling_strategy=1 \n",
      "[CV]  ColumnTransformer__columns=['account length', 'international plan', 'voice mail plan', 'number vmail messages', 'total day minutes', 'total day calls', 'total day charge', 'total eve minutes', 'total eve calls', 'total eve charge', 'total night minutes', 'total night calls', 'total night charge', 'total intl minutes', 'total intl calls', 'total intl charge', 'customer service calls', 'total charge', 'total minutes', 'total calls', 'avg minutes per domestic call', 'competition'], GradientBooster__loss=exponential, GradientBooster__max_depth=3, GradientBooster__max_features=auto, GradientBooster__n_estimators=100, SMOTE__sampling_strategy=1, total=   2.3s\n",
      "[CV] ColumnTransformer__columns=['account length', 'international plan', 'voice mail plan', 'number vmail messages', 'total day minutes', 'total day calls', 'total day charge', 'total eve minutes', 'total eve calls', 'total eve charge', 'total night minutes', 'total night calls', 'total night charge', 'total intl minutes', 'total intl calls', 'total intl charge', 'customer service calls', 'total charge', 'total minutes', 'total calls', 'avg minutes per domestic call', 'competition'], GradientBooster__loss=exponential, GradientBooster__max_depth=3, GradientBooster__max_features=auto, GradientBooster__n_estimators=100, SMOTE__sampling_strategy=1 \n",
      "[CV]  ColumnTransformer__columns=['account length', 'international plan', 'voice mail plan', 'number vmail messages', 'total day minutes', 'total day calls', 'total day charge', 'total eve minutes', 'total eve calls', 'total eve charge', 'total night minutes', 'total night calls', 'total night charge', 'total intl minutes', 'total intl calls', 'total intl charge', 'customer service calls', 'total charge', 'total minutes', 'total calls', 'avg minutes per domestic call', 'competition'], GradientBooster__loss=exponential, GradientBooster__max_depth=3, GradientBooster__max_features=auto, GradientBooster__n_estimators=100, SMOTE__sampling_strategy=1, total=   2.2s\n",
      "[CV] ColumnTransformer__columns=['account length', 'international plan', 'voice mail plan', 'number vmail messages', 'total day minutes', 'total day calls', 'total day charge', 'total eve minutes', 'total eve calls', 'total eve charge', 'total night minutes', 'total night calls', 'total night charge', 'total intl minutes', 'total intl calls', 'total intl charge', 'customer service calls', 'total charge', 'total minutes', 'total calls', 'avg minutes per domestic call', 'competition'], GradientBooster__loss=exponential, GradientBooster__max_depth=3, GradientBooster__max_features=auto, GradientBooster__n_estimators=100, SMOTE__sampling_strategy=1 \n"
     ]
    },
    {
     "name": "stdout",
     "output_type": "stream",
     "text": [
      "[CV]  ColumnTransformer__columns=['account length', 'international plan', 'voice mail plan', 'number vmail messages', 'total day minutes', 'total day calls', 'total day charge', 'total eve minutes', 'total eve calls', 'total eve charge', 'total night minutes', 'total night calls', 'total night charge', 'total intl minutes', 'total intl calls', 'total intl charge', 'customer service calls', 'total charge', 'total minutes', 'total calls', 'avg minutes per domestic call', 'competition'], GradientBooster__loss=exponential, GradientBooster__max_depth=3, GradientBooster__max_features=auto, GradientBooster__n_estimators=100, SMOTE__sampling_strategy=1, total=   2.1s\n",
      "[CV] ColumnTransformer__columns=['account length', 'international plan', 'voice mail plan', 'number vmail messages', 'total day minutes', 'total day calls', 'total day charge', 'total eve minutes', 'total eve calls', 'total eve charge', 'total night minutes', 'total night calls', 'total night charge', 'total intl minutes', 'total intl calls', 'total intl charge', 'customer service calls', 'total charge', 'total minutes', 'total calls', 'avg minutes per domestic call', 'competition'], GradientBooster__loss=exponential, GradientBooster__max_depth=3, GradientBooster__max_features=auto, GradientBooster__n_estimators=150, SMOTE__sampling_strategy=1 \n",
      "[CV]  ColumnTransformer__columns=['account length', 'international plan', 'voice mail plan', 'number vmail messages', 'total day minutes', 'total day calls', 'total day charge', 'total eve minutes', 'total eve calls', 'total eve charge', 'total night minutes', 'total night calls', 'total night charge', 'total intl minutes', 'total intl calls', 'total intl charge', 'customer service calls', 'total charge', 'total minutes', 'total calls', 'avg minutes per domestic call', 'competition'], GradientBooster__loss=exponential, GradientBooster__max_depth=3, GradientBooster__max_features=auto, GradientBooster__n_estimators=150, SMOTE__sampling_strategy=1, total=   3.8s\n",
      "[CV] ColumnTransformer__columns=['account length', 'international plan', 'voice mail plan', 'number vmail messages', 'total day minutes', 'total day calls', 'total day charge', 'total eve minutes', 'total eve calls', 'total eve charge', 'total night minutes', 'total night calls', 'total night charge', 'total intl minutes', 'total intl calls', 'total intl charge', 'customer service calls', 'total charge', 'total minutes', 'total calls', 'avg minutes per domestic call', 'competition'], GradientBooster__loss=exponential, GradientBooster__max_depth=3, GradientBooster__max_features=auto, GradientBooster__n_estimators=150, SMOTE__sampling_strategy=1 \n",
      "[CV]  ColumnTransformer__columns=['account length', 'international plan', 'voice mail plan', 'number vmail messages', 'total day minutes', 'total day calls', 'total day charge', 'total eve minutes', 'total eve calls', 'total eve charge', 'total night minutes', 'total night calls', 'total night charge', 'total intl minutes', 'total intl calls', 'total intl charge', 'customer service calls', 'total charge', 'total minutes', 'total calls', 'avg minutes per domestic call', 'competition'], GradientBooster__loss=exponential, GradientBooster__max_depth=3, GradientBooster__max_features=auto, GradientBooster__n_estimators=150, SMOTE__sampling_strategy=1, total=   3.6s\n",
      "[CV] ColumnTransformer__columns=['account length', 'international plan', 'voice mail plan', 'number vmail messages', 'total day minutes', 'total day calls', 'total day charge', 'total eve minutes', 'total eve calls', 'total eve charge', 'total night minutes', 'total night calls', 'total night charge', 'total intl minutes', 'total intl calls', 'total intl charge', 'customer service calls', 'total charge', 'total minutes', 'total calls', 'avg minutes per domestic call', 'competition'], GradientBooster__loss=exponential, GradientBooster__max_depth=3, GradientBooster__max_features=auto, GradientBooster__n_estimators=150, SMOTE__sampling_strategy=1 \n",
      "[CV]  ColumnTransformer__columns=['account length', 'international plan', 'voice mail plan', 'number vmail messages', 'total day minutes', 'total day calls', 'total day charge', 'total eve minutes', 'total eve calls', 'total eve charge', 'total night minutes', 'total night calls', 'total night charge', 'total intl minutes', 'total intl calls', 'total intl charge', 'customer service calls', 'total charge', 'total minutes', 'total calls', 'avg minutes per domestic call', 'competition'], GradientBooster__loss=exponential, GradientBooster__max_depth=3, GradientBooster__max_features=auto, GradientBooster__n_estimators=150, SMOTE__sampling_strategy=1, total=   3.9s\n",
      "[CV] ColumnTransformer__columns=['account length', 'international plan', 'voice mail plan', 'number vmail messages', 'total day minutes', 'total day calls', 'total day charge', 'total eve minutes', 'total eve calls', 'total eve charge', 'total night minutes', 'total night calls', 'total night charge', 'total intl minutes', 'total intl calls', 'total intl charge', 'customer service calls', 'total charge', 'total minutes', 'total calls', 'avg minutes per domestic call', 'competition'], GradientBooster__loss=exponential, GradientBooster__max_depth=3, GradientBooster__max_features=auto, GradientBooster__n_estimators=150, SMOTE__sampling_strategy=1 \n",
      "[CV]  ColumnTransformer__columns=['account length', 'international plan', 'voice mail plan', 'number vmail messages', 'total day minutes', 'total day calls', 'total day charge', 'total eve minutes', 'total eve calls', 'total eve charge', 'total night minutes', 'total night calls', 'total night charge', 'total intl minutes', 'total intl calls', 'total intl charge', 'customer service calls', 'total charge', 'total minutes', 'total calls', 'avg minutes per domestic call', 'competition'], GradientBooster__loss=exponential, GradientBooster__max_depth=3, GradientBooster__max_features=auto, GradientBooster__n_estimators=150, SMOTE__sampling_strategy=1, total=   3.4s\n",
      "[CV] ColumnTransformer__columns=['account length', 'international plan', 'voice mail plan', 'number vmail messages', 'total day minutes', 'total day calls', 'total day charge', 'total eve minutes', 'total eve calls', 'total eve charge', 'total night minutes', 'total night calls', 'total night charge', 'total intl minutes', 'total intl calls', 'total intl charge', 'customer service calls', 'total charge', 'total minutes', 'total calls', 'avg minutes per domestic call', 'competition'], GradientBooster__loss=exponential, GradientBooster__max_depth=3, GradientBooster__max_features=auto, GradientBooster__n_estimators=150, SMOTE__sampling_strategy=1 \n",
      "[CV]  ColumnTransformer__columns=['account length', 'international plan', 'voice mail plan', 'number vmail messages', 'total day minutes', 'total day calls', 'total day charge', 'total eve minutes', 'total eve calls', 'total eve charge', 'total night minutes', 'total night calls', 'total night charge', 'total intl minutes', 'total intl calls', 'total intl charge', 'customer service calls', 'total charge', 'total minutes', 'total calls', 'avg minutes per domestic call', 'competition'], GradientBooster__loss=exponential, GradientBooster__max_depth=3, GradientBooster__max_features=auto, GradientBooster__n_estimators=150, SMOTE__sampling_strategy=1, total=   3.2s\n",
      "[CV] ColumnTransformer__columns=['account length', 'international plan', 'voice mail plan', 'number vmail messages', 'total day minutes', 'total day calls', 'total day charge', 'total eve minutes', 'total eve calls', 'total eve charge', 'total night minutes', 'total night calls', 'total night charge', 'total intl minutes', 'total intl calls', 'total intl charge', 'customer service calls', 'total charge', 'total minutes', 'total calls', 'avg minutes per domestic call', 'competition'], GradientBooster__loss=exponential, GradientBooster__max_depth=3, GradientBooster__max_features=8, GradientBooster__n_estimators=100, SMOTE__sampling_strategy=1 \n",
      "[CV]  ColumnTransformer__columns=['account length', 'international plan', 'voice mail plan', 'number vmail messages', 'total day minutes', 'total day calls', 'total day charge', 'total eve minutes', 'total eve calls', 'total eve charge', 'total night minutes', 'total night calls', 'total night charge', 'total intl minutes', 'total intl calls', 'total intl charge', 'customer service calls', 'total charge', 'total minutes', 'total calls', 'avg minutes per domestic call', 'competition'], GradientBooster__loss=exponential, GradientBooster__max_depth=3, GradientBooster__max_features=8, GradientBooster__n_estimators=100, SMOTE__sampling_strategy=1, total=   1.0s\n",
      "[CV] ColumnTransformer__columns=['account length', 'international plan', 'voice mail plan', 'number vmail messages', 'total day minutes', 'total day calls', 'total day charge', 'total eve minutes', 'total eve calls', 'total eve charge', 'total night minutes', 'total night calls', 'total night charge', 'total intl minutes', 'total intl calls', 'total intl charge', 'customer service calls', 'total charge', 'total minutes', 'total calls', 'avg minutes per domestic call', 'competition'], GradientBooster__loss=exponential, GradientBooster__max_depth=3, GradientBooster__max_features=8, GradientBooster__n_estimators=100, SMOTE__sampling_strategy=1 \n"
     ]
    },
    {
     "name": "stdout",
     "output_type": "stream",
     "text": [
      "[CV]  ColumnTransformer__columns=['account length', 'international plan', 'voice mail plan', 'number vmail messages', 'total day minutes', 'total day calls', 'total day charge', 'total eve minutes', 'total eve calls', 'total eve charge', 'total night minutes', 'total night calls', 'total night charge', 'total intl minutes', 'total intl calls', 'total intl charge', 'customer service calls', 'total charge', 'total minutes', 'total calls', 'avg minutes per domestic call', 'competition'], GradientBooster__loss=exponential, GradientBooster__max_depth=3, GradientBooster__max_features=8, GradientBooster__n_estimators=100, SMOTE__sampling_strategy=1, total=   1.0s\n",
      "[CV] ColumnTransformer__columns=['account length', 'international plan', 'voice mail plan', 'number vmail messages', 'total day minutes', 'total day calls', 'total day charge', 'total eve minutes', 'total eve calls', 'total eve charge', 'total night minutes', 'total night calls', 'total night charge', 'total intl minutes', 'total intl calls', 'total intl charge', 'customer service calls', 'total charge', 'total minutes', 'total calls', 'avg minutes per domestic call', 'competition'], GradientBooster__loss=exponential, GradientBooster__max_depth=3, GradientBooster__max_features=8, GradientBooster__n_estimators=100, SMOTE__sampling_strategy=1 \n",
      "[CV]  ColumnTransformer__columns=['account length', 'international plan', 'voice mail plan', 'number vmail messages', 'total day minutes', 'total day calls', 'total day charge', 'total eve minutes', 'total eve calls', 'total eve charge', 'total night minutes', 'total night calls', 'total night charge', 'total intl minutes', 'total intl calls', 'total intl charge', 'customer service calls', 'total charge', 'total minutes', 'total calls', 'avg minutes per domestic call', 'competition'], GradientBooster__loss=exponential, GradientBooster__max_depth=3, GradientBooster__max_features=8, GradientBooster__n_estimators=100, SMOTE__sampling_strategy=1, total=   1.0s\n",
      "[CV] ColumnTransformer__columns=['account length', 'international plan', 'voice mail plan', 'number vmail messages', 'total day minutes', 'total day calls', 'total day charge', 'total eve minutes', 'total eve calls', 'total eve charge', 'total night minutes', 'total night calls', 'total night charge', 'total intl minutes', 'total intl calls', 'total intl charge', 'customer service calls', 'total charge', 'total minutes', 'total calls', 'avg minutes per domestic call', 'competition'], GradientBooster__loss=exponential, GradientBooster__max_depth=3, GradientBooster__max_features=8, GradientBooster__n_estimators=100, SMOTE__sampling_strategy=1 \n",
      "[CV]  ColumnTransformer__columns=['account length', 'international plan', 'voice mail plan', 'number vmail messages', 'total day minutes', 'total day calls', 'total day charge', 'total eve minutes', 'total eve calls', 'total eve charge', 'total night minutes', 'total night calls', 'total night charge', 'total intl minutes', 'total intl calls', 'total intl charge', 'customer service calls', 'total charge', 'total minutes', 'total calls', 'avg minutes per domestic call', 'competition'], GradientBooster__loss=exponential, GradientBooster__max_depth=3, GradientBooster__max_features=8, GradientBooster__n_estimators=100, SMOTE__sampling_strategy=1, total=   1.0s\n",
      "[CV] ColumnTransformer__columns=['account length', 'international plan', 'voice mail plan', 'number vmail messages', 'total day minutes', 'total day calls', 'total day charge', 'total eve minutes', 'total eve calls', 'total eve charge', 'total night minutes', 'total night calls', 'total night charge', 'total intl minutes', 'total intl calls', 'total intl charge', 'customer service calls', 'total charge', 'total minutes', 'total calls', 'avg minutes per domestic call', 'competition'], GradientBooster__loss=exponential, GradientBooster__max_depth=3, GradientBooster__max_features=8, GradientBooster__n_estimators=100, SMOTE__sampling_strategy=1 \n",
      "[CV]  ColumnTransformer__columns=['account length', 'international plan', 'voice mail plan', 'number vmail messages', 'total day minutes', 'total day calls', 'total day charge', 'total eve minutes', 'total eve calls', 'total eve charge', 'total night minutes', 'total night calls', 'total night charge', 'total intl minutes', 'total intl calls', 'total intl charge', 'customer service calls', 'total charge', 'total minutes', 'total calls', 'avg minutes per domestic call', 'competition'], GradientBooster__loss=exponential, GradientBooster__max_depth=3, GradientBooster__max_features=8, GradientBooster__n_estimators=100, SMOTE__sampling_strategy=1, total=   1.0s\n",
      "[CV] ColumnTransformer__columns=['account length', 'international plan', 'voice mail plan', 'number vmail messages', 'total day minutes', 'total day calls', 'total day charge', 'total eve minutes', 'total eve calls', 'total eve charge', 'total night minutes', 'total night calls', 'total night charge', 'total intl minutes', 'total intl calls', 'total intl charge', 'customer service calls', 'total charge', 'total minutes', 'total calls', 'avg minutes per domestic call', 'competition'], GradientBooster__loss=exponential, GradientBooster__max_depth=3, GradientBooster__max_features=8, GradientBooster__n_estimators=150, SMOTE__sampling_strategy=1 \n",
      "[CV]  ColumnTransformer__columns=['account length', 'international plan', 'voice mail plan', 'number vmail messages', 'total day minutes', 'total day calls', 'total day charge', 'total eve minutes', 'total eve calls', 'total eve charge', 'total night minutes', 'total night calls', 'total night charge', 'total intl minutes', 'total intl calls', 'total intl charge', 'customer service calls', 'total charge', 'total minutes', 'total calls', 'avg minutes per domestic call', 'competition'], GradientBooster__loss=exponential, GradientBooster__max_depth=3, GradientBooster__max_features=8, GradientBooster__n_estimators=150, SMOTE__sampling_strategy=1, total=   1.5s\n",
      "[CV] ColumnTransformer__columns=['account length', 'international plan', 'voice mail plan', 'number vmail messages', 'total day minutes', 'total day calls', 'total day charge', 'total eve minutes', 'total eve calls', 'total eve charge', 'total night minutes', 'total night calls', 'total night charge', 'total intl minutes', 'total intl calls', 'total intl charge', 'customer service calls', 'total charge', 'total minutes', 'total calls', 'avg minutes per domestic call', 'competition'], GradientBooster__loss=exponential, GradientBooster__max_depth=3, GradientBooster__max_features=8, GradientBooster__n_estimators=150, SMOTE__sampling_strategy=1 \n",
      "[CV]  ColumnTransformer__columns=['account length', 'international plan', 'voice mail plan', 'number vmail messages', 'total day minutes', 'total day calls', 'total day charge', 'total eve minutes', 'total eve calls', 'total eve charge', 'total night minutes', 'total night calls', 'total night charge', 'total intl minutes', 'total intl calls', 'total intl charge', 'customer service calls', 'total charge', 'total minutes', 'total calls', 'avg minutes per domestic call', 'competition'], GradientBooster__loss=exponential, GradientBooster__max_depth=3, GradientBooster__max_features=8, GradientBooster__n_estimators=150, SMOTE__sampling_strategy=1, total=   1.4s\n",
      "[CV] ColumnTransformer__columns=['account length', 'international plan', 'voice mail plan', 'number vmail messages', 'total day minutes', 'total day calls', 'total day charge', 'total eve minutes', 'total eve calls', 'total eve charge', 'total night minutes', 'total night calls', 'total night charge', 'total intl minutes', 'total intl calls', 'total intl charge', 'customer service calls', 'total charge', 'total minutes', 'total calls', 'avg minutes per domestic call', 'competition'], GradientBooster__loss=exponential, GradientBooster__max_depth=3, GradientBooster__max_features=8, GradientBooster__n_estimators=150, SMOTE__sampling_strategy=1 \n",
      "[CV]  ColumnTransformer__columns=['account length', 'international plan', 'voice mail plan', 'number vmail messages', 'total day minutes', 'total day calls', 'total day charge', 'total eve minutes', 'total eve calls', 'total eve charge', 'total night minutes', 'total night calls', 'total night charge', 'total intl minutes', 'total intl calls', 'total intl charge', 'customer service calls', 'total charge', 'total minutes', 'total calls', 'avg minutes per domestic call', 'competition'], GradientBooster__loss=exponential, GradientBooster__max_depth=3, GradientBooster__max_features=8, GradientBooster__n_estimators=150, SMOTE__sampling_strategy=1, total=   1.5s\n",
      "[CV] ColumnTransformer__columns=['account length', 'international plan', 'voice mail plan', 'number vmail messages', 'total day minutes', 'total day calls', 'total day charge', 'total eve minutes', 'total eve calls', 'total eve charge', 'total night minutes', 'total night calls', 'total night charge', 'total intl minutes', 'total intl calls', 'total intl charge', 'customer service calls', 'total charge', 'total minutes', 'total calls', 'avg minutes per domestic call', 'competition'], GradientBooster__loss=exponential, GradientBooster__max_depth=3, GradientBooster__max_features=8, GradientBooster__n_estimators=150, SMOTE__sampling_strategy=1 \n"
     ]
    },
    {
     "name": "stdout",
     "output_type": "stream",
     "text": [
      "[CV]  ColumnTransformer__columns=['account length', 'international plan', 'voice mail plan', 'number vmail messages', 'total day minutes', 'total day calls', 'total day charge', 'total eve minutes', 'total eve calls', 'total eve charge', 'total night minutes', 'total night calls', 'total night charge', 'total intl minutes', 'total intl calls', 'total intl charge', 'customer service calls', 'total charge', 'total minutes', 'total calls', 'avg minutes per domestic call', 'competition'], GradientBooster__loss=exponential, GradientBooster__max_depth=3, GradientBooster__max_features=8, GradientBooster__n_estimators=150, SMOTE__sampling_strategy=1, total=   1.5s\n",
      "[CV] ColumnTransformer__columns=['account length', 'international plan', 'voice mail plan', 'number vmail messages', 'total day minutes', 'total day calls', 'total day charge', 'total eve minutes', 'total eve calls', 'total eve charge', 'total night minutes', 'total night calls', 'total night charge', 'total intl minutes', 'total intl calls', 'total intl charge', 'customer service calls', 'total charge', 'total minutes', 'total calls', 'avg minutes per domestic call', 'competition'], GradientBooster__loss=exponential, GradientBooster__max_depth=3, GradientBooster__max_features=8, GradientBooster__n_estimators=150, SMOTE__sampling_strategy=1 \n",
      "[CV]  ColumnTransformer__columns=['account length', 'international plan', 'voice mail plan', 'number vmail messages', 'total day minutes', 'total day calls', 'total day charge', 'total eve minutes', 'total eve calls', 'total eve charge', 'total night minutes', 'total night calls', 'total night charge', 'total intl minutes', 'total intl calls', 'total intl charge', 'customer service calls', 'total charge', 'total minutes', 'total calls', 'avg minutes per domestic call', 'competition'], GradientBooster__loss=exponential, GradientBooster__max_depth=3, GradientBooster__max_features=8, GradientBooster__n_estimators=150, SMOTE__sampling_strategy=1, total=   1.4s\n",
      "[CV] ColumnTransformer__columns=['account length', 'international plan', 'voice mail plan', 'number vmail messages', 'total day minutes', 'total day calls', 'total day charge', 'total eve minutes', 'total eve calls', 'total eve charge', 'total night minutes', 'total night calls', 'total night charge', 'total intl minutes', 'total intl calls', 'total intl charge', 'customer service calls', 'total charge', 'total minutes', 'total calls', 'avg minutes per domestic call', 'competition'], GradientBooster__loss=exponential, GradientBooster__max_depth=3, GradientBooster__max_features=None, GradientBooster__n_estimators=100, SMOTE__sampling_strategy=1 \n",
      "[CV]  ColumnTransformer__columns=['account length', 'international plan', 'voice mail plan', 'number vmail messages', 'total day minutes', 'total day calls', 'total day charge', 'total eve minutes', 'total eve calls', 'total eve charge', 'total night minutes', 'total night calls', 'total night charge', 'total intl minutes', 'total intl calls', 'total intl charge', 'customer service calls', 'total charge', 'total minutes', 'total calls', 'avg minutes per domestic call', 'competition'], GradientBooster__loss=exponential, GradientBooster__max_depth=3, GradientBooster__max_features=None, GradientBooster__n_estimators=100, SMOTE__sampling_strategy=1, total=   2.1s\n",
      "[CV] ColumnTransformer__columns=['account length', 'international plan', 'voice mail plan', 'number vmail messages', 'total day minutes', 'total day calls', 'total day charge', 'total eve minutes', 'total eve calls', 'total eve charge', 'total night minutes', 'total night calls', 'total night charge', 'total intl minutes', 'total intl calls', 'total intl charge', 'customer service calls', 'total charge', 'total minutes', 'total calls', 'avg minutes per domestic call', 'competition'], GradientBooster__loss=exponential, GradientBooster__max_depth=3, GradientBooster__max_features=None, GradientBooster__n_estimators=100, SMOTE__sampling_strategy=1 \n",
      "[CV]  ColumnTransformer__columns=['account length', 'international plan', 'voice mail plan', 'number vmail messages', 'total day minutes', 'total day calls', 'total day charge', 'total eve minutes', 'total eve calls', 'total eve charge', 'total night minutes', 'total night calls', 'total night charge', 'total intl minutes', 'total intl calls', 'total intl charge', 'customer service calls', 'total charge', 'total minutes', 'total calls', 'avg minutes per domestic call', 'competition'], GradientBooster__loss=exponential, GradientBooster__max_depth=3, GradientBooster__max_features=None, GradientBooster__n_estimators=100, SMOTE__sampling_strategy=1, total=   2.2s\n",
      "[CV] ColumnTransformer__columns=['account length', 'international plan', 'voice mail plan', 'number vmail messages', 'total day minutes', 'total day calls', 'total day charge', 'total eve minutes', 'total eve calls', 'total eve charge', 'total night minutes', 'total night calls', 'total night charge', 'total intl minutes', 'total intl calls', 'total intl charge', 'customer service calls', 'total charge', 'total minutes', 'total calls', 'avg minutes per domestic call', 'competition'], GradientBooster__loss=exponential, GradientBooster__max_depth=3, GradientBooster__max_features=None, GradientBooster__n_estimators=100, SMOTE__sampling_strategy=1 \n",
      "[CV]  ColumnTransformer__columns=['account length', 'international plan', 'voice mail plan', 'number vmail messages', 'total day minutes', 'total day calls', 'total day charge', 'total eve minutes', 'total eve calls', 'total eve charge', 'total night minutes', 'total night calls', 'total night charge', 'total intl minutes', 'total intl calls', 'total intl charge', 'customer service calls', 'total charge', 'total minutes', 'total calls', 'avg minutes per domestic call', 'competition'], GradientBooster__loss=exponential, GradientBooster__max_depth=3, GradientBooster__max_features=None, GradientBooster__n_estimators=100, SMOTE__sampling_strategy=1, total=   2.2s\n",
      "[CV] ColumnTransformer__columns=['account length', 'international plan', 'voice mail plan', 'number vmail messages', 'total day minutes', 'total day calls', 'total day charge', 'total eve minutes', 'total eve calls', 'total eve charge', 'total night minutes', 'total night calls', 'total night charge', 'total intl minutes', 'total intl calls', 'total intl charge', 'customer service calls', 'total charge', 'total minutes', 'total calls', 'avg minutes per domestic call', 'competition'], GradientBooster__loss=exponential, GradientBooster__max_depth=3, GradientBooster__max_features=None, GradientBooster__n_estimators=100, SMOTE__sampling_strategy=1 \n",
      "[CV]  ColumnTransformer__columns=['account length', 'international plan', 'voice mail plan', 'number vmail messages', 'total day minutes', 'total day calls', 'total day charge', 'total eve minutes', 'total eve calls', 'total eve charge', 'total night minutes', 'total night calls', 'total night charge', 'total intl minutes', 'total intl calls', 'total intl charge', 'customer service calls', 'total charge', 'total minutes', 'total calls', 'avg minutes per domestic call', 'competition'], GradientBooster__loss=exponential, GradientBooster__max_depth=3, GradientBooster__max_features=None, GradientBooster__n_estimators=100, SMOTE__sampling_strategy=1, total=   2.2s\n",
      "[CV] ColumnTransformer__columns=['account length', 'international plan', 'voice mail plan', 'number vmail messages', 'total day minutes', 'total day calls', 'total day charge', 'total eve minutes', 'total eve calls', 'total eve charge', 'total night minutes', 'total night calls', 'total night charge', 'total intl minutes', 'total intl calls', 'total intl charge', 'customer service calls', 'total charge', 'total minutes', 'total calls', 'avg minutes per domestic call', 'competition'], GradientBooster__loss=exponential, GradientBooster__max_depth=3, GradientBooster__max_features=None, GradientBooster__n_estimators=100, SMOTE__sampling_strategy=1 \n",
      "[CV]  ColumnTransformer__columns=['account length', 'international plan', 'voice mail plan', 'number vmail messages', 'total day minutes', 'total day calls', 'total day charge', 'total eve minutes', 'total eve calls', 'total eve charge', 'total night minutes', 'total night calls', 'total night charge', 'total intl minutes', 'total intl calls', 'total intl charge', 'customer service calls', 'total charge', 'total minutes', 'total calls', 'avg minutes per domestic call', 'competition'], GradientBooster__loss=exponential, GradientBooster__max_depth=3, GradientBooster__max_features=None, GradientBooster__n_estimators=100, SMOTE__sampling_strategy=1, total=   2.1s\n",
      "[CV] ColumnTransformer__columns=['account length', 'international plan', 'voice mail plan', 'number vmail messages', 'total day minutes', 'total day calls', 'total day charge', 'total eve minutes', 'total eve calls', 'total eve charge', 'total night minutes', 'total night calls', 'total night charge', 'total intl minutes', 'total intl calls', 'total intl charge', 'customer service calls', 'total charge', 'total minutes', 'total calls', 'avg minutes per domestic call', 'competition'], GradientBooster__loss=exponential, GradientBooster__max_depth=3, GradientBooster__max_features=None, GradientBooster__n_estimators=150, SMOTE__sampling_strategy=1 \n"
     ]
    },
    {
     "name": "stdout",
     "output_type": "stream",
     "text": [
      "[CV]  ColumnTransformer__columns=['account length', 'international plan', 'voice mail plan', 'number vmail messages', 'total day minutes', 'total day calls', 'total day charge', 'total eve minutes', 'total eve calls', 'total eve charge', 'total night minutes', 'total night calls', 'total night charge', 'total intl minutes', 'total intl calls', 'total intl charge', 'customer service calls', 'total charge', 'total minutes', 'total calls', 'avg minutes per domestic call', 'competition'], GradientBooster__loss=exponential, GradientBooster__max_depth=3, GradientBooster__max_features=None, GradientBooster__n_estimators=150, SMOTE__sampling_strategy=1, total=   3.3s\n",
      "[CV] ColumnTransformer__columns=['account length', 'international plan', 'voice mail plan', 'number vmail messages', 'total day minutes', 'total day calls', 'total day charge', 'total eve minutes', 'total eve calls', 'total eve charge', 'total night minutes', 'total night calls', 'total night charge', 'total intl minutes', 'total intl calls', 'total intl charge', 'customer service calls', 'total charge', 'total minutes', 'total calls', 'avg minutes per domestic call', 'competition'], GradientBooster__loss=exponential, GradientBooster__max_depth=3, GradientBooster__max_features=None, GradientBooster__n_estimators=150, SMOTE__sampling_strategy=1 \n",
      "[CV]  ColumnTransformer__columns=['account length', 'international plan', 'voice mail plan', 'number vmail messages', 'total day minutes', 'total day calls', 'total day charge', 'total eve minutes', 'total eve calls', 'total eve charge', 'total night minutes', 'total night calls', 'total night charge', 'total intl minutes', 'total intl calls', 'total intl charge', 'customer service calls', 'total charge', 'total minutes', 'total calls', 'avg minutes per domestic call', 'competition'], GradientBooster__loss=exponential, GradientBooster__max_depth=3, GradientBooster__max_features=None, GradientBooster__n_estimators=150, SMOTE__sampling_strategy=1, total=   3.3s\n",
      "[CV] ColumnTransformer__columns=['account length', 'international plan', 'voice mail plan', 'number vmail messages', 'total day minutes', 'total day calls', 'total day charge', 'total eve minutes', 'total eve calls', 'total eve charge', 'total night minutes', 'total night calls', 'total night charge', 'total intl minutes', 'total intl calls', 'total intl charge', 'customer service calls', 'total charge', 'total minutes', 'total calls', 'avg minutes per domestic call', 'competition'], GradientBooster__loss=exponential, GradientBooster__max_depth=3, GradientBooster__max_features=None, GradientBooster__n_estimators=150, SMOTE__sampling_strategy=1 \n",
      "[CV]  ColumnTransformer__columns=['account length', 'international plan', 'voice mail plan', 'number vmail messages', 'total day minutes', 'total day calls', 'total day charge', 'total eve minutes', 'total eve calls', 'total eve charge', 'total night minutes', 'total night calls', 'total night charge', 'total intl minutes', 'total intl calls', 'total intl charge', 'customer service calls', 'total charge', 'total minutes', 'total calls', 'avg minutes per domestic call', 'competition'], GradientBooster__loss=exponential, GradientBooster__max_depth=3, GradientBooster__max_features=None, GradientBooster__n_estimators=150, SMOTE__sampling_strategy=1, total=   3.2s\n",
      "[CV] ColumnTransformer__columns=['account length', 'international plan', 'voice mail plan', 'number vmail messages', 'total day minutes', 'total day calls', 'total day charge', 'total eve minutes', 'total eve calls', 'total eve charge', 'total night minutes', 'total night calls', 'total night charge', 'total intl minutes', 'total intl calls', 'total intl charge', 'customer service calls', 'total charge', 'total minutes', 'total calls', 'avg minutes per domestic call', 'competition'], GradientBooster__loss=exponential, GradientBooster__max_depth=3, GradientBooster__max_features=None, GradientBooster__n_estimators=150, SMOTE__sampling_strategy=1 \n",
      "[CV]  ColumnTransformer__columns=['account length', 'international plan', 'voice mail plan', 'number vmail messages', 'total day minutes', 'total day calls', 'total day charge', 'total eve minutes', 'total eve calls', 'total eve charge', 'total night minutes', 'total night calls', 'total night charge', 'total intl minutes', 'total intl calls', 'total intl charge', 'customer service calls', 'total charge', 'total minutes', 'total calls', 'avg minutes per domestic call', 'competition'], GradientBooster__loss=exponential, GradientBooster__max_depth=3, GradientBooster__max_features=None, GradientBooster__n_estimators=150, SMOTE__sampling_strategy=1, total=   3.3s\n",
      "[CV] ColumnTransformer__columns=['account length', 'international plan', 'voice mail plan', 'number vmail messages', 'total day minutes', 'total day calls', 'total day charge', 'total eve minutes', 'total eve calls', 'total eve charge', 'total night minutes', 'total night calls', 'total night charge', 'total intl minutes', 'total intl calls', 'total intl charge', 'customer service calls', 'total charge', 'total minutes', 'total calls', 'avg minutes per domestic call', 'competition'], GradientBooster__loss=exponential, GradientBooster__max_depth=3, GradientBooster__max_features=None, GradientBooster__n_estimators=150, SMOTE__sampling_strategy=1 \n",
      "[CV]  ColumnTransformer__columns=['account length', 'international plan', 'voice mail plan', 'number vmail messages', 'total day minutes', 'total day calls', 'total day charge', 'total eve minutes', 'total eve calls', 'total eve charge', 'total night minutes', 'total night calls', 'total night charge', 'total intl minutes', 'total intl calls', 'total intl charge', 'customer service calls', 'total charge', 'total minutes', 'total calls', 'avg minutes per domestic call', 'competition'], GradientBooster__loss=exponential, GradientBooster__max_depth=3, GradientBooster__max_features=None, GradientBooster__n_estimators=150, SMOTE__sampling_strategy=1, total=   3.0s\n",
      "[CV] ColumnTransformer__columns=['account length', 'international plan', 'voice mail plan', 'number vmail messages', 'total day minutes', 'total day calls', 'total day charge', 'total eve minutes', 'total eve calls', 'total eve charge', 'total night minutes', 'total night calls', 'total night charge', 'total intl minutes', 'total intl calls', 'total intl charge', 'customer service calls', 'total charge', 'total minutes', 'total calls', 'avg minutes per domestic call', 'competition'], GradientBooster__loss=exponential, GradientBooster__max_depth=5, GradientBooster__max_features=auto, GradientBooster__n_estimators=100, SMOTE__sampling_strategy=1 \n",
      "[CV]  ColumnTransformer__columns=['account length', 'international plan', 'voice mail plan', 'number vmail messages', 'total day minutes', 'total day calls', 'total day charge', 'total eve minutes', 'total eve calls', 'total eve charge', 'total night minutes', 'total night calls', 'total night charge', 'total intl minutes', 'total intl calls', 'total intl charge', 'customer service calls', 'total charge', 'total minutes', 'total calls', 'avg minutes per domestic call', 'competition'], GradientBooster__loss=exponential, GradientBooster__max_depth=5, GradientBooster__max_features=auto, GradientBooster__n_estimators=100, SMOTE__sampling_strategy=1, total=   3.5s\n",
      "[CV] ColumnTransformer__columns=['account length', 'international plan', 'voice mail plan', 'number vmail messages', 'total day minutes', 'total day calls', 'total day charge', 'total eve minutes', 'total eve calls', 'total eve charge', 'total night minutes', 'total night calls', 'total night charge', 'total intl minutes', 'total intl calls', 'total intl charge', 'customer service calls', 'total charge', 'total minutes', 'total calls', 'avg minutes per domestic call', 'competition'], GradientBooster__loss=exponential, GradientBooster__max_depth=5, GradientBooster__max_features=auto, GradientBooster__n_estimators=100, SMOTE__sampling_strategy=1 \n",
      "[CV]  ColumnTransformer__columns=['account length', 'international plan', 'voice mail plan', 'number vmail messages', 'total day minutes', 'total day calls', 'total day charge', 'total eve minutes', 'total eve calls', 'total eve charge', 'total night minutes', 'total night calls', 'total night charge', 'total intl minutes', 'total intl calls', 'total intl charge', 'customer service calls', 'total charge', 'total minutes', 'total calls', 'avg minutes per domestic call', 'competition'], GradientBooster__loss=exponential, GradientBooster__max_depth=5, GradientBooster__max_features=auto, GradientBooster__n_estimators=100, SMOTE__sampling_strategy=1, total=   3.4s\n",
      "[CV] ColumnTransformer__columns=['account length', 'international plan', 'voice mail plan', 'number vmail messages', 'total day minutes', 'total day calls', 'total day charge', 'total eve minutes', 'total eve calls', 'total eve charge', 'total night minutes', 'total night calls', 'total night charge', 'total intl minutes', 'total intl calls', 'total intl charge', 'customer service calls', 'total charge', 'total minutes', 'total calls', 'avg minutes per domestic call', 'competition'], GradientBooster__loss=exponential, GradientBooster__max_depth=5, GradientBooster__max_features=auto, GradientBooster__n_estimators=100, SMOTE__sampling_strategy=1 \n"
     ]
    },
    {
     "name": "stdout",
     "output_type": "stream",
     "text": [
      "[CV]  ColumnTransformer__columns=['account length', 'international plan', 'voice mail plan', 'number vmail messages', 'total day minutes', 'total day calls', 'total day charge', 'total eve minutes', 'total eve calls', 'total eve charge', 'total night minutes', 'total night calls', 'total night charge', 'total intl minutes', 'total intl calls', 'total intl charge', 'customer service calls', 'total charge', 'total minutes', 'total calls', 'avg minutes per domestic call', 'competition'], GradientBooster__loss=exponential, GradientBooster__max_depth=5, GradientBooster__max_features=auto, GradientBooster__n_estimators=100, SMOTE__sampling_strategy=1, total=   3.4s\n",
      "[CV] ColumnTransformer__columns=['account length', 'international plan', 'voice mail plan', 'number vmail messages', 'total day minutes', 'total day calls', 'total day charge', 'total eve minutes', 'total eve calls', 'total eve charge', 'total night minutes', 'total night calls', 'total night charge', 'total intl minutes', 'total intl calls', 'total intl charge', 'customer service calls', 'total charge', 'total minutes', 'total calls', 'avg minutes per domestic call', 'competition'], GradientBooster__loss=exponential, GradientBooster__max_depth=5, GradientBooster__max_features=auto, GradientBooster__n_estimators=100, SMOTE__sampling_strategy=1 \n",
      "[CV]  ColumnTransformer__columns=['account length', 'international plan', 'voice mail plan', 'number vmail messages', 'total day minutes', 'total day calls', 'total day charge', 'total eve minutes', 'total eve calls', 'total eve charge', 'total night minutes', 'total night calls', 'total night charge', 'total intl minutes', 'total intl calls', 'total intl charge', 'customer service calls', 'total charge', 'total minutes', 'total calls', 'avg minutes per domestic call', 'competition'], GradientBooster__loss=exponential, GradientBooster__max_depth=5, GradientBooster__max_features=auto, GradientBooster__n_estimators=100, SMOTE__sampling_strategy=1, total=   3.6s\n",
      "[CV] ColumnTransformer__columns=['account length', 'international plan', 'voice mail plan', 'number vmail messages', 'total day minutes', 'total day calls', 'total day charge', 'total eve minutes', 'total eve calls', 'total eve charge', 'total night minutes', 'total night calls', 'total night charge', 'total intl minutes', 'total intl calls', 'total intl charge', 'customer service calls', 'total charge', 'total minutes', 'total calls', 'avg minutes per domestic call', 'competition'], GradientBooster__loss=exponential, GradientBooster__max_depth=5, GradientBooster__max_features=auto, GradientBooster__n_estimators=100, SMOTE__sampling_strategy=1 \n",
      "[CV]  ColumnTransformer__columns=['account length', 'international plan', 'voice mail plan', 'number vmail messages', 'total day minutes', 'total day calls', 'total day charge', 'total eve minutes', 'total eve calls', 'total eve charge', 'total night minutes', 'total night calls', 'total night charge', 'total intl minutes', 'total intl calls', 'total intl charge', 'customer service calls', 'total charge', 'total minutes', 'total calls', 'avg minutes per domestic call', 'competition'], GradientBooster__loss=exponential, GradientBooster__max_depth=5, GradientBooster__max_features=auto, GradientBooster__n_estimators=100, SMOTE__sampling_strategy=1, total=   3.6s\n",
      "[CV] ColumnTransformer__columns=['account length', 'international plan', 'voice mail plan', 'number vmail messages', 'total day minutes', 'total day calls', 'total day charge', 'total eve minutes', 'total eve calls', 'total eve charge', 'total night minutes', 'total night calls', 'total night charge', 'total intl minutes', 'total intl calls', 'total intl charge', 'customer service calls', 'total charge', 'total minutes', 'total calls', 'avg minutes per domestic call', 'competition'], GradientBooster__loss=exponential, GradientBooster__max_depth=5, GradientBooster__max_features=auto, GradientBooster__n_estimators=150, SMOTE__sampling_strategy=1 \n",
      "[CV]  ColumnTransformer__columns=['account length', 'international plan', 'voice mail plan', 'number vmail messages', 'total day minutes', 'total day calls', 'total day charge', 'total eve minutes', 'total eve calls', 'total eve charge', 'total night minutes', 'total night calls', 'total night charge', 'total intl minutes', 'total intl calls', 'total intl charge', 'customer service calls', 'total charge', 'total minutes', 'total calls', 'avg minutes per domestic call', 'competition'], GradientBooster__loss=exponential, GradientBooster__max_depth=5, GradientBooster__max_features=auto, GradientBooster__n_estimators=150, SMOTE__sampling_strategy=1, total=   5.3s\n",
      "[CV] ColumnTransformer__columns=['account length', 'international plan', 'voice mail plan', 'number vmail messages', 'total day minutes', 'total day calls', 'total day charge', 'total eve minutes', 'total eve calls', 'total eve charge', 'total night minutes', 'total night calls', 'total night charge', 'total intl minutes', 'total intl calls', 'total intl charge', 'customer service calls', 'total charge', 'total minutes', 'total calls', 'avg minutes per domestic call', 'competition'], GradientBooster__loss=exponential, GradientBooster__max_depth=5, GradientBooster__max_features=auto, GradientBooster__n_estimators=150, SMOTE__sampling_strategy=1 \n",
      "[CV]  ColumnTransformer__columns=['account length', 'international plan', 'voice mail plan', 'number vmail messages', 'total day minutes', 'total day calls', 'total day charge', 'total eve minutes', 'total eve calls', 'total eve charge', 'total night minutes', 'total night calls', 'total night charge', 'total intl minutes', 'total intl calls', 'total intl charge', 'customer service calls', 'total charge', 'total minutes', 'total calls', 'avg minutes per domestic call', 'competition'], GradientBooster__loss=exponential, GradientBooster__max_depth=5, GradientBooster__max_features=auto, GradientBooster__n_estimators=150, SMOTE__sampling_strategy=1, total=   5.5s\n",
      "[CV] ColumnTransformer__columns=['account length', 'international plan', 'voice mail plan', 'number vmail messages', 'total day minutes', 'total day calls', 'total day charge', 'total eve minutes', 'total eve calls', 'total eve charge', 'total night minutes', 'total night calls', 'total night charge', 'total intl minutes', 'total intl calls', 'total intl charge', 'customer service calls', 'total charge', 'total minutes', 'total calls', 'avg minutes per domestic call', 'competition'], GradientBooster__loss=exponential, GradientBooster__max_depth=5, GradientBooster__max_features=auto, GradientBooster__n_estimators=150, SMOTE__sampling_strategy=1 \n",
      "[CV]  ColumnTransformer__columns=['account length', 'international plan', 'voice mail plan', 'number vmail messages', 'total day minutes', 'total day calls', 'total day charge', 'total eve minutes', 'total eve calls', 'total eve charge', 'total night minutes', 'total night calls', 'total night charge', 'total intl minutes', 'total intl calls', 'total intl charge', 'customer service calls', 'total charge', 'total minutes', 'total calls', 'avg minutes per domestic call', 'competition'], GradientBooster__loss=exponential, GradientBooster__max_depth=5, GradientBooster__max_features=auto, GradientBooster__n_estimators=150, SMOTE__sampling_strategy=1, total=   5.5s\n",
      "[CV] ColumnTransformer__columns=['account length', 'international plan', 'voice mail plan', 'number vmail messages', 'total day minutes', 'total day calls', 'total day charge', 'total eve minutes', 'total eve calls', 'total eve charge', 'total night minutes', 'total night calls', 'total night charge', 'total intl minutes', 'total intl calls', 'total intl charge', 'customer service calls', 'total charge', 'total minutes', 'total calls', 'avg minutes per domestic call', 'competition'], GradientBooster__loss=exponential, GradientBooster__max_depth=5, GradientBooster__max_features=auto, GradientBooster__n_estimators=150, SMOTE__sampling_strategy=1 \n",
      "[CV]  ColumnTransformer__columns=['account length', 'international plan', 'voice mail plan', 'number vmail messages', 'total day minutes', 'total day calls', 'total day charge', 'total eve minutes', 'total eve calls', 'total eve charge', 'total night minutes', 'total night calls', 'total night charge', 'total intl minutes', 'total intl calls', 'total intl charge', 'customer service calls', 'total charge', 'total minutes', 'total calls', 'avg minutes per domestic call', 'competition'], GradientBooster__loss=exponential, GradientBooster__max_depth=5, GradientBooster__max_features=auto, GradientBooster__n_estimators=150, SMOTE__sampling_strategy=1, total=   5.5s\n",
      "[CV] ColumnTransformer__columns=['account length', 'international plan', 'voice mail plan', 'number vmail messages', 'total day minutes', 'total day calls', 'total day charge', 'total eve minutes', 'total eve calls', 'total eve charge', 'total night minutes', 'total night calls', 'total night charge', 'total intl minutes', 'total intl calls', 'total intl charge', 'customer service calls', 'total charge', 'total minutes', 'total calls', 'avg minutes per domestic call', 'competition'], GradientBooster__loss=exponential, GradientBooster__max_depth=5, GradientBooster__max_features=auto, GradientBooster__n_estimators=150, SMOTE__sampling_strategy=1 \n"
     ]
    },
    {
     "name": "stdout",
     "output_type": "stream",
     "text": [
      "[CV]  ColumnTransformer__columns=['account length', 'international plan', 'voice mail plan', 'number vmail messages', 'total day minutes', 'total day calls', 'total day charge', 'total eve minutes', 'total eve calls', 'total eve charge', 'total night minutes', 'total night calls', 'total night charge', 'total intl minutes', 'total intl calls', 'total intl charge', 'customer service calls', 'total charge', 'total minutes', 'total calls', 'avg minutes per domestic call', 'competition'], GradientBooster__loss=exponential, GradientBooster__max_depth=5, GradientBooster__max_features=auto, GradientBooster__n_estimators=150, SMOTE__sampling_strategy=1, total=   5.2s\n",
      "[CV] ColumnTransformer__columns=['account length', 'international plan', 'voice mail plan', 'number vmail messages', 'total day minutes', 'total day calls', 'total day charge', 'total eve minutes', 'total eve calls', 'total eve charge', 'total night minutes', 'total night calls', 'total night charge', 'total intl minutes', 'total intl calls', 'total intl charge', 'customer service calls', 'total charge', 'total minutes', 'total calls', 'avg minutes per domestic call', 'competition'], GradientBooster__loss=exponential, GradientBooster__max_depth=5, GradientBooster__max_features=8, GradientBooster__n_estimators=100, SMOTE__sampling_strategy=1 \n",
      "[CV]  ColumnTransformer__columns=['account length', 'international plan', 'voice mail plan', 'number vmail messages', 'total day minutes', 'total day calls', 'total day charge', 'total eve minutes', 'total eve calls', 'total eve charge', 'total night minutes', 'total night calls', 'total night charge', 'total intl minutes', 'total intl calls', 'total intl charge', 'customer service calls', 'total charge', 'total minutes', 'total calls', 'avg minutes per domestic call', 'competition'], GradientBooster__loss=exponential, GradientBooster__max_depth=5, GradientBooster__max_features=8, GradientBooster__n_estimators=100, SMOTE__sampling_strategy=1, total=   1.7s\n",
      "[CV] ColumnTransformer__columns=['account length', 'international plan', 'voice mail plan', 'number vmail messages', 'total day minutes', 'total day calls', 'total day charge', 'total eve minutes', 'total eve calls', 'total eve charge', 'total night minutes', 'total night calls', 'total night charge', 'total intl minutes', 'total intl calls', 'total intl charge', 'customer service calls', 'total charge', 'total minutes', 'total calls', 'avg minutes per domestic call', 'competition'], GradientBooster__loss=exponential, GradientBooster__max_depth=5, GradientBooster__max_features=8, GradientBooster__n_estimators=100, SMOTE__sampling_strategy=1 \n",
      "[CV]  ColumnTransformer__columns=['account length', 'international plan', 'voice mail plan', 'number vmail messages', 'total day minutes', 'total day calls', 'total day charge', 'total eve minutes', 'total eve calls', 'total eve charge', 'total night minutes', 'total night calls', 'total night charge', 'total intl minutes', 'total intl calls', 'total intl charge', 'customer service calls', 'total charge', 'total minutes', 'total calls', 'avg minutes per domestic call', 'competition'], GradientBooster__loss=exponential, GradientBooster__max_depth=5, GradientBooster__max_features=8, GradientBooster__n_estimators=100, SMOTE__sampling_strategy=1, total=   1.5s\n",
      "[CV] ColumnTransformer__columns=['account length', 'international plan', 'voice mail plan', 'number vmail messages', 'total day minutes', 'total day calls', 'total day charge', 'total eve minutes', 'total eve calls', 'total eve charge', 'total night minutes', 'total night calls', 'total night charge', 'total intl minutes', 'total intl calls', 'total intl charge', 'customer service calls', 'total charge', 'total minutes', 'total calls', 'avg minutes per domestic call', 'competition'], GradientBooster__loss=exponential, GradientBooster__max_depth=5, GradientBooster__max_features=8, GradientBooster__n_estimators=100, SMOTE__sampling_strategy=1 \n",
      "[CV]  ColumnTransformer__columns=['account length', 'international plan', 'voice mail plan', 'number vmail messages', 'total day minutes', 'total day calls', 'total day charge', 'total eve minutes', 'total eve calls', 'total eve charge', 'total night minutes', 'total night calls', 'total night charge', 'total intl minutes', 'total intl calls', 'total intl charge', 'customer service calls', 'total charge', 'total minutes', 'total calls', 'avg minutes per domestic call', 'competition'], GradientBooster__loss=exponential, GradientBooster__max_depth=5, GradientBooster__max_features=8, GradientBooster__n_estimators=100, SMOTE__sampling_strategy=1, total=   1.7s\n",
      "[CV] ColumnTransformer__columns=['account length', 'international plan', 'voice mail plan', 'number vmail messages', 'total day minutes', 'total day calls', 'total day charge', 'total eve minutes', 'total eve calls', 'total eve charge', 'total night minutes', 'total night calls', 'total night charge', 'total intl minutes', 'total intl calls', 'total intl charge', 'customer service calls', 'total charge', 'total minutes', 'total calls', 'avg minutes per domestic call', 'competition'], GradientBooster__loss=exponential, GradientBooster__max_depth=5, GradientBooster__max_features=8, GradientBooster__n_estimators=100, SMOTE__sampling_strategy=1 \n",
      "[CV]  ColumnTransformer__columns=['account length', 'international plan', 'voice mail plan', 'number vmail messages', 'total day minutes', 'total day calls', 'total day charge', 'total eve minutes', 'total eve calls', 'total eve charge', 'total night minutes', 'total night calls', 'total night charge', 'total intl minutes', 'total intl calls', 'total intl charge', 'customer service calls', 'total charge', 'total minutes', 'total calls', 'avg minutes per domestic call', 'competition'], GradientBooster__loss=exponential, GradientBooster__max_depth=5, GradientBooster__max_features=8, GradientBooster__n_estimators=100, SMOTE__sampling_strategy=1, total=   2.0s\n",
      "[CV] ColumnTransformer__columns=['account length', 'international plan', 'voice mail plan', 'number vmail messages', 'total day minutes', 'total day calls', 'total day charge', 'total eve minutes', 'total eve calls', 'total eve charge', 'total night minutes', 'total night calls', 'total night charge', 'total intl minutes', 'total intl calls', 'total intl charge', 'customer service calls', 'total charge', 'total minutes', 'total calls', 'avg minutes per domestic call', 'competition'], GradientBooster__loss=exponential, GradientBooster__max_depth=5, GradientBooster__max_features=8, GradientBooster__n_estimators=100, SMOTE__sampling_strategy=1 \n",
      "[CV]  ColumnTransformer__columns=['account length', 'international plan', 'voice mail plan', 'number vmail messages', 'total day minutes', 'total day calls', 'total day charge', 'total eve minutes', 'total eve calls', 'total eve charge', 'total night minutes', 'total night calls', 'total night charge', 'total intl minutes', 'total intl calls', 'total intl charge', 'customer service calls', 'total charge', 'total minutes', 'total calls', 'avg minutes per domestic call', 'competition'], GradientBooster__loss=exponential, GradientBooster__max_depth=5, GradientBooster__max_features=8, GradientBooster__n_estimators=100, SMOTE__sampling_strategy=1, total=   2.0s\n",
      "[CV] ColumnTransformer__columns=['account length', 'international plan', 'voice mail plan', 'number vmail messages', 'total day minutes', 'total day calls', 'total day charge', 'total eve minutes', 'total eve calls', 'total eve charge', 'total night minutes', 'total night calls', 'total night charge', 'total intl minutes', 'total intl calls', 'total intl charge', 'customer service calls', 'total charge', 'total minutes', 'total calls', 'avg minutes per domestic call', 'competition'], GradientBooster__loss=exponential, GradientBooster__max_depth=5, GradientBooster__max_features=8, GradientBooster__n_estimators=150, SMOTE__sampling_strategy=1 \n",
      "[CV]  ColumnTransformer__columns=['account length', 'international plan', 'voice mail plan', 'number vmail messages', 'total day minutes', 'total day calls', 'total day charge', 'total eve minutes', 'total eve calls', 'total eve charge', 'total night minutes', 'total night calls', 'total night charge', 'total intl minutes', 'total intl calls', 'total intl charge', 'customer service calls', 'total charge', 'total minutes', 'total calls', 'avg minutes per domestic call', 'competition'], GradientBooster__loss=exponential, GradientBooster__max_depth=5, GradientBooster__max_features=8, GradientBooster__n_estimators=150, SMOTE__sampling_strategy=1, total=   3.0s\n",
      "[CV] ColumnTransformer__columns=['account length', 'international plan', 'voice mail plan', 'number vmail messages', 'total day minutes', 'total day calls', 'total day charge', 'total eve minutes', 'total eve calls', 'total eve charge', 'total night minutes', 'total night calls', 'total night charge', 'total intl minutes', 'total intl calls', 'total intl charge', 'customer service calls', 'total charge', 'total minutes', 'total calls', 'avg minutes per domestic call', 'competition'], GradientBooster__loss=exponential, GradientBooster__max_depth=5, GradientBooster__max_features=8, GradientBooster__n_estimators=150, SMOTE__sampling_strategy=1 \n"
     ]
    },
    {
     "name": "stdout",
     "output_type": "stream",
     "text": [
      "[CV]  ColumnTransformer__columns=['account length', 'international plan', 'voice mail plan', 'number vmail messages', 'total day minutes', 'total day calls', 'total day charge', 'total eve minutes', 'total eve calls', 'total eve charge', 'total night minutes', 'total night calls', 'total night charge', 'total intl minutes', 'total intl calls', 'total intl charge', 'customer service calls', 'total charge', 'total minutes', 'total calls', 'avg minutes per domestic call', 'competition'], GradientBooster__loss=exponential, GradientBooster__max_depth=5, GradientBooster__max_features=8, GradientBooster__n_estimators=150, SMOTE__sampling_strategy=1, total=   2.7s\n",
      "[CV] ColumnTransformer__columns=['account length', 'international plan', 'voice mail plan', 'number vmail messages', 'total day minutes', 'total day calls', 'total day charge', 'total eve minutes', 'total eve calls', 'total eve charge', 'total night minutes', 'total night calls', 'total night charge', 'total intl minutes', 'total intl calls', 'total intl charge', 'customer service calls', 'total charge', 'total minutes', 'total calls', 'avg minutes per domestic call', 'competition'], GradientBooster__loss=exponential, GradientBooster__max_depth=5, GradientBooster__max_features=8, GradientBooster__n_estimators=150, SMOTE__sampling_strategy=1 \n",
      "[CV]  ColumnTransformer__columns=['account length', 'international plan', 'voice mail plan', 'number vmail messages', 'total day minutes', 'total day calls', 'total day charge', 'total eve minutes', 'total eve calls', 'total eve charge', 'total night minutes', 'total night calls', 'total night charge', 'total intl minutes', 'total intl calls', 'total intl charge', 'customer service calls', 'total charge', 'total minutes', 'total calls', 'avg minutes per domestic call', 'competition'], GradientBooster__loss=exponential, GradientBooster__max_depth=5, GradientBooster__max_features=8, GradientBooster__n_estimators=150, SMOTE__sampling_strategy=1, total=   2.4s\n",
      "[CV] ColumnTransformer__columns=['account length', 'international plan', 'voice mail plan', 'number vmail messages', 'total day minutes', 'total day calls', 'total day charge', 'total eve minutes', 'total eve calls', 'total eve charge', 'total night minutes', 'total night calls', 'total night charge', 'total intl minutes', 'total intl calls', 'total intl charge', 'customer service calls', 'total charge', 'total minutes', 'total calls', 'avg minutes per domestic call', 'competition'], GradientBooster__loss=exponential, GradientBooster__max_depth=5, GradientBooster__max_features=8, GradientBooster__n_estimators=150, SMOTE__sampling_strategy=1 \n",
      "[CV]  ColumnTransformer__columns=['account length', 'international plan', 'voice mail plan', 'number vmail messages', 'total day minutes', 'total day calls', 'total day charge', 'total eve minutes', 'total eve calls', 'total eve charge', 'total night minutes', 'total night calls', 'total night charge', 'total intl minutes', 'total intl calls', 'total intl charge', 'customer service calls', 'total charge', 'total minutes', 'total calls', 'avg minutes per domestic call', 'competition'], GradientBooster__loss=exponential, GradientBooster__max_depth=5, GradientBooster__max_features=8, GradientBooster__n_estimators=150, SMOTE__sampling_strategy=1, total=   2.4s\n",
      "[CV] ColumnTransformer__columns=['account length', 'international plan', 'voice mail plan', 'number vmail messages', 'total day minutes', 'total day calls', 'total day charge', 'total eve minutes', 'total eve calls', 'total eve charge', 'total night minutes', 'total night calls', 'total night charge', 'total intl minutes', 'total intl calls', 'total intl charge', 'customer service calls', 'total charge', 'total minutes', 'total calls', 'avg minutes per domestic call', 'competition'], GradientBooster__loss=exponential, GradientBooster__max_depth=5, GradientBooster__max_features=8, GradientBooster__n_estimators=150, SMOTE__sampling_strategy=1 \n",
      "[CV]  ColumnTransformer__columns=['account length', 'international plan', 'voice mail plan', 'number vmail messages', 'total day minutes', 'total day calls', 'total day charge', 'total eve minutes', 'total eve calls', 'total eve charge', 'total night minutes', 'total night calls', 'total night charge', 'total intl minutes', 'total intl calls', 'total intl charge', 'customer service calls', 'total charge', 'total minutes', 'total calls', 'avg minutes per domestic call', 'competition'], GradientBooster__loss=exponential, GradientBooster__max_depth=5, GradientBooster__max_features=8, GradientBooster__n_estimators=150, SMOTE__sampling_strategy=1, total=   2.5s\n",
      "[CV] ColumnTransformer__columns=['account length', 'international plan', 'voice mail plan', 'number vmail messages', 'total day minutes', 'total day calls', 'total day charge', 'total eve minutes', 'total eve calls', 'total eve charge', 'total night minutes', 'total night calls', 'total night charge', 'total intl minutes', 'total intl calls', 'total intl charge', 'customer service calls', 'total charge', 'total minutes', 'total calls', 'avg minutes per domestic call', 'competition'], GradientBooster__loss=exponential, GradientBooster__max_depth=5, GradientBooster__max_features=None, GradientBooster__n_estimators=100, SMOTE__sampling_strategy=1 \n",
      "[CV]  ColumnTransformer__columns=['account length', 'international plan', 'voice mail plan', 'number vmail messages', 'total day minutes', 'total day calls', 'total day charge', 'total eve minutes', 'total eve calls', 'total eve charge', 'total night minutes', 'total night calls', 'total night charge', 'total intl minutes', 'total intl calls', 'total intl charge', 'customer service calls', 'total charge', 'total minutes', 'total calls', 'avg minutes per domestic call', 'competition'], GradientBooster__loss=exponential, GradientBooster__max_depth=5, GradientBooster__max_features=None, GradientBooster__n_estimators=100, SMOTE__sampling_strategy=1, total=   3.8s\n",
      "[CV] ColumnTransformer__columns=['account length', 'international plan', 'voice mail plan', 'number vmail messages', 'total day minutes', 'total day calls', 'total day charge', 'total eve minutes', 'total eve calls', 'total eve charge', 'total night minutes', 'total night calls', 'total night charge', 'total intl minutes', 'total intl calls', 'total intl charge', 'customer service calls', 'total charge', 'total minutes', 'total calls', 'avg minutes per domestic call', 'competition'], GradientBooster__loss=exponential, GradientBooster__max_depth=5, GradientBooster__max_features=None, GradientBooster__n_estimators=100, SMOTE__sampling_strategy=1 \n",
      "[CV]  ColumnTransformer__columns=['account length', 'international plan', 'voice mail plan', 'number vmail messages', 'total day minutes', 'total day calls', 'total day charge', 'total eve minutes', 'total eve calls', 'total eve charge', 'total night minutes', 'total night calls', 'total night charge', 'total intl minutes', 'total intl calls', 'total intl charge', 'customer service calls', 'total charge', 'total minutes', 'total calls', 'avg minutes per domestic call', 'competition'], GradientBooster__loss=exponential, GradientBooster__max_depth=5, GradientBooster__max_features=None, GradientBooster__n_estimators=100, SMOTE__sampling_strategy=1, total=   3.9s\n",
      "[CV] ColumnTransformer__columns=['account length', 'international plan', 'voice mail plan', 'number vmail messages', 'total day minutes', 'total day calls', 'total day charge', 'total eve minutes', 'total eve calls', 'total eve charge', 'total night minutes', 'total night calls', 'total night charge', 'total intl minutes', 'total intl calls', 'total intl charge', 'customer service calls', 'total charge', 'total minutes', 'total calls', 'avg minutes per domestic call', 'competition'], GradientBooster__loss=exponential, GradientBooster__max_depth=5, GradientBooster__max_features=None, GradientBooster__n_estimators=100, SMOTE__sampling_strategy=1 \n",
      "[CV]  ColumnTransformer__columns=['account length', 'international plan', 'voice mail plan', 'number vmail messages', 'total day minutes', 'total day calls', 'total day charge', 'total eve minutes', 'total eve calls', 'total eve charge', 'total night minutes', 'total night calls', 'total night charge', 'total intl minutes', 'total intl calls', 'total intl charge', 'customer service calls', 'total charge', 'total minutes', 'total calls', 'avg minutes per domestic call', 'competition'], GradientBooster__loss=exponential, GradientBooster__max_depth=5, GradientBooster__max_features=None, GradientBooster__n_estimators=100, SMOTE__sampling_strategy=1, total=   3.8s\n",
      "[CV] ColumnTransformer__columns=['account length', 'international plan', 'voice mail plan', 'number vmail messages', 'total day minutes', 'total day calls', 'total day charge', 'total eve minutes', 'total eve calls', 'total eve charge', 'total night minutes', 'total night calls', 'total night charge', 'total intl minutes', 'total intl calls', 'total intl charge', 'customer service calls', 'total charge', 'total minutes', 'total calls', 'avg minutes per domestic call', 'competition'], GradientBooster__loss=exponential, GradientBooster__max_depth=5, GradientBooster__max_features=None, GradientBooster__n_estimators=100, SMOTE__sampling_strategy=1 \n"
     ]
    },
    {
     "name": "stdout",
     "output_type": "stream",
     "text": [
      "[CV]  ColumnTransformer__columns=['account length', 'international plan', 'voice mail plan', 'number vmail messages', 'total day minutes', 'total day calls', 'total day charge', 'total eve minutes', 'total eve calls', 'total eve charge', 'total night minutes', 'total night calls', 'total night charge', 'total intl minutes', 'total intl calls', 'total intl charge', 'customer service calls', 'total charge', 'total minutes', 'total calls', 'avg minutes per domestic call', 'competition'], GradientBooster__loss=exponential, GradientBooster__max_depth=5, GradientBooster__max_features=None, GradientBooster__n_estimators=100, SMOTE__sampling_strategy=1, total=   3.8s\n",
      "[CV] ColumnTransformer__columns=['account length', 'international plan', 'voice mail plan', 'number vmail messages', 'total day minutes', 'total day calls', 'total day charge', 'total eve minutes', 'total eve calls', 'total eve charge', 'total night minutes', 'total night calls', 'total night charge', 'total intl minutes', 'total intl calls', 'total intl charge', 'customer service calls', 'total charge', 'total minutes', 'total calls', 'avg minutes per domestic call', 'competition'], GradientBooster__loss=exponential, GradientBooster__max_depth=5, GradientBooster__max_features=None, GradientBooster__n_estimators=100, SMOTE__sampling_strategy=1 \n",
      "[CV]  ColumnTransformer__columns=['account length', 'international plan', 'voice mail plan', 'number vmail messages', 'total day minutes', 'total day calls', 'total day charge', 'total eve minutes', 'total eve calls', 'total eve charge', 'total night minutes', 'total night calls', 'total night charge', 'total intl minutes', 'total intl calls', 'total intl charge', 'customer service calls', 'total charge', 'total minutes', 'total calls', 'avg minutes per domestic call', 'competition'], GradientBooster__loss=exponential, GradientBooster__max_depth=5, GradientBooster__max_features=None, GradientBooster__n_estimators=100, SMOTE__sampling_strategy=1, total=   4.0s\n",
      "[CV] ColumnTransformer__columns=['account length', 'international plan', 'voice mail plan', 'number vmail messages', 'total day minutes', 'total day calls', 'total day charge', 'total eve minutes', 'total eve calls', 'total eve charge', 'total night minutes', 'total night calls', 'total night charge', 'total intl minutes', 'total intl calls', 'total intl charge', 'customer service calls', 'total charge', 'total minutes', 'total calls', 'avg minutes per domestic call', 'competition'], GradientBooster__loss=exponential, GradientBooster__max_depth=5, GradientBooster__max_features=None, GradientBooster__n_estimators=150, SMOTE__sampling_strategy=1 \n",
      "[CV]  ColumnTransformer__columns=['account length', 'international plan', 'voice mail plan', 'number vmail messages', 'total day minutes', 'total day calls', 'total day charge', 'total eve minutes', 'total eve calls', 'total eve charge', 'total night minutes', 'total night calls', 'total night charge', 'total intl minutes', 'total intl calls', 'total intl charge', 'customer service calls', 'total charge', 'total minutes', 'total calls', 'avg minutes per domestic call', 'competition'], GradientBooster__loss=exponential, GradientBooster__max_depth=5, GradientBooster__max_features=None, GradientBooster__n_estimators=150, SMOTE__sampling_strategy=1, total=   5.9s\n",
      "[CV] ColumnTransformer__columns=['account length', 'international plan', 'voice mail plan', 'number vmail messages', 'total day minutes', 'total day calls', 'total day charge', 'total eve minutes', 'total eve calls', 'total eve charge', 'total night minutes', 'total night calls', 'total night charge', 'total intl minutes', 'total intl calls', 'total intl charge', 'customer service calls', 'total charge', 'total minutes', 'total calls', 'avg minutes per domestic call', 'competition'], GradientBooster__loss=exponential, GradientBooster__max_depth=5, GradientBooster__max_features=None, GradientBooster__n_estimators=150, SMOTE__sampling_strategy=1 \n",
      "[CV]  ColumnTransformer__columns=['account length', 'international plan', 'voice mail plan', 'number vmail messages', 'total day minutes', 'total day calls', 'total day charge', 'total eve minutes', 'total eve calls', 'total eve charge', 'total night minutes', 'total night calls', 'total night charge', 'total intl minutes', 'total intl calls', 'total intl charge', 'customer service calls', 'total charge', 'total minutes', 'total calls', 'avg minutes per domestic call', 'competition'], GradientBooster__loss=exponential, GradientBooster__max_depth=5, GradientBooster__max_features=None, GradientBooster__n_estimators=150, SMOTE__sampling_strategy=1, total=   5.5s\n",
      "[CV] ColumnTransformer__columns=['account length', 'international plan', 'voice mail plan', 'number vmail messages', 'total day minutes', 'total day calls', 'total day charge', 'total eve minutes', 'total eve calls', 'total eve charge', 'total night minutes', 'total night calls', 'total night charge', 'total intl minutes', 'total intl calls', 'total intl charge', 'customer service calls', 'total charge', 'total minutes', 'total calls', 'avg minutes per domestic call', 'competition'], GradientBooster__loss=exponential, GradientBooster__max_depth=5, GradientBooster__max_features=None, GradientBooster__n_estimators=150, SMOTE__sampling_strategy=1 \n",
      "[CV]  ColumnTransformer__columns=['account length', 'international plan', 'voice mail plan', 'number vmail messages', 'total day minutes', 'total day calls', 'total day charge', 'total eve minutes', 'total eve calls', 'total eve charge', 'total night minutes', 'total night calls', 'total night charge', 'total intl minutes', 'total intl calls', 'total intl charge', 'customer service calls', 'total charge', 'total minutes', 'total calls', 'avg minutes per domestic call', 'competition'], GradientBooster__loss=exponential, GradientBooster__max_depth=5, GradientBooster__max_features=None, GradientBooster__n_estimators=150, SMOTE__sampling_strategy=1, total=   5.6s\n",
      "[CV] ColumnTransformer__columns=['account length', 'international plan', 'voice mail plan', 'number vmail messages', 'total day minutes', 'total day calls', 'total day charge', 'total eve minutes', 'total eve calls', 'total eve charge', 'total night minutes', 'total night calls', 'total night charge', 'total intl minutes', 'total intl calls', 'total intl charge', 'customer service calls', 'total charge', 'total minutes', 'total calls', 'avg minutes per domestic call', 'competition'], GradientBooster__loss=exponential, GradientBooster__max_depth=5, GradientBooster__max_features=None, GradientBooster__n_estimators=150, SMOTE__sampling_strategy=1 \n",
      "[CV]  ColumnTransformer__columns=['account length', 'international plan', 'voice mail plan', 'number vmail messages', 'total day minutes', 'total day calls', 'total day charge', 'total eve minutes', 'total eve calls', 'total eve charge', 'total night minutes', 'total night calls', 'total night charge', 'total intl minutes', 'total intl calls', 'total intl charge', 'customer service calls', 'total charge', 'total minutes', 'total calls', 'avg minutes per domestic call', 'competition'], GradientBooster__loss=exponential, GradientBooster__max_depth=5, GradientBooster__max_features=None, GradientBooster__n_estimators=150, SMOTE__sampling_strategy=1, total=   5.8s\n",
      "[CV] ColumnTransformer__columns=['account length', 'international plan', 'voice mail plan', 'number vmail messages', 'total day minutes', 'total day calls', 'total day charge', 'total eve minutes', 'total eve calls', 'total eve charge', 'total night minutes', 'total night calls', 'total night charge', 'total intl minutes', 'total intl calls', 'total intl charge', 'customer service calls', 'total charge', 'total minutes', 'total calls', 'avg minutes per domestic call', 'competition'], GradientBooster__loss=exponential, GradientBooster__max_depth=5, GradientBooster__max_features=None, GradientBooster__n_estimators=150, SMOTE__sampling_strategy=1 \n",
      "[CV]  ColumnTransformer__columns=['account length', 'international plan', 'voice mail plan', 'number vmail messages', 'total day minutes', 'total day calls', 'total day charge', 'total eve minutes', 'total eve calls', 'total eve charge', 'total night minutes', 'total night calls', 'total night charge', 'total intl minutes', 'total intl calls', 'total intl charge', 'customer service calls', 'total charge', 'total minutes', 'total calls', 'avg minutes per domestic call', 'competition'], GradientBooster__loss=exponential, GradientBooster__max_depth=5, GradientBooster__max_features=None, GradientBooster__n_estimators=150, SMOTE__sampling_strategy=1, total=   5.7s\n"
     ]
    },
    {
     "name": "stderr",
     "output_type": "stream",
     "text": [
      "[Parallel(n_jobs=1)]: Done 240 out of 240 | elapsed: 11.1min finished\n"
     ]
    },
    {
     "data": {
      "text/plain": [
       "GridSearchCV(estimator=Pipeline(steps=[('ColumnTransformer',\n",
       "                                        SelectColumnsTransformer(columns=['account '\n",
       "                                                                          'length',\n",
       "                                                                          'international '\n",
       "                                                                          'plan',\n",
       "                                                                          'voice '\n",
       "                                                                          'mail '\n",
       "                                                                          'plan',\n",
       "                                                                          'number '\n",
       "                                                                          'vmail '\n",
       "                                                                          'messages',\n",
       "                                                                          'total '\n",
       "                                                                          'charge',\n",
       "                                                                          'customer '\n",
       "                                                                          'service '\n",
       "                                                                          'calls',\n",
       "                                                                          'competition',\n",
       "                                                                          'avg '\n",
       "                                                                          'minutes '\n",
       "                                                                          'per '\n",
       "                                                                          'domestic '\n",
       "                                                                          'call',\n",
       "                                                                          'total '\n",
       "                                                                          'calls',\n",
       "                                                                          'total '\n",
       "                                                                          'minutes'])),\n",
       "                                       ('TransformCategorical',\n",
       "                                        Transform_Categori...\n",
       "                                                         'customer service '\n",
       "                                                         'calls',\n",
       "                                                         'total charge',\n",
       "                                                         'total minutes',\n",
       "                                                         'total calls',\n",
       "                                                         'avg minutes per '\n",
       "                                                         'domestic call',\n",
       "                                                         'competition']],\n",
       "                         'GradientBooster__loss': ['deviance', 'exponential'],\n",
       "                         'GradientBooster__max_depth': [3, 5],\n",
       "                         'GradientBooster__max_features': ['auto', 8, None],\n",
       "                         'GradientBooster__n_estimators': [100, 150],\n",
       "                         'SMOTE__sampling_strategy': [1]},\n",
       "             scoring=make_scorer(recall_score), verbose=2)"
      ]
     },
     "execution_count": 199,
     "metadata": {},
     "output_type": "execute_result"
    }
   ],
   "source": [
    "# Warning! This takes a long time to run!\n",
    "gs_pipeline = GridSearchCV(pipeline, param_grid=param_grid, verbose=2, scoring=make_scorer(recall_score))\n",
    "gs_pipeline.fit(X_train, y_train)"
   ]
  },
  {
   "cell_type": "code",
   "execution_count": 200,
   "metadata": {},
   "outputs": [
    {
     "data": {
      "text/plain": [
       "Pipeline(steps=[('ColumnTransformer',\n",
       "                 SelectColumnsTransformer(columns=['account length',\n",
       "                                                   'international plan',\n",
       "                                                   'voice mail plan',\n",
       "                                                   'number vmail messages',\n",
       "                                                   'total day minutes',\n",
       "                                                   'total day calls',\n",
       "                                                   'total day charge',\n",
       "                                                   'total eve minutes',\n",
       "                                                   'total eve calls',\n",
       "                                                   'total eve charge',\n",
       "                                                   'total night minutes',\n",
       "                                                   'total night calls',\n",
       "                                                   'total night charge',\n",
       "                                                   'total intl minutes',\n",
       "                                                   'total intl calls',\n",
       "                                                   'total intl charge',\n",
       "                                                   'customer service calls',\n",
       "                                                   'total charge',\n",
       "                                                   'total minutes',\n",
       "                                                   'total calls',\n",
       "                                                   'avg minutes per domestic '\n",
       "                                                   'call',\n",
       "                                                   'competition'])),\n",
       "                ('TransformCategorical', Transform_Categorical()),\n",
       "                ('SMOTE', SMOTE(sampling_strategy=1)),\n",
       "                ('GradientBooster', GradientBoostingClassifier(max_depth=5))])"
      ]
     },
     "execution_count": 200,
     "metadata": {},
     "output_type": "execute_result"
    }
   ],
   "source": [
    "gs_pipeline.best_estimator_"
   ]
  },
  {
   "cell_type": "code",
   "execution_count": 201,
   "metadata": {},
   "outputs": [
    {
     "data": {
      "text/plain": [
       "{'ColumnTransformer__columns': ['account length',\n",
       "  'international plan',\n",
       "  'voice mail plan',\n",
       "  'number vmail messages',\n",
       "  'total day minutes',\n",
       "  'total day calls',\n",
       "  'total day charge',\n",
       "  'total eve minutes',\n",
       "  'total eve calls',\n",
       "  'total eve charge',\n",
       "  'total night minutes',\n",
       "  'total night calls',\n",
       "  'total night charge',\n",
       "  'total intl minutes',\n",
       "  'total intl calls',\n",
       "  'total intl charge',\n",
       "  'customer service calls',\n",
       "  'total charge',\n",
       "  'total minutes',\n",
       "  'total calls',\n",
       "  'avg minutes per domestic call',\n",
       "  'competition'],\n",
       " 'GradientBooster__loss': 'deviance',\n",
       " 'GradientBooster__max_depth': 5,\n",
       " 'GradientBooster__max_features': None,\n",
       " 'GradientBooster__n_estimators': 100,\n",
       " 'SMOTE__sampling_strategy': 1}"
      ]
     },
     "execution_count": 201,
     "metadata": {},
     "output_type": "execute_result"
    }
   ],
   "source": [
    "gs_pipeline.best_params_"
   ]
  },
  {
   "cell_type": "code",
   "execution_count": 202,
   "metadata": {},
   "outputs": [
    {
     "data": {
      "text/plain": [
       "0.8301886792452831"
      ]
     },
     "execution_count": 202,
     "metadata": {},
     "output_type": "execute_result"
    }
   ],
   "source": [
    "best_model = gs_pipeline.best_estimator_\n",
    "y_validation_preds = best_model.predict(X_valid)\n",
    "recall_score(y_valid, y_validation_preds)"
   ]
  },
  {
   "cell_type": "code",
   "execution_count": 203,
   "metadata": {},
   "outputs": [
    {
     "data": {
      "image/png": "[encoded data removed]",
      "text/plain": [
       "<Figure size 720x504 with 2 Axes>"
      ]
     },
     "metadata": {
      "needs_background": "light"
     },
     "output_type": "display_data"
    }
   ],
   "source": [
    "plot_conf_matrix(y_valid, y_validation_preds)"
   ]
  },
  {
   "cell_type": "markdown",
   "metadata": {},
   "source": [
    "## Feature Importance"
   ]
  },
  {
   "cell_type": "code",
   "execution_count": 46,
   "metadata": {},
   "outputs": [],
   "source": [
    "def plot_feature_importances(X, model):\n",
    "    features = X.columns\n",
    "    feat_imp_scores = model.feature_importances_\n",
    "    plt.figure(figsize=(10, 8))\n",
    "    plt.bar(features, feat_imp_scores, zorder=2, alpha=0.8)\n",
    "    plt.grid(zorder=0)\n",
    "    plt.xticks(rotation=90)\n",
    "    plt.xlabel('Feature Importance')\n",
    "    plt.ylabel('Features')\n",
    "    plt.title('Feature Importances of Model')\n",
    "    plt.show()"
   ]
  },
  {
   "cell_type": "code",
   "execution_count": 229,
   "metadata": {},
   "outputs": [
    {
     "data": {
      "text/plain": [
       "array([0.01044691, 0.05775256, 0.06502698, 0.06725046, 0.0081423 ,\n",
       "       0.009758  , 0.00580963, 0.01031463, 0.0136483 , 0.00922068,\n",
       "       0.01039439, 0.01047657, 0.01041452, 0.03448355, 0.05809022,\n",
       "       0.02795012, 0.16297136, 0.38006398, 0.0145925 , 0.00951009,\n",
       "       0.01522518, 0.00845706])"
      ]
     },
     "execution_count": 229,
     "metadata": {},
     "output_type": "execute_result"
    }
   ],
   "source": [
    "best_model.steps[3][1].feature_importances_"
   ]
  },
  {
   "cell_type": "code",
   "execution_count": 230,
   "metadata": {},
   "outputs": [
    {
     "data": {
      "text/plain": [
       "['account length',\n",
       " 'international plan',\n",
       " 'voice mail plan',\n",
       " 'number vmail messages',\n",
       " 'total day minutes',\n",
       " 'total day calls',\n",
       " 'total day charge',\n",
       " 'total eve minutes',\n",
       " 'total eve calls',\n",
       " 'total eve charge',\n",
       " 'total night minutes',\n",
       " 'total night calls',\n",
       " 'total night charge',\n",
       " 'total intl minutes',\n",
       " 'total intl calls',\n",
       " 'total intl charge',\n",
       " 'customer service calls',\n",
       " 'total charge',\n",
       " 'total minutes',\n",
       " 'total calls',\n",
       " 'avg minutes per domestic call',\n",
       " 'competition']"
      ]
     },
     "execution_count": 230,
     "metadata": {},
     "output_type": "execute_result"
    }
   ],
   "source": [
    "best_model.steps[0][1].columns"
   ]
  },
  {
   "cell_type": "code",
   "execution_count": 231,
   "metadata": {},
   "outputs": [
    {
     "data": {
      "image/png": "[encoded data removed]",
      "text/plain": [
       "<Figure size 720x576 with 1 Axes>"
      ]
     },
     "metadata": {
      "needs_background": "light"
     },
     "output_type": "display_data"
    }
   ],
   "source": [
    "plot_feature_importances(X=best_model.steps[0][1], model=best_model.steps[3][1])"
   ]
  },
  {
   "cell_type": "markdown",
   "metadata": {},
   "source": [
    "## New Model with Most Important Features\n",
    "\n",
    "I will train a new model with just the top 8 features and test if these perform better or similar to our previous model to potentially save resources."
   ]
  },
  {
   "cell_type": "code",
   "execution_count": 39,
   "metadata": {},
   "outputs": [],
   "source": [
    "param_grid = {\n",
    "            \"ColumnTransformer__columns\": [['total charge', 'customer service calls', 'number vmail messages',\n",
    "                                          'voice mail plan', 'international plan', 'total intl calls',\n",
    "                                           'total intl minutes', 'total intl charge']],\n",
    "        \"SMOTE__sampling_strategy\": [1],\n",
    "        \"GradientBooster__n_estimators\": [100, 150],\n",
    "        \"GradientBooster__max_depth\": [3, 5],\n",
    "        \"GradientBooster__max_features\": [None]\n",
    "}"
   ]
  },
  {
   "cell_type": "code",
   "execution_count": 40,
   "metadata": {
    "collapsed": true
   },
   "outputs": [
    {
     "name": "stdout",
     "output_type": "stream",
     "text": [
      "Fitting 5 folds for each of 4 candidates, totalling 20 fits\n",
      "[CV] ColumnTransformer__columns=['total charge', 'customer service calls', 'number vmail messages', 'voice mail plan', 'international plan', 'total intl calls', 'total intl minutes', 'total intl charge'], GradientBooster__max_depth=3, GradientBooster__max_features=None, GradientBooster__n_estimators=100, SMOTE__sampling_strategy=1 \n"
     ]
    },
    {
     "name": "stderr",
     "output_type": "stream",
     "text": [
      "[Parallel(n_jobs=1)]: Using backend SequentialBackend with 1 concurrent workers.\n"
     ]
    },
    {
     "name": "stdout",
     "output_type": "stream",
     "text": [
      "[CV]  ColumnTransformer__columns=['total charge', 'customer service calls', 'number vmail messages', 'voice mail plan', 'international plan', 'total intl calls', 'total intl minutes', 'total intl charge'], GradientBooster__max_depth=3, GradientBooster__max_features=None, GradientBooster__n_estimators=100, SMOTE__sampling_strategy=1, total=   0.7s\n",
      "[CV] ColumnTransformer__columns=['total charge', 'customer service calls', 'number vmail messages', 'voice mail plan', 'international plan', 'total intl calls', 'total intl minutes', 'total intl charge'], GradientBooster__max_depth=3, GradientBooster__max_features=None, GradientBooster__n_estimators=100, SMOTE__sampling_strategy=1 \n"
     ]
    },
    {
     "name": "stderr",
     "output_type": "stream",
     "text": [
      "[Parallel(n_jobs=1)]: Done   1 out of   1 | elapsed:    0.7s remaining:    0.0s\n"
     ]
    },
    {
     "name": "stdout",
     "output_type": "stream",
     "text": [
      "[CV]  ColumnTransformer__columns=['total charge', 'customer service calls', 'number vmail messages', 'voice mail plan', 'international plan', 'total intl calls', 'total intl minutes', 'total intl charge'], GradientBooster__max_depth=3, GradientBooster__max_features=None, GradientBooster__n_estimators=100, SMOTE__sampling_strategy=1, total=   0.7s\n",
      "[CV] ColumnTransformer__columns=['total charge', 'customer service calls', 'number vmail messages', 'voice mail plan', 'international plan', 'total intl calls', 'total intl minutes', 'total intl charge'], GradientBooster__max_depth=3, GradientBooster__max_features=None, GradientBooster__n_estimators=100, SMOTE__sampling_strategy=1 \n",
      "[CV]  ColumnTransformer__columns=['total charge', 'customer service calls', 'number vmail messages', 'voice mail plan', 'international plan', 'total intl calls', 'total intl minutes', 'total intl charge'], GradientBooster__max_depth=3, GradientBooster__max_features=None, GradientBooster__n_estimators=100, SMOTE__sampling_strategy=1, total=   0.8s\n",
      "[CV] ColumnTransformer__columns=['total charge', 'customer service calls', 'number vmail messages', 'voice mail plan', 'international plan', 'total intl calls', 'total intl minutes', 'total intl charge'], GradientBooster__max_depth=3, GradientBooster__max_features=None, GradientBooster__n_estimators=100, SMOTE__sampling_strategy=1 \n",
      "[CV]  ColumnTransformer__columns=['total charge', 'customer service calls', 'number vmail messages', 'voice mail plan', 'international plan', 'total intl calls', 'total intl minutes', 'total intl charge'], GradientBooster__max_depth=3, GradientBooster__max_features=None, GradientBooster__n_estimators=100, SMOTE__sampling_strategy=1, total=   0.8s\n",
      "[CV] ColumnTransformer__columns=['total charge', 'customer service calls', 'number vmail messages', 'voice mail plan', 'international plan', 'total intl calls', 'total intl minutes', 'total intl charge'], GradientBooster__max_depth=3, GradientBooster__max_features=None, GradientBooster__n_estimators=100, SMOTE__sampling_strategy=1 \n",
      "[CV]  ColumnTransformer__columns=['total charge', 'customer service calls', 'number vmail messages', 'voice mail plan', 'international plan', 'total intl calls', 'total intl minutes', 'total intl charge'], GradientBooster__max_depth=3, GradientBooster__max_features=None, GradientBooster__n_estimators=100, SMOTE__sampling_strategy=1, total=   0.9s\n",
      "[CV] ColumnTransformer__columns=['total charge', 'customer service calls', 'number vmail messages', 'voice mail plan', 'international plan', 'total intl calls', 'total intl minutes', 'total intl charge'], GradientBooster__max_depth=3, GradientBooster__max_features=None, GradientBooster__n_estimators=150, SMOTE__sampling_strategy=1 \n",
      "[CV]  ColumnTransformer__columns=['total charge', 'customer service calls', 'number vmail messages', 'voice mail plan', 'international plan', 'total intl calls', 'total intl minutes', 'total intl charge'], GradientBooster__max_depth=3, GradientBooster__max_features=None, GradientBooster__n_estimators=150, SMOTE__sampling_strategy=1, total=   1.2s\n",
      "[CV] ColumnTransformer__columns=['total charge', 'customer service calls', 'number vmail messages', 'voice mail plan', 'international plan', 'total intl calls', 'total intl minutes', 'total intl charge'], GradientBooster__max_depth=3, GradientBooster__max_features=None, GradientBooster__n_estimators=150, SMOTE__sampling_strategy=1 \n",
      "[CV]  ColumnTransformer__columns=['total charge', 'customer service calls', 'number vmail messages', 'voice mail plan', 'international plan', 'total intl calls', 'total intl minutes', 'total intl charge'], GradientBooster__max_depth=3, GradientBooster__max_features=None, GradientBooster__n_estimators=150, SMOTE__sampling_strategy=1, total=   1.2s\n",
      "[CV] ColumnTransformer__columns=['total charge', 'customer service calls', 'number vmail messages', 'voice mail plan', 'international plan', 'total intl calls', 'total intl minutes', 'total intl charge'], GradientBooster__max_depth=3, GradientBooster__max_features=None, GradientBooster__n_estimators=150, SMOTE__sampling_strategy=1 \n",
      "[CV]  ColumnTransformer__columns=['total charge', 'customer service calls', 'number vmail messages', 'voice mail plan', 'international plan', 'total intl calls', 'total intl minutes', 'total intl charge'], GradientBooster__max_depth=3, GradientBooster__max_features=None, GradientBooster__n_estimators=150, SMOTE__sampling_strategy=1, total=   1.2s\n",
      "[CV] ColumnTransformer__columns=['total charge', 'customer service calls', 'number vmail messages', 'voice mail plan', 'international plan', 'total intl calls', 'total intl minutes', 'total intl charge'], GradientBooster__max_depth=3, GradientBooster__max_features=None, GradientBooster__n_estimators=150, SMOTE__sampling_strategy=1 \n",
      "[CV]  ColumnTransformer__columns=['total charge', 'customer service calls', 'number vmail messages', 'voice mail plan', 'international plan', 'total intl calls', 'total intl minutes', 'total intl charge'], GradientBooster__max_depth=3, GradientBooster__max_features=None, GradientBooster__n_estimators=150, SMOTE__sampling_strategy=1, total=   1.2s\n",
      "[CV] ColumnTransformer__columns=['total charge', 'customer service calls', 'number vmail messages', 'voice mail plan', 'international plan', 'total intl calls', 'total intl minutes', 'total intl charge'], GradientBooster__max_depth=3, GradientBooster__max_features=None, GradientBooster__n_estimators=150, SMOTE__sampling_strategy=1 \n",
      "[CV]  ColumnTransformer__columns=['total charge', 'customer service calls', 'number vmail messages', 'voice mail plan', 'international plan', 'total intl calls', 'total intl minutes', 'total intl charge'], GradientBooster__max_depth=3, GradientBooster__max_features=None, GradientBooster__n_estimators=150, SMOTE__sampling_strategy=1, total=   1.6s\n",
      "[CV] ColumnTransformer__columns=['total charge', 'customer service calls', 'number vmail messages', 'voice mail plan', 'international plan', 'total intl calls', 'total intl minutes', 'total intl charge'], GradientBooster__max_depth=5, GradientBooster__max_features=None, GradientBooster__n_estimators=100, SMOTE__sampling_strategy=1 \n",
      "[CV]  ColumnTransformer__columns=['total charge', 'customer service calls', 'number vmail messages', 'voice mail plan', 'international plan', 'total intl calls', 'total intl minutes', 'total intl charge'], GradientBooster__max_depth=5, GradientBooster__max_features=None, GradientBooster__n_estimators=100, SMOTE__sampling_strategy=1, total=   1.1s\n",
      "[CV] ColumnTransformer__columns=['total charge', 'customer service calls', 'number vmail messages', 'voice mail plan', 'international plan', 'total intl calls', 'total intl minutes', 'total intl charge'], GradientBooster__max_depth=5, GradientBooster__max_features=None, GradientBooster__n_estimators=100, SMOTE__sampling_strategy=1 \n",
      "[CV]  ColumnTransformer__columns=['total charge', 'customer service calls', 'number vmail messages', 'voice mail plan', 'international plan', 'total intl calls', 'total intl minutes', 'total intl charge'], GradientBooster__max_depth=5, GradientBooster__max_features=None, GradientBooster__n_estimators=100, SMOTE__sampling_strategy=1, total=   1.2s\n",
      "[CV] ColumnTransformer__columns=['total charge', 'customer service calls', 'number vmail messages', 'voice mail plan', 'international plan', 'total intl calls', 'total intl minutes', 'total intl charge'], GradientBooster__max_depth=5, GradientBooster__max_features=None, GradientBooster__n_estimators=100, SMOTE__sampling_strategy=1 \n",
      "[CV]  ColumnTransformer__columns=['total charge', 'customer service calls', 'number vmail messages', 'voice mail plan', 'international plan', 'total intl calls', 'total intl minutes', 'total intl charge'], GradientBooster__max_depth=5, GradientBooster__max_features=None, GradientBooster__n_estimators=100, SMOTE__sampling_strategy=1, total=   1.2s\n",
      "[CV] ColumnTransformer__columns=['total charge', 'customer service calls', 'number vmail messages', 'voice mail plan', 'international plan', 'total intl calls', 'total intl minutes', 'total intl charge'], GradientBooster__max_depth=5, GradientBooster__max_features=None, GradientBooster__n_estimators=100, SMOTE__sampling_strategy=1 \n"
     ]
    },
    {
     "name": "stdout",
     "output_type": "stream",
     "text": [
      "[CV]  ColumnTransformer__columns=['total charge', 'customer service calls', 'number vmail messages', 'voice mail plan', 'international plan', 'total intl calls', 'total intl minutes', 'total intl charge'], GradientBooster__max_depth=5, GradientBooster__max_features=None, GradientBooster__n_estimators=100, SMOTE__sampling_strategy=1, total=   1.1s\n",
      "[CV] ColumnTransformer__columns=['total charge', 'customer service calls', 'number vmail messages', 'voice mail plan', 'international plan', 'total intl calls', 'total intl minutes', 'total intl charge'], GradientBooster__max_depth=5, GradientBooster__max_features=None, GradientBooster__n_estimators=100, SMOTE__sampling_strategy=1 \n",
      "[CV]  ColumnTransformer__columns=['total charge', 'customer service calls', 'number vmail messages', 'voice mail plan', 'international plan', 'total intl calls', 'total intl minutes', 'total intl charge'], GradientBooster__max_depth=5, GradientBooster__max_features=None, GradientBooster__n_estimators=100, SMOTE__sampling_strategy=1, total=   1.1s\n",
      "[CV] ColumnTransformer__columns=['total charge', 'customer service calls', 'number vmail messages', 'voice mail plan', 'international plan', 'total intl calls', 'total intl minutes', 'total intl charge'], GradientBooster__max_depth=5, GradientBooster__max_features=None, GradientBooster__n_estimators=150, SMOTE__sampling_strategy=1 \n",
      "[CV]  ColumnTransformer__columns=['total charge', 'customer service calls', 'number vmail messages', 'voice mail plan', 'international plan', 'total intl calls', 'total intl minutes', 'total intl charge'], GradientBooster__max_depth=5, GradientBooster__max_features=None, GradientBooster__n_estimators=150, SMOTE__sampling_strategy=1, total=   1.6s\n",
      "[CV] ColumnTransformer__columns=['total charge', 'customer service calls', 'number vmail messages', 'voice mail plan', 'international plan', 'total intl calls', 'total intl minutes', 'total intl charge'], GradientBooster__max_depth=5, GradientBooster__max_features=None, GradientBooster__n_estimators=150, SMOTE__sampling_strategy=1 \n",
      "[CV]  ColumnTransformer__columns=['total charge', 'customer service calls', 'number vmail messages', 'voice mail plan', 'international plan', 'total intl calls', 'total intl minutes', 'total intl charge'], GradientBooster__max_depth=5, GradientBooster__max_features=None, GradientBooster__n_estimators=150, SMOTE__sampling_strategy=1, total=   1.6s\n",
      "[CV] ColumnTransformer__columns=['total charge', 'customer service calls', 'number vmail messages', 'voice mail plan', 'international plan', 'total intl calls', 'total intl minutes', 'total intl charge'], GradientBooster__max_depth=5, GradientBooster__max_features=None, GradientBooster__n_estimators=150, SMOTE__sampling_strategy=1 \n",
      "[CV]  ColumnTransformer__columns=['total charge', 'customer service calls', 'number vmail messages', 'voice mail plan', 'international plan', 'total intl calls', 'total intl minutes', 'total intl charge'], GradientBooster__max_depth=5, GradientBooster__max_features=None, GradientBooster__n_estimators=150, SMOTE__sampling_strategy=1, total=   2.0s\n",
      "[CV] ColumnTransformer__columns=['total charge', 'customer service calls', 'number vmail messages', 'voice mail plan', 'international plan', 'total intl calls', 'total intl minutes', 'total intl charge'], GradientBooster__max_depth=5, GradientBooster__max_features=None, GradientBooster__n_estimators=150, SMOTE__sampling_strategy=1 \n",
      "[CV]  ColumnTransformer__columns=['total charge', 'customer service calls', 'number vmail messages', 'voice mail plan', 'international plan', 'total intl calls', 'total intl minutes', 'total intl charge'], GradientBooster__max_depth=5, GradientBooster__max_features=None, GradientBooster__n_estimators=150, SMOTE__sampling_strategy=1, total=   1.9s\n",
      "[CV] ColumnTransformer__columns=['total charge', 'customer service calls', 'number vmail messages', 'voice mail plan', 'international plan', 'total intl calls', 'total intl minutes', 'total intl charge'], GradientBooster__max_depth=5, GradientBooster__max_features=None, GradientBooster__n_estimators=150, SMOTE__sampling_strategy=1 \n",
      "[CV]  ColumnTransformer__columns=['total charge', 'customer service calls', 'number vmail messages', 'voice mail plan', 'international plan', 'total intl calls', 'total intl minutes', 'total intl charge'], GradientBooster__max_depth=5, GradientBooster__max_features=None, GradientBooster__n_estimators=150, SMOTE__sampling_strategy=1, total=   1.7s\n"
     ]
    },
    {
     "name": "stderr",
     "output_type": "stream",
     "text": [
      "[Parallel(n_jobs=1)]: Done  20 out of  20 | elapsed:   25.1s finished\n"
     ]
    },
    {
     "data": {
      "text/plain": [
       "GridSearchCV(estimator=Pipeline(steps=[('ColumnTransformer',\n",
       "                                        SelectColumnsTransformer(columns=['account '\n",
       "                                                                          'length',\n",
       "                                                                          'international '\n",
       "                                                                          'plan',\n",
       "                                                                          'voice '\n",
       "                                                                          'mail '\n",
       "                                                                          'plan',\n",
       "                                                                          'number '\n",
       "                                                                          'vmail '\n",
       "                                                                          'messages',\n",
       "                                                                          'total '\n",
       "                                                                          'charge',\n",
       "                                                                          'customer '\n",
       "                                                                          'service '\n",
       "                                                                          'calls',\n",
       "                                                                          'competition',\n",
       "                                                                          'avg '\n",
       "                                                                          'minutes '\n",
       "                                                                          'per '\n",
       "                                                                          'domestic '\n",
       "                                                                          'call',\n",
       "                                                                          'total '\n",
       "                                                                          'calls',\n",
       "                                                                          'total '\n",
       "                                                                          'minutes'])),\n",
       "                                       ('TransformCategorical',\n",
       "                                        Transform_Categori...\n",
       "             param_grid={'ColumnTransformer__columns': [['total charge',\n",
       "                                                         'customer service '\n",
       "                                                         'calls',\n",
       "                                                         'number vmail '\n",
       "                                                         'messages',\n",
       "                                                         'voice mail plan',\n",
       "                                                         'international plan',\n",
       "                                                         'total intl calls',\n",
       "                                                         'total intl minutes',\n",
       "                                                         'total intl charge']],\n",
       "                         'GradientBooster__max_depth': [3, 5],\n",
       "                         'GradientBooster__max_features': [None],\n",
       "                         'GradientBooster__n_estimators': [100, 150],\n",
       "                         'SMOTE__sampling_strategy': [1]},\n",
       "             scoring=make_scorer(recall_score), verbose=2)"
      ]
     },
     "execution_count": 40,
     "metadata": {},
     "output_type": "execute_result"
    }
   ],
   "source": [
    "gs_pipeline = GridSearchCV(pipeline, param_grid=param_grid, verbose=2, scoring=make_scorer(recall_score))\n",
    "gs_pipeline.fit(X_train, y_train)"
   ]
  },
  {
   "cell_type": "code",
   "execution_count": 41,
   "metadata": {},
   "outputs": [
    {
     "data": {
      "text/plain": [
       "{'ColumnTransformer__columns': ['total charge',\n",
       "  'customer service calls',\n",
       "  'number vmail messages',\n",
       "  'voice mail plan',\n",
       "  'international plan',\n",
       "  'total intl calls',\n",
       "  'total intl minutes',\n",
       "  'total intl charge'],\n",
       " 'GradientBooster__max_depth': 3,\n",
       " 'GradientBooster__max_features': None,\n",
       " 'GradientBooster__n_estimators': 100,\n",
       " 'SMOTE__sampling_strategy': 1}"
      ]
     },
     "execution_count": 41,
     "metadata": {},
     "output_type": "execute_result"
    }
   ],
   "source": [
    "gs_pipeline.best_params_"
   ]
  },
  {
   "cell_type": "code",
   "execution_count": 42,
   "metadata": {},
   "outputs": [
    {
     "data": {
      "text/plain": [
       "0.8301886792452831"
      ]
     },
     "execution_count": 42,
     "metadata": {},
     "output_type": "execute_result"
    }
   ],
   "source": [
    "best_model = gs_pipeline.best_estimator_\n",
    "y_validation_preds = best_model.predict(X_valid)"
   ]
  },
  {
   "cell_type": "code",
   "execution_count": 143,
   "metadata": {},
   "outputs": [
    {
     "name": "stdout",
     "output_type": "stream",
     "text": [
      "Final Testing Recall: 0.8301886792452831\n"
     ]
    },
    {
     "data": {
      "image/png": "[encoded data removed]",
      "text/plain": [
       "<Figure size 720x504 with 2 Axes>"
      ]
     },
     "metadata": {
      "needs_background": "light"
     },
     "output_type": "display_data"
    }
   ],
   "source": [
    "print('Final Testing Recall:', recall_score(y_valid, y_validation_preds))\n",
    "plot_conf_matrix(y_valid, y_validation_preds)"
   ]
  },
  {
   "cell_type": "code",
   "execution_count": 141,
   "metadata": {},
   "outputs": [
    {
     "name": "stdout",
     "output_type": "stream",
     "text": [
      "Final Training Recall 0.8813953488372093\n"
     ]
    },
    {
     "data": {
      "image/png": "[encoded data removed]",
      "text/plain": [
       "<Figure size 720x504 with 2 Axes>"
      ]
     },
     "metadata": {
      "needs_background": "light"
     },
     "output_type": "display_data"
    }
   ],
   "source": [
    "y_training_preds = best_model.predict(X_train)\n",
    "print('Final Training Recall', recall_score(y_train, y_training_preds))\n",
    "plot_conf_matrix(y_train, y_training_preds)"
   ]
  },
  {
   "cell_type": "code",
   "execution_count": 47,
   "metadata": {},
   "outputs": [
    {
     "data": {
      "image/png": "[encoded data removed]",
      "text/plain": [
       "<Figure size 720x576 with 1 Axes>"
      ]
     },
     "metadata": {
      "needs_background": "light"
     },
     "output_type": "display_data"
    }
   ],
   "source": [
    "plot_feature_importances(X=best_model.steps[0][1], model=best_model.steps[3][1])"
   ]
  },
  {
   "cell_type": "markdown",
   "metadata": {},
   "source": [
    "## Confusion Matrix & Cost Benefit Analysis\n",
    "\n",
    "Let's say the cost of a False Positive is having to give a customer a discount of 50% off one month of free service when they were not actually going to churn. For this analysis we will say that the **cost of a FP = 25 USD per customer (-25)**.\n",
    "\n",
    "Alternatively, the cost of a False Negative is losing that customer (and their monthly payment of 50 USD) and having to go out and get a new customer (customer acqusition cost of 50 USD). Therefore, we will say that the **cost of a FN = 100 USD per customer (-100)**.\n",
    "\n",
    "The benefit of a True Positive is keeping that customer on and having them continue paying their 50 USD monthly payment, minus the 50% discount. **Benefit of TP = 25**\n",
    "\n",
    "The **benefit of a True Negative = 0** since they were not going to churn and we predicted that, so we did not offer any discounts.\n",
    "\n",
    "These costs and benefits are reflected in the function below. "
   ]
  },
  {
   "cell_type": "code",
   "execution_count": 79,
   "metadata": {},
   "outputs": [],
   "source": [
    "def cost_benefit_analysis(model, X_test, y_test):\n",
    "    y_preds = model.predict(X_test)\n",
    "    label_dict = {\"TP\":0, \"FP\": 0, \"TN\": 0, \"FN\": 0}\n",
    "    for yt, yp in zip(y_test, y_preds):\n",
    "        if yt==yp:\n",
    "            if yt==1:\n",
    "                label_dict[\"TP\"] += 1\n",
    "            else:\n",
    "                label_dict[\"TN\"] += 1\n",
    "        else:\n",
    "            if yp==1:\n",
    "                label_dict[\"FP\"] += 1\n",
    "            else:\n",
    "                label_dict[\"FN\"] += 1\n",
    "    cb_dict = {\"TP\": 25, \"FP\": -25, \"TN\": 0, \"FN\": -100}\n",
    "    \n",
    "    total = 0\n",
    "    for key in label_dict.keys():\n",
    "        total += cb_dict[key]*label_dict[key]\n",
    "    return cb_dict, label_dict, total / sum(label_dict.values())"
   ]
  },
  {
   "cell_type": "code",
   "execution_count": 82,
   "metadata": {
    "scrolled": false
   },
   "outputs": [],
   "source": [
    "cb_dict, label_dict, expected_value = cost_benefit_analysis(best_model, X_valid, y_valid)"
   ]
  },
  {
   "cell_type": "code",
   "execution_count": 139,
   "metadata": {},
   "outputs": [
    {
     "data": {
      "text/plain": [
       "[[1100, -25], [-900, 0]]"
      ]
     },
     "execution_count": 139,
     "metadata": {},
     "output_type": "execute_result"
    }
   ],
   "source": [
    "# Put the cost benefit values in an array to plot\n",
    "cb_array = [[cb_dict['TP']*label_dict['TP'],\n",
    "            cb_dict['FP']*label_dict['FP']],\n",
    "            [cb_dict['FN']*label_dict['FN'],\n",
    "            cb_dict['TN']*label_dict['TN']]]\n",
    "cb_array"
   ]
  },
  {
   "cell_type": "code",
   "execution_count": 161,
   "metadata": {
    "scrolled": false
   },
   "outputs": [
    {
     "data": {
      "image/png": "[encoded data removed]",
      "text/plain": [
       "<Figure size 1080x504 with 2 Axes>"
      ]
     },
     "metadata": {
      "needs_background": "light"
     },
     "output_type": "display_data"
    }
   ],
   "source": [
    "fig, axes = plt.subplots(1, 2, figsize=(15, 7))\n",
    "\n",
    "sns.heatmap(cm, annot=True, cmap=sns.color_palette('bone'), fmt='0.5g', cbar=False,\n",
    "            annot_kws={'size': 16}, alpha=.7, ax=axes[0])\n",
    "\n",
    "sns.heatmap(cb_array, annot=True, fmt='0.5g', cmap='bone', cbar=False,\n",
    "            annot_kws={'size': 16}, alpha=.7, ax=axes[1])\n",
    "\n",
    "plt.xlabel('Predictions')\n",
    "plt.ylabel('Actuals')\n",
    "axes[0].set_ylabel('Actuals')\n",
    "axes[0].set_xlabel('Predictions')\n",
    "axes[0].set_ylim([0,2])\n",
    "axes[1].set_ylim([0,2])\n",
    "axes[0].set_title('Validation Set Confusion Matrix \\n', fontdict={'size': 16})\n",
    "axes[1].set_title(f'Validation Set Cost Benefit Analysis ($) \\n\\n Expected Value: ${round(expected_value, 2)} per customer per month \\n',\n",
    "          fontdict={'size': 14})\n",
    "plt.show()"
   ]
  },
  {
   "cell_type": "markdown",
   "metadata": {},
   "source": [
    "Based on this cost benefit analysis, our expected value from this strategy is 52 cents per customer per month. That may not seem like much, but for millions of customers it would add up. The good news here is that with this model predicting churn, we are not LOSING money! We can see the breakdown of each cost and benefit multiplied by the number of TP, TN, FP, FNs on the confusion matrix above. "
   ]
  },
  {
   "cell_type": "markdown",
   "metadata": {},
   "source": [
    "## Conclusion\n",
    "\n",
    "The final model had the following recall scores:"
   ]
  },
  {
   "cell_type": "code",
   "execution_count": 144,
   "metadata": {},
   "outputs": [
    {
     "name": "stdout",
     "output_type": "stream",
     "text": [
      "Validation Recall Score 0.83\n",
      "Training Recall Score 0.88\n"
     ]
    }
   ],
   "source": [
    "print('Validation Recall Score', round(recall_score(y_valid, y_validation_preds), 2))\n",
    "print('Training Recall Score', round(recall_score(y_train, y_training_preds), 2))"
   ]
  },
  {
   "cell_type": "markdown",
   "metadata": {},
   "source": [
    "Since these recall scores are so close, we can assume the model is slightly overfit, but overall very good on recall. \n",
    "This model produced only 9 (2%) false negatives for the validation set. It produced only 1 (0.003%) false positive from the validation set, but if our customer retention strategy is to keep these customers engaged, it is not a bad thing to keep a customer engaged who is mispredicted as potentially exiting.\n",
    "\n",
    "Finally, based on the cost benefit analysis of this model's predictive ability and the SyriaTel Communications strategy for customer retention, the expected value is 52 cents per customer per month. Over the course of a year and millions of customers nationwide, we can conclude that this strategy would make us a lot of money in the long run. "
   ]
  },
  {
   "cell_type": "code",
   "execution_count": null,
   "metadata": {},
   "outputs": [],
   "source": []
  }
 ],
 "metadata": {
  "kernelspec": {
   "display_name": "learn-env",
   "language": "python",
   "name": "learn-env"
  },
  "language_info": {
   "codemirror_mode": {
    "name": "ipython",
    "version": 3
   },
   "file_extension": ".py",
   "mimetype": "text/x-python",
   "name": "python",
   "nbconvert_exporter": "python",
   "pygments_lexer": "ipython3",
   "version": "3.6.9"
  }
 },
 "nbformat": 4,
 "nbformat_minor": 4
}
