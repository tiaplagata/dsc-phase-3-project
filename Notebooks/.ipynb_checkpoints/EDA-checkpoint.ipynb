{
 "cells": [
  {
   "cell_type": "markdown",
   "metadata": {},
   "source": [
    "# Final Project Submission\n",
    "Please fill out:\n",
    "\n",
    "* Student name: Tia Plagata\n",
    "* Student pace: full time\n",
    "* Scheduled project review date/time:\n",
    "* Instructor name: Rafael Carrasco\n",
    "* Blog post URL:"
   ]
  },
  {
   "cell_type": "markdown",
   "metadata": {},
   "source": [
    "# Exploratory Data Analysis (Explore, and maybe more Scrubbing)\n",
    "### EDA Outline\n",
    "\n",
    "* Is calling customer service a sign of customer unhappiness/potential churn?\n",
    "* How much are people using their plan? What can this tell us about churn?\n",
    "* Are customers in certain areas more likely to churn?\n",
    "* Other feature engineering and exploration"
   ]
  },
  {
   "cell_type": "code",
   "execution_count": 394,
   "metadata": {},
   "outputs": [],
   "source": [
    "# Import Statements\n",
    "import pandas as pd\n",
    "import numpy as np\n",
    "import warnings\n",
    "warnings.filterwarnings('ignore')\n",
    "\n",
    "import matplotlib.pyplot as plt\n",
    "%matplotlib inline\n",
    "import seaborn as sns\n",
    "sns.set_style(style=\"darkgrid\")\n",
    "import plotly.express as px\n",
    "\n",
    "from sklearn.model_selection import train_test_split"
   ]
  },
  {
   "cell_type": "code",
   "execution_count": 2,
   "metadata": {},
   "outputs": [],
   "source": [
    "# Functions\n",
    "def get_churn_rate(array, include_retention=False):\n",
    "    \"\"\"\n",
    "    returns the percentage of customers who churned out of an array of churns for a given time period\n",
    "    if include_retention == True, also returns the customer retention rate\n",
    "    \"\"\"\n",
    "    churns = sum(array)\n",
    "    churn_rate = churns / len(array)\n",
    "    if include_retention:\n",
    "        return churn_rate, 1 - churn_rate\n",
    "    else:\n",
    "        return churn_rate"
   ]
  },
  {
   "cell_type": "markdown",
   "metadata": {},
   "source": [
    "## Split DF to Create Validation Set"
   ]
  },
  {
   "cell_type": "code",
   "execution_count": 3,
   "metadata": {},
   "outputs": [
    {
     "data": {
      "text/html": [
       "<div>\n",
       "<style scoped>\n",
       "    .dataframe tbody tr th:only-of-type {\n",
       "        vertical-align: middle;\n",
       "    }\n",
       "\n",
       "    .dataframe tbody tr th {\n",
       "        vertical-align: top;\n",
       "    }\n",
       "\n",
       "    .dataframe thead th {\n",
       "        text-align: right;\n",
       "    }\n",
       "</style>\n",
       "<table border=\"1\" class=\"dataframe\">\n",
       "  <thead>\n",
       "    <tr style=\"text-align: right;\">\n",
       "      <th></th>\n",
       "      <th>state</th>\n",
       "      <th>account length</th>\n",
       "      <th>area code</th>\n",
       "      <th>phone number</th>\n",
       "      <th>international plan</th>\n",
       "      <th>voice mail plan</th>\n",
       "      <th>number vmail messages</th>\n",
       "      <th>total day minutes</th>\n",
       "      <th>total day calls</th>\n",
       "      <th>total day charge</th>\n",
       "      <th>...</th>\n",
       "      <th>total eve calls</th>\n",
       "      <th>total eve charge</th>\n",
       "      <th>total night minutes</th>\n",
       "      <th>total night calls</th>\n",
       "      <th>total night charge</th>\n",
       "      <th>total intl minutes</th>\n",
       "      <th>total intl calls</th>\n",
       "      <th>total intl charge</th>\n",
       "      <th>customer service calls</th>\n",
       "      <th>churn</th>\n",
       "    </tr>\n",
       "  </thead>\n",
       "  <tbody>\n",
       "    <tr>\n",
       "      <th>0</th>\n",
       "      <td>KS</td>\n",
       "      <td>128</td>\n",
       "      <td>415</td>\n",
       "      <td>382-4657</td>\n",
       "      <td>no</td>\n",
       "      <td>yes</td>\n",
       "      <td>25</td>\n",
       "      <td>265.1</td>\n",
       "      <td>110</td>\n",
       "      <td>45.07</td>\n",
       "      <td>...</td>\n",
       "      <td>99</td>\n",
       "      <td>16.78</td>\n",
       "      <td>244.7</td>\n",
       "      <td>91</td>\n",
       "      <td>11.01</td>\n",
       "      <td>10.0</td>\n",
       "      <td>3</td>\n",
       "      <td>2.70</td>\n",
       "      <td>1</td>\n",
       "      <td>False</td>\n",
       "    </tr>\n",
       "    <tr>\n",
       "      <th>1</th>\n",
       "      <td>OH</td>\n",
       "      <td>107</td>\n",
       "      <td>415</td>\n",
       "      <td>371-7191</td>\n",
       "      <td>no</td>\n",
       "      <td>yes</td>\n",
       "      <td>26</td>\n",
       "      <td>161.6</td>\n",
       "      <td>123</td>\n",
       "      <td>27.47</td>\n",
       "      <td>...</td>\n",
       "      <td>103</td>\n",
       "      <td>16.62</td>\n",
       "      <td>254.4</td>\n",
       "      <td>103</td>\n",
       "      <td>11.45</td>\n",
       "      <td>13.7</td>\n",
       "      <td>3</td>\n",
       "      <td>3.70</td>\n",
       "      <td>1</td>\n",
       "      <td>False</td>\n",
       "    </tr>\n",
       "    <tr>\n",
       "      <th>2</th>\n",
       "      <td>NJ</td>\n",
       "      <td>137</td>\n",
       "      <td>415</td>\n",
       "      <td>358-1921</td>\n",
       "      <td>no</td>\n",
       "      <td>no</td>\n",
       "      <td>0</td>\n",
       "      <td>243.4</td>\n",
       "      <td>114</td>\n",
       "      <td>41.38</td>\n",
       "      <td>...</td>\n",
       "      <td>110</td>\n",
       "      <td>10.30</td>\n",
       "      <td>162.6</td>\n",
       "      <td>104</td>\n",
       "      <td>7.32</td>\n",
       "      <td>12.2</td>\n",
       "      <td>5</td>\n",
       "      <td>3.29</td>\n",
       "      <td>0</td>\n",
       "      <td>False</td>\n",
       "    </tr>\n",
       "    <tr>\n",
       "      <th>3</th>\n",
       "      <td>OH</td>\n",
       "      <td>84</td>\n",
       "      <td>408</td>\n",
       "      <td>375-9999</td>\n",
       "      <td>yes</td>\n",
       "      <td>no</td>\n",
       "      <td>0</td>\n",
       "      <td>299.4</td>\n",
       "      <td>71</td>\n",
       "      <td>50.90</td>\n",
       "      <td>...</td>\n",
       "      <td>88</td>\n",
       "      <td>5.26</td>\n",
       "      <td>196.9</td>\n",
       "      <td>89</td>\n",
       "      <td>8.86</td>\n",
       "      <td>6.6</td>\n",
       "      <td>7</td>\n",
       "      <td>1.78</td>\n",
       "      <td>2</td>\n",
       "      <td>False</td>\n",
       "    </tr>\n",
       "    <tr>\n",
       "      <th>4</th>\n",
       "      <td>OK</td>\n",
       "      <td>75</td>\n",
       "      <td>415</td>\n",
       "      <td>330-6626</td>\n",
       "      <td>yes</td>\n",
       "      <td>no</td>\n",
       "      <td>0</td>\n",
       "      <td>166.7</td>\n",
       "      <td>113</td>\n",
       "      <td>28.34</td>\n",
       "      <td>...</td>\n",
       "      <td>122</td>\n",
       "      <td>12.61</td>\n",
       "      <td>186.9</td>\n",
       "      <td>121</td>\n",
       "      <td>8.41</td>\n",
       "      <td>10.1</td>\n",
       "      <td>3</td>\n",
       "      <td>2.73</td>\n",
       "      <td>3</td>\n",
       "      <td>False</td>\n",
       "    </tr>\n",
       "  </tbody>\n",
       "</table>\n",
       "<p>5 rows × 21 columns</p>\n",
       "</div>"
      ],
      "text/plain": [
       "  state  account length  area code phone number international plan  \\\n",
       "0    KS             128        415     382-4657                 no   \n",
       "1    OH             107        415     371-7191                 no   \n",
       "2    NJ             137        415     358-1921                 no   \n",
       "3    OH              84        408     375-9999                yes   \n",
       "4    OK              75        415     330-6626                yes   \n",
       "\n",
       "  voice mail plan  number vmail messages  total day minutes  total day calls  \\\n",
       "0             yes                     25              265.1              110   \n",
       "1             yes                     26              161.6              123   \n",
       "2              no                      0              243.4              114   \n",
       "3              no                      0              299.4               71   \n",
       "4              no                      0              166.7              113   \n",
       "\n",
       "   total day charge  ...  total eve calls  total eve charge  \\\n",
       "0             45.07  ...               99             16.78   \n",
       "1             27.47  ...              103             16.62   \n",
       "2             41.38  ...              110             10.30   \n",
       "3             50.90  ...               88              5.26   \n",
       "4             28.34  ...              122             12.61   \n",
       "\n",
       "   total night minutes  total night calls  total night charge  \\\n",
       "0                244.7                 91               11.01   \n",
       "1                254.4                103               11.45   \n",
       "2                162.6                104                7.32   \n",
       "3                196.9                 89                8.86   \n",
       "4                186.9                121                8.41   \n",
       "\n",
       "   total intl minutes  total intl calls  total intl charge  \\\n",
       "0                10.0                 3               2.70   \n",
       "1                13.7                 3               3.70   \n",
       "2                12.2                 5               3.29   \n",
       "3                 6.6                 7               1.78   \n",
       "4                10.1                 3               2.73   \n",
       "\n",
       "   customer service calls  churn  \n",
       "0                       1  False  \n",
       "1                       1  False  \n",
       "2                       0  False  \n",
       "3                       2  False  \n",
       "4                       3  False  \n",
       "\n",
       "[5 rows x 21 columns]"
      ]
     },
     "execution_count": 3,
     "metadata": {},
     "output_type": "execute_result"
    }
   ],
   "source": [
    "df = pd.read_csv('/Users/jordanrjohnson/DataScienceCourseMaterial/phase_3/dsc-phase-3-project/Data/customer_churn.csv')\n",
    "df.head()"
   ]
  },
  {
   "cell_type": "code",
   "execution_count": 4,
   "metadata": {},
   "outputs": [],
   "source": [
    "df_train, df_validation = train_test_split(df, test_size=.1)"
   ]
  },
  {
   "cell_type": "code",
   "execution_count": 5,
   "metadata": {},
   "outputs": [
    {
     "name": "stdout",
     "output_type": "stream",
     "text": [
      "(2999, 21) (334, 21)\n"
     ]
    }
   ],
   "source": [
    "print(df_train.shape, df_validation.shape)"
   ]
  },
  {
   "cell_type": "code",
   "execution_count": 6,
   "metadata": {},
   "outputs": [],
   "source": [
    "df_validation.to_csv('/Users/jordanrjohnson/DataScienceCourseMaterial/phase_3/dsc-phase-3-project/Data/validation_set.csv')"
   ]
  },
  {
   "cell_type": "markdown",
   "metadata": {},
   "source": [
    "Validation set with 10% of our data is blind from everything we will do to model, but will be used to check the quality of our model at the end. I split it and saved to a csv file for later."
   ]
  },
  {
   "cell_type": "markdown",
   "metadata": {},
   "source": [
    "## Question 1: Is calling customer service a sign of customer unhappiness/potential churn?"
   ]
  },
  {
   "cell_type": "code",
   "execution_count": 10,
   "metadata": {},
   "outputs": [
    {
     "data": {
      "text/plain": [
       "(0.1450483494498166, 0.8549516505501834)"
      ]
     },
     "execution_count": 10,
     "metadata": {},
     "output_type": "execute_result"
    }
   ],
   "source": [
    "# What is our current churn rate? Retention rate?\n",
    "get_churn_rate(df_train['churn'], include_retention=True)"
   ]
  },
  {
   "cell_type": "code",
   "execution_count": 65,
   "metadata": {},
   "outputs": [
    {
     "data": {
      "text/html": [
       "<div>\n",
       "<style scoped>\n",
       "    .dataframe tbody tr th:only-of-type {\n",
       "        vertical-align: middle;\n",
       "    }\n",
       "\n",
       "    .dataframe tbody tr th {\n",
       "        vertical-align: top;\n",
       "    }\n",
       "\n",
       "    .dataframe thead th {\n",
       "        text-align: right;\n",
       "    }\n",
       "</style>\n",
       "<table border=\"1\" class=\"dataframe\">\n",
       "  <thead>\n",
       "    <tr style=\"text-align: right;\">\n",
       "      <th></th>\n",
       "      <th>state</th>\n",
       "      <th>account length</th>\n",
       "      <th>area code</th>\n",
       "      <th>phone number</th>\n",
       "      <th>international plan</th>\n",
       "      <th>voice mail plan</th>\n",
       "      <th>number vmail messages</th>\n",
       "      <th>total day minutes</th>\n",
       "      <th>total day calls</th>\n",
       "      <th>total day charge</th>\n",
       "      <th>...</th>\n",
       "      <th>total eve calls</th>\n",
       "      <th>total eve charge</th>\n",
       "      <th>total night minutes</th>\n",
       "      <th>total night calls</th>\n",
       "      <th>total night charge</th>\n",
       "      <th>total intl minutes</th>\n",
       "      <th>total intl calls</th>\n",
       "      <th>total intl charge</th>\n",
       "      <th>customer service calls</th>\n",
       "      <th>churn</th>\n",
       "    </tr>\n",
       "  </thead>\n",
       "  <tbody>\n",
       "    <tr>\n",
       "      <th>2325</th>\n",
       "      <td>UT</td>\n",
       "      <td>110</td>\n",
       "      <td>415</td>\n",
       "      <td>375-3826</td>\n",
       "      <td>no</td>\n",
       "      <td>no</td>\n",
       "      <td>0</td>\n",
       "      <td>271.1</td>\n",
       "      <td>108</td>\n",
       "      <td>46.09</td>\n",
       "      <td>...</td>\n",
       "      <td>122</td>\n",
       "      <td>20.15</td>\n",
       "      <td>239.9</td>\n",
       "      <td>122</td>\n",
       "      <td>10.80</td>\n",
       "      <td>9.8</td>\n",
       "      <td>5</td>\n",
       "      <td>2.65</td>\n",
       "      <td>2</td>\n",
       "      <td>True</td>\n",
       "    </tr>\n",
       "    <tr>\n",
       "      <th>3209</th>\n",
       "      <td>OH</td>\n",
       "      <td>68</td>\n",
       "      <td>415</td>\n",
       "      <td>369-8574</td>\n",
       "      <td>yes</td>\n",
       "      <td>yes</td>\n",
       "      <td>24</td>\n",
       "      <td>125.7</td>\n",
       "      <td>92</td>\n",
       "      <td>21.37</td>\n",
       "      <td>...</td>\n",
       "      <td>98</td>\n",
       "      <td>23.45</td>\n",
       "      <td>214.5</td>\n",
       "      <td>108</td>\n",
       "      <td>9.65</td>\n",
       "      <td>14.2</td>\n",
       "      <td>6</td>\n",
       "      <td>3.83</td>\n",
       "      <td>3</td>\n",
       "      <td>True</td>\n",
       "    </tr>\n",
       "    <tr>\n",
       "      <th>2700</th>\n",
       "      <td>SC</td>\n",
       "      <td>209</td>\n",
       "      <td>510</td>\n",
       "      <td>388-7540</td>\n",
       "      <td>no</td>\n",
       "      <td>no</td>\n",
       "      <td>0</td>\n",
       "      <td>255.1</td>\n",
       "      <td>124</td>\n",
       "      <td>43.37</td>\n",
       "      <td>...</td>\n",
       "      <td>110</td>\n",
       "      <td>19.60</td>\n",
       "      <td>218.0</td>\n",
       "      <td>69</td>\n",
       "      <td>9.81</td>\n",
       "      <td>8.5</td>\n",
       "      <td>5</td>\n",
       "      <td>2.30</td>\n",
       "      <td>3</td>\n",
       "      <td>True</td>\n",
       "    </tr>\n",
       "    <tr>\n",
       "      <th>2139</th>\n",
       "      <td>VA</td>\n",
       "      <td>92</td>\n",
       "      <td>510</td>\n",
       "      <td>411-2958</td>\n",
       "      <td>yes</td>\n",
       "      <td>no</td>\n",
       "      <td>0</td>\n",
       "      <td>252.3</td>\n",
       "      <td>120</td>\n",
       "      <td>42.89</td>\n",
       "      <td>...</td>\n",
       "      <td>112</td>\n",
       "      <td>17.60</td>\n",
       "      <td>284.6</td>\n",
       "      <td>95</td>\n",
       "      <td>12.81</td>\n",
       "      <td>12.0</td>\n",
       "      <td>5</td>\n",
       "      <td>3.24</td>\n",
       "      <td>3</td>\n",
       "      <td>True</td>\n",
       "    </tr>\n",
       "    <tr>\n",
       "      <th>2934</th>\n",
       "      <td>DC</td>\n",
       "      <td>24</td>\n",
       "      <td>408</td>\n",
       "      <td>369-3626</td>\n",
       "      <td>no</td>\n",
       "      <td>no</td>\n",
       "      <td>0</td>\n",
       "      <td>149.0</td>\n",
       "      <td>73</td>\n",
       "      <td>25.33</td>\n",
       "      <td>...</td>\n",
       "      <td>81</td>\n",
       "      <td>11.14</td>\n",
       "      <td>238.6</td>\n",
       "      <td>69</td>\n",
       "      <td>10.74</td>\n",
       "      <td>8.6</td>\n",
       "      <td>3</td>\n",
       "      <td>2.32</td>\n",
       "      <td>2</td>\n",
       "      <td>True</td>\n",
       "    </tr>\n",
       "    <tr>\n",
       "      <th>...</th>\n",
       "      <td>...</td>\n",
       "      <td>...</td>\n",
       "      <td>...</td>\n",
       "      <td>...</td>\n",
       "      <td>...</td>\n",
       "      <td>...</td>\n",
       "      <td>...</td>\n",
       "      <td>...</td>\n",
       "      <td>...</td>\n",
       "      <td>...</td>\n",
       "      <td>...</td>\n",
       "      <td>...</td>\n",
       "      <td>...</td>\n",
       "      <td>...</td>\n",
       "      <td>...</td>\n",
       "      <td>...</td>\n",
       "      <td>...</td>\n",
       "      <td>...</td>\n",
       "      <td>...</td>\n",
       "      <td>...</td>\n",
       "      <td>...</td>\n",
       "    </tr>\n",
       "    <tr>\n",
       "      <th>1893</th>\n",
       "      <td>IN</td>\n",
       "      <td>68</td>\n",
       "      <td>510</td>\n",
       "      <td>330-9354</td>\n",
       "      <td>no</td>\n",
       "      <td>no</td>\n",
       "      <td>0</td>\n",
       "      <td>249.9</td>\n",
       "      <td>127</td>\n",
       "      <td>42.48</td>\n",
       "      <td>...</td>\n",
       "      <td>118</td>\n",
       "      <td>21.63</td>\n",
       "      <td>273.2</td>\n",
       "      <td>98</td>\n",
       "      <td>12.29</td>\n",
       "      <td>8.9</td>\n",
       "      <td>6</td>\n",
       "      <td>2.40</td>\n",
       "      <td>2</td>\n",
       "      <td>True</td>\n",
       "    </tr>\n",
       "    <tr>\n",
       "      <th>550</th>\n",
       "      <td>AK</td>\n",
       "      <td>111</td>\n",
       "      <td>415</td>\n",
       "      <td>364-7719</td>\n",
       "      <td>no</td>\n",
       "      <td>no</td>\n",
       "      <td>0</td>\n",
       "      <td>172.8</td>\n",
       "      <td>58</td>\n",
       "      <td>29.38</td>\n",
       "      <td>...</td>\n",
       "      <td>108</td>\n",
       "      <td>15.56</td>\n",
       "      <td>158.8</td>\n",
       "      <td>104</td>\n",
       "      <td>7.15</td>\n",
       "      <td>7.9</td>\n",
       "      <td>3</td>\n",
       "      <td>2.13</td>\n",
       "      <td>4</td>\n",
       "      <td>True</td>\n",
       "    </tr>\n",
       "    <tr>\n",
       "      <th>3050</th>\n",
       "      <td>SC</td>\n",
       "      <td>101</td>\n",
       "      <td>415</td>\n",
       "      <td>345-4589</td>\n",
       "      <td>no</td>\n",
       "      <td>no</td>\n",
       "      <td>0</td>\n",
       "      <td>158.4</td>\n",
       "      <td>92</td>\n",
       "      <td>26.93</td>\n",
       "      <td>...</td>\n",
       "      <td>117</td>\n",
       "      <td>15.98</td>\n",
       "      <td>219.7</td>\n",
       "      <td>125</td>\n",
       "      <td>9.89</td>\n",
       "      <td>13.5</td>\n",
       "      <td>4</td>\n",
       "      <td>3.65</td>\n",
       "      <td>4</td>\n",
       "      <td>True</td>\n",
       "    </tr>\n",
       "    <tr>\n",
       "      <th>1373</th>\n",
       "      <td>SC</td>\n",
       "      <td>108</td>\n",
       "      <td>415</td>\n",
       "      <td>399-6233</td>\n",
       "      <td>no</td>\n",
       "      <td>no</td>\n",
       "      <td>0</td>\n",
       "      <td>112.0</td>\n",
       "      <td>105</td>\n",
       "      <td>19.04</td>\n",
       "      <td>...</td>\n",
       "      <td>110</td>\n",
       "      <td>16.46</td>\n",
       "      <td>208.9</td>\n",
       "      <td>93</td>\n",
       "      <td>9.40</td>\n",
       "      <td>4.1</td>\n",
       "      <td>4</td>\n",
       "      <td>1.11</td>\n",
       "      <td>4</td>\n",
       "      <td>True</td>\n",
       "    </tr>\n",
       "    <tr>\n",
       "      <th>1904</th>\n",
       "      <td>WA</td>\n",
       "      <td>174</td>\n",
       "      <td>408</td>\n",
       "      <td>352-6068</td>\n",
       "      <td>no</td>\n",
       "      <td>yes</td>\n",
       "      <td>33</td>\n",
       "      <td>167.8</td>\n",
       "      <td>91</td>\n",
       "      <td>28.53</td>\n",
       "      <td>...</td>\n",
       "      <td>91</td>\n",
       "      <td>17.45</td>\n",
       "      <td>130.0</td>\n",
       "      <td>132</td>\n",
       "      <td>5.85</td>\n",
       "      <td>14.5</td>\n",
       "      <td>4</td>\n",
       "      <td>3.92</td>\n",
       "      <td>4</td>\n",
       "      <td>True</td>\n",
       "    </tr>\n",
       "  </tbody>\n",
       "</table>\n",
       "<p>244 rows × 21 columns</p>\n",
       "</div>"
      ],
      "text/plain": [
       "     state  account length  area code phone number international plan  \\\n",
       "2325    UT             110        415     375-3826                 no   \n",
       "3209    OH              68        415     369-8574                yes   \n",
       "2700    SC             209        510     388-7540                 no   \n",
       "2139    VA              92        510     411-2958                yes   \n",
       "2934    DC              24        408     369-3626                 no   \n",
       "...    ...             ...        ...          ...                ...   \n",
       "1893    IN              68        510     330-9354                 no   \n",
       "550     AK             111        415     364-7719                 no   \n",
       "3050    SC             101        415     345-4589                 no   \n",
       "1373    SC             108        415     399-6233                 no   \n",
       "1904    WA             174        408     352-6068                 no   \n",
       "\n",
       "     voice mail plan  number vmail messages  total day minutes  \\\n",
       "2325              no                      0              271.1   \n",
       "3209             yes                     24              125.7   \n",
       "2700              no                      0              255.1   \n",
       "2139              no                      0              252.3   \n",
       "2934              no                      0              149.0   \n",
       "...              ...                    ...                ...   \n",
       "1893              no                      0              249.9   \n",
       "550               no                      0              172.8   \n",
       "3050              no                      0              158.4   \n",
       "1373              no                      0              112.0   \n",
       "1904             yes                     33              167.8   \n",
       "\n",
       "      total day calls  total day charge  ...  total eve calls  \\\n",
       "2325              108             46.09  ...              122   \n",
       "3209               92             21.37  ...               98   \n",
       "2700              124             43.37  ...              110   \n",
       "2139              120             42.89  ...              112   \n",
       "2934               73             25.33  ...               81   \n",
       "...               ...               ...  ...              ...   \n",
       "1893              127             42.48  ...              118   \n",
       "550                58             29.38  ...              108   \n",
       "3050               92             26.93  ...              117   \n",
       "1373              105             19.04  ...              110   \n",
       "1904               91             28.53  ...               91   \n",
       "\n",
       "      total eve charge  total night minutes  total night calls  \\\n",
       "2325             20.15                239.9                122   \n",
       "3209             23.45                214.5                108   \n",
       "2700             19.60                218.0                 69   \n",
       "2139             17.60                284.6                 95   \n",
       "2934             11.14                238.6                 69   \n",
       "...                ...                  ...                ...   \n",
       "1893             21.63                273.2                 98   \n",
       "550              15.56                158.8                104   \n",
       "3050             15.98                219.7                125   \n",
       "1373             16.46                208.9                 93   \n",
       "1904             17.45                130.0                132   \n",
       "\n",
       "      total night charge  total intl minutes  total intl calls  \\\n",
       "2325               10.80                 9.8                 5   \n",
       "3209                9.65                14.2                 6   \n",
       "2700                9.81                 8.5                 5   \n",
       "2139               12.81                12.0                 5   \n",
       "2934               10.74                 8.6                 3   \n",
       "...                  ...                 ...               ...   \n",
       "1893               12.29                 8.9                 6   \n",
       "550                 7.15                 7.9                 3   \n",
       "3050                9.89                13.5                 4   \n",
       "1373                9.40                 4.1                 4   \n",
       "1904                5.85                14.5                 4   \n",
       "\n",
       "      total intl charge  customer service calls  churn  \n",
       "2325               2.65                       2   True  \n",
       "3209               3.83                       3   True  \n",
       "2700               2.30                       3   True  \n",
       "2139               3.24                       3   True  \n",
       "2934               2.32                       2   True  \n",
       "...                 ...                     ...    ...  \n",
       "1893               2.40                       2   True  \n",
       "550                2.13                       4   True  \n",
       "3050               3.65                       4   True  \n",
       "1373               1.11                       4   True  \n",
       "1904               3.92                       4   True  \n",
       "\n",
       "[244 rows x 21 columns]"
      ]
     },
     "execution_count": 65,
     "metadata": {},
     "output_type": "execute_result"
    }
   ],
   "source": [
    "df_train.loc[(df_train['customer service calls'] > 1) & (df_train['churn'] == True)]"
   ]
  },
  {
   "cell_type": "code",
   "execution_count": 39,
   "metadata": {},
   "outputs": [
    {
     "data": {
      "text/html": [
       "<div>\n",
       "<style scoped>\n",
       "    .dataframe tbody tr th:only-of-type {\n",
       "        vertical-align: middle;\n",
       "    }\n",
       "\n",
       "    .dataframe tbody tr th {\n",
       "        vertical-align: top;\n",
       "    }\n",
       "\n",
       "    .dataframe thead th {\n",
       "        text-align: right;\n",
       "    }\n",
       "</style>\n",
       "<table border=\"1\" class=\"dataframe\">\n",
       "  <thead>\n",
       "    <tr style=\"text-align: right;\">\n",
       "      <th></th>\n",
       "      <th>state</th>\n",
       "      <th>account length</th>\n",
       "      <th>area code</th>\n",
       "      <th>phone number</th>\n",
       "      <th>international plan</th>\n",
       "      <th>voice mail plan</th>\n",
       "      <th>number vmail messages</th>\n",
       "      <th>total day minutes</th>\n",
       "      <th>total day calls</th>\n",
       "      <th>total day charge</th>\n",
       "      <th>...</th>\n",
       "      <th>total eve calls</th>\n",
       "      <th>total eve charge</th>\n",
       "      <th>total night minutes</th>\n",
       "      <th>total night calls</th>\n",
       "      <th>total night charge</th>\n",
       "      <th>total intl minutes</th>\n",
       "      <th>total intl calls</th>\n",
       "      <th>total intl charge</th>\n",
       "      <th>customer service calls</th>\n",
       "      <th>churn</th>\n",
       "    </tr>\n",
       "  </thead>\n",
       "  <tbody>\n",
       "    <tr>\n",
       "      <th>2325</th>\n",
       "      <td>UT</td>\n",
       "      <td>110</td>\n",
       "      <td>415</td>\n",
       "      <td>375-3826</td>\n",
       "      <td>no</td>\n",
       "      <td>no</td>\n",
       "      <td>0</td>\n",
       "      <td>271.1</td>\n",
       "      <td>108</td>\n",
       "      <td>46.09</td>\n",
       "      <td>...</td>\n",
       "      <td>122</td>\n",
       "      <td>20.15</td>\n",
       "      <td>239.9</td>\n",
       "      <td>122</td>\n",
       "      <td>10.80</td>\n",
       "      <td>9.8</td>\n",
       "      <td>5</td>\n",
       "      <td>2.65</td>\n",
       "      <td>2</td>\n",
       "      <td>True</td>\n",
       "    </tr>\n",
       "    <tr>\n",
       "      <th>1671</th>\n",
       "      <td>VA</td>\n",
       "      <td>84</td>\n",
       "      <td>415</td>\n",
       "      <td>372-1534</td>\n",
       "      <td>no</td>\n",
       "      <td>no</td>\n",
       "      <td>0</td>\n",
       "      <td>130.2</td>\n",
       "      <td>105</td>\n",
       "      <td>22.13</td>\n",
       "      <td>...</td>\n",
       "      <td>60</td>\n",
       "      <td>23.63</td>\n",
       "      <td>305.4</td>\n",
       "      <td>74</td>\n",
       "      <td>13.74</td>\n",
       "      <td>14.0</td>\n",
       "      <td>6</td>\n",
       "      <td>3.78</td>\n",
       "      <td>2</td>\n",
       "      <td>False</td>\n",
       "    </tr>\n",
       "    <tr>\n",
       "      <th>264</th>\n",
       "      <td>NC</td>\n",
       "      <td>155</td>\n",
       "      <td>408</td>\n",
       "      <td>417-3676</td>\n",
       "      <td>no</td>\n",
       "      <td>no</td>\n",
       "      <td>0</td>\n",
       "      <td>262.4</td>\n",
       "      <td>55</td>\n",
       "      <td>44.61</td>\n",
       "      <td>...</td>\n",
       "      <td>113</td>\n",
       "      <td>16.54</td>\n",
       "      <td>146.5</td>\n",
       "      <td>85</td>\n",
       "      <td>6.59</td>\n",
       "      <td>8.3</td>\n",
       "      <td>6</td>\n",
       "      <td>2.24</td>\n",
       "      <td>2</td>\n",
       "      <td>False</td>\n",
       "    </tr>\n",
       "    <tr>\n",
       "      <th>3139</th>\n",
       "      <td>AL</td>\n",
       "      <td>13</td>\n",
       "      <td>415</td>\n",
       "      <td>354-4333</td>\n",
       "      <td>no</td>\n",
       "      <td>no</td>\n",
       "      <td>0</td>\n",
       "      <td>143.1</td>\n",
       "      <td>139</td>\n",
       "      <td>24.33</td>\n",
       "      <td>...</td>\n",
       "      <td>88</td>\n",
       "      <td>20.37</td>\n",
       "      <td>221.7</td>\n",
       "      <td>123</td>\n",
       "      <td>9.98</td>\n",
       "      <td>7.1</td>\n",
       "      <td>5</td>\n",
       "      <td>1.92</td>\n",
       "      <td>2</td>\n",
       "      <td>False</td>\n",
       "    </tr>\n",
       "    <tr>\n",
       "      <th>2637</th>\n",
       "      <td>MT</td>\n",
       "      <td>109</td>\n",
       "      <td>510</td>\n",
       "      <td>415-9649</td>\n",
       "      <td>no</td>\n",
       "      <td>no</td>\n",
       "      <td>0</td>\n",
       "      <td>154.8</td>\n",
       "      <td>82</td>\n",
       "      <td>26.32</td>\n",
       "      <td>...</td>\n",
       "      <td>109</td>\n",
       "      <td>24.45</td>\n",
       "      <td>208.4</td>\n",
       "      <td>80</td>\n",
       "      <td>9.38</td>\n",
       "      <td>5.9</td>\n",
       "      <td>9</td>\n",
       "      <td>1.59</td>\n",
       "      <td>3</td>\n",
       "      <td>False</td>\n",
       "    </tr>\n",
       "    <tr>\n",
       "      <th>...</th>\n",
       "      <td>...</td>\n",
       "      <td>...</td>\n",
       "      <td>...</td>\n",
       "      <td>...</td>\n",
       "      <td>...</td>\n",
       "      <td>...</td>\n",
       "      <td>...</td>\n",
       "      <td>...</td>\n",
       "      <td>...</td>\n",
       "      <td>...</td>\n",
       "      <td>...</td>\n",
       "      <td>...</td>\n",
       "      <td>...</td>\n",
       "      <td>...</td>\n",
       "      <td>...</td>\n",
       "      <td>...</td>\n",
       "      <td>...</td>\n",
       "      <td>...</td>\n",
       "      <td>...</td>\n",
       "      <td>...</td>\n",
       "      <td>...</td>\n",
       "    </tr>\n",
       "    <tr>\n",
       "      <th>3153</th>\n",
       "      <td>AZ</td>\n",
       "      <td>94</td>\n",
       "      <td>415</td>\n",
       "      <td>366-9015</td>\n",
       "      <td>no</td>\n",
       "      <td>no</td>\n",
       "      <td>0</td>\n",
       "      <td>220.8</td>\n",
       "      <td>111</td>\n",
       "      <td>37.54</td>\n",
       "      <td>...</td>\n",
       "      <td>67</td>\n",
       "      <td>13.28</td>\n",
       "      <td>187.9</td>\n",
       "      <td>89</td>\n",
       "      <td>8.46</td>\n",
       "      <td>10.5</td>\n",
       "      <td>4</td>\n",
       "      <td>2.84</td>\n",
       "      <td>2</td>\n",
       "      <td>False</td>\n",
       "    </tr>\n",
       "    <tr>\n",
       "      <th>778</th>\n",
       "      <td>LA</td>\n",
       "      <td>115</td>\n",
       "      <td>415</td>\n",
       "      <td>386-6306</td>\n",
       "      <td>no</td>\n",
       "      <td>yes</td>\n",
       "      <td>26</td>\n",
       "      <td>170.5</td>\n",
       "      <td>107</td>\n",
       "      <td>28.99</td>\n",
       "      <td>...</td>\n",
       "      <td>77</td>\n",
       "      <td>18.46</td>\n",
       "      <td>225.7</td>\n",
       "      <td>71</td>\n",
       "      <td>10.16</td>\n",
       "      <td>13.6</td>\n",
       "      <td>5</td>\n",
       "      <td>3.67</td>\n",
       "      <td>6</td>\n",
       "      <td>False</td>\n",
       "    </tr>\n",
       "    <tr>\n",
       "      <th>32</th>\n",
       "      <td>LA</td>\n",
       "      <td>172</td>\n",
       "      <td>408</td>\n",
       "      <td>383-1121</td>\n",
       "      <td>no</td>\n",
       "      <td>no</td>\n",
       "      <td>0</td>\n",
       "      <td>212.0</td>\n",
       "      <td>121</td>\n",
       "      <td>36.04</td>\n",
       "      <td>...</td>\n",
       "      <td>115</td>\n",
       "      <td>2.65</td>\n",
       "      <td>293.3</td>\n",
       "      <td>78</td>\n",
       "      <td>13.20</td>\n",
       "      <td>12.6</td>\n",
       "      <td>10</td>\n",
       "      <td>3.40</td>\n",
       "      <td>3</td>\n",
       "      <td>False</td>\n",
       "    </tr>\n",
       "    <tr>\n",
       "      <th>1320</th>\n",
       "      <td>AR</td>\n",
       "      <td>103</td>\n",
       "      <td>415</td>\n",
       "      <td>337-9878</td>\n",
       "      <td>no</td>\n",
       "      <td>yes</td>\n",
       "      <td>31</td>\n",
       "      <td>185.4</td>\n",
       "      <td>105</td>\n",
       "      <td>31.52</td>\n",
       "      <td>...</td>\n",
       "      <td>126</td>\n",
       "      <td>16.80</td>\n",
       "      <td>147.1</td>\n",
       "      <td>110</td>\n",
       "      <td>6.62</td>\n",
       "      <td>14.5</td>\n",
       "      <td>4</td>\n",
       "      <td>3.92</td>\n",
       "      <td>2</td>\n",
       "      <td>False</td>\n",
       "    </tr>\n",
       "    <tr>\n",
       "      <th>1904</th>\n",
       "      <td>WA</td>\n",
       "      <td>174</td>\n",
       "      <td>408</td>\n",
       "      <td>352-6068</td>\n",
       "      <td>no</td>\n",
       "      <td>yes</td>\n",
       "      <td>33</td>\n",
       "      <td>167.8</td>\n",
       "      <td>91</td>\n",
       "      <td>28.53</td>\n",
       "      <td>...</td>\n",
       "      <td>91</td>\n",
       "      <td>17.45</td>\n",
       "      <td>130.0</td>\n",
       "      <td>132</td>\n",
       "      <td>5.85</td>\n",
       "      <td>14.5</td>\n",
       "      <td>4</td>\n",
       "      <td>3.92</td>\n",
       "      <td>4</td>\n",
       "      <td>True</td>\n",
       "    </tr>\n",
       "  </tbody>\n",
       "</table>\n",
       "<p>1310 rows × 21 columns</p>\n",
       "</div>"
      ],
      "text/plain": [
       "     state  account length  area code phone number international plan  \\\n",
       "2325    UT             110        415     375-3826                 no   \n",
       "1671    VA              84        415     372-1534                 no   \n",
       "264     NC             155        408     417-3676                 no   \n",
       "3139    AL              13        415     354-4333                 no   \n",
       "2637    MT             109        510     415-9649                 no   \n",
       "...    ...             ...        ...          ...                ...   \n",
       "3153    AZ              94        415     366-9015                 no   \n",
       "778     LA             115        415     386-6306                 no   \n",
       "32      LA             172        408     383-1121                 no   \n",
       "1320    AR             103        415     337-9878                 no   \n",
       "1904    WA             174        408     352-6068                 no   \n",
       "\n",
       "     voice mail plan  number vmail messages  total day minutes  \\\n",
       "2325              no                      0              271.1   \n",
       "1671              no                      0              130.2   \n",
       "264               no                      0              262.4   \n",
       "3139              no                      0              143.1   \n",
       "2637              no                      0              154.8   \n",
       "...              ...                    ...                ...   \n",
       "3153              no                      0              220.8   \n",
       "778              yes                     26              170.5   \n",
       "32                no                      0              212.0   \n",
       "1320             yes                     31              185.4   \n",
       "1904             yes                     33              167.8   \n",
       "\n",
       "      total day calls  total day charge  ...  total eve calls  \\\n",
       "2325              108             46.09  ...              122   \n",
       "1671              105             22.13  ...               60   \n",
       "264                55             44.61  ...              113   \n",
       "3139              139             24.33  ...               88   \n",
       "2637               82             26.32  ...              109   \n",
       "...               ...               ...  ...              ...   \n",
       "3153              111             37.54  ...               67   \n",
       "778               107             28.99  ...               77   \n",
       "32                121             36.04  ...              115   \n",
       "1320              105             31.52  ...              126   \n",
       "1904               91             28.53  ...               91   \n",
       "\n",
       "      total eve charge  total night minutes  total night calls  \\\n",
       "2325             20.15                239.9                122   \n",
       "1671             23.63                305.4                 74   \n",
       "264              16.54                146.5                 85   \n",
       "3139             20.37                221.7                123   \n",
       "2637             24.45                208.4                 80   \n",
       "...                ...                  ...                ...   \n",
       "3153             13.28                187.9                 89   \n",
       "778              18.46                225.7                 71   \n",
       "32                2.65                293.3                 78   \n",
       "1320             16.80                147.1                110   \n",
       "1904             17.45                130.0                132   \n",
       "\n",
       "      total night charge  total intl minutes  total intl calls  \\\n",
       "2325               10.80                 9.8                 5   \n",
       "1671               13.74                14.0                 6   \n",
       "264                 6.59                 8.3                 6   \n",
       "3139                9.98                 7.1                 5   \n",
       "2637                9.38                 5.9                 9   \n",
       "...                  ...                 ...               ...   \n",
       "3153                8.46                10.5                 4   \n",
       "778                10.16                13.6                 5   \n",
       "32                 13.20                12.6                10   \n",
       "1320                6.62                14.5                 4   \n",
       "1904                5.85                14.5                 4   \n",
       "\n",
       "      total intl charge  customer service calls  churn  \n",
       "2325               2.65                       2   True  \n",
       "1671               3.78                       2  False  \n",
       "264                2.24                       2  False  \n",
       "3139               1.92                       2  False  \n",
       "2637               1.59                       3  False  \n",
       "...                 ...                     ...    ...  \n",
       "3153               2.84                       2  False  \n",
       "778                3.67                       6  False  \n",
       "32                 3.40                       3  False  \n",
       "1320               3.92                       2  False  \n",
       "1904               3.92                       4   True  \n",
       "\n",
       "[1310 rows x 21 columns]"
      ]
     },
     "execution_count": 39,
     "metadata": {},
     "output_type": "execute_result"
    }
   ],
   "source": [
    "df_train.loc[df_train['customer service calls'] > 1]"
   ]
  },
  {
   "cell_type": "code",
   "execution_count": 66,
   "metadata": {},
   "outputs": [
    {
     "data": {
      "text/html": [
       "<div>\n",
       "<style scoped>\n",
       "    .dataframe tbody tr th:only-of-type {\n",
       "        vertical-align: middle;\n",
       "    }\n",
       "\n",
       "    .dataframe tbody tr th {\n",
       "        vertical-align: top;\n",
       "    }\n",
       "\n",
       "    .dataframe thead th {\n",
       "        text-align: right;\n",
       "    }\n",
       "</style>\n",
       "<table border=\"1\" class=\"dataframe\">\n",
       "  <thead>\n",
       "    <tr style=\"text-align: right;\">\n",
       "      <th></th>\n",
       "      <th>count</th>\n",
       "    </tr>\n",
       "    <tr>\n",
       "      <th>customer service calls</th>\n",
       "      <th></th>\n",
       "    </tr>\n",
       "  </thead>\n",
       "  <tbody>\n",
       "    <tr>\n",
       "      <th>0</th>\n",
       "      <td>633</td>\n",
       "    </tr>\n",
       "    <tr>\n",
       "      <th>1</th>\n",
       "      <td>1056</td>\n",
       "    </tr>\n",
       "    <tr>\n",
       "      <th>2</th>\n",
       "      <td>683</td>\n",
       "    </tr>\n",
       "    <tr>\n",
       "      <th>3</th>\n",
       "      <td>387</td>\n",
       "    </tr>\n",
       "    <tr>\n",
       "      <th>4</th>\n",
       "      <td>146</td>\n",
       "    </tr>\n",
       "    <tr>\n",
       "      <th>5</th>\n",
       "      <td>61</td>\n",
       "    </tr>\n",
       "    <tr>\n",
       "      <th>6</th>\n",
       "      <td>22</td>\n",
       "    </tr>\n",
       "    <tr>\n",
       "      <th>7</th>\n",
       "      <td>7</td>\n",
       "    </tr>\n",
       "    <tr>\n",
       "      <th>8</th>\n",
       "      <td>2</td>\n",
       "    </tr>\n",
       "    <tr>\n",
       "      <th>9</th>\n",
       "      <td>2</td>\n",
       "    </tr>\n",
       "  </tbody>\n",
       "</table>\n",
       "</div>"
      ],
      "text/plain": [
       "                        count\n",
       "customer service calls       \n",
       "0                         633\n",
       "1                        1056\n",
       "2                         683\n",
       "3                         387\n",
       "4                         146\n",
       "5                          61\n",
       "6                          22\n",
       "7                           7\n",
       "8                           2\n",
       "9                           2"
      ]
     },
     "execution_count": 66,
     "metadata": {},
     "output_type": "execute_result"
    }
   ],
   "source": [
    "customer_service = df_train.groupby('customer service calls')['churn'].agg(['count'])\n",
    "customer_service"
   ]
  },
  {
   "cell_type": "code",
   "execution_count": 83,
   "metadata": {},
   "outputs": [
    {
     "data": {
      "image/png": "[encoded data removed]",
      "text/plain": [
       "<Figure size 720x576 with 1 Axes>"
      ]
     },
     "metadata": {},
     "output_type": "display_data"
    }
   ],
   "source": [
    "plt.figure(figsize=(10, 8))\n",
    "splot = sns.barplot(x='customer service calls', y='churn',\n",
    "                    data=df_train, palette='mako', ci=None)\n",
    "# Add annotations to bars\n",
    "for p in splot.patches:\n",
    "    splot.annotate(format(p.get_height(), '.1f'), \n",
    "                   (p.get_x() + p.get_width() / 2., p.get_height()), \n",
    "                   ha = 'center', va = 'center', \n",
    "                   xytext = (0, 9), \n",
    "                   textcoords = 'offset points')\n",
    "plt.title('Customer Service Calls & Churn')\n",
    "plt.show()"
   ]
  },
  {
   "cell_type": "code",
   "execution_count": 142,
   "metadata": {},
   "outputs": [
    {
     "data": {
      "image/png": "[encoded data removed]",
      "text/plain": [
       "<Figure size 720x576 with 1 Axes>"
      ]
     },
     "metadata": {},
     "output_type": "display_data"
    }
   ],
   "source": [
    "plt.figure(figsize=(10, 8))\n",
    "sns.boxenplot(x='churn', y='customer service calls',\n",
    "              data=df_train, palette='mako')\n",
    "\n",
    "plt.annotate('This customer is very loyal!', xy=(0, 8.01), xytext=(0.1, 7.8),\n",
    "            arrowprops=dict(facecolor='black', arrowstyle='simple'))\n",
    "\n",
    "plt.title('Distributions of Customer Service Calls and Churn')\n",
    "plt.show()"
   ]
  },
  {
   "cell_type": "markdown",
   "metadata": {},
   "source": [
    "### Findings & Recommendations\n",
    "\n",
    "Our current churn rate for the training data set is about 14.5%. When we look at customer service calls, we can see that as the number of customer service calls increases, the *likelihood* of churning increases as well. Specifically, with at least 4 customer service calls, the likelihood of a customer churning increases from about 10% to 50%.\n",
    "\n",
    "Customer service calls alone cannot guarantee that a customer will churn. In fact, the majority of customers who DID NOT churn made 1-2 customer service calls. However, it is important to note that the majority people who DID churn made 1-4 calls to customer service. Therefore, more than 3 calls to customer service should be a red flag that a customer is more likely to churn.\n",
    "\n",
    "**Recommendation:** \n",
    "\n",
    "Based on these findings, I would recommend revisiting our customer service protocol. It may be useful to offer a larger incentive/discount to customers making more than 3 calls to customer service. "
   ]
  },
  {
   "cell_type": "markdown",
   "metadata": {},
   "source": [
    "## Question 2: How much are people using their plan? What can this tell us about churn?"
   ]
  },
  {
   "cell_type": "code",
   "execution_count": 98,
   "metadata": {
    "scrolled": true
   },
   "outputs": [
    {
     "data": {
      "text/html": [
       "<div>\n",
       "<style scoped>\n",
       "    .dataframe tbody tr th:only-of-type {\n",
       "        vertical-align: middle;\n",
       "    }\n",
       "\n",
       "    .dataframe tbody tr th {\n",
       "        vertical-align: top;\n",
       "    }\n",
       "\n",
       "    .dataframe thead th {\n",
       "        text-align: right;\n",
       "    }\n",
       "</style>\n",
       "<table border=\"1\" class=\"dataframe\">\n",
       "  <thead>\n",
       "    <tr style=\"text-align: right;\">\n",
       "      <th></th>\n",
       "      <th>total day calls</th>\n",
       "      <th>total eve calls</th>\n",
       "      <th>total night calls</th>\n",
       "      <th>churn</th>\n",
       "    </tr>\n",
       "  </thead>\n",
       "  <tbody>\n",
       "    <tr>\n",
       "      <th>2325</th>\n",
       "      <td>108</td>\n",
       "      <td>122</td>\n",
       "      <td>122</td>\n",
       "      <td>True</td>\n",
       "    </tr>\n",
       "    <tr>\n",
       "      <th>1858</th>\n",
       "      <td>102</td>\n",
       "      <td>90</td>\n",
       "      <td>103</td>\n",
       "      <td>False</td>\n",
       "    </tr>\n",
       "    <tr>\n",
       "      <th>873</th>\n",
       "      <td>109</td>\n",
       "      <td>117</td>\n",
       "      <td>77</td>\n",
       "      <td>False</td>\n",
       "    </tr>\n",
       "    <tr>\n",
       "      <th>513</th>\n",
       "      <td>74</td>\n",
       "      <td>86</td>\n",
       "      <td>104</td>\n",
       "      <td>False</td>\n",
       "    </tr>\n",
       "    <tr>\n",
       "      <th>1671</th>\n",
       "      <td>105</td>\n",
       "      <td>60</td>\n",
       "      <td>74</td>\n",
       "      <td>False</td>\n",
       "    </tr>\n",
       "  </tbody>\n",
       "</table>\n",
       "</div>"
      ],
      "text/plain": [
       "      total day calls  total eve calls  total night calls  churn\n",
       "2325              108              122                122   True\n",
       "1858              102               90                103  False\n",
       "873               109              117                 77  False\n",
       "513                74               86                104  False\n",
       "1671              105               60                 74  False"
      ]
     },
     "execution_count": 98,
     "metadata": {},
     "output_type": "execute_result"
    }
   ],
   "source": [
    "# First look at how much people use their regular plans\n",
    "df_calls = df_train[['total day calls', 'total eve calls', 'total night calls', 'churn']]\n",
    "df_calls.head()"
   ]
  },
  {
   "cell_type": "code",
   "execution_count": 109,
   "metadata": {
    "scrolled": false
   },
   "outputs": [
    {
     "data": {
      "text/html": [
       "<div>\n",
       "<style scoped>\n",
       "    .dataframe tbody tr th:only-of-type {\n",
       "        vertical-align: middle;\n",
       "    }\n",
       "\n",
       "    .dataframe tbody tr th {\n",
       "        vertical-align: top;\n",
       "    }\n",
       "\n",
       "    .dataframe thead th {\n",
       "        text-align: right;\n",
       "    }\n",
       "</style>\n",
       "<table border=\"1\" class=\"dataframe\">\n",
       "  <thead>\n",
       "    <tr style=\"text-align: right;\">\n",
       "      <th></th>\n",
       "      <th>churn</th>\n",
       "      <th>total day calls</th>\n",
       "      <th>total eve calls</th>\n",
       "      <th>total night calls</th>\n",
       "    </tr>\n",
       "  </thead>\n",
       "  <tbody>\n",
       "    <tr>\n",
       "      <th>0</th>\n",
       "      <td>False</td>\n",
       "      <td>257381</td>\n",
       "      <td>256914</td>\n",
       "      <td>256550</td>\n",
       "    </tr>\n",
       "    <tr>\n",
       "      <th>1</th>\n",
       "      <td>True</td>\n",
       "      <td>43858</td>\n",
       "      <td>43849</td>\n",
       "      <td>43778</td>\n",
       "    </tr>\n",
       "  </tbody>\n",
       "</table>\n",
       "</div>"
      ],
      "text/plain": [
       "   churn  total day calls  total eve calls  total night calls\n",
       "0  False           257381           256914             256550\n",
       "1   True            43858            43849              43778"
      ]
     },
     "execution_count": 109,
     "metadata": {},
     "output_type": "execute_result"
    }
   ],
   "source": [
    "calls = df_calls.groupby('churn').sum()\n",
    "calls.reset_index()"
   ]
  },
  {
   "cell_type": "code",
   "execution_count": 226,
   "metadata": {},
   "outputs": [
    {
     "data": {
      "image/png": "[encoded data removed]",
      "text/plain": [
       "<Figure size 360x360 with 1 Axes>"
      ]
     },
     "metadata": {},
     "output_type": "display_data"
    }
   ],
   "source": [
    "sns.catplot(data=calls, orient=\"h\", kind=\"box\", palette='mako')\n",
    "plt.title('Calls at Different Times of Day')\n",
    "plt.xlabel('Number of Calls')\n",
    "plt.show()"
   ]
  },
  {
   "cell_type": "code",
   "execution_count": 294,
   "metadata": {},
   "outputs": [
    {
     "name": "stdout",
     "output_type": "stream",
     "text": [
      "Day Rate: 0.17\n",
      "Eve Rate: 0.08\n",
      "Night Rate: 0.04\n",
      "Intl Rate: 0.27\n"
     ]
    }
   ],
   "source": [
    "# What are the calling rates? (Checked mean and median and random ones... they're all the same)\n",
    "day_rate = (df_train['total day charge'] / df_train['total day minutes']).median()\n",
    "eve_rate = (df_train['total eve charge'] / df_train['total eve minutes']).median()\n",
    "night_rate = (df_train['total night charge'] / df_train['total night minutes']).median()\n",
    "intl_rate = (df_train['total intl charge'] / df_train['total intl minutes']).median()\n",
    "\n",
    "names = ['Day Rate', 'Eve Rate', 'Night Rate', 'Intl Rate']\n",
    "\n",
    "for name, rate in zip(names, [day_rate, eve_rate, night_rate, intl_rate]):\n",
    "    print(f'{name}:', round(rate, 2))"
   ]
  },
  {
   "cell_type": "code",
   "execution_count": 149,
   "metadata": {},
   "outputs": [],
   "source": [
    "df_intl = df_train.loc[df_train['international plan'] == 'yes']\n",
    "df_non_intl = df_train.loc[df_train['international plan'] == 'no']"
   ]
  },
  {
   "cell_type": "code",
   "execution_count": 297,
   "metadata": {},
   "outputs": [
    {
     "name": "stdout",
     "output_type": "stream",
     "text": [
      "0.27 0.27\n"
     ]
    }
   ],
   "source": [
    "intl_plan_rate = (df_intl['total intl charge'] / df_intl['total intl minutes']).median()\n",
    "non_intl_plan_rate = (df_non_intl['total intl charge'] / df_non_intl['total intl minutes']).median()\n",
    "print(intl_plan_rate, non_intl_plan_rate)\n",
    "# They are the same!"
   ]
  },
  {
   "cell_type": "code",
   "execution_count": 152,
   "metadata": {
    "scrolled": true
   },
   "outputs": [
    {
     "data": {
      "text/html": [
       "<div>\n",
       "<style scoped>\n",
       "    .dataframe tbody tr th:only-of-type {\n",
       "        vertical-align: middle;\n",
       "    }\n",
       "\n",
       "    .dataframe tbody tr th {\n",
       "        vertical-align: top;\n",
       "    }\n",
       "\n",
       "    .dataframe thead th {\n",
       "        text-align: right;\n",
       "    }\n",
       "</style>\n",
       "<table border=\"1\" class=\"dataframe\">\n",
       "  <thead>\n",
       "    <tr style=\"text-align: right;\">\n",
       "      <th></th>\n",
       "      <th>state</th>\n",
       "      <th>account length</th>\n",
       "      <th>area code</th>\n",
       "      <th>phone number</th>\n",
       "      <th>international plan</th>\n",
       "      <th>voice mail plan</th>\n",
       "      <th>number vmail messages</th>\n",
       "      <th>total day minutes</th>\n",
       "      <th>total day calls</th>\n",
       "      <th>total day charge</th>\n",
       "      <th>...</th>\n",
       "      <th>total eve calls</th>\n",
       "      <th>total eve charge</th>\n",
       "      <th>total night minutes</th>\n",
       "      <th>total night calls</th>\n",
       "      <th>total night charge</th>\n",
       "      <th>total intl minutes</th>\n",
       "      <th>total intl calls</th>\n",
       "      <th>total intl charge</th>\n",
       "      <th>customer service calls</th>\n",
       "      <th>churn</th>\n",
       "    </tr>\n",
       "  </thead>\n",
       "  <tbody>\n",
       "    <tr>\n",
       "      <th>2641</th>\n",
       "      <td>DC</td>\n",
       "      <td>68</td>\n",
       "      <td>415</td>\n",
       "      <td>398-2138</td>\n",
       "      <td>yes</td>\n",
       "      <td>yes</td>\n",
       "      <td>39</td>\n",
       "      <td>142.0</td>\n",
       "      <td>140</td>\n",
       "      <td>24.14</td>\n",
       "      <td>...</td>\n",
       "      <td>89</td>\n",
       "      <td>20.54</td>\n",
       "      <td>302.0</td>\n",
       "      <td>72</td>\n",
       "      <td>13.59</td>\n",
       "      <td>11.3</td>\n",
       "      <td>5</td>\n",
       "      <td>3.05</td>\n",
       "      <td>1</td>\n",
       "      <td>False</td>\n",
       "    </tr>\n",
       "    <tr>\n",
       "      <th>3209</th>\n",
       "      <td>OH</td>\n",
       "      <td>68</td>\n",
       "      <td>415</td>\n",
       "      <td>369-8574</td>\n",
       "      <td>yes</td>\n",
       "      <td>yes</td>\n",
       "      <td>24</td>\n",
       "      <td>125.7</td>\n",
       "      <td>92</td>\n",
       "      <td>21.37</td>\n",
       "      <td>...</td>\n",
       "      <td>98</td>\n",
       "      <td>23.45</td>\n",
       "      <td>214.5</td>\n",
       "      <td>108</td>\n",
       "      <td>9.65</td>\n",
       "      <td>14.2</td>\n",
       "      <td>6</td>\n",
       "      <td>3.83</td>\n",
       "      <td>3</td>\n",
       "      <td>True</td>\n",
       "    </tr>\n",
       "    <tr>\n",
       "      <th>1539</th>\n",
       "      <td>PA</td>\n",
       "      <td>128</td>\n",
       "      <td>408</td>\n",
       "      <td>353-6038</td>\n",
       "      <td>yes</td>\n",
       "      <td>no</td>\n",
       "      <td>0</td>\n",
       "      <td>245.2</td>\n",
       "      <td>112</td>\n",
       "      <td>41.68</td>\n",
       "      <td>...</td>\n",
       "      <td>101</td>\n",
       "      <td>8.63</td>\n",
       "      <td>152.3</td>\n",
       "      <td>116</td>\n",
       "      <td>6.85</td>\n",
       "      <td>10.7</td>\n",
       "      <td>5</td>\n",
       "      <td>2.89</td>\n",
       "      <td>0</td>\n",
       "      <td>False</td>\n",
       "    </tr>\n",
       "    <tr>\n",
       "      <th>2139</th>\n",
       "      <td>VA</td>\n",
       "      <td>92</td>\n",
       "      <td>510</td>\n",
       "      <td>411-2958</td>\n",
       "      <td>yes</td>\n",
       "      <td>no</td>\n",
       "      <td>0</td>\n",
       "      <td>252.3</td>\n",
       "      <td>120</td>\n",
       "      <td>42.89</td>\n",
       "      <td>...</td>\n",
       "      <td>112</td>\n",
       "      <td>17.60</td>\n",
       "      <td>284.6</td>\n",
       "      <td>95</td>\n",
       "      <td>12.81</td>\n",
       "      <td>12.0</td>\n",
       "      <td>5</td>\n",
       "      <td>3.24</td>\n",
       "      <td>3</td>\n",
       "      <td>True</td>\n",
       "    </tr>\n",
       "    <tr>\n",
       "      <th>716</th>\n",
       "      <td>GA</td>\n",
       "      <td>57</td>\n",
       "      <td>408</td>\n",
       "      <td>410-3782</td>\n",
       "      <td>yes</td>\n",
       "      <td>yes</td>\n",
       "      <td>30</td>\n",
       "      <td>234.5</td>\n",
       "      <td>130</td>\n",
       "      <td>39.87</td>\n",
       "      <td>...</td>\n",
       "      <td>116</td>\n",
       "      <td>16.59</td>\n",
       "      <td>268.8</td>\n",
       "      <td>94</td>\n",
       "      <td>12.10</td>\n",
       "      <td>11.4</td>\n",
       "      <td>4</td>\n",
       "      <td>3.08</td>\n",
       "      <td>2</td>\n",
       "      <td>False</td>\n",
       "    </tr>\n",
       "  </tbody>\n",
       "</table>\n",
       "<p>5 rows × 21 columns</p>\n",
       "</div>"
      ],
      "text/plain": [
       "     state  account length  area code phone number international plan  \\\n",
       "2641    DC              68        415     398-2138                yes   \n",
       "3209    OH              68        415     369-8574                yes   \n",
       "1539    PA             128        408     353-6038                yes   \n",
       "2139    VA              92        510     411-2958                yes   \n",
       "716     GA              57        408     410-3782                yes   \n",
       "\n",
       "     voice mail plan  number vmail messages  total day minutes  \\\n",
       "2641             yes                     39              142.0   \n",
       "3209             yes                     24              125.7   \n",
       "1539              no                      0              245.2   \n",
       "2139              no                      0              252.3   \n",
       "716              yes                     30              234.5   \n",
       "\n",
       "      total day calls  total day charge  ...  total eve calls  \\\n",
       "2641              140             24.14  ...               89   \n",
       "3209               92             21.37  ...               98   \n",
       "1539              112             41.68  ...              101   \n",
       "2139              120             42.89  ...              112   \n",
       "716               130             39.87  ...              116   \n",
       "\n",
       "      total eve charge  total night minutes  total night calls  \\\n",
       "2641             20.54                302.0                 72   \n",
       "3209             23.45                214.5                108   \n",
       "1539              8.63                152.3                116   \n",
       "2139             17.60                284.6                 95   \n",
       "716              16.59                268.8                 94   \n",
       "\n",
       "      total night charge  total intl minutes  total intl calls  \\\n",
       "2641               13.59                11.3                 5   \n",
       "3209                9.65                14.2                 6   \n",
       "1539                6.85                10.7                 5   \n",
       "2139               12.81                12.0                 5   \n",
       "716                12.10                11.4                 4   \n",
       "\n",
       "      total intl charge  customer service calls  churn  \n",
       "2641               3.05                       1  False  \n",
       "3209               3.83                       3   True  \n",
       "1539               2.89                       0  False  \n",
       "2139               3.24                       3   True  \n",
       "716                3.08                       2  False  \n",
       "\n",
       "[5 rows x 21 columns]"
      ]
     },
     "execution_count": 152,
     "metadata": {},
     "output_type": "execute_result"
    }
   ],
   "source": [
    "df_intl.head()"
   ]
  },
  {
   "cell_type": "code",
   "execution_count": 197,
   "metadata": {
    "scrolled": true
   },
   "outputs": [
    {
     "data": {
      "text/html": [
       "<div>\n",
       "<style scoped>\n",
       "    .dataframe tbody tr th:only-of-type {\n",
       "        vertical-align: middle;\n",
       "    }\n",
       "\n",
       "    .dataframe tbody tr th {\n",
       "        vertical-align: top;\n",
       "    }\n",
       "\n",
       "    .dataframe thead th {\n",
       "        text-align: right;\n",
       "    }\n",
       "</style>\n",
       "<table border=\"1\" class=\"dataframe\">\n",
       "  <thead>\n",
       "    <tr style=\"text-align: right;\">\n",
       "      <th></th>\n",
       "      <th>churn</th>\n",
       "    </tr>\n",
       "  </thead>\n",
       "  <tbody>\n",
       "    <tr>\n",
       "      <th>False</th>\n",
       "      <td>0.55477</td>\n",
       "    </tr>\n",
       "    <tr>\n",
       "      <th>True</th>\n",
       "      <td>0.44523</td>\n",
       "    </tr>\n",
       "  </tbody>\n",
       "</table>\n",
       "</div>"
      ],
      "text/plain": [
       "         churn\n",
       "False  0.55477\n",
       "True   0.44523"
      ]
     },
     "metadata": {},
     "output_type": "display_data"
    },
    {
     "data": {
      "text/html": [
       "<div>\n",
       "<style scoped>\n",
       "    .dataframe tbody tr th:only-of-type {\n",
       "        vertical-align: middle;\n",
       "    }\n",
       "\n",
       "    .dataframe tbody tr th {\n",
       "        vertical-align: top;\n",
       "    }\n",
       "\n",
       "    .dataframe thead th {\n",
       "        text-align: right;\n",
       "    }\n",
       "</style>\n",
       "<table border=\"1\" class=\"dataframe\">\n",
       "  <thead>\n",
       "    <tr style=\"text-align: right;\">\n",
       "      <th></th>\n",
       "      <th>churn</th>\n",
       "    </tr>\n",
       "  </thead>\n",
       "  <tbody>\n",
       "    <tr>\n",
       "      <th>False</th>\n",
       "      <td>0.88623</td>\n",
       "    </tr>\n",
       "    <tr>\n",
       "      <th>True</th>\n",
       "      <td>0.11377</td>\n",
       "    </tr>\n",
       "  </tbody>\n",
       "</table>\n",
       "</div>"
      ],
      "text/plain": [
       "         churn\n",
       "False  0.88623\n",
       "True   0.11377"
      ]
     },
     "metadata": {},
     "output_type": "display_data"
    }
   ],
   "source": [
    "intl_churn = pd.DataFrame(df_intl['churn'].value_counts(normalize=True), columns=['churn'])\n",
    "non_intl_churn = pd.DataFrame(df_non_intl['churn'].value_counts(normalize=True), columns=['churn'])\n",
    "\n",
    "display(intl_churn)\n",
    "display(non_intl_churn)"
   ]
  },
  {
   "cell_type": "code",
   "execution_count": 229,
   "metadata": {},
   "outputs": [
    {
     "data": {
      "image/png": "[encoded data removed]",
      "text/plain": [
       "<Figure size 720x360 with 2 Axes>"
      ]
     },
     "metadata": {},
     "output_type": "display_data"
    }
   ],
   "source": [
    "f, axes = plt.subplots(1, 2, figsize=(10, 5), sharey=True)\n",
    "sns.barplot(x=['False', 'True'], y='churn', data=intl_churn, ax=axes[0], palette='Blues')\n",
    "sns.barplot(x=['False', 'True'], y='churn', data=non_intl_churn, ax=axes[1], palette='Blues')\n",
    "axes[0].set_title('International Plan: Yes')\n",
    "axes[1].set_title('International Plan: No')\n",
    "axes[0].set_ylabel('Percentage Churned')\n",
    "axes[1].set_ylabel('Percentage Churned')\n",
    "plt.ylim(0,1)\n",
    "plt.tight_layout()\n",
    "plt.show()"
   ]
  },
  {
   "cell_type": "code",
   "execution_count": 155,
   "metadata": {},
   "outputs": [
    {
     "data": {
      "text/plain": [
       "international plan\n",
       "no     4.461708\n",
       "yes    4.590106\n",
       "Name: total intl calls, dtype: float64"
      ]
     },
     "execution_count": 155,
     "metadata": {},
     "output_type": "execute_result"
    }
   ],
   "source": [
    "df_train.groupby('international plan')['total intl calls'].mean()"
   ]
  },
  {
   "cell_type": "code",
   "execution_count": 215,
   "metadata": {
    "scrolled": true
   },
   "outputs": [
    {
     "data": {
      "text/plain": [
       "international plan\n",
       "no     2.748549\n",
       "yes    2.891696\n",
       "Name: total intl charge, dtype: float64"
      ]
     },
     "execution_count": 215,
     "metadata": {},
     "output_type": "execute_result"
    }
   ],
   "source": [
    "df_train.groupby('international plan')['total intl charge'].mean()\n",
    "# Whether or not people have an international plan, they still average the same number of total intl calls and charges"
   ]
  },
  {
   "cell_type": "code",
   "execution_count": 234,
   "metadata": {},
   "outputs": [],
   "source": [
    "# Create functions to create new features so we can use them later in a pipeline \n",
    "def create_total_calls_column(df):\n",
    "    \n",
    "    \"\"\"\n",
    "    creates a column of the total customer calls, excluding customer service calls\n",
    "    returns the df with new column\n",
    "    \"\"\"\n",
    "    \n",
    "    df['total calls'] = df['total day calls'] + df['total eve calls'] + df['total night calls'] + df['total intl calls']\n",
    "    return df\n",
    "\n",
    "def create_minutes_per_intl_call(df):\n",
    "    \n",
    "    \"\"\"\n",
    "    creates a column of the average length (in minutes) per international call \n",
    "    returns the df with new column\n",
    "    \"\"\"\n",
    "    \n",
    "    df['avg minutes per intl call'] = df['total intl minutes'] / df['total intl calls']\n",
    "    return df"
   ]
  },
  {
   "cell_type": "code",
   "execution_count": 235,
   "metadata": {},
   "outputs": [
    {
     "name": "stderr",
     "output_type": "stream",
     "text": [
      "/Users/jordanrjohnson/opt/anaconda3/envs/learn-env/lib/python3.6/site-packages/ipykernel_launcher.py:19: SettingWithCopyWarning: \n",
      "A value is trying to be set on a copy of a slice from a DataFrame.\n",
      "Try using .loc[row_indexer,col_indexer] = value instead\n",
      "\n",
      "See the caveats in the documentation: http://pandas.pydata.org/pandas-docs/stable/user_guide/indexing.html#returning-a-view-versus-a-copy\n",
      "/Users/jordanrjohnson/opt/anaconda3/envs/learn-env/lib/python3.6/site-packages/ipykernel_launcher.py:9: SettingWithCopyWarning: \n",
      "A value is trying to be set on a copy of a slice from a DataFrame.\n",
      "Try using .loc[row_indexer,col_indexer] = value instead\n",
      "\n",
      "See the caveats in the documentation: http://pandas.pydata.org/pandas-docs/stable/user_guide/indexing.html#returning-a-view-versus-a-copy\n",
      "  if __name__ == '__main__':\n"
     ]
    }
   ],
   "source": [
    "# Create 2 new features on the training data set\n",
    "df_train = create_minutes_per_intl_call(df_train)\n",
    "df_train = create_total_calls_column(df_train)"
   ]
  },
  {
   "cell_type": "code",
   "execution_count": 236,
   "metadata": {},
   "outputs": [
    {
     "data": {
      "text/html": [
       "<div>\n",
       "<style scoped>\n",
       "    .dataframe tbody tr th:only-of-type {\n",
       "        vertical-align: middle;\n",
       "    }\n",
       "\n",
       "    .dataframe tbody tr th {\n",
       "        vertical-align: top;\n",
       "    }\n",
       "\n",
       "    .dataframe thead th {\n",
       "        text-align: right;\n",
       "    }\n",
       "</style>\n",
       "<table border=\"1\" class=\"dataframe\">\n",
       "  <thead>\n",
       "    <tr style=\"text-align: right;\">\n",
       "      <th></th>\n",
       "      <th>state</th>\n",
       "      <th>account length</th>\n",
       "      <th>area code</th>\n",
       "      <th>phone number</th>\n",
       "      <th>international plan</th>\n",
       "      <th>voice mail plan</th>\n",
       "      <th>number vmail messages</th>\n",
       "      <th>total day minutes</th>\n",
       "      <th>total day calls</th>\n",
       "      <th>total day charge</th>\n",
       "      <th>...</th>\n",
       "      <th>total night minutes</th>\n",
       "      <th>total night calls</th>\n",
       "      <th>total night charge</th>\n",
       "      <th>total intl minutes</th>\n",
       "      <th>total intl calls</th>\n",
       "      <th>total intl charge</th>\n",
       "      <th>customer service calls</th>\n",
       "      <th>churn</th>\n",
       "      <th>avg minutes per intl call</th>\n",
       "      <th>total calls</th>\n",
       "    </tr>\n",
       "  </thead>\n",
       "  <tbody>\n",
       "    <tr>\n",
       "      <th>2325</th>\n",
       "      <td>UT</td>\n",
       "      <td>110</td>\n",
       "      <td>415</td>\n",
       "      <td>375-3826</td>\n",
       "      <td>no</td>\n",
       "      <td>no</td>\n",
       "      <td>0</td>\n",
       "      <td>271.1</td>\n",
       "      <td>108</td>\n",
       "      <td>46.09</td>\n",
       "      <td>...</td>\n",
       "      <td>239.9</td>\n",
       "      <td>122</td>\n",
       "      <td>10.80</td>\n",
       "      <td>9.8</td>\n",
       "      <td>5</td>\n",
       "      <td>2.65</td>\n",
       "      <td>2</td>\n",
       "      <td>True</td>\n",
       "      <td>1.960000</td>\n",
       "      <td>357</td>\n",
       "    </tr>\n",
       "    <tr>\n",
       "      <th>1858</th>\n",
       "      <td>DE</td>\n",
       "      <td>133</td>\n",
       "      <td>510</td>\n",
       "      <td>333-2906</td>\n",
       "      <td>no</td>\n",
       "      <td>no</td>\n",
       "      <td>0</td>\n",
       "      <td>245.8</td>\n",
       "      <td>102</td>\n",
       "      <td>41.79</td>\n",
       "      <td>...</td>\n",
       "      <td>111.7</td>\n",
       "      <td>103</td>\n",
       "      <td>5.03</td>\n",
       "      <td>11.2</td>\n",
       "      <td>7</td>\n",
       "      <td>3.02</td>\n",
       "      <td>0</td>\n",
       "      <td>False</td>\n",
       "      <td>1.600000</td>\n",
       "      <td>302</td>\n",
       "    </tr>\n",
       "    <tr>\n",
       "      <th>873</th>\n",
       "      <td>MA</td>\n",
       "      <td>160</td>\n",
       "      <td>408</td>\n",
       "      <td>387-3332</td>\n",
       "      <td>no</td>\n",
       "      <td>no</td>\n",
       "      <td>0</td>\n",
       "      <td>166.8</td>\n",
       "      <td>109</td>\n",
       "      <td>28.36</td>\n",
       "      <td>...</td>\n",
       "      <td>307.6</td>\n",
       "      <td>77</td>\n",
       "      <td>13.84</td>\n",
       "      <td>9.3</td>\n",
       "      <td>1</td>\n",
       "      <td>2.51</td>\n",
       "      <td>1</td>\n",
       "      <td>False</td>\n",
       "      <td>9.300000</td>\n",
       "      <td>304</td>\n",
       "    </tr>\n",
       "    <tr>\n",
       "      <th>513</th>\n",
       "      <td>DE</td>\n",
       "      <td>30</td>\n",
       "      <td>415</td>\n",
       "      <td>349-4703</td>\n",
       "      <td>no</td>\n",
       "      <td>yes</td>\n",
       "      <td>30</td>\n",
       "      <td>217.4</td>\n",
       "      <td>74</td>\n",
       "      <td>36.96</td>\n",
       "      <td>...</td>\n",
       "      <td>227.2</td>\n",
       "      <td>104</td>\n",
       "      <td>10.22</td>\n",
       "      <td>6.6</td>\n",
       "      <td>3</td>\n",
       "      <td>1.78</td>\n",
       "      <td>0</td>\n",
       "      <td>False</td>\n",
       "      <td>2.200000</td>\n",
       "      <td>267</td>\n",
       "    </tr>\n",
       "    <tr>\n",
       "      <th>1671</th>\n",
       "      <td>VA</td>\n",
       "      <td>84</td>\n",
       "      <td>415</td>\n",
       "      <td>372-1534</td>\n",
       "      <td>no</td>\n",
       "      <td>no</td>\n",
       "      <td>0</td>\n",
       "      <td>130.2</td>\n",
       "      <td>105</td>\n",
       "      <td>22.13</td>\n",
       "      <td>...</td>\n",
       "      <td>305.4</td>\n",
       "      <td>74</td>\n",
       "      <td>13.74</td>\n",
       "      <td>14.0</td>\n",
       "      <td>6</td>\n",
       "      <td>3.78</td>\n",
       "      <td>2</td>\n",
       "      <td>False</td>\n",
       "      <td>2.333333</td>\n",
       "      <td>245</td>\n",
       "    </tr>\n",
       "  </tbody>\n",
       "</table>\n",
       "<p>5 rows × 23 columns</p>\n",
       "</div>"
      ],
      "text/plain": [
       "     state  account length  area code phone number international plan  \\\n",
       "2325    UT             110        415     375-3826                 no   \n",
       "1858    DE             133        510     333-2906                 no   \n",
       "873     MA             160        408     387-3332                 no   \n",
       "513     DE              30        415     349-4703                 no   \n",
       "1671    VA              84        415     372-1534                 no   \n",
       "\n",
       "     voice mail plan  number vmail messages  total day minutes  \\\n",
       "2325              no                      0              271.1   \n",
       "1858              no                      0              245.8   \n",
       "873               no                      0              166.8   \n",
       "513              yes                     30              217.4   \n",
       "1671              no                      0              130.2   \n",
       "\n",
       "      total day calls  total day charge  ...  total night minutes  \\\n",
       "2325              108             46.09  ...                239.9   \n",
       "1858              102             41.79  ...                111.7   \n",
       "873               109             28.36  ...                307.6   \n",
       "513                74             36.96  ...                227.2   \n",
       "1671              105             22.13  ...                305.4   \n",
       "\n",
       "      total night calls  total night charge  total intl minutes  \\\n",
       "2325                122               10.80                 9.8   \n",
       "1858                103                5.03                11.2   \n",
       "873                  77               13.84                 9.3   \n",
       "513                 104               10.22                 6.6   \n",
       "1671                 74               13.74                14.0   \n",
       "\n",
       "      total intl calls  total intl charge  customer service calls  churn  \\\n",
       "2325                 5               2.65                       2   True   \n",
       "1858                 7               3.02                       0  False   \n",
       "873                  1               2.51                       1  False   \n",
       "513                  3               1.78                       0  False   \n",
       "1671                 6               3.78                       2  False   \n",
       "\n",
       "      avg minutes per intl call  total calls  \n",
       "2325                   1.960000          357  \n",
       "1858                   1.600000          302  \n",
       "873                    9.300000          304  \n",
       "513                    2.200000          267  \n",
       "1671                   2.333333          245  \n",
       "\n",
       "[5 rows x 23 columns]"
      ]
     },
     "execution_count": 236,
     "metadata": {},
     "output_type": "execute_result"
    }
   ],
   "source": [
    "df_train.head()"
   ]
  },
  {
   "cell_type": "code",
   "execution_count": 225,
   "metadata": {
    "scrolled": true
   },
   "outputs": [
    {
     "data": {
      "image/png": "[encoded data removed]",
      "text/plain": [
       "<Figure size 432x432 with 3 Axes>"
      ]
     },
     "metadata": {},
     "output_type": "display_data"
    }
   ],
   "source": [
    "sns.jointplot(x=df_intl[\"total intl minutes\"], y=df_intl[\"total intl calls\"], kind='kde', color=\"skyblue\")\n",
    "plt.title('Total Intl Calls vs Total Intl Minutes', loc='left')\n",
    "plt.show()\n",
    "# This tells us that most of the intl calls are relatively short (2-4 mins long)"
   ]
  },
  {
   "cell_type": "code",
   "execution_count": 241,
   "metadata": {},
   "outputs": [
    {
     "data": {
      "image/png": "[encoded data removed]",
      "text/plain": [
       "<Figure size 432x288 with 1 Axes>"
      ]
     },
     "metadata": {},
     "output_type": "display_data"
    }
   ],
   "source": [
    "sns.distplot(df_train['avg minutes per intl call'])\n",
    "plt.title('Distribution of Average Length of International Calls')\n",
    "plt.show()"
   ]
  },
  {
   "cell_type": "code",
   "execution_count": 271,
   "metadata": {},
   "outputs": [],
   "source": [
    "stacked_bar_data = df_train.groupby('churn').sum().reset_index()"
   ]
  },
  {
   "cell_type": "code",
   "execution_count": 272,
   "metadata": {},
   "outputs": [
    {
     "data": {
      "text/html": [
       "<div>\n",
       "<style scoped>\n",
       "    .dataframe tbody tr th:only-of-type {\n",
       "        vertical-align: middle;\n",
       "    }\n",
       "\n",
       "    .dataframe tbody tr th {\n",
       "        vertical-align: top;\n",
       "    }\n",
       "\n",
       "    .dataframe thead th {\n",
       "        text-align: right;\n",
       "    }\n",
       "</style>\n",
       "<table border=\"1\" class=\"dataframe\">\n",
       "  <thead>\n",
       "    <tr style=\"text-align: right;\">\n",
       "      <th></th>\n",
       "      <th>churn</th>\n",
       "      <th>account length</th>\n",
       "      <th>area code</th>\n",
       "      <th>number vmail messages</th>\n",
       "      <th>total day minutes</th>\n",
       "      <th>total day calls</th>\n",
       "      <th>total day charge</th>\n",
       "      <th>total eve minutes</th>\n",
       "      <th>total eve calls</th>\n",
       "      <th>total eve charge</th>\n",
       "      <th>total night minutes</th>\n",
       "      <th>total night calls</th>\n",
       "      <th>total night charge</th>\n",
       "      <th>total intl minutes</th>\n",
       "      <th>total intl calls</th>\n",
       "      <th>total intl charge</th>\n",
       "      <th>customer service calls</th>\n",
       "      <th>avg minutes per intl call</th>\n",
       "      <th>total calls</th>\n",
       "    </tr>\n",
       "  </thead>\n",
       "  <tbody>\n",
       "    <tr>\n",
       "      <th>0</th>\n",
       "      <td>False</td>\n",
       "      <td>259351</td>\n",
       "      <td>1121084</td>\n",
       "      <td>21961</td>\n",
       "      <td>448629.0</td>\n",
       "      <td>257381</td>\n",
       "      <td>76268.4</td>\n",
       "      <td>510827.3</td>\n",
       "      <td>256914</td>\n",
       "      <td>43420.98</td>\n",
       "      <td>514980.5</td>\n",
       "      <td>256550</td>\n",
       "      <td>23174.40</td>\n",
       "      <td>25996.0</td>\n",
       "      <td>11623</td>\n",
       "      <td>7020.18</td>\n",
       "      <td>3711</td>\n",
       "      <td>7717.210369</td>\n",
       "      <td>782468</td>\n",
       "    </tr>\n",
       "    <tr>\n",
       "      <th>1</th>\n",
       "      <td>True</td>\n",
       "      <td>44595</td>\n",
       "      <td>190986</td>\n",
       "      <td>2377</td>\n",
       "      <td>89489.1</td>\n",
       "      <td>43858</td>\n",
       "      <td>15213.4</td>\n",
       "      <td>92140.6</td>\n",
       "      <td>43849</td>\n",
       "      <td>7831.97</td>\n",
       "      <td>88943.2</td>\n",
       "      <td>43778</td>\n",
       "      <td>4002.48</td>\n",
       "      <td>4677.8</td>\n",
       "      <td>1794</td>\n",
       "      <td>1263.23</td>\n",
       "      <td>976</td>\n",
       "      <td>1566.541965</td>\n",
       "      <td>133279</td>\n",
       "    </tr>\n",
       "  </tbody>\n",
       "</table>\n",
       "</div>"
      ],
      "text/plain": [
       "   churn  account length  area code  number vmail messages  total day minutes  \\\n",
       "0  False          259351    1121084                  21961           448629.0   \n",
       "1   True           44595     190986                   2377            89489.1   \n",
       "\n",
       "   total day calls  total day charge  total eve minutes  total eve calls  \\\n",
       "0           257381           76268.4           510827.3           256914   \n",
       "1            43858           15213.4            92140.6            43849   \n",
       "\n",
       "   total eve charge  total night minutes  total night calls  \\\n",
       "0          43420.98             514980.5             256550   \n",
       "1           7831.97              88943.2              43778   \n",
       "\n",
       "   total night charge  total intl minutes  total intl calls  \\\n",
       "0            23174.40             25996.0             11623   \n",
       "1             4002.48              4677.8              1794   \n",
       "\n",
       "   total intl charge  customer service calls  avg minutes per intl call  \\\n",
       "0            7020.18                    3711                7717.210369   \n",
       "1            1263.23                     976                1566.541965   \n",
       "\n",
       "   total calls  \n",
       "0       782468  \n",
       "1       133279  "
      ]
     },
     "execution_count": 272,
     "metadata": {},
     "output_type": "execute_result"
    }
   ],
   "source": [
    "stacked_bar_data"
   ]
  },
  {
   "cell_type": "code",
   "execution_count": 399,
   "metadata": {
    "scrolled": true
   },
   "outputs": [
    {
     "data": {
      "image/png": "[encoded data removed]",
      "text/plain": [
       "<Figure size 720x576 with 1 Axes>"
      ]
     },
     "metadata": {},
     "output_type": "display_data"
    }
   ],
   "source": [
    "# Create an awesome stacked bar graph of all calls\n",
    "r = stacked_bar_data['churn']\n",
    " \n",
    "# From raw value to percentage\n",
    "totals = stacked_bar_data['total calls']\n",
    "DayBars = stacked_bar_data['total day calls']\n",
    "EveBars = stacked_bar_data['total eve calls']\n",
    "NightBars = stacked_bar_data['total night calls']\n",
    "IntlBars = stacked_bar_data['total intl calls']\n",
    "\n",
    "# plot\n",
    "plt.figure(figsize=(10,8))\n",
    "names = ('False', 'True')\n",
    "barWidth = 0.85\n",
    "# Create Day Bars\n",
    "plt.bar(r, DayBars, color='#1b667e', edgecolor='white', width=barWidth, label='Day Calls')\n",
    "# Create Eve Bars\n",
    "plt.bar(r, EveBars, bottom=DayBars, color='#548ea3', edgecolor='white', width=barWidth, label='Eve Calls')\n",
    "# Create Night Bars\n",
    "plt.bar(r, NightBars, bottom=[i+j for i,j in zip(DayBars, EveBars)], color='#45b4d4', edgecolor='white', width=barWidth, label='Night Bars')\n",
    "# Create Intl Bars\n",
    "plt.bar(r, IntlBars, bottom=[i+j+k for i,j,k in zip(DayBars, EveBars, NightBars)], color='#99d6e6', edgecolor='white', width=barWidth, label='Intl Bars')\n",
    " \n",
    "plt.xticks(r, names, fontsize=11)\n",
    "plt.xlabel('Churn', fontsize=12)\n",
    "plt.ylabel('Number of Calls', fontsize=12)\n",
    "plt.title('Breakdown of Total Calls & Churn', fontsize=14)\n",
    "plt.legend(loc=1, fontsize='large')\n",
    "\n",
    "# Show graphic\n",
    "plt.show()"
   ]
  },
  {
   "cell_type": "code",
   "execution_count": 402,
   "metadata": {},
   "outputs": [
    {
     "data": {
      "image/png": "[encoded data removed]",
      "text/plain": [
       "<Figure size 720x576 with 1 Axes>"
      ]
     },
     "metadata": {},
     "output_type": "display_data"
    }
   ],
   "source": [
    "# Create an awesome stacked bar graph of all calls\n",
    "r = stacked_bar_data['churn']\n",
    " \n",
    "# From raw value to percentage\n",
    "totals = stacked_bar_data['total calls']\n",
    "DayBars = stacked_bar_data['total day calls'] / totals\n",
    "EveBars = stacked_bar_data['total eve calls'] / totals\n",
    "NightBars = stacked_bar_data['total night calls'] / totals\n",
    "IntlBars = stacked_bar_data['total intl calls'] / totals\n",
    "\n",
    "# plot\n",
    "plt.figure(figsize=(10,8))\n",
    "names = ('False', 'True')\n",
    "barWidth = 0.85\n",
    "# Create Day Bars\n",
    "plt.bar(r, DayBars, color='#1b667e', edgecolor='white', width=barWidth, label='Day Calls')\n",
    "# Create Eve Bars\n",
    "plt.bar(r, EveBars, bottom=DayBars, color='#548ea3', edgecolor='white', width=barWidth, label='Eve Calls')\n",
    "# Create Night Bars\n",
    "plt.bar(r, NightBars, bottom=[i+j for i,j in zip(DayBars, EveBars)], color='#45b4d4', edgecolor='white', width=barWidth, label='Night Bars')\n",
    "# Create Intl Bars\n",
    "plt.bar(r, IntlBars, bottom=[i+j+k for i,j,k in zip(DayBars, EveBars, NightBars)], color='#99d6e6', edgecolor='white', width=barWidth, label='Intl Bars')\n",
    " \n",
    "plt.xticks(r, names, fontsize=11)\n",
    "plt.xlabel('Churn', fontsize=12)\n",
    "plt.ylabel('Percentage', fontsize=12)\n",
    "plt.title('Breakdown of Total Calls & Churn', fontsize=14)\n",
    "plt.legend(loc=7, fontsize='large')\n",
    "\n",
    "# Show graphic\n",
    "plt.show()"
   ]
  },
  {
   "cell_type": "markdown",
   "metadata": {},
   "source": [
    "### Findings & Recommendations\n",
    "\n",
    "It is clear that the customers who churned and those that did not churn had almost exactly the same usage across day, eve, night and international calls. The rates for international minutes are the same regardless of whether the customer has an international plan or not (27 cents per minute). It is also interesting to note that the percentage of customers who churned was higher for customers with international plans than for customers without international plans. Because of this similar charge for international calls, it is possible that the customers who had an international plan and churned did not feel that paying for the international plan was worth it.\n",
    "\n",
    "**Recommendations:**\n",
    "\n",
    "Based on these findings, I recommend changing the rates for international minutes. If a customer has an international plan, they should have cheaper rates for international calls than a customer without an international plan."
   ]
  },
  {
   "cell_type": "markdown",
   "metadata": {},
   "source": [
    "## Question 3: Are customers in certain areas more likely to churn?"
   ]
  },
  {
   "cell_type": "code",
   "execution_count": 300,
   "metadata": {},
   "outputs": [
    {
     "data": {
      "text/plain": [
       "array(['UT', 'DE', 'MA', 'VA', 'DC', 'NC', 'AL', 'MT', 'ID', 'FL', 'OH',\n",
       "       'ME', 'SC', 'PA', 'CT', 'AK', 'TX', 'CO', 'WA', 'MI', 'GA', 'VT',\n",
       "       'MN', 'NH', 'KS', 'NY', 'IA', 'MD', 'NM', 'HI', 'MS', 'WV', 'OK',\n",
       "       'RI', 'IN', 'AZ', 'IL', 'LA', 'AR', 'WI', 'SD', 'NV', 'MO', 'NJ',\n",
       "       'OR', 'NE', 'ND', 'WY', 'KY', 'TN', 'CA'], dtype=object)"
      ]
     },
     "metadata": {},
     "output_type": "display_data"
    },
    {
     "data": {
      "text/plain": [
       "array([415, 510, 408])"
      ]
     },
     "metadata": {},
     "output_type": "display_data"
    }
   ],
   "source": [
    "# Obviously this doesn't tell us much if there are only 3 area codes across 51 states\n",
    "# We are better off using states\n",
    "display(df_train['state'].unique())\n",
    "display(df_train['area code'].unique())"
   ]
  },
  {
   "cell_type": "code",
   "execution_count": 362,
   "metadata": {
    "scrolled": true
   },
   "outputs": [],
   "source": [
    "churn_by_state = df_train.groupby('state')['churn'].value_counts(normalize=True)\n",
    "churn_by_state = pd.DataFrame(churn_by_state)\n",
    "churn_by_state.columns = ['value']\n",
    "churn_by_state = churn_by_state.reset_index()"
   ]
  },
  {
   "cell_type": "code",
   "execution_count": 403,
   "metadata": {},
   "outputs": [
    {
     "data": {
      "image/png": "[encoded data removed]",
      "text/plain": [
       "<Figure size 1860.62x720 with 1 Axes>"
      ]
     },
     "metadata": {},
     "output_type": "display_data"
    }
   ],
   "source": [
    "sns.catplot(data=churn_by_state, kind='bar',\n",
    "            x='state', y='value', hue='churn',\n",
    "            palette='mako', alpha=.6, height=10, aspect=2.5)\n",
    "\n",
    "plt.title('Churn By State', fontsize=20)\n",
    "plt.ylabel('Percentage of Customers', fontsize=16)\n",
    "plt.xlabel('State', fontsize=16)\n",
    "plt.legend(loc=(1, .8), fontsize=20)\n",
    "\n",
    "# hlines on highest and lowest churns\n",
    "plt.hlines(y=.31, xmin=0, xmax=51, color='gray')\n",
    "plt.hlines(y=.045, xmin=0, xmax=51, color='gray')\n",
    "\n",
    "# annotate highest and lowest churns\n",
    "plt.annotate('Highest Churn Percentage: CA', xy=(51, .31), xytext=(51, .33),\n",
    "            arrowprops=dict(facecolor='black', arrowstyle='simple'))\n",
    "plt.annotate('Lowest Churn Percentages: HI, IA', xy=(51, .045), xytext=(51, .06),\n",
    "            arrowprops=dict(facecolor='black', arrowstyle='simple'))\n",
    "plt.show()"
   ]
  },
  {
   "cell_type": "code",
   "execution_count": 388,
   "metadata": {
    "scrolled": true
   },
   "outputs": [
    {
     "data": {
      "text/html": [
       "<div>\n",
       "<style scoped>\n",
       "    .dataframe tbody tr th:only-of-type {\n",
       "        vertical-align: middle;\n",
       "    }\n",
       "\n",
       "    .dataframe tbody tr th {\n",
       "        vertical-align: top;\n",
       "    }\n",
       "\n",
       "    .dataframe thead th {\n",
       "        text-align: right;\n",
       "    }\n",
       "</style>\n",
       "<table border=\"1\" class=\"dataframe\">\n",
       "  <thead>\n",
       "    <tr style=\"text-align: right;\">\n",
       "      <th></th>\n",
       "      <th>state</th>\n",
       "      <th>churn</th>\n",
       "      <th>value</th>\n",
       "    </tr>\n",
       "  </thead>\n",
       "  <tbody>\n",
       "    <tr>\n",
       "      <th>9</th>\n",
       "      <td>CA</td>\n",
       "      <td>True</td>\n",
       "      <td>0.310345</td>\n",
       "    </tr>\n",
       "  </tbody>\n",
       "</table>\n",
       "</div>"
      ],
      "text/plain": [
       "  state  churn     value\n",
       "9    CA   True  0.310345"
      ]
     },
     "execution_count": 388,
     "metadata": {},
     "output_type": "execute_result"
    }
   ],
   "source": [
    "churn_by_state.loc[(churn_by_state['value'] > .3) & (churn_by_state['churn'] == True)]"
   ]
  },
  {
   "cell_type": "code",
   "execution_count": 384,
   "metadata": {},
   "outputs": [
    {
     "data": {
      "text/html": [
       "<div>\n",
       "<style scoped>\n",
       "    .dataframe tbody tr th:only-of-type {\n",
       "        vertical-align: middle;\n",
       "    }\n",
       "\n",
       "    .dataframe tbody tr th {\n",
       "        vertical-align: top;\n",
       "    }\n",
       "\n",
       "    .dataframe thead th {\n",
       "        text-align: right;\n",
       "    }\n",
       "</style>\n",
       "<table border=\"1\" class=\"dataframe\">\n",
       "  <thead>\n",
       "    <tr style=\"text-align: right;\">\n",
       "      <th></th>\n",
       "      <th>state</th>\n",
       "      <th>churn</th>\n",
       "      <th>value</th>\n",
       "    </tr>\n",
       "  </thead>\n",
       "  <tbody>\n",
       "    <tr>\n",
       "      <th>23</th>\n",
       "      <td>HI</td>\n",
       "      <td>True</td>\n",
       "      <td>0.045455</td>\n",
       "    </tr>\n",
       "    <tr>\n",
       "      <th>25</th>\n",
       "      <td>IA</td>\n",
       "      <td>True</td>\n",
       "      <td>0.050000</td>\n",
       "    </tr>\n",
       "  </tbody>\n",
       "</table>\n",
       "</div>"
      ],
      "text/plain": [
       "   state  churn     value\n",
       "23    HI   True  0.045455\n",
       "25    IA   True  0.050000"
      ]
     },
     "execution_count": 384,
     "metadata": {},
     "output_type": "execute_result"
    }
   ],
   "source": [
    "churn_by_state.loc[churn_by_state['value'] <= .05]"
   ]
  },
  {
   "cell_type": "code",
   "execution_count": 389,
   "metadata": {},
   "outputs": [],
   "source": [
    "lowest_churn_percent = churn_by_state.loc[churn_by_state['value'] <= .05]\n",
    "highest_churn_percent = churn_by_state.loc[(churn_by_state['value'] > .3) & (churn_by_state['churn'] == True)]"
   ]
  },
  {
   "cell_type": "code",
   "execution_count": 408,
   "metadata": {},
   "outputs": [],
   "source": [
    "churn_choropleth = churn_by_state.loc[churn_by_state['churn']==True]"
   ]
  },
  {
   "cell_type": "code",
   "execution_count": 413,
   "metadata": {},
   "outputs": [
    {
     "data": {
      "application/vnd.plotly.v1+json": {
       "config": {
        "plotlyServerURL": "https://plot.ly"
       },
       "data": [
        {
         "coloraxis": "coloraxis",
         "geo": "geo",
         "hoverlabel": {
          "namelength": 0
         },
         "hovertemplate": "state=%{location}<br>value=%{z}",
         "locationmode": "USA-states",
         "locations": [
          "AK",
          "AL",
          "AR",
          "AZ",
          "CA",
          "CO",
          "CT",
          "DC",
          "DE",
          "FL",
          "GA",
          "HI",
          "IA",
          "ID",
          "IL",
          "IN",
          "KS",
          "KY",
          "LA",
          "MA",
          "MD",
          "ME",
          "MI",
          "MN",
          "MO",
          "MS",
          "MT",
          "NC",
          "ND",
          "NE",
          "NH",
          "NJ",
          "NM",
          "NV",
          "NY",
          "OH",
          "OK",
          "OR",
          "PA",
          "RI",
          "SC",
          "SD",
          "TN",
          "TX",
          "UT",
          "VA",
          "VT",
          "WA",
          "WI",
          "WV",
          "WY"
         ],
         "name": "",
         "type": "choropleth",
         "z": [
          0.06382978723404255,
          0.09722222222222222,
          0.21568627450980393,
          0.06896551724137931,
          0.3103448275862069,
          0.13333333333333333,
          0.13846153846153847,
          0.08333333333333333,
          0.15789473684210525,
          0.14814814814814814,
          0.1568627450980392,
          0.045454545454545456,
          0.05,
          0.13043478260869565,
          0.09433962264150944,
          0.1044776119402985,
          0.21666666666666667,
          0.1509433962264151,
          0.09523809523809523,
          0.18333333333333332,
          0.23809523809523808,
          0.20754716981132076,
          0.21212121212121213,
          0.1794871794871795,
          0.1,
          0.22033898305084745,
          0.2,
          0.15384615384615385,
          0.09433962264150944,
          0.09259259259259259,
          0.16666666666666666,
          0.25806451612903225,
          0.10526315789473684,
          0.21212121212121213,
          0.2112676056338028,
          0.09523809523809523,
          0.16,
          0.13846153846153847,
          0.19047619047619047,
          0.1016949152542373,
          0.24561403508771928,
          0.14545454545454545,
          0.10416666666666667,
          0.23076923076923078,
          0.1111111111111111,
          0.05970149253731343,
          0.07575757575757576,
          0.19672131147540983,
          0.08571428571428572,
          0.08247422680412371,
          0.11267605633802817
         ]
        }
       ],
       "layout": {
        "coloraxis": {
         "colorbar": {
          "title": {
           "text": "value"
          }
         },
         "colorscale": [
          [
           0,
           "rgb(247,251,255)"
          ],
          [
           0.125,
           "rgb(222,235,247)"
          ],
          [
           0.25,
           "rgb(198,219,239)"
          ],
          [
           0.375,
           "rgb(158,202,225)"
          ],
          [
           0.5,
           "rgb(107,174,214)"
          ],
          [
           0.625,
           "rgb(66,146,198)"
          ],
          [
           0.75,
           "rgb(33,113,181)"
          ],
          [
           0.875,
           "rgb(8,81,156)"
          ],
          [
           1,
           "rgb(8,48,107)"
          ]
         ]
        },
        "geo": {
         "center": {},
         "domain": {
          "x": [
           0,
           0.98
          ],
          "y": [
           0,
           1
          ]
         },
         "scope": "usa"
        },
        "height": 600,
        "legend": {
         "tracegroupgap": 0
        },
        "template": {
         "data": {
          "bar": [
           {
            "error_x": {
             "color": "#2a3f5f"
            },
            "error_y": {
             "color": "#2a3f5f"
            },
            "marker": {
             "line": {
              "color": "#E5ECF6",
              "width": 0.5
             }
            },
            "type": "bar"
           }
          ],
          "barpolar": [
           {
            "marker": {
             "line": {
              "color": "#E5ECF6",
              "width": 0.5
             }
            },
            "type": "barpolar"
           }
          ],
          "carpet": [
           {
            "aaxis": {
             "endlinecolor": "#2a3f5f",
             "gridcolor": "white",
             "linecolor": "white",
             "minorgridcolor": "white",
             "startlinecolor": "#2a3f5f"
            },
            "baxis": {
             "endlinecolor": "#2a3f5f",
             "gridcolor": "white",
             "linecolor": "white",
             "minorgridcolor": "white",
             "startlinecolor": "#2a3f5f"
            },
            "type": "carpet"
           }
          ],
          "choropleth": [
           {
            "colorbar": {
             "outlinewidth": 0,
             "ticks": ""
            },
            "type": "choropleth"
           }
          ],
          "contour": [
           {
            "colorbar": {
             "outlinewidth": 0,
             "ticks": ""
            },
            "colorscale": [
             [
              0,
              "#0d0887"
             ],
             [
              0.1111111111111111,
              "#46039f"
             ],
             [
              0.2222222222222222,
              "#7201a8"
             ],
             [
              0.3333333333333333,
              "#9c179e"
             ],
             [
              0.4444444444444444,
              "#bd3786"
             ],
             [
              0.5555555555555556,
              "#d8576b"
             ],
             [
              0.6666666666666666,
              "#ed7953"
             ],
             [
              0.7777777777777778,
              "#fb9f3a"
             ],
             [
              0.8888888888888888,
              "#fdca26"
             ],
             [
              1,
              "#f0f921"
             ]
            ],
            "type": "contour"
           }
          ],
          "contourcarpet": [
           {
            "colorbar": {
             "outlinewidth": 0,
             "ticks": ""
            },
            "type": "contourcarpet"
           }
          ],
          "heatmap": [
           {
            "colorbar": {
             "outlinewidth": 0,
             "ticks": ""
            },
            "colorscale": [
             [
              0,
              "#0d0887"
             ],
             [
              0.1111111111111111,
              "#46039f"
             ],
             [
              0.2222222222222222,
              "#7201a8"
             ],
             [
              0.3333333333333333,
              "#9c179e"
             ],
             [
              0.4444444444444444,
              "#bd3786"
             ],
             [
              0.5555555555555556,
              "#d8576b"
             ],
             [
              0.6666666666666666,
              "#ed7953"
             ],
             [
              0.7777777777777778,
              "#fb9f3a"
             ],
             [
              0.8888888888888888,
              "#fdca26"
             ],
             [
              1,
              "#f0f921"
             ]
            ],
            "type": "heatmap"
           }
          ],
          "heatmapgl": [
           {
            "colorbar": {
             "outlinewidth": 0,
             "ticks": ""
            },
            "colorscale": [
             [
              0,
              "#0d0887"
             ],
             [
              0.1111111111111111,
              "#46039f"
             ],
             [
              0.2222222222222222,
              "#7201a8"
             ],
             [
              0.3333333333333333,
              "#9c179e"
             ],
             [
              0.4444444444444444,
              "#bd3786"
             ],
             [
              0.5555555555555556,
              "#d8576b"
             ],
             [
              0.6666666666666666,
              "#ed7953"
             ],
             [
              0.7777777777777778,
              "#fb9f3a"
             ],
             [
              0.8888888888888888,
              "#fdca26"
             ],
             [
              1,
              "#f0f921"
             ]
            ],
            "type": "heatmapgl"
           }
          ],
          "histogram": [
           {
            "marker": {
             "colorbar": {
              "outlinewidth": 0,
              "ticks": ""
             }
            },
            "type": "histogram"
           }
          ],
          "histogram2d": [
           {
            "colorbar": {
             "outlinewidth": 0,
             "ticks": ""
            },
            "colorscale": [
             [
              0,
              "#0d0887"
             ],
             [
              0.1111111111111111,
              "#46039f"
             ],
             [
              0.2222222222222222,
              "#7201a8"
             ],
             [
              0.3333333333333333,
              "#9c179e"
             ],
             [
              0.4444444444444444,
              "#bd3786"
             ],
             [
              0.5555555555555556,
              "#d8576b"
             ],
             [
              0.6666666666666666,
              "#ed7953"
             ],
             [
              0.7777777777777778,
              "#fb9f3a"
             ],
             [
              0.8888888888888888,
              "#fdca26"
             ],
             [
              1,
              "#f0f921"
             ]
            ],
            "type": "histogram2d"
           }
          ],
          "histogram2dcontour": [
           {
            "colorbar": {
             "outlinewidth": 0,
             "ticks": ""
            },
            "colorscale": [
             [
              0,
              "#0d0887"
             ],
             [
              0.1111111111111111,
              "#46039f"
             ],
             [
              0.2222222222222222,
              "#7201a8"
             ],
             [
              0.3333333333333333,
              "#9c179e"
             ],
             [
              0.4444444444444444,
              "#bd3786"
             ],
             [
              0.5555555555555556,
              "#d8576b"
             ],
             [
              0.6666666666666666,
              "#ed7953"
             ],
             [
              0.7777777777777778,
              "#fb9f3a"
             ],
             [
              0.8888888888888888,
              "#fdca26"
             ],
             [
              1,
              "#f0f921"
             ]
            ],
            "type": "histogram2dcontour"
           }
          ],
          "mesh3d": [
           {
            "colorbar": {
             "outlinewidth": 0,
             "ticks": ""
            },
            "type": "mesh3d"
           }
          ],
          "parcoords": [
           {
            "line": {
             "colorbar": {
              "outlinewidth": 0,
              "ticks": ""
             }
            },
            "type": "parcoords"
           }
          ],
          "scatter": [
           {
            "marker": {
             "colorbar": {
              "outlinewidth": 0,
              "ticks": ""
             }
            },
            "type": "scatter"
           }
          ],
          "scatter3d": [
           {
            "line": {
             "colorbar": {
              "outlinewidth": 0,
              "ticks": ""
             }
            },
            "marker": {
             "colorbar": {
              "outlinewidth": 0,
              "ticks": ""
             }
            },
            "type": "scatter3d"
           }
          ],
          "scattercarpet": [
           {
            "marker": {
             "colorbar": {
              "outlinewidth": 0,
              "ticks": ""
             }
            },
            "type": "scattercarpet"
           }
          ],
          "scattergeo": [
           {
            "marker": {
             "colorbar": {
              "outlinewidth": 0,
              "ticks": ""
             }
            },
            "type": "scattergeo"
           }
          ],
          "scattergl": [
           {
            "marker": {
             "colorbar": {
              "outlinewidth": 0,
              "ticks": ""
             }
            },
            "type": "scattergl"
           }
          ],
          "scattermapbox": [
           {
            "marker": {
             "colorbar": {
              "outlinewidth": 0,
              "ticks": ""
             }
            },
            "type": "scattermapbox"
           }
          ],
          "scatterpolar": [
           {
            "marker": {
             "colorbar": {
              "outlinewidth": 0,
              "ticks": ""
             }
            },
            "type": "scatterpolar"
           }
          ],
          "scatterpolargl": [
           {
            "marker": {
             "colorbar": {
              "outlinewidth": 0,
              "ticks": ""
             }
            },
            "type": "scatterpolargl"
           }
          ],
          "scatterternary": [
           {
            "marker": {
             "colorbar": {
              "outlinewidth": 0,
              "ticks": ""
             }
            },
            "type": "scatterternary"
           }
          ],
          "surface": [
           {
            "colorbar": {
             "outlinewidth": 0,
             "ticks": ""
            },
            "colorscale": [
             [
              0,
              "#0d0887"
             ],
             [
              0.1111111111111111,
              "#46039f"
             ],
             [
              0.2222222222222222,
              "#7201a8"
             ],
             [
              0.3333333333333333,
              "#9c179e"
             ],
             [
              0.4444444444444444,
              "#bd3786"
             ],
             [
              0.5555555555555556,
              "#d8576b"
             ],
             [
              0.6666666666666666,
              "#ed7953"
             ],
             [
              0.7777777777777778,
              "#fb9f3a"
             ],
             [
              0.8888888888888888,
              "#fdca26"
             ],
             [
              1,
              "#f0f921"
             ]
            ],
            "type": "surface"
           }
          ],
          "table": [
           {
            "cells": {
             "fill": {
              "color": "#EBF0F8"
             },
             "line": {
              "color": "white"
             }
            },
            "header": {
             "fill": {
              "color": "#C8D4E3"
             },
             "line": {
              "color": "white"
             }
            },
            "type": "table"
           }
          ]
         },
         "layout": {
          "annotationdefaults": {
           "arrowcolor": "#2a3f5f",
           "arrowhead": 0,
           "arrowwidth": 1
          },
          "colorscale": {
           "diverging": [
            [
             0,
             "#8e0152"
            ],
            [
             0.1,
             "#c51b7d"
            ],
            [
             0.2,
             "#de77ae"
            ],
            [
             0.3,
             "#f1b6da"
            ],
            [
             0.4,
             "#fde0ef"
            ],
            [
             0.5,
             "#f7f7f7"
            ],
            [
             0.6,
             "#e6f5d0"
            ],
            [
             0.7,
             "#b8e186"
            ],
            [
             0.8,
             "#7fbc41"
            ],
            [
             0.9,
             "#4d9221"
            ],
            [
             1,
             "#276419"
            ]
           ],
           "sequential": [
            [
             0,
             "#0d0887"
            ],
            [
             0.1111111111111111,
             "#46039f"
            ],
            [
             0.2222222222222222,
             "#7201a8"
            ],
            [
             0.3333333333333333,
             "#9c179e"
            ],
            [
             0.4444444444444444,
             "#bd3786"
            ],
            [
             0.5555555555555556,
             "#d8576b"
            ],
            [
             0.6666666666666666,
             "#ed7953"
            ],
            [
             0.7777777777777778,
             "#fb9f3a"
            ],
            [
             0.8888888888888888,
             "#fdca26"
            ],
            [
             1,
             "#f0f921"
            ]
           ],
           "sequentialminus": [
            [
             0,
             "#0d0887"
            ],
            [
             0.1111111111111111,
             "#46039f"
            ],
            [
             0.2222222222222222,
             "#7201a8"
            ],
            [
             0.3333333333333333,
             "#9c179e"
            ],
            [
             0.4444444444444444,
             "#bd3786"
            ],
            [
             0.5555555555555556,
             "#d8576b"
            ],
            [
             0.6666666666666666,
             "#ed7953"
            ],
            [
             0.7777777777777778,
             "#fb9f3a"
            ],
            [
             0.8888888888888888,
             "#fdca26"
            ],
            [
             1,
             "#f0f921"
            ]
           ]
          },
          "colorway": [
           "#636efa",
           "#EF553B",
           "#00cc96",
           "#ab63fa",
           "#FFA15A",
           "#19d3f3",
           "#FF6692",
           "#B6E880",
           "#FF97FF",
           "#FECB52"
          ],
          "font": {
           "color": "#2a3f5f"
          },
          "geo": {
           "bgcolor": "white",
           "lakecolor": "white",
           "landcolor": "#E5ECF6",
           "showlakes": true,
           "showland": true,
           "subunitcolor": "white"
          },
          "hoverlabel": {
           "align": "left"
          },
          "hovermode": "closest",
          "mapbox": {
           "style": "light"
          },
          "paper_bgcolor": "white",
          "plot_bgcolor": "#E5ECF6",
          "polar": {
           "angularaxis": {
            "gridcolor": "white",
            "linecolor": "white",
            "ticks": ""
           },
           "bgcolor": "#E5ECF6",
           "radialaxis": {
            "gridcolor": "white",
            "linecolor": "white",
            "ticks": ""
           }
          },
          "scene": {
           "xaxis": {
            "backgroundcolor": "#E5ECF6",
            "gridcolor": "white",
            "gridwidth": 2,
            "linecolor": "white",
            "showbackground": true,
            "ticks": "",
            "zerolinecolor": "white"
           },
           "yaxis": {
            "backgroundcolor": "#E5ECF6",
            "gridcolor": "white",
            "gridwidth": 2,
            "linecolor": "white",
            "showbackground": true,
            "ticks": "",
            "zerolinecolor": "white"
           },
           "zaxis": {
            "backgroundcolor": "#E5ECF6",
            "gridcolor": "white",
            "gridwidth": 2,
            "linecolor": "white",
            "showbackground": true,
            "ticks": "",
            "zerolinecolor": "white"
           }
          },
          "shapedefaults": {
           "line": {
            "color": "#2a3f5f"
           }
          },
          "ternary": {
           "aaxis": {
            "gridcolor": "white",
            "linecolor": "white",
            "ticks": ""
           },
           "baxis": {
            "gridcolor": "white",
            "linecolor": "white",
            "ticks": ""
           },
           "bgcolor": "#E5ECF6",
           "caxis": {
            "gridcolor": "white",
            "linecolor": "white",
            "ticks": ""
           }
          },
          "title": {
           "x": 0.05
          },
          "xaxis": {
           "automargin": true,
           "gridcolor": "white",
           "linecolor": "white",
           "ticks": "",
           "zerolinecolor": "white",
           "zerolinewidth": 2
          },
          "yaxis": {
           "automargin": true,
           "gridcolor": "white",
           "linecolor": "white",
           "ticks": "",
           "zerolinecolor": "white",
           "zerolinewidth": 2
          }
         }
        },
        "title": {
         "text": "States with Highest Churn Percentage"
        }
       }
      },
      "text/html": [
       "<div>\n",
       "        \n",
       "        \n",
       "            <div id=\"c3c9d06f-99ec-4303-8bc9-f820e20eec1c\" class=\"plotly-graph-div\" style=\"height:600px; width:100%;\"></div>\n",
       "            <script type=\"text/javascript\">\n",
       "                require([\"plotly\"], function(Plotly) {\n",
       "                    window.PLOTLYENV=window.PLOTLYENV || {};\n",
       "                    \n",
       "                if (document.getElementById(\"c3c9d06f-99ec-4303-8bc9-f820e20eec1c\")) {\n",
       "                    Plotly.newPlot(\n",
       "                        'c3c9d06f-99ec-4303-8bc9-f820e20eec1c',\n",
       "                        [{\"coloraxis\": \"coloraxis\", \"geo\": \"geo\", \"hoverlabel\": {\"namelength\": 0}, \"hovertemplate\": \"state=%{location}<br>value=%{z}\", \"locationmode\": \"USA-states\", \"locations\": [\"AK\", \"AL\", \"AR\", \"AZ\", \"CA\", \"CO\", \"CT\", \"DC\", \"DE\", \"FL\", \"GA\", \"HI\", \"IA\", \"ID\", \"IL\", \"IN\", \"KS\", \"KY\", \"LA\", \"MA\", \"MD\", \"ME\", \"MI\", \"MN\", \"MO\", \"MS\", \"MT\", \"NC\", \"ND\", \"NE\", \"NH\", \"NJ\", \"NM\", \"NV\", \"NY\", \"OH\", \"OK\", \"OR\", \"PA\", \"RI\", \"SC\", \"SD\", \"TN\", \"TX\", \"UT\", \"VA\", \"VT\", \"WA\", \"WI\", \"WV\", \"WY\"], \"name\": \"\", \"type\": \"choropleth\", \"z\": [0.06382978723404255, 0.09722222222222222, 0.21568627450980393, 0.06896551724137931, 0.3103448275862069, 0.13333333333333333, 0.13846153846153847, 0.08333333333333333, 0.15789473684210525, 0.14814814814814814, 0.1568627450980392, 0.045454545454545456, 0.05, 0.13043478260869565, 0.09433962264150944, 0.1044776119402985, 0.21666666666666667, 0.1509433962264151, 0.09523809523809523, 0.18333333333333332, 0.23809523809523808, 0.20754716981132076, 0.21212121212121213, 0.1794871794871795, 0.1, 0.22033898305084745, 0.2, 0.15384615384615385, 0.09433962264150944, 0.09259259259259259, 0.16666666666666666, 0.25806451612903225, 0.10526315789473684, 0.21212121212121213, 0.2112676056338028, 0.09523809523809523, 0.16, 0.13846153846153847, 0.19047619047619047, 0.1016949152542373, 0.24561403508771928, 0.14545454545454545, 0.10416666666666667, 0.23076923076923078, 0.1111111111111111, 0.05970149253731343, 0.07575757575757576, 0.19672131147540983, 0.08571428571428572, 0.08247422680412371, 0.11267605633802817]}],\n",
       "                        {\"coloraxis\": {\"colorbar\": {\"title\": {\"text\": \"value\"}}, \"colorscale\": [[0.0, \"rgb(247,251,255)\"], [0.125, \"rgb(222,235,247)\"], [0.25, \"rgb(198,219,239)\"], [0.375, \"rgb(158,202,225)\"], [0.5, \"rgb(107,174,214)\"], [0.625, \"rgb(66,146,198)\"], [0.75, \"rgb(33,113,181)\"], [0.875, \"rgb(8,81,156)\"], [1.0, \"rgb(8,48,107)\"]]}, \"geo\": {\"center\": {}, \"domain\": {\"x\": [0.0, 0.98], \"y\": [0.0, 1.0]}, \"scope\": \"usa\"}, \"height\": 600, \"legend\": {\"tracegroupgap\": 0}, \"template\": {\"data\": {\"bar\": [{\"error_x\": {\"color\": \"#2a3f5f\"}, \"error_y\": {\"color\": \"#2a3f5f\"}, \"marker\": {\"line\": {\"color\": \"#E5ECF6\", \"width\": 0.5}}, \"type\": \"bar\"}], \"barpolar\": [{\"marker\": {\"line\": {\"color\": \"#E5ECF6\", \"width\": 0.5}}, \"type\": \"barpolar\"}], \"carpet\": [{\"aaxis\": {\"endlinecolor\": \"#2a3f5f\", \"gridcolor\": \"white\", \"linecolor\": \"white\", \"minorgridcolor\": \"white\", \"startlinecolor\": \"#2a3f5f\"}, \"baxis\": {\"endlinecolor\": \"#2a3f5f\", \"gridcolor\": \"white\", \"linecolor\": \"white\", \"minorgridcolor\": \"white\", \"startlinecolor\": \"#2a3f5f\"}, \"type\": \"carpet\"}], \"choropleth\": [{\"colorbar\": {\"outlinewidth\": 0, \"ticks\": \"\"}, \"type\": \"choropleth\"}], \"contour\": [{\"colorbar\": {\"outlinewidth\": 0, \"ticks\": \"\"}, \"colorscale\": [[0.0, \"#0d0887\"], [0.1111111111111111, \"#46039f\"], [0.2222222222222222, \"#7201a8\"], [0.3333333333333333, \"#9c179e\"], [0.4444444444444444, \"#bd3786\"], [0.5555555555555556, \"#d8576b\"], [0.6666666666666666, \"#ed7953\"], [0.7777777777777778, \"#fb9f3a\"], [0.8888888888888888, \"#fdca26\"], [1.0, \"#f0f921\"]], \"type\": \"contour\"}], \"contourcarpet\": [{\"colorbar\": {\"outlinewidth\": 0, \"ticks\": \"\"}, \"type\": \"contourcarpet\"}], \"heatmap\": [{\"colorbar\": {\"outlinewidth\": 0, \"ticks\": \"\"}, \"colorscale\": [[0.0, \"#0d0887\"], [0.1111111111111111, \"#46039f\"], [0.2222222222222222, \"#7201a8\"], [0.3333333333333333, \"#9c179e\"], [0.4444444444444444, \"#bd3786\"], [0.5555555555555556, \"#d8576b\"], [0.6666666666666666, \"#ed7953\"], [0.7777777777777778, \"#fb9f3a\"], [0.8888888888888888, \"#fdca26\"], [1.0, \"#f0f921\"]], \"type\": \"heatmap\"}], \"heatmapgl\": [{\"colorbar\": {\"outlinewidth\": 0, \"ticks\": \"\"}, \"colorscale\": [[0.0, \"#0d0887\"], [0.1111111111111111, \"#46039f\"], [0.2222222222222222, \"#7201a8\"], [0.3333333333333333, \"#9c179e\"], [0.4444444444444444, \"#bd3786\"], [0.5555555555555556, \"#d8576b\"], [0.6666666666666666, \"#ed7953\"], [0.7777777777777778, \"#fb9f3a\"], [0.8888888888888888, \"#fdca26\"], [1.0, \"#f0f921\"]], \"type\": \"heatmapgl\"}], \"histogram\": [{\"marker\": {\"colorbar\": {\"outlinewidth\": 0, \"ticks\": \"\"}}, \"type\": \"histogram\"}], \"histogram2d\": [{\"colorbar\": {\"outlinewidth\": 0, \"ticks\": \"\"}, \"colorscale\": [[0.0, \"#0d0887\"], [0.1111111111111111, \"#46039f\"], [0.2222222222222222, \"#7201a8\"], [0.3333333333333333, \"#9c179e\"], [0.4444444444444444, \"#bd3786\"], [0.5555555555555556, \"#d8576b\"], [0.6666666666666666, \"#ed7953\"], [0.7777777777777778, \"#fb9f3a\"], [0.8888888888888888, \"#fdca26\"], [1.0, \"#f0f921\"]], \"type\": \"histogram2d\"}], \"histogram2dcontour\": [{\"colorbar\": {\"outlinewidth\": 0, \"ticks\": \"\"}, \"colorscale\": [[0.0, \"#0d0887\"], [0.1111111111111111, \"#46039f\"], [0.2222222222222222, \"#7201a8\"], [0.3333333333333333, \"#9c179e\"], [0.4444444444444444, \"#bd3786\"], [0.5555555555555556, \"#d8576b\"], [0.6666666666666666, \"#ed7953\"], [0.7777777777777778, \"#fb9f3a\"], [0.8888888888888888, \"#fdca26\"], [1.0, \"#f0f921\"]], \"type\": \"histogram2dcontour\"}], \"mesh3d\": [{\"colorbar\": {\"outlinewidth\": 0, \"ticks\": \"\"}, \"type\": \"mesh3d\"}], \"parcoords\": [{\"line\": {\"colorbar\": {\"outlinewidth\": 0, \"ticks\": \"\"}}, \"type\": \"parcoords\"}], \"scatter\": [{\"marker\": {\"colorbar\": {\"outlinewidth\": 0, \"ticks\": \"\"}}, \"type\": \"scatter\"}], \"scatter3d\": [{\"line\": {\"colorbar\": {\"outlinewidth\": 0, \"ticks\": \"\"}}, \"marker\": {\"colorbar\": {\"outlinewidth\": 0, \"ticks\": \"\"}}, \"type\": \"scatter3d\"}], \"scattercarpet\": [{\"marker\": {\"colorbar\": {\"outlinewidth\": 0, \"ticks\": \"\"}}, \"type\": \"scattercarpet\"}], \"scattergeo\": [{\"marker\": {\"colorbar\": {\"outlinewidth\": 0, \"ticks\": \"\"}}, \"type\": \"scattergeo\"}], \"scattergl\": [{\"marker\": {\"colorbar\": {\"outlinewidth\": 0, \"ticks\": \"\"}}, \"type\": \"scattergl\"}], \"scattermapbox\": [{\"marker\": {\"colorbar\": {\"outlinewidth\": 0, \"ticks\": \"\"}}, \"type\": \"scattermapbox\"}], \"scatterpolar\": [{\"marker\": {\"colorbar\": {\"outlinewidth\": 0, \"ticks\": \"\"}}, \"type\": \"scatterpolar\"}], \"scatterpolargl\": [{\"marker\": {\"colorbar\": {\"outlinewidth\": 0, \"ticks\": \"\"}}, \"type\": \"scatterpolargl\"}], \"scatterternary\": [{\"marker\": {\"colorbar\": {\"outlinewidth\": 0, \"ticks\": \"\"}}, \"type\": \"scatterternary\"}], \"surface\": [{\"colorbar\": {\"outlinewidth\": 0, \"ticks\": \"\"}, \"colorscale\": [[0.0, \"#0d0887\"], [0.1111111111111111, \"#46039f\"], [0.2222222222222222, \"#7201a8\"], [0.3333333333333333, \"#9c179e\"], [0.4444444444444444, \"#bd3786\"], [0.5555555555555556, \"#d8576b\"], [0.6666666666666666, \"#ed7953\"], [0.7777777777777778, \"#fb9f3a\"], [0.8888888888888888, \"#fdca26\"], [1.0, \"#f0f921\"]], \"type\": \"surface\"}], \"table\": [{\"cells\": {\"fill\": {\"color\": \"#EBF0F8\"}, \"line\": {\"color\": \"white\"}}, \"header\": {\"fill\": {\"color\": \"#C8D4E3\"}, \"line\": {\"color\": \"white\"}}, \"type\": \"table\"}]}, \"layout\": {\"annotationdefaults\": {\"arrowcolor\": \"#2a3f5f\", \"arrowhead\": 0, \"arrowwidth\": 1}, \"colorscale\": {\"diverging\": [[0, \"#8e0152\"], [0.1, \"#c51b7d\"], [0.2, \"#de77ae\"], [0.3, \"#f1b6da\"], [0.4, \"#fde0ef\"], [0.5, \"#f7f7f7\"], [0.6, \"#e6f5d0\"], [0.7, \"#b8e186\"], [0.8, \"#7fbc41\"], [0.9, \"#4d9221\"], [1, \"#276419\"]], \"sequential\": [[0.0, \"#0d0887\"], [0.1111111111111111, \"#46039f\"], [0.2222222222222222, \"#7201a8\"], [0.3333333333333333, \"#9c179e\"], [0.4444444444444444, \"#bd3786\"], [0.5555555555555556, \"#d8576b\"], [0.6666666666666666, \"#ed7953\"], [0.7777777777777778, \"#fb9f3a\"], [0.8888888888888888, \"#fdca26\"], [1.0, \"#f0f921\"]], \"sequentialminus\": [[0.0, \"#0d0887\"], [0.1111111111111111, \"#46039f\"], [0.2222222222222222, \"#7201a8\"], [0.3333333333333333, \"#9c179e\"], [0.4444444444444444, \"#bd3786\"], [0.5555555555555556, \"#d8576b\"], [0.6666666666666666, \"#ed7953\"], [0.7777777777777778, \"#fb9f3a\"], [0.8888888888888888, \"#fdca26\"], [1.0, \"#f0f921\"]]}, \"colorway\": [\"#636efa\", \"#EF553B\", \"#00cc96\", \"#ab63fa\", \"#FFA15A\", \"#19d3f3\", \"#FF6692\", \"#B6E880\", \"#FF97FF\", \"#FECB52\"], \"font\": {\"color\": \"#2a3f5f\"}, \"geo\": {\"bgcolor\": \"white\", \"lakecolor\": \"white\", \"landcolor\": \"#E5ECF6\", \"showlakes\": true, \"showland\": true, \"subunitcolor\": \"white\"}, \"hoverlabel\": {\"align\": \"left\"}, \"hovermode\": \"closest\", \"mapbox\": {\"style\": \"light\"}, \"paper_bgcolor\": \"white\", \"plot_bgcolor\": \"#E5ECF6\", \"polar\": {\"angularaxis\": {\"gridcolor\": \"white\", \"linecolor\": \"white\", \"ticks\": \"\"}, \"bgcolor\": \"#E5ECF6\", \"radialaxis\": {\"gridcolor\": \"white\", \"linecolor\": \"white\", \"ticks\": \"\"}}, \"scene\": {\"xaxis\": {\"backgroundcolor\": \"#E5ECF6\", \"gridcolor\": \"white\", \"gridwidth\": 2, \"linecolor\": \"white\", \"showbackground\": true, \"ticks\": \"\", \"zerolinecolor\": \"white\"}, \"yaxis\": {\"backgroundcolor\": \"#E5ECF6\", \"gridcolor\": \"white\", \"gridwidth\": 2, \"linecolor\": \"white\", \"showbackground\": true, \"ticks\": \"\", \"zerolinecolor\": \"white\"}, \"zaxis\": {\"backgroundcolor\": \"#E5ECF6\", \"gridcolor\": \"white\", \"gridwidth\": 2, \"linecolor\": \"white\", \"showbackground\": true, \"ticks\": \"\", \"zerolinecolor\": \"white\"}}, \"shapedefaults\": {\"line\": {\"color\": \"#2a3f5f\"}}, \"ternary\": {\"aaxis\": {\"gridcolor\": \"white\", \"linecolor\": \"white\", \"ticks\": \"\"}, \"baxis\": {\"gridcolor\": \"white\", \"linecolor\": \"white\", \"ticks\": \"\"}, \"bgcolor\": \"#E5ECF6\", \"caxis\": {\"gridcolor\": \"white\", \"linecolor\": \"white\", \"ticks\": \"\"}}, \"title\": {\"x\": 0.05}, \"xaxis\": {\"automargin\": true, \"gridcolor\": \"white\", \"linecolor\": \"white\", \"ticks\": \"\", \"zerolinecolor\": \"white\", \"zerolinewidth\": 2}, \"yaxis\": {\"automargin\": true, \"gridcolor\": \"white\", \"linecolor\": \"white\", \"ticks\": \"\", \"zerolinecolor\": \"white\", \"zerolinewidth\": 2}}}, \"title\": {\"text\": \"States with Highest Churn Percentage\"}},\n",
       "                        {\"responsive\": true}\n",
       "                    ).then(function(){\n",
       "                            \n",
       "var gd = document.getElementById('c3c9d06f-99ec-4303-8bc9-f820e20eec1c');\n",
       "var x = new MutationObserver(function (mutations, observer) {{\n",
       "        var display = window.getComputedStyle(gd).display;\n",
       "        if (!display || display === 'none') {{\n",
       "            console.log([gd, 'removed!']);\n",
       "            Plotly.purge(gd);\n",
       "            observer.disconnect();\n",
       "        }}\n",
       "}});\n",
       "\n",
       "// Listen for the removal of the full notebook cells\n",
       "var notebookContainer = gd.closest('#notebook-container');\n",
       "if (notebookContainer) {{\n",
       "    x.observe(notebookContainer, {childList: true});\n",
       "}}\n",
       "\n",
       "// Listen for the clearing of the current output cell\n",
       "var outputEl = gd.closest('.output');\n",
       "if (outputEl) {{\n",
       "    x.observe(outputEl, {childList: true});\n",
       "}}\n",
       "\n",
       "                        })\n",
       "                };\n",
       "                });\n",
       "            </script>\n",
       "        </div>"
      ]
     },
     "metadata": {},
     "output_type": "display_data"
    }
   ],
   "source": [
    "fig = px.choropleth(data_frame=churn_choropleth, locations='state', locationmode=\"USA-states\",\n",
    "                    color='value', scope=\"usa\", title='States with Highest Churn Percentage',\n",
    "                    color_continuous_scale='Blues')\n",
    "fig.show()"
   ]
  },
  {
   "cell_type": "markdown",
   "metadata": {},
   "source": [
    "### Findings & Recommendations\n",
    "\n",
    "It is clear that there are certain states with much higher churn. When grouped by state, California has a much higher churn than any other state (31%). New Jersey, South Carolina, Maryland and Texas also have higher churn (over 23%). States with the least churn include Hawaii and Iowa (under .05%). \n",
    "\n",
    "There could be a few reasons for this difference in churn in different states. One reason could be the lack of competitors in places like Hawaii and Iowa, which are more remote. States such as California, New Jersey or Texas could have many other big players in the market, which causes our customers to have other options when they feel inclined to leave. Another reason could be the lack of good service in certain areas in states with high churn.\n",
    "\n",
    "**Recommendations**\n",
    "\n",
    "Based on these findings, I would recommend looking into competitors in California, New Jersey, and other states with high churn to see if they are offering introductory offers that might compel some of our customers to churn. I also recommend looking into the cell signal in these states with higher churn to see if there are any deadzones contributing to the higher rates. "
   ]
  },
  {
   "cell_type": "markdown",
   "metadata": {},
   "source": [
    "## Conclusion and Future Work\n",
    "\n",
    "In conclusion, calls to customer service seems to be one of the biggest indicators of customer churn. We can also see higher churn in certain states, although the reasons why specific states are more likely to churn is unclear based on this data. We can also see that customers may not be happy with their international plans, which is why customers with an international plan are more likely to churn than customers without an international plan.\n",
    "\n",
    "**Future Work I would like to do:**\n",
    "* Get more data regarding competitors in states with higher churn\n",
    "* Get more data on cell signal across the US to look for patterns in states with higher churn\n",
    "* Look into voicemail data to see if that may be a good indicator of churn"
   ]
  },
  {
   "cell_type": "code",
   "execution_count": null,
   "metadata": {},
   "outputs": [],
   "source": []
  }
 ],
 "metadata": {
  "kernelspec": {
   "display_name": "learn-env",
   "language": "python",
   "name": "learn-env"
  },
  "language_info": {
   "codemirror_mode": {
    "name": "ipython",
    "version": 3
   },
   "file_extension": ".py",
   "mimetype": "text/x-python",
   "name": "python",
   "nbconvert_exporter": "python",
   "pygments_lexer": "ipython3",
   "version": "3.6.9"
  }
 },
 "nbformat": 4,
 "nbformat_minor": 4
}
