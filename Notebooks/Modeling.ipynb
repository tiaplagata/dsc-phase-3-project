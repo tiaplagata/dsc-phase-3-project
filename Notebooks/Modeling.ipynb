{
 "cells": [
  {
   "cell_type": "markdown",
   "metadata": {},
   "source": [
    "# Final Project Submission\n",
    "Please fill out:\n",
    "\n",
    "* Student name: Tia Plagata\n",
    "* Student pace: full time\n",
    "* Scheduled project review date/time:\n",
    "* Instructor name: Rafael Carrasco\n",
    "* Blog post URL:"
   ]
  },
  {
   "cell_type": "markdown",
   "metadata": {},
   "source": [
    "# Modeling (Model and iNterpretation)\n",
    "### Modeling Outline\n",
    "\n",
    "* Metric to use\n",
    "* Pipeline and Model Selection\n",
    "* Feature Importance\n",
    "* Confusion Matrix Analysis"
   ]
  },
  {
   "cell_type": "code",
   "execution_count": null,
   "metadata": {},
   "outputs": [],
   "source": [
    "# Import Statement\n"
   ]
  }
 ],
 "metadata": {
  "kernelspec": {
   "display_name": "learn-env",
   "language": "python",
   "name": "learn-env"
  },
  "language_info": {
   "codemirror_mode": {
    "name": "ipython",
    "version": 3
   },
   "file_extension": ".py",
   "mimetype": "text/x-python",
   "name": "python",
   "nbconvert_exporter": "python",
   "pygments_lexer": "ipython3",
   "version": "3.6.9"
  }
 },
 "nbformat": 4,
 "nbformat_minor": 4
}
